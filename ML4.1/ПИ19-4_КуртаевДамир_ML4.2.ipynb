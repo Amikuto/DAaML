{
 "cells": [
  {
   "cell_type": "code",
   "execution_count": 77,
   "metadata": {
    "collapsed": true
   },
   "outputs": [],
   "source": [
    "import pandas as pd\n",
    "import numpy as np\n",
    "# import"
   ]
  },
  {
   "cell_type": "code",
   "execution_count": 78,
   "outputs": [
    {
     "data": {
      "text/plain": "        Date      Open      High       Low     Close  Adj Close     Volume\n0 1972-08-25  0.063477  0.064697  0.063477  0.064453   0.036098  2508800.0\n1 1972-08-28  0.064453  0.064941  0.064209  0.064209   0.035962   972800.0\n2 1972-08-29  0.063965  0.063965  0.063477  0.063477   0.035552  1945600.0\n3 1972-08-30  0.063477  0.063477  0.062988  0.063477   0.035552   409600.0\n4 1972-08-31  0.062988  0.062988  0.062500  0.062500   0.035005   870400.0",
      "text/html": "<div>\n<style scoped>\n    .dataframe tbody tr th:only-of-type {\n        vertical-align: middle;\n    }\n\n    .dataframe tbody tr th {\n        vertical-align: top;\n    }\n\n    .dataframe thead th {\n        text-align: right;\n    }\n</style>\n<table border=\"1\" class=\"dataframe\">\n  <thead>\n    <tr style=\"text-align: right;\">\n      <th></th>\n      <th>Date</th>\n      <th>Open</th>\n      <th>High</th>\n      <th>Low</th>\n      <th>Close</th>\n      <th>Adj Close</th>\n      <th>Volume</th>\n    </tr>\n  </thead>\n  <tbody>\n    <tr>\n      <th>0</th>\n      <td>1972-08-25</td>\n      <td>0.063477</td>\n      <td>0.064697</td>\n      <td>0.063477</td>\n      <td>0.064453</td>\n      <td>0.036098</td>\n      <td>2508800.0</td>\n    </tr>\n    <tr>\n      <th>1</th>\n      <td>1972-08-28</td>\n      <td>0.064453</td>\n      <td>0.064941</td>\n      <td>0.064209</td>\n      <td>0.064209</td>\n      <td>0.035962</td>\n      <td>972800.0</td>\n    </tr>\n    <tr>\n      <th>2</th>\n      <td>1972-08-29</td>\n      <td>0.063965</td>\n      <td>0.063965</td>\n      <td>0.063477</td>\n      <td>0.063477</td>\n      <td>0.035552</td>\n      <td>1945600.0</td>\n    </tr>\n    <tr>\n      <th>3</th>\n      <td>1972-08-30</td>\n      <td>0.063477</td>\n      <td>0.063477</td>\n      <td>0.062988</td>\n      <td>0.063477</td>\n      <td>0.035552</td>\n      <td>409600.0</td>\n    </tr>\n    <tr>\n      <th>4</th>\n      <td>1972-08-31</td>\n      <td>0.062988</td>\n      <td>0.062988</td>\n      <td>0.062500</td>\n      <td>0.062500</td>\n      <td>0.035005</td>\n      <td>870400.0</td>\n    </tr>\n  </tbody>\n</table>\n</div>"
     },
     "execution_count": 78,
     "metadata": {},
     "output_type": "execute_result"
    }
   ],
   "source": [
    "df = pd.read_csv(\"WMT.csv\", parse_dates=[\"Date\"])\n",
    "df.head()"
   ],
   "metadata": {
    "collapsed": false,
    "pycharm": {
     "name": "#%%\n"
    }
   }
  },
  {
   "cell_type": "code",
   "execution_count": 79,
   "outputs": [
    {
     "data": {
      "text/plain": "(12510, 7)"
     },
     "execution_count": 79,
     "metadata": {},
     "output_type": "execute_result"
    }
   ],
   "source": [
    "df.shape"
   ],
   "metadata": {
    "collapsed": false,
    "pycharm": {
     "name": "#%%\n"
    }
   }
  },
  {
   "cell_type": "code",
   "execution_count": 80,
   "outputs": [
    {
     "data": {
      "text/plain": "               Open           Low     Adj Close        Volume\ncount  12476.000000  12509.000000  12510.000000  1.249600e+04\nmean      35.706034     35.318912     28.915924  7.547246e+06\nstd       37.454145     37.127724     34.677862  6.231867e+06\nmin        0.015625      0.014404      0.008804  0.000000e+00\n25%        1.386719      1.375000      0.851606  3.894400e+06\n50%       16.765625     16.343750     10.601800  6.321400e+06\n75%       56.500000     55.750000     40.595537  9.509050e+06\nmax      153.600006    151.660004    151.039993  1.318336e+08",
      "text/html": "<div>\n<style scoped>\n    .dataframe tbody tr th:only-of-type {\n        vertical-align: middle;\n    }\n\n    .dataframe tbody tr th {\n        vertical-align: top;\n    }\n\n    .dataframe thead th {\n        text-align: right;\n    }\n</style>\n<table border=\"1\" class=\"dataframe\">\n  <thead>\n    <tr style=\"text-align: right;\">\n      <th></th>\n      <th>Open</th>\n      <th>Low</th>\n      <th>Adj Close</th>\n      <th>Volume</th>\n    </tr>\n  </thead>\n  <tbody>\n    <tr>\n      <th>count</th>\n      <td>12476.000000</td>\n      <td>12509.000000</td>\n      <td>12510.000000</td>\n      <td>1.249600e+04</td>\n    </tr>\n    <tr>\n      <th>mean</th>\n      <td>35.706034</td>\n      <td>35.318912</td>\n      <td>28.915924</td>\n      <td>7.547246e+06</td>\n    </tr>\n    <tr>\n      <th>std</th>\n      <td>37.454145</td>\n      <td>37.127724</td>\n      <td>34.677862</td>\n      <td>6.231867e+06</td>\n    </tr>\n    <tr>\n      <th>min</th>\n      <td>0.015625</td>\n      <td>0.014404</td>\n      <td>0.008804</td>\n      <td>0.000000e+00</td>\n    </tr>\n    <tr>\n      <th>25%</th>\n      <td>1.386719</td>\n      <td>1.375000</td>\n      <td>0.851606</td>\n      <td>3.894400e+06</td>\n    </tr>\n    <tr>\n      <th>50%</th>\n      <td>16.765625</td>\n      <td>16.343750</td>\n      <td>10.601800</td>\n      <td>6.321400e+06</td>\n    </tr>\n    <tr>\n      <th>75%</th>\n      <td>56.500000</td>\n      <td>55.750000</td>\n      <td>40.595537</td>\n      <td>9.509050e+06</td>\n    </tr>\n    <tr>\n      <th>max</th>\n      <td>153.600006</td>\n      <td>151.660004</td>\n      <td>151.039993</td>\n      <td>1.318336e+08</td>\n    </tr>\n  </tbody>\n</table>\n</div>"
     },
     "execution_count": 80,
     "metadata": {},
     "output_type": "execute_result"
    }
   ],
   "source": [
    "df.describe()"
   ],
   "metadata": {
    "collapsed": false,
    "pycharm": {
     "name": "#%%\n"
    }
   }
  },
  {
   "cell_type": "code",
   "execution_count": 81,
   "outputs": [
    {
     "name": "stdout",
     "output_type": "stream",
     "text": [
      "<class 'pandas.core.frame.DataFrame'>\n",
      "RangeIndex: 12510 entries, 0 to 12509\n",
      "Data columns (total 7 columns):\n",
      " #   Column     Non-Null Count  Dtype         \n",
      "---  ------     --------------  -----         \n",
      " 0   Date       12510 non-null  datetime64[ns]\n",
      " 1   Open       12476 non-null  float64       \n",
      " 2   High       12485 non-null  object        \n",
      " 3   Low        12509 non-null  float64       \n",
      " 4   Close      12492 non-null  object        \n",
      " 5   Adj Close  12510 non-null  float64       \n",
      " 6   Volume     12496 non-null  float64       \n",
      "dtypes: datetime64[ns](1), float64(4), object(2)\n",
      "memory usage: 684.3+ KB\n"
     ]
    }
   ],
   "source": [
    "df.info()"
   ],
   "metadata": {
    "collapsed": false,
    "pycharm": {
     "name": "#%%\n"
    }
   }
  },
  {
   "cell_type": "code",
   "execution_count": 82,
   "outputs": [
    {
     "data": {
      "text/plain": "Date          0\nOpen         34\nHigh         25\nLow           1\nClose        18\nAdj Close     0\nVolume       14\ndtype: int64"
     },
     "execution_count": 82,
     "metadata": {},
     "output_type": "execute_result"
    }
   ],
   "source": [
    "df.isnull().sum()"
   ],
   "metadata": {
    "collapsed": false,
    "pycharm": {
     "name": "#%%\n"
    }
   }
  },
  {
   "cell_type": "code",
   "execution_count": 93,
   "outputs": [
    {
     "data": {
      "text/plain": "Date\n1972      0.035347\n1973      0.023997\n1974      0.017418\n1975      0.025937\n1976      0.032409\n1977      0.032491\n1978      0.052124\n1979      0.060360\n1980      0.089725\n1981      0.172687\n1982      0.245438\n1983      0.734560\n1984      0.752986\n1985      0.961974\n1986      1.705572\n1987      2.229057\n1988      2.333196\n1989      3.101908\n1990      4.262793\n1991      6.930233\n1992      8.806628\n1993      8.569123\n1994      7.866016\n1995      7.917713\n1996      7.983683\n1997     11.123805\n1998     19.490142\n1999     31.048468\n2000     35.981571\n2001     34.899178\n2002     37.118162\n2003     37.287388\n2004     37.002913\n2005     33.709298\n2006     32.583252\n2007     33.763332\n2008     40.715679\n2009     37.155014\n2010     40.386944\n2011     41.714233\n2012     54.688268\n2013     61.825128\n2014     64.086815\n2015     62.361294\n2016     62.072937\n2017     71.272911\n2018     85.663094\n2019    104.750129\n2020    125.391319\n2021    139.955933\n2022    140.900047\nName: Adj Close, dtype: float64"
     },
     "execution_count": 93,
     "metadata": {},
     "output_type": "execute_result"
    }
   ],
   "source": [
    "year_close = df[\"Adj Close\"].groupby(df[\"Date\"].dt.year).median()\n",
    "year_close"
   ],
   "metadata": {
    "collapsed": false,
    "pycharm": {
     "name": "#%%\n"
    }
   }
  },
  {
   "cell_type": "code",
   "execution_count": 94,
   "outputs": [
    {
     "data": {
      "text/plain": "Date\n1972      716800.0\n1973      921600.0\n1974      460800.0\n1975     1024000.0\n1976     1740800.0\n1977     1510400.0\n1978     2201600.0\n1979     1152000.0\n1980     1612800.0\n1981     1740800.0\n1982     4121600.0\n1983     5267200.0\n1984     5427200.0\n1985     5340000.0\n1986     5980800.0\n1987     7147200.0\n1988     4556000.0\n1989     4292400.0\n1990     5307200.0\n1991     4648800.0\n1992     4155600.0\n1993     5376800.0\n1994     4521300.0\n1995     5794800.0\n1996     6218800.0\n1997     6373600.0\n1998     6008300.0\n1999     6268400.0\n2000     7265350.0\n2001     7108900.0\n2002     8377450.0\n2003     7644650.0\n2004     9189500.0\n2005    11451150.0\n2006    12302300.0\n2007    15830000.0\n2008    22639700.0\n2009    17388100.0\n2010    12396650.0\n2011    10979900.0\n2012     8019250.0\n2013     6359300.0\n2014     5979300.0\n2015     7580750.0\n2016     8086950.0\n2017     7879400.0\n2018     8305500.0\n2019     5469900.0\n2020     7453200.0\n2021     7074400.0\n2022     7767650.0\nName: Volume, dtype: float64"
     },
     "execution_count": 94,
     "metadata": {},
     "output_type": "execute_result"
    }
   ],
   "source": [
    "year_volume = df[\"Volume\"].groupby(df[\"Date\"].dt.year).median()\n",
    "year_volume"
   ],
   "metadata": {
    "collapsed": false,
    "pycharm": {
     "name": "#%%\n"
    }
   }
  },
  {
   "cell_type": "code",
   "execution_count": 112,
   "outputs": [
    {
     "data": {
      "text/plain": "<Figure size 1440x1152 with 2 Axes>",
      "image/png": "[encoded data removed]"
     },
     "metadata": {
      "needs_background": "light"
     },
     "output_type": "display_data"
    }
   ],
   "source": [
    "import matplotlib.pyplot as plt\n",
    "\n",
    "\n",
    "plt.figure(figsize=(20, 16))\n",
    "\n",
    "ax1 = plt.subplot(221)\n",
    "ax1.plot(year_close.index, year_close.values)\n",
    "ax1.title.set_text(\"Отношение цены к году\")\n",
    "ax1.set_ylabel('close')\n",
    "ax1.set_xlabel('year')\n",
    "\n",
    "ax2 = plt.subplot(222)\n",
    "ax2.plot(year_volume.index, year_volume.values)\n",
    "ax2.title.set_text(\"Отношение объема к году\")\n",
    "ax2.set_ylabel('volume')\n",
    "ax2.set_xlabel('year')\n",
    "\n",
    "plt.show()"
   ],
   "metadata": {
    "collapsed": false,
    "pycharm": {
     "name": "#%%\n"
    }
   }
  },
  {
   "cell_type": "code",
   "execution_count": null,
   "outputs": [],
   "source": [
    "year_close[\"Date\"]"
   ],
   "metadata": {
    "collapsed": false,
    "pycharm": {
     "name": "#%%\n"
    }
   }
  },
  {
   "cell_type": "code",
   "execution_count": 113,
   "outputs": [
    {
     "name": "stderr",
     "output_type": "stream",
     "text": [
      "C:\\Users\\damir\\AppData\\Local\\Temp\\ipykernel_5808\\3692284263.py:1: FutureWarning: Dropping of nuisance columns in DataFrame reductions (with 'numeric_only=None') is deprecated; in a future version this will raise TypeError.  Select only valid columns before calling the reduction.\n",
      "  df.isnull().sum() / df.sum()\n"
     ]
    },
    {
     "data": {
      "text/plain": "Adj Close    0.000000e+00\nClose                 NaN\nDate                  NaN\nHigh                  NaN\nLow          2.263446e-06\nOpen         7.632414e-05\nVolume       1.484460e-10\ndtype: float64"
     },
     "execution_count": 113,
     "metadata": {},
     "output_type": "execute_result"
    }
   ],
   "source": [
    "df.isnull().sum() / df.sum()"
   ],
   "metadata": {
    "collapsed": false,
    "pycharm": {
     "name": "#%%\n"
    }
   }
  },
  {
   "cell_type": "code",
   "execution_count": 119,
   "outputs": [
    {
     "data": {
      "text/plain": "Date         0.000000\nOpen         0.002725\nHigh         0.002002\nLow          0.000080\nClose        0.001441\nAdj Close    0.000000\nVolume       0.001120\ndtype: float64"
     },
     "execution_count": 119,
     "metadata": {},
     "output_type": "execute_result"
    }
   ],
   "source": [
    "df.isnull().sum() / df.count()"
   ],
   "metadata": {
    "collapsed": false,
    "pycharm": {
     "name": "#%%\n"
    }
   }
  },
  {
   "cell_type": "code",
   "execution_count": 120,
   "outputs": [
    {
     "data": {
      "text/plain": "               Open       Low  Adj Close    Volume\nOpen       1.000000  0.999923   0.987254  0.318474\nLow        0.999923  1.000000   0.987619  0.316059\nAdj Close  0.987254  0.987619   1.000000  0.262400\nVolume     0.318474  0.316059   0.262400  1.000000",
      "text/html": "<div>\n<style scoped>\n    .dataframe tbody tr th:only-of-type {\n        vertical-align: middle;\n    }\n\n    .dataframe tbody tr th {\n        vertical-align: top;\n    }\n\n    .dataframe thead th {\n        text-align: right;\n    }\n</style>\n<table border=\"1\" class=\"dataframe\">\n  <thead>\n    <tr style=\"text-align: right;\">\n      <th></th>\n      <th>Open</th>\n      <th>Low</th>\n      <th>Adj Close</th>\n      <th>Volume</th>\n    </tr>\n  </thead>\n  <tbody>\n    <tr>\n      <th>Open</th>\n      <td>1.000000</td>\n      <td>0.999923</td>\n      <td>0.987254</td>\n      <td>0.318474</td>\n    </tr>\n    <tr>\n      <th>Low</th>\n      <td>0.999923</td>\n      <td>1.000000</td>\n      <td>0.987619</td>\n      <td>0.316059</td>\n    </tr>\n    <tr>\n      <th>Adj Close</th>\n      <td>0.987254</td>\n      <td>0.987619</td>\n      <td>1.000000</td>\n      <td>0.262400</td>\n    </tr>\n    <tr>\n      <th>Volume</th>\n      <td>0.318474</td>\n      <td>0.316059</td>\n      <td>0.262400</td>\n      <td>1.000000</td>\n    </tr>\n  </tbody>\n</table>\n</div>"
     },
     "execution_count": 120,
     "metadata": {},
     "output_type": "execute_result"
    }
   ],
   "source": [
    "df.corr()"
   ],
   "metadata": {
    "collapsed": false,
    "pycharm": {
     "name": "#%%\n"
    }
   }
  },
  {
   "cell_type": "code",
   "execution_count": 122,
   "outputs": [
    {
     "data": {
      "text/plain": "<pandas.io.formats.style.Styler at 0x2875da66940>",
      "text/html": "<style type=\"text/css\">\n#T_d8a3a_row0_col0, #T_d8a3a_row0_col1, #T_d8a3a_row1_col0, #T_d8a3a_row1_col1, #T_d8a3a_row2_col2, #T_d8a3a_row3_col3 {\n  background-color: #b40426;\n  color: #f1f1f1;\n}\n#T_d8a3a_row0_col2, #T_d8a3a_row1_col2, #T_d8a3a_row2_col0, #T_d8a3a_row2_col1 {\n  background-color: #ba162b;\n  color: #f1f1f1;\n}\n#T_d8a3a_row0_col3 {\n  background-color: #516ddb;\n  color: #f1f1f1;\n}\n#T_d8a3a_row1_col3 {\n  background-color: #506bda;\n  color: #f1f1f1;\n}\n#T_d8a3a_row2_col3, #T_d8a3a_row3_col0, #T_d8a3a_row3_col1, #T_d8a3a_row3_col2 {\n  background-color: #3b4cc0;\n  color: #f1f1f1;\n}\n</style>\n<table id=\"T_d8a3a\">\n  <thead>\n    <tr>\n      <th class=\"blank level0\" >&nbsp;</th>\n      <th id=\"T_d8a3a_level0_col0\" class=\"col_heading level0 col0\" >Open</th>\n      <th id=\"T_d8a3a_level0_col1\" class=\"col_heading level0 col1\" >Low</th>\n      <th id=\"T_d8a3a_level0_col2\" class=\"col_heading level0 col2\" >Adj Close</th>\n      <th id=\"T_d8a3a_level0_col3\" class=\"col_heading level0 col3\" >Volume</th>\n    </tr>\n  </thead>\n  <tbody>\n    <tr>\n      <th id=\"T_d8a3a_level0_row0\" class=\"row_heading level0 row0\" >Open</th>\n      <td id=\"T_d8a3a_row0_col0\" class=\"data row0 col0\" >1.000000</td>\n      <td id=\"T_d8a3a_row0_col1\" class=\"data row0 col1\" >0.999923</td>\n      <td id=\"T_d8a3a_row0_col2\" class=\"data row0 col2\" >0.987254</td>\n      <td id=\"T_d8a3a_row0_col3\" class=\"data row0 col3\" >0.318474</td>\n    </tr>\n    <tr>\n      <th id=\"T_d8a3a_level0_row1\" class=\"row_heading level0 row1\" >Low</th>\n      <td id=\"T_d8a3a_row1_col0\" class=\"data row1 col0\" >0.999923</td>\n      <td id=\"T_d8a3a_row1_col1\" class=\"data row1 col1\" >1.000000</td>\n      <td id=\"T_d8a3a_row1_col2\" class=\"data row1 col2\" >0.987619</td>\n      <td id=\"T_d8a3a_row1_col3\" class=\"data row1 col3\" >0.316059</td>\n    </tr>\n    <tr>\n      <th id=\"T_d8a3a_level0_row2\" class=\"row_heading level0 row2\" >Adj Close</th>\n      <td id=\"T_d8a3a_row2_col0\" class=\"data row2 col0\" >0.987254</td>\n      <td id=\"T_d8a3a_row2_col1\" class=\"data row2 col1\" >0.987619</td>\n      <td id=\"T_d8a3a_row2_col2\" class=\"data row2 col2\" >1.000000</td>\n      <td id=\"T_d8a3a_row2_col3\" class=\"data row2 col3\" >0.262400</td>\n    </tr>\n    <tr>\n      <th id=\"T_d8a3a_level0_row3\" class=\"row_heading level0 row3\" >Volume</th>\n      <td id=\"T_d8a3a_row3_col0\" class=\"data row3 col0\" >0.318474</td>\n      <td id=\"T_d8a3a_row3_col1\" class=\"data row3 col1\" >0.316059</td>\n      <td id=\"T_d8a3a_row3_col2\" class=\"data row3 col2\" >0.262400</td>\n      <td id=\"T_d8a3a_row3_col3\" class=\"data row3 col3\" >1.000000</td>\n    </tr>\n  </tbody>\n</table>\n"
     },
     "execution_count": 122,
     "metadata": {},
     "output_type": "execute_result"
    }
   ],
   "source": [
    "df.corr().style.background_gradient(cmap='coolwarm')"
   ],
   "metadata": {
    "collapsed": false,
    "pycharm": {
     "name": "#%%\n"
    }
   }
  },
  {
   "cell_type": "code",
   "execution_count": null,
   "outputs": [],
   "source": [],
   "metadata": {
    "collapsed": false,
    "pycharm": {
     "name": "#%%\n"
    }
   }
  }
 ],
 "metadata": {
  "kernelspec": {
   "display_name": "Python 3",
   "language": "python",
   "name": "python3"
  },
  "language_info": {
   "codemirror_mode": {
    "name": "ipython",
    "version": 2
   },
   "file_extension": ".py",
   "mimetype": "text/x-python",
   "name": "python",
   "nbconvert_exporter": "python",
   "pygments_lexer": "ipython2",
   "version": "2.7.6"
  }
 },
 "nbformat": 4,
 "nbformat_minor": 0
}