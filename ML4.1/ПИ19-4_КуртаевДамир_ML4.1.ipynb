{
 "cells": [
  {
   "cell_type": "code",
   "execution_count": 114,
   "outputs": [],
   "source": [
    "import numpy as np\n",
    "import matplotlib.pyplot as plt\n",
    "import seaborn as sns\n",
    "import pandas as pd\n",
    "\n",
    "from sklearn import metrics\n",
    "from sklearn.datasets import load_breast_cancer\n",
    "from sklearn.model_selection import train_test_split\n",
    "from sklearn.svm import SVC\n",
    "from pprint import pprint\n",
    "\n",
    "pd.set_option('display.float_format', lambda x: '%.3f' % x)"
   ],
   "metadata": {
    "collapsed": false,
    "pycharm": {
     "name": "#%%\n"
    }
   }
  },
  {
   "cell_type": "code",
   "execution_count": 115,
   "outputs": [
    {
     "data": {
      "text/plain": "        dateCrawled                                               name  \\\n0  30/03/2016 13:51                                       Zu_verkaufen   \n1     7/3/2016 9:54                             Volvo_XC90_2.4D_Summum   \n2     1/4/2016 0:57                                  Volkswagen_Touran   \n3  19/03/2016 17:50                       Seat_Ibiza_1.4_16V_Reference   \n4  16/03/2016 14:51  Volvo_XC90_D5_Aut._RDesign_R_Design_AWD_GSHD_S...   \n\n    seller offerType  price   abtest vehicleType  yearOfRegistration  \\\n0  private     offer   4450     test   limousine                2003   \n1  private     offer  13299  control         suv                2005   \n2  private     offer   3200     test         bus                2003   \n3  private     offer   4500  control   small car                2006   \n4  private     offer  18750     test         suv                2008   \n\n     gearbox  powerPS     model  kilometer  monthOfRegistration fuelType  \\\n0     manual      150       3er     150000                    3   diesel   \n1     manual      163  xc_reihe     150000                    6   diesel   \n2     manual      101    touran     150000                   11   diesel   \n3     manual       86     ibiza      60000                   12   petrol   \n4  automatic      185  xc_reihe     150000                   11   diesel   \n\n        brand notRepairedDamage      dateCreated  postalCode          lastSeen  \n0         bmw               NaN  30/03/2016 0:00       20257     7/4/2016 4:44  \n1       volvo                no    7/3/2016 0:00       88045  26/03/2016 13:17  \n2  volkswagen               NaN  31/03/2016 0:00       27449     1/4/2016 8:40  \n3        seat                no  19/03/2016 0:00       34537     7/4/2016 4:44  \n4       volvo                no  16/03/2016 0:00       55270    1/4/2016 23:18  ",
      "text/html": "<div>\n<style scoped>\n    .dataframe tbody tr th:only-of-type {\n        vertical-align: middle;\n    }\n\n    .dataframe tbody tr th {\n        vertical-align: top;\n    }\n\n    .dataframe thead th {\n        text-align: right;\n    }\n</style>\n<table border=\"1\" class=\"dataframe\">\n  <thead>\n    <tr style=\"text-align: right;\">\n      <th></th>\n      <th>dateCrawled</th>\n      <th>name</th>\n      <th>seller</th>\n      <th>offerType</th>\n      <th>price</th>\n      <th>abtest</th>\n      <th>vehicleType</th>\n      <th>yearOfRegistration</th>\n      <th>gearbox</th>\n      <th>powerPS</th>\n      <th>model</th>\n      <th>kilometer</th>\n      <th>monthOfRegistration</th>\n      <th>fuelType</th>\n      <th>brand</th>\n      <th>notRepairedDamage</th>\n      <th>dateCreated</th>\n      <th>postalCode</th>\n      <th>lastSeen</th>\n    </tr>\n  </thead>\n  <tbody>\n    <tr>\n      <th>0</th>\n      <td>30/03/2016 13:51</td>\n      <td>Zu_verkaufen</td>\n      <td>private</td>\n      <td>offer</td>\n      <td>4450</td>\n      <td>test</td>\n      <td>limousine</td>\n      <td>2003</td>\n      <td>manual</td>\n      <td>150</td>\n      <td>3er</td>\n      <td>150000</td>\n      <td>3</td>\n      <td>diesel</td>\n      <td>bmw</td>\n      <td>NaN</td>\n      <td>30/03/2016 0:00</td>\n      <td>20257</td>\n      <td>7/4/2016 4:44</td>\n    </tr>\n    <tr>\n      <th>1</th>\n      <td>7/3/2016 9:54</td>\n      <td>Volvo_XC90_2.4D_Summum</td>\n      <td>private</td>\n      <td>offer</td>\n      <td>13299</td>\n      <td>control</td>\n      <td>suv</td>\n      <td>2005</td>\n      <td>manual</td>\n      <td>163</td>\n      <td>xc_reihe</td>\n      <td>150000</td>\n      <td>6</td>\n      <td>diesel</td>\n      <td>volvo</td>\n      <td>no</td>\n      <td>7/3/2016 0:00</td>\n      <td>88045</td>\n      <td>26/03/2016 13:17</td>\n    </tr>\n    <tr>\n      <th>2</th>\n      <td>1/4/2016 0:57</td>\n      <td>Volkswagen_Touran</td>\n      <td>private</td>\n      <td>offer</td>\n      <td>3200</td>\n      <td>test</td>\n      <td>bus</td>\n      <td>2003</td>\n      <td>manual</td>\n      <td>101</td>\n      <td>touran</td>\n      <td>150000</td>\n      <td>11</td>\n      <td>diesel</td>\n      <td>volkswagen</td>\n      <td>NaN</td>\n      <td>31/03/2016 0:00</td>\n      <td>27449</td>\n      <td>1/4/2016 8:40</td>\n    </tr>\n    <tr>\n      <th>3</th>\n      <td>19/03/2016 17:50</td>\n      <td>Seat_Ibiza_1.4_16V_Reference</td>\n      <td>private</td>\n      <td>offer</td>\n      <td>4500</td>\n      <td>control</td>\n      <td>small car</td>\n      <td>2006</td>\n      <td>manual</td>\n      <td>86</td>\n      <td>ibiza</td>\n      <td>60000</td>\n      <td>12</td>\n      <td>petrol</td>\n      <td>seat</td>\n      <td>no</td>\n      <td>19/03/2016 0:00</td>\n      <td>34537</td>\n      <td>7/4/2016 4:44</td>\n    </tr>\n    <tr>\n      <th>4</th>\n      <td>16/03/2016 14:51</td>\n      <td>Volvo_XC90_D5_Aut._RDesign_R_Design_AWD_GSHD_S...</td>\n      <td>private</td>\n      <td>offer</td>\n      <td>18750</td>\n      <td>test</td>\n      <td>suv</td>\n      <td>2008</td>\n      <td>automatic</td>\n      <td>185</td>\n      <td>xc_reihe</td>\n      <td>150000</td>\n      <td>11</td>\n      <td>diesel</td>\n      <td>volvo</td>\n      <td>no</td>\n      <td>16/03/2016 0:00</td>\n      <td>55270</td>\n      <td>1/4/2016 23:18</td>\n    </tr>\n  </tbody>\n</table>\n</div>"
     },
     "execution_count": 115,
     "metadata": {},
     "output_type": "execute_result"
    }
   ],
   "source": [
    "dataset = pd.read_csv(\"cars_sampled.csv\")\n",
    "dataset.head()"
   ],
   "metadata": {
    "collapsed": false,
    "pycharm": {
     "name": "#%%\n"
    }
   }
  },
  {
   "cell_type": "code",
   "execution_count": 116,
   "outputs": [
    {
     "data": {
      "text/plain": "             price  yearOfRegistration   powerPS  kilometer  \\\ncount    50001.000           50001.000 50001.000  50001.000   \nmean      6559.865            2005.544   116.496 125613.688   \nstd      85818.470             122.992   230.568  40205.234   \nmin          0.000            1000.000     0.000   5000.000   \n25%       1150.000            1999.000    69.000 125000.000   \n50%       2950.000            2003.000   105.000 150000.000   \n75%       7190.000            2008.000   150.000 150000.000   \nmax   12345678.000            9999.000 19312.000 150000.000   \n\n       monthOfRegistration  postalCode  \ncount            50001.000   50001.000  \nmean                 5.744   50775.217  \nstd                  3.711   25743.702  \nmin                  0.000    1067.000  \n25%                  3.000   30559.000  \n50%                  6.000   49504.000  \n75%                  9.000   71404.000  \nmax                 12.000   99998.000  ",
      "text/html": "<div>\n<style scoped>\n    .dataframe tbody tr th:only-of-type {\n        vertical-align: middle;\n    }\n\n    .dataframe tbody tr th {\n        vertical-align: top;\n    }\n\n    .dataframe thead th {\n        text-align: right;\n    }\n</style>\n<table border=\"1\" class=\"dataframe\">\n  <thead>\n    <tr style=\"text-align: right;\">\n      <th></th>\n      <th>price</th>\n      <th>yearOfRegistration</th>\n      <th>powerPS</th>\n      <th>kilometer</th>\n      <th>monthOfRegistration</th>\n      <th>postalCode</th>\n    </tr>\n  </thead>\n  <tbody>\n    <tr>\n      <th>count</th>\n      <td>50001.000</td>\n      <td>50001.000</td>\n      <td>50001.000</td>\n      <td>50001.000</td>\n      <td>50001.000</td>\n      <td>50001.000</td>\n    </tr>\n    <tr>\n      <th>mean</th>\n      <td>6559.865</td>\n      <td>2005.544</td>\n      <td>116.496</td>\n      <td>125613.688</td>\n      <td>5.744</td>\n      <td>50775.217</td>\n    </tr>\n    <tr>\n      <th>std</th>\n      <td>85818.470</td>\n      <td>122.992</td>\n      <td>230.568</td>\n      <td>40205.234</td>\n      <td>3.711</td>\n      <td>25743.702</td>\n    </tr>\n    <tr>\n      <th>min</th>\n      <td>0.000</td>\n      <td>1000.000</td>\n      <td>0.000</td>\n      <td>5000.000</td>\n      <td>0.000</td>\n      <td>1067.000</td>\n    </tr>\n    <tr>\n      <th>25%</th>\n      <td>1150.000</td>\n      <td>1999.000</td>\n      <td>69.000</td>\n      <td>125000.000</td>\n      <td>3.000</td>\n      <td>30559.000</td>\n    </tr>\n    <tr>\n      <th>50%</th>\n      <td>2950.000</td>\n      <td>2003.000</td>\n      <td>105.000</td>\n      <td>150000.000</td>\n      <td>6.000</td>\n      <td>49504.000</td>\n    </tr>\n    <tr>\n      <th>75%</th>\n      <td>7190.000</td>\n      <td>2008.000</td>\n      <td>150.000</td>\n      <td>150000.000</td>\n      <td>9.000</td>\n      <td>71404.000</td>\n    </tr>\n    <tr>\n      <th>max</th>\n      <td>12345678.000</td>\n      <td>9999.000</td>\n      <td>19312.000</td>\n      <td>150000.000</td>\n      <td>12.000</td>\n      <td>99998.000</td>\n    </tr>\n  </tbody>\n</table>\n</div>"
     },
     "execution_count": 116,
     "metadata": {},
     "output_type": "execute_result"
    }
   ],
   "source": [
    "dataset.describe()"
   ],
   "metadata": {
    "collapsed": false,
    "pycharm": {
     "name": "#%%\n"
    }
   }
  },
  {
   "cell_type": "code",
   "execution_count": 117,
   "outputs": [
    {
     "data": {
      "text/plain": "(50001, 19)"
     },
     "execution_count": 117,
     "metadata": {},
     "output_type": "execute_result"
    }
   ],
   "source": [
    "dataset.shape"
   ],
   "metadata": {
    "collapsed": false,
    "pycharm": {
     "name": "#%%\n"
    }
   }
  },
  {
   "cell_type": "code",
   "execution_count": 118,
   "outputs": [
    {
     "data": {
      "text/plain": "dateCrawled            12039\nname                   38766\nseller                     2\nofferType                  2\nprice                   2393\nabtest                     2\nvehicleType                8\nyearOfRegistration        97\ngearbox                    2\npowerPS                  460\nmodel                    248\nkilometer                 13\nmonthOfRegistration       13\nfuelType                   7\nbrand                     40\nnotRepairedDamage          2\ndateCreated               75\npostalCode              7018\nlastSeen               10413\ndtype: int64"
     },
     "execution_count": 118,
     "metadata": {},
     "output_type": "execute_result"
    }
   ],
   "source": [
    "dataset.nunique()"
   ],
   "metadata": {
    "collapsed": false,
    "pycharm": {
     "name": "#%%\n"
    }
   }
  },
  {
   "cell_type": "code",
   "execution_count": 119,
   "outputs": [
    {
     "data": {
      "text/plain": "dateCrawled               0\nname                      0\nseller                    0\nofferType                 0\nprice                     0\nabtest                    0\nvehicleType            5188\nyearOfRegistration        0\ngearbox                2824\npowerPS                   0\nmodel                  2758\nkilometer                 0\nmonthOfRegistration       0\nfuelType               4503\nbrand                     0\nnotRepairedDamage      9716\ndateCreated               0\npostalCode                0\nlastSeen                  0\ndtype: int64"
     },
     "execution_count": 119,
     "metadata": {},
     "output_type": "execute_result"
    }
   ],
   "source": [
    "dataset.isna().sum()"
   ],
   "metadata": {
    "collapsed": false,
    "pycharm": {
     "name": "#%%\n"
    }
   }
  },
  {
   "cell_type": "code",
   "execution_count": 120,
   "outputs": [
    {
     "data": {
      "text/plain": "        dateCrawled                                               name  \\\n0  30/03/2016 13:51                                       Zu_verkaufen   \n1     7/3/2016 9:54                             Volvo_XC90_2.4D_Summum   \n2     1/4/2016 0:57                                  Volkswagen_Touran   \n3  19/03/2016 17:50                       Seat_Ibiza_1.4_16V_Reference   \n4  16/03/2016 14:51  Volvo_XC90_D5_Aut._RDesign_R_Design_AWD_GSHD_S...   \n\n    seller offerType  price   abtest vehicleType  yearOfRegistration  \\\n0  private     offer   4450     test   limousine                2003   \n1  private     offer  13299  control         suv                2005   \n2  private     offer   3200     test         bus                2003   \n3  private     offer   4500  control   small car                2006   \n4  private     offer  18750     test         suv                2008   \n\n     gearbox  powerPS     model  kilometer  monthOfRegistration fuelType  \\\n0     manual      150       3er     150000                    3   diesel   \n1     manual      163  xc_reihe     150000                    6   diesel   \n2     manual      101    touran     150000                   11   diesel   \n3     manual       86     ibiza      60000                   12   petrol   \n4  automatic      185  xc_reihe     150000                   11   diesel   \n\n        brand notRepairedDamage      dateCreated  postalCode          lastSeen  \n0         bmw               NaN  30/03/2016 0:00       20257     7/4/2016 4:44  \n1       volvo                no    7/3/2016 0:00       88045  26/03/2016 13:17  \n2  volkswagen               NaN  31/03/2016 0:00       27449     1/4/2016 8:40  \n3        seat                no  19/03/2016 0:00       34537     7/4/2016 4:44  \n4       volvo                no  16/03/2016 0:00       55270    1/4/2016 23:18  ",
      "text/html": "<div>\n<style scoped>\n    .dataframe tbody tr th:only-of-type {\n        vertical-align: middle;\n    }\n\n    .dataframe tbody tr th {\n        vertical-align: top;\n    }\n\n    .dataframe thead th {\n        text-align: right;\n    }\n</style>\n<table border=\"1\" class=\"dataframe\">\n  <thead>\n    <tr style=\"text-align: right;\">\n      <th></th>\n      <th>dateCrawled</th>\n      <th>name</th>\n      <th>seller</th>\n      <th>offerType</th>\n      <th>price</th>\n      <th>abtest</th>\n      <th>vehicleType</th>\n      <th>yearOfRegistration</th>\n      <th>gearbox</th>\n      <th>powerPS</th>\n      <th>model</th>\n      <th>kilometer</th>\n      <th>monthOfRegistration</th>\n      <th>fuelType</th>\n      <th>brand</th>\n      <th>notRepairedDamage</th>\n      <th>dateCreated</th>\n      <th>postalCode</th>\n      <th>lastSeen</th>\n    </tr>\n  </thead>\n  <tbody>\n    <tr>\n      <th>0</th>\n      <td>30/03/2016 13:51</td>\n      <td>Zu_verkaufen</td>\n      <td>private</td>\n      <td>offer</td>\n      <td>4450</td>\n      <td>test</td>\n      <td>limousine</td>\n      <td>2003</td>\n      <td>manual</td>\n      <td>150</td>\n      <td>3er</td>\n      <td>150000</td>\n      <td>3</td>\n      <td>diesel</td>\n      <td>bmw</td>\n      <td>NaN</td>\n      <td>30/03/2016 0:00</td>\n      <td>20257</td>\n      <td>7/4/2016 4:44</td>\n    </tr>\n    <tr>\n      <th>1</th>\n      <td>7/3/2016 9:54</td>\n      <td>Volvo_XC90_2.4D_Summum</td>\n      <td>private</td>\n      <td>offer</td>\n      <td>13299</td>\n      <td>control</td>\n      <td>suv</td>\n      <td>2005</td>\n      <td>manual</td>\n      <td>163</td>\n      <td>xc_reihe</td>\n      <td>150000</td>\n      <td>6</td>\n      <td>diesel</td>\n      <td>volvo</td>\n      <td>no</td>\n      <td>7/3/2016 0:00</td>\n      <td>88045</td>\n      <td>26/03/2016 13:17</td>\n    </tr>\n    <tr>\n      <th>2</th>\n      <td>1/4/2016 0:57</td>\n      <td>Volkswagen_Touran</td>\n      <td>private</td>\n      <td>offer</td>\n      <td>3200</td>\n      <td>test</td>\n      <td>bus</td>\n      <td>2003</td>\n      <td>manual</td>\n      <td>101</td>\n      <td>touran</td>\n      <td>150000</td>\n      <td>11</td>\n      <td>diesel</td>\n      <td>volkswagen</td>\n      <td>NaN</td>\n      <td>31/03/2016 0:00</td>\n      <td>27449</td>\n      <td>1/4/2016 8:40</td>\n    </tr>\n    <tr>\n      <th>3</th>\n      <td>19/03/2016 17:50</td>\n      <td>Seat_Ibiza_1.4_16V_Reference</td>\n      <td>private</td>\n      <td>offer</td>\n      <td>4500</td>\n      <td>control</td>\n      <td>small car</td>\n      <td>2006</td>\n      <td>manual</td>\n      <td>86</td>\n      <td>ibiza</td>\n      <td>60000</td>\n      <td>12</td>\n      <td>petrol</td>\n      <td>seat</td>\n      <td>no</td>\n      <td>19/03/2016 0:00</td>\n      <td>34537</td>\n      <td>7/4/2016 4:44</td>\n    </tr>\n    <tr>\n      <th>4</th>\n      <td>16/03/2016 14:51</td>\n      <td>Volvo_XC90_D5_Aut._RDesign_R_Design_AWD_GSHD_S...</td>\n      <td>private</td>\n      <td>offer</td>\n      <td>18750</td>\n      <td>test</td>\n      <td>suv</td>\n      <td>2008</td>\n      <td>automatic</td>\n      <td>185</td>\n      <td>xc_reihe</td>\n      <td>150000</td>\n      <td>11</td>\n      <td>diesel</td>\n      <td>volvo</td>\n      <td>no</td>\n      <td>16/03/2016 0:00</td>\n      <td>55270</td>\n      <td>1/4/2016 23:18</td>\n    </tr>\n  </tbody>\n</table>\n</div>"
     },
     "execution_count": 120,
     "metadata": {},
     "output_type": "execute_result"
    }
   ],
   "source": [
    "dataset.head()"
   ],
   "metadata": {
    "collapsed": false,
    "pycharm": {
     "name": "#%%\n"
    }
   }
  },
  {
   "cell_type": "code",
   "execution_count": 121,
   "outputs": [
    {
     "data": {
      "text/plain": "dateCrawled            object\nname                   object\nseller                 object\nofferType              object\nprice                   int64\nabtest                 object\nvehicleType            object\nyearOfRegistration      int64\ngearbox                object\npowerPS                 int64\nmodel                  object\nkilometer               int64\nmonthOfRegistration     int64\nfuelType               object\nbrand                  object\nnotRepairedDamage      object\ndateCreated            object\npostalCode              int64\nlastSeen               object\ndtype: object"
     },
     "execution_count": 121,
     "metadata": {},
     "output_type": "execute_result"
    }
   ],
   "source": [
    "dataset.dtypes"
   ],
   "metadata": {
    "collapsed": false,
    "pycharm": {
     "name": "#%%\n"
    }
   }
  },
  {
   "cell_type": "code",
   "execution_count": 122,
   "outputs": [
    {
     "data": {
      "text/plain": "          dateCrawled                                               name  \\\n0 2016-03-30 13:51:00                                       Zu_verkaufen   \n1 2016-07-03 09:54:00                             Volvo_XC90_2.4D_Summum   \n2 2016-01-04 00:57:00                                  Volkswagen_Touran   \n3 2016-03-19 17:50:00                       Seat_Ibiza_1.4_16V_Reference   \n4 2016-03-16 14:51:00  Volvo_XC90_D5_Aut._RDesign_R_Design_AWD_GSHD_S...   \n\n    seller offerType  price   abtest vehicleType  yearOfRegistration  \\\n0  private     offer   4450     test   limousine                2003   \n1  private     offer  13299  control         suv                2005   \n2  private     offer   3200     test         bus                2003   \n3  private     offer   4500  control   small car                2006   \n4  private     offer  18750     test         suv                2008   \n\n     gearbox  powerPS     model  kilometer  monthOfRegistration fuelType  \\\n0     manual      150       3er     150000                    3   diesel   \n1     manual      163  xc_reihe     150000                    6   diesel   \n2     manual      101    touran     150000                   11   diesel   \n3     manual       86     ibiza      60000                   12   petrol   \n4  automatic      185  xc_reihe     150000                   11   diesel   \n\n        brand notRepairedDamage dateCreated  postalCode            lastSeen  \n0         bmw               NaN  2016-03-30       20257 2016-07-04 04:44:00  \n1       volvo                no  2016-07-03       88045 2016-03-26 13:17:00  \n2  volkswagen               NaN  2016-03-31       27449 2016-01-04 08:40:00  \n3        seat                no  2016-03-19       34537 2016-07-04 04:44:00  \n4       volvo                no  2016-03-16       55270 2016-01-04 23:18:00  ",
      "text/html": "<div>\n<style scoped>\n    .dataframe tbody tr th:only-of-type {\n        vertical-align: middle;\n    }\n\n    .dataframe tbody tr th {\n        vertical-align: top;\n    }\n\n    .dataframe thead th {\n        text-align: right;\n    }\n</style>\n<table border=\"1\" class=\"dataframe\">\n  <thead>\n    <tr style=\"text-align: right;\">\n      <th></th>\n      <th>dateCrawled</th>\n      <th>name</th>\n      <th>seller</th>\n      <th>offerType</th>\n      <th>price</th>\n      <th>abtest</th>\n      <th>vehicleType</th>\n      <th>yearOfRegistration</th>\n      <th>gearbox</th>\n      <th>powerPS</th>\n      <th>model</th>\n      <th>kilometer</th>\n      <th>monthOfRegistration</th>\n      <th>fuelType</th>\n      <th>brand</th>\n      <th>notRepairedDamage</th>\n      <th>dateCreated</th>\n      <th>postalCode</th>\n      <th>lastSeen</th>\n    </tr>\n  </thead>\n  <tbody>\n    <tr>\n      <th>0</th>\n      <td>2016-03-30 13:51:00</td>\n      <td>Zu_verkaufen</td>\n      <td>private</td>\n      <td>offer</td>\n      <td>4450</td>\n      <td>test</td>\n      <td>limousine</td>\n      <td>2003</td>\n      <td>manual</td>\n      <td>150</td>\n      <td>3er</td>\n      <td>150000</td>\n      <td>3</td>\n      <td>diesel</td>\n      <td>bmw</td>\n      <td>NaN</td>\n      <td>2016-03-30</td>\n      <td>20257</td>\n      <td>2016-07-04 04:44:00</td>\n    </tr>\n    <tr>\n      <th>1</th>\n      <td>2016-07-03 09:54:00</td>\n      <td>Volvo_XC90_2.4D_Summum</td>\n      <td>private</td>\n      <td>offer</td>\n      <td>13299</td>\n      <td>control</td>\n      <td>suv</td>\n      <td>2005</td>\n      <td>manual</td>\n      <td>163</td>\n      <td>xc_reihe</td>\n      <td>150000</td>\n      <td>6</td>\n      <td>diesel</td>\n      <td>volvo</td>\n      <td>no</td>\n      <td>2016-07-03</td>\n      <td>88045</td>\n      <td>2016-03-26 13:17:00</td>\n    </tr>\n    <tr>\n      <th>2</th>\n      <td>2016-01-04 00:57:00</td>\n      <td>Volkswagen_Touran</td>\n      <td>private</td>\n      <td>offer</td>\n      <td>3200</td>\n      <td>test</td>\n      <td>bus</td>\n      <td>2003</td>\n      <td>manual</td>\n      <td>101</td>\n      <td>touran</td>\n      <td>150000</td>\n      <td>11</td>\n      <td>diesel</td>\n      <td>volkswagen</td>\n      <td>NaN</td>\n      <td>2016-03-31</td>\n      <td>27449</td>\n      <td>2016-01-04 08:40:00</td>\n    </tr>\n    <tr>\n      <th>3</th>\n      <td>2016-03-19 17:50:00</td>\n      <td>Seat_Ibiza_1.4_16V_Reference</td>\n      <td>private</td>\n      <td>offer</td>\n      <td>4500</td>\n      <td>control</td>\n      <td>small car</td>\n      <td>2006</td>\n      <td>manual</td>\n      <td>86</td>\n      <td>ibiza</td>\n      <td>60000</td>\n      <td>12</td>\n      <td>petrol</td>\n      <td>seat</td>\n      <td>no</td>\n      <td>2016-03-19</td>\n      <td>34537</td>\n      <td>2016-07-04 04:44:00</td>\n    </tr>\n    <tr>\n      <th>4</th>\n      <td>2016-03-16 14:51:00</td>\n      <td>Volvo_XC90_D5_Aut._RDesign_R_Design_AWD_GSHD_S...</td>\n      <td>private</td>\n      <td>offer</td>\n      <td>18750</td>\n      <td>test</td>\n      <td>suv</td>\n      <td>2008</td>\n      <td>automatic</td>\n      <td>185</td>\n      <td>xc_reihe</td>\n      <td>150000</td>\n      <td>11</td>\n      <td>diesel</td>\n      <td>volvo</td>\n      <td>no</td>\n      <td>2016-03-16</td>\n      <td>55270</td>\n      <td>2016-01-04 23:18:00</td>\n    </tr>\n  </tbody>\n</table>\n</div>"
     },
     "execution_count": 122,
     "metadata": {},
     "output_type": "execute_result"
    }
   ],
   "source": [
    "dataset[\"dateCrawled\"] = pd.to_datetime(dataset[\"dateCrawled\"])\n",
    "dataset[\"dateCreated\"] = pd.to_datetime(dataset[\"dateCreated\"])\n",
    "dataset[\"lastSeen\"] = pd.to_datetime(dataset[\"lastSeen\"])\n",
    "dataset.head()"
   ],
   "metadata": {
    "collapsed": false,
    "pycharm": {
     "name": "#%%\n"
    }
   }
  },
  {
   "cell_type": "code",
   "execution_count": 123,
   "outputs": [
    {
     "data": {
      "text/plain": "dateCrawled            datetime64[ns]\nname                           object\nseller                         object\nofferType                      object\nprice                           int64\nabtest                         object\nvehicleType                    object\nyearOfRegistration              int64\ngearbox                        object\npowerPS                         int64\nmodel                          object\nkilometer                       int64\nmonthOfRegistration             int64\nfuelType                       object\nbrand                          object\nnotRepairedDamage              object\ndateCreated            datetime64[ns]\npostalCode                      int64\nlastSeen               datetime64[ns]\ndtype: object"
     },
     "execution_count": 123,
     "metadata": {},
     "output_type": "execute_result"
    }
   ],
   "source": [
    "dataset.dtypes"
   ],
   "metadata": {
    "collapsed": false,
    "pycharm": {
     "name": "#%%\n"
    }
   }
  },
  {
   "cell_type": "code",
   "execution_count": 124,
   "outputs": [
    {
     "data": {
      "text/plain": "0         4450\n1        13299\n2         3200\n3         4500\n4        18750\n         ...  \n49996        0\n49997    19999\n49998        0\n49999      100\n50000     1100\nName: price, Length: 50001, dtype: int64"
     },
     "execution_count": 124,
     "metadata": {},
     "output_type": "execute_result"
    }
   ],
   "source": [
    "price = dataset[\"price\"]\n",
    "price"
   ],
   "metadata": {
    "collapsed": false,
    "pycharm": {
     "name": "#%%\n"
    }
   }
  },
  {
   "cell_type": "code",
   "execution_count": 125,
   "outputs": [
    {
     "data": {
      "text/plain": "count      50001.000\nmean        6559.865\nstd        85818.470\nmin            0.000\n25%         1150.000\n50%         2950.000\n75%         7190.000\nmax     12345678.000\nName: price, dtype: float64"
     },
     "execution_count": 125,
     "metadata": {},
     "output_type": "execute_result"
    }
   ],
   "source": [
    "price.describe()"
   ],
   "metadata": {
    "collapsed": false,
    "pycharm": {
     "name": "#%%\n"
    }
   }
  },
  {
   "cell_type": "code",
   "execution_count": 126,
   "outputs": [
    {
     "data": {
      "text/plain": "<Figure size 432x288 with 1 Axes>",
      "image/png": "[encoded data removed]"
     },
     "metadata": {},
     "output_type": "display_data"
    }
   ],
   "source": [
    "price.hist();"
   ],
   "metadata": {
    "collapsed": false,
    "pycharm": {
     "name": "#%%\n"
    }
   }
  },
  {
   "cell_type": "code",
   "execution_count": 127,
   "outputs": [
    {
     "data": {
      "text/plain": "<Figure size 432x288 with 1 Axes>",
      "image/png": "[encoded data removed]"
     },
     "metadata": {},
     "output_type": "display_data"
    }
   ],
   "source": [
    "dataset.boxplot(column=[\"price\"]);"
   ],
   "metadata": {
    "collapsed": false,
    "pycharm": {
     "name": "#%%\n"
    }
   }
  },
  {
   "cell_type": "code",
   "execution_count": 128,
   "outputs": [
    {
     "data": {
      "text/plain": "<Figure size 432x288 with 1 Axes>",
      "image/png": "[encoded data removed]"
     },
     "metadata": {},
     "output_type": "display_data"
    }
   ],
   "source": [
    "sns.boxplot(data=price);"
   ],
   "metadata": {
    "collapsed": false,
    "pycharm": {
     "name": "#%%\n"
    }
   }
  },
  {
   "cell_type": "code",
   "execution_count": 129,
   "outputs": [
    {
     "data": {
      "text/plain": "count      50001.000\nmean        6559.865\nstd        85818.470\nmin            0.000\n25%         1150.000\n50%         2950.000\n75%         7190.000\nmax     12345678.000\nName: price, dtype: float64"
     },
     "execution_count": 129,
     "metadata": {},
     "output_type": "execute_result"
    }
   ],
   "source": [
    "price.describe()"
   ],
   "metadata": {
    "collapsed": false,
    "pycharm": {
     "name": "#%%\n"
    }
   }
  },
  {
   "cell_type": "code",
   "execution_count": 130,
   "outputs": [
    {
     "data": {
      "text/plain": "0           1451\n1            172\n2              1\n3              1\n5              4\n            ... \n1250000        1\n2795000        1\n9999999        1\n10010011       1\n12345678       1\nName: price, Length: 2393, dtype: int64"
     },
     "execution_count": 130,
     "metadata": {},
     "output_type": "execute_result"
    }
   ],
   "source": [
    "price.value_counts().sort_index()"
   ],
   "metadata": {
    "collapsed": false,
    "pycharm": {
     "name": "#%%\n"
    }
   }
  },
  {
   "cell_type": "code",
   "execution_count": 131,
   "outputs": [
    {
     "data": {
      "text/plain": "              dateCrawled                                               name  \\\n48559 2016-03-26 00:56:00                                 tausche_o_verkaufe   \n355   2016-03-04 14:36:00                                  Hilfe_Hilfe_Hilfe   \n17673 2016-03-19 19:45:00  Porsche_911_911R_1_of_20_ORIGINAL_R_nur_798KG!...   \n6509  2016-02-04 00:06:00  Ferrari_LaFerrari_Deutsche_Auslieferung._A_Cel...   \n35390 2016-10-03 20:43:00                                      Porsche_991_R   \n...                   ...                                                ...   \n41302 2016-03-31 16:53:00   Winterauto_top_zuverlaessig_bis_zuletzt_gelaufen   \n6178  2016-03-28 21:48:00  Opel_Kadett_Rieger_Gto_Breitbau_Rar_Selten_Gsi...   \n45805 2016-03-04 09:00:00  Volkswagen_Golf_3_GTI_16v_ABF_Tausch_moeglich_...   \n12828 2016-03-25 10:38:00  Verkaufe_sehr_gepflegten_VW_Lupo_mit_Frontschaden   \n37691 2016-03-24 17:47:00                           Audi_A4_b5_Avant_TÜV_Neu   \n\n        seller offerType     price   abtest    vehicleType  \\\n48559  private     offer  12345678     test  station wagon   \n355    private     offer  10010011     test            NaN   \n17673  private     offer   9999999  control          coupe   \n6509   private     offer   2795000  control          coupe   \n35390  private     offer   1250000     test          coupe   \n...        ...       ...       ...      ...            ...   \n41302  private     offer         0  control            NaN   \n6178   private     offer         0  control            NaN   \n45805  private     offer         0     test          coupe   \n12828  private     offer         0     test      small car   \n37691  private     offer         0  control  station wagon   \n\n       yearOfRegistration gearbox  powerPS    model  kilometer  \\\n48559                2001  manual      101    focus     150000   \n355                  2000     NaN        0      NaN     150000   \n17673                1967  manual      215      911      50000   \n6509                 2016     NaN      963      NaN       5000   \n35390                2016  manual      500      911       5000   \n...                   ...     ...      ...      ...        ...   \n41302                2016  manual      116  6_reihe     150000   \n6178                 1990     NaN        0   kadett     150000   \n45805                1993  manual      150     golf     100000   \n12828                2002  manual       60     lupo     150000   \n37691                1996  manual      150       a4     150000   \n\n       monthOfRegistration fuelType           brand notRepairedDamage  \\\n48559                    0   petrol            ford                no   \n355                      0      NaN  sonstige_autos               NaN   \n17673                   10   petrol         porsche                no   \n6509                     3      NaN  sonstige_autos                no   \n35390                    3   petrol         porsche                no   \n...                    ...      ...             ...               ...   \n41302                    7   petrol           mazda               NaN   \n6178                     0      NaN            opel               NaN   \n45805                   10   petrol      volkswagen                no   \n12828                    4   petrol      volkswagen               yes   \n37691                    9   petrol            audi                no   \n\n      dateCreated  postalCode            lastSeen  \n48559  2016-03-26       17291 2016-01-04 21:18:00  \n355    2016-03-04       44532 2016-05-04 13:18:00  \n17673  2016-03-19       70435 2016-01-04 10:45:00  \n6509   2016-01-04       60435 2016-03-04 14:32:00  \n35390  2016-10-03       10719 2016-03-15 15:19:00  \n...           ...         ...                 ...  \n41302  2016-03-31       38275 2016-03-31 16:53:00  \n6178   2016-03-28       66877 2016-07-04 04:45:00  \n45805  2016-03-04       45665 2016-07-04 10:45:00  \n12828  2016-03-25       66484 2016-06-04 09:45:00  \n37691  2016-03-24       17367 2016-05-04 08:45:00  \n\n[50001 rows x 19 columns]",
      "text/html": "<div>\n<style scoped>\n    .dataframe tbody tr th:only-of-type {\n        vertical-align: middle;\n    }\n\n    .dataframe tbody tr th {\n        vertical-align: top;\n    }\n\n    .dataframe thead th {\n        text-align: right;\n    }\n</style>\n<table border=\"1\" class=\"dataframe\">\n  <thead>\n    <tr style=\"text-align: right;\">\n      <th></th>\n      <th>dateCrawled</th>\n      <th>name</th>\n      <th>seller</th>\n      <th>offerType</th>\n      <th>price</th>\n      <th>abtest</th>\n      <th>vehicleType</th>\n      <th>yearOfRegistration</th>\n      <th>gearbox</th>\n      <th>powerPS</th>\n      <th>model</th>\n      <th>kilometer</th>\n      <th>monthOfRegistration</th>\n      <th>fuelType</th>\n      <th>brand</th>\n      <th>notRepairedDamage</th>\n      <th>dateCreated</th>\n      <th>postalCode</th>\n      <th>lastSeen</th>\n    </tr>\n  </thead>\n  <tbody>\n    <tr>\n      <th>48559</th>\n      <td>2016-03-26 00:56:00</td>\n      <td>tausche_o_verkaufe</td>\n      <td>private</td>\n      <td>offer</td>\n      <td>12345678</td>\n      <td>test</td>\n      <td>station wagon</td>\n      <td>2001</td>\n      <td>manual</td>\n      <td>101</td>\n      <td>focus</td>\n      <td>150000</td>\n      <td>0</td>\n      <td>petrol</td>\n      <td>ford</td>\n      <td>no</td>\n      <td>2016-03-26</td>\n      <td>17291</td>\n      <td>2016-01-04 21:18:00</td>\n    </tr>\n    <tr>\n      <th>355</th>\n      <td>2016-03-04 14:36:00</td>\n      <td>Hilfe_Hilfe_Hilfe</td>\n      <td>private</td>\n      <td>offer</td>\n      <td>10010011</td>\n      <td>test</td>\n      <td>NaN</td>\n      <td>2000</td>\n      <td>NaN</td>\n      <td>0</td>\n      <td>NaN</td>\n      <td>150000</td>\n      <td>0</td>\n      <td>NaN</td>\n      <td>sonstige_autos</td>\n      <td>NaN</td>\n      <td>2016-03-04</td>\n      <td>44532</td>\n      <td>2016-05-04 13:18:00</td>\n    </tr>\n    <tr>\n      <th>17673</th>\n      <td>2016-03-19 19:45:00</td>\n      <td>Porsche_911_911R_1_of_20_ORIGINAL_R_nur_798KG!...</td>\n      <td>private</td>\n      <td>offer</td>\n      <td>9999999</td>\n      <td>control</td>\n      <td>coupe</td>\n      <td>1967</td>\n      <td>manual</td>\n      <td>215</td>\n      <td>911</td>\n      <td>50000</td>\n      <td>10</td>\n      <td>petrol</td>\n      <td>porsche</td>\n      <td>no</td>\n      <td>2016-03-19</td>\n      <td>70435</td>\n      <td>2016-01-04 10:45:00</td>\n    </tr>\n    <tr>\n      <th>6509</th>\n      <td>2016-02-04 00:06:00</td>\n      <td>Ferrari_LaFerrari_Deutsche_Auslieferung._A_Cel...</td>\n      <td>private</td>\n      <td>offer</td>\n      <td>2795000</td>\n      <td>control</td>\n      <td>coupe</td>\n      <td>2016</td>\n      <td>NaN</td>\n      <td>963</td>\n      <td>NaN</td>\n      <td>5000</td>\n      <td>3</td>\n      <td>NaN</td>\n      <td>sonstige_autos</td>\n      <td>no</td>\n      <td>2016-01-04</td>\n      <td>60435</td>\n      <td>2016-03-04 14:32:00</td>\n    </tr>\n    <tr>\n      <th>35390</th>\n      <td>2016-10-03 20:43:00</td>\n      <td>Porsche_991_R</td>\n      <td>private</td>\n      <td>offer</td>\n      <td>1250000</td>\n      <td>test</td>\n      <td>coupe</td>\n      <td>2016</td>\n      <td>manual</td>\n      <td>500</td>\n      <td>911</td>\n      <td>5000</td>\n      <td>3</td>\n      <td>petrol</td>\n      <td>porsche</td>\n      <td>no</td>\n      <td>2016-10-03</td>\n      <td>10719</td>\n      <td>2016-03-15 15:19:00</td>\n    </tr>\n    <tr>\n      <th>...</th>\n      <td>...</td>\n      <td>...</td>\n      <td>...</td>\n      <td>...</td>\n      <td>...</td>\n      <td>...</td>\n      <td>...</td>\n      <td>...</td>\n      <td>...</td>\n      <td>...</td>\n      <td>...</td>\n      <td>...</td>\n      <td>...</td>\n      <td>...</td>\n      <td>...</td>\n      <td>...</td>\n      <td>...</td>\n      <td>...</td>\n      <td>...</td>\n    </tr>\n    <tr>\n      <th>41302</th>\n      <td>2016-03-31 16:53:00</td>\n      <td>Winterauto_top_zuverlaessig_bis_zuletzt_gelaufen</td>\n      <td>private</td>\n      <td>offer</td>\n      <td>0</td>\n      <td>control</td>\n      <td>NaN</td>\n      <td>2016</td>\n      <td>manual</td>\n      <td>116</td>\n      <td>6_reihe</td>\n      <td>150000</td>\n      <td>7</td>\n      <td>petrol</td>\n      <td>mazda</td>\n      <td>NaN</td>\n      <td>2016-03-31</td>\n      <td>38275</td>\n      <td>2016-03-31 16:53:00</td>\n    </tr>\n    <tr>\n      <th>6178</th>\n      <td>2016-03-28 21:48:00</td>\n      <td>Opel_Kadett_Rieger_Gto_Breitbau_Rar_Selten_Gsi...</td>\n      <td>private</td>\n      <td>offer</td>\n      <td>0</td>\n      <td>control</td>\n      <td>NaN</td>\n      <td>1990</td>\n      <td>NaN</td>\n      <td>0</td>\n      <td>kadett</td>\n      <td>150000</td>\n      <td>0</td>\n      <td>NaN</td>\n      <td>opel</td>\n      <td>NaN</td>\n      <td>2016-03-28</td>\n      <td>66877</td>\n      <td>2016-07-04 04:45:00</td>\n    </tr>\n    <tr>\n      <th>45805</th>\n      <td>2016-03-04 09:00:00</td>\n      <td>Volkswagen_Golf_3_GTI_16v_ABF_Tausch_moeglich_...</td>\n      <td>private</td>\n      <td>offer</td>\n      <td>0</td>\n      <td>test</td>\n      <td>coupe</td>\n      <td>1993</td>\n      <td>manual</td>\n      <td>150</td>\n      <td>golf</td>\n      <td>100000</td>\n      <td>10</td>\n      <td>petrol</td>\n      <td>volkswagen</td>\n      <td>no</td>\n      <td>2016-03-04</td>\n      <td>45665</td>\n      <td>2016-07-04 10:45:00</td>\n    </tr>\n    <tr>\n      <th>12828</th>\n      <td>2016-03-25 10:38:00</td>\n      <td>Verkaufe_sehr_gepflegten_VW_Lupo_mit_Frontschaden</td>\n      <td>private</td>\n      <td>offer</td>\n      <td>0</td>\n      <td>test</td>\n      <td>small car</td>\n      <td>2002</td>\n      <td>manual</td>\n      <td>60</td>\n      <td>lupo</td>\n      <td>150000</td>\n      <td>4</td>\n      <td>petrol</td>\n      <td>volkswagen</td>\n      <td>yes</td>\n      <td>2016-03-25</td>\n      <td>66484</td>\n      <td>2016-06-04 09:45:00</td>\n    </tr>\n    <tr>\n      <th>37691</th>\n      <td>2016-03-24 17:47:00</td>\n      <td>Audi_A4_b5_Avant_TÜV_Neu</td>\n      <td>private</td>\n      <td>offer</td>\n      <td>0</td>\n      <td>control</td>\n      <td>station wagon</td>\n      <td>1996</td>\n      <td>manual</td>\n      <td>150</td>\n      <td>a4</td>\n      <td>150000</td>\n      <td>9</td>\n      <td>petrol</td>\n      <td>audi</td>\n      <td>no</td>\n      <td>2016-03-24</td>\n      <td>17367</td>\n      <td>2016-05-04 08:45:00</td>\n    </tr>\n  </tbody>\n</table>\n<p>50001 rows × 19 columns</p>\n</div>"
     },
     "execution_count": 131,
     "metadata": {},
     "output_type": "execute_result"
    }
   ],
   "source": [
    "dataset.sort_values(by=[\"price\"], ascending=False)"
   ],
   "metadata": {
    "collapsed": false,
    "pycharm": {
     "name": "#%%\n"
    }
   }
  },
  {
   "cell_type": "code",
   "execution_count": 132,
   "outputs": [
    {
     "data": {
      "text/plain": "              dateCrawled                                               name  \\\n17673 2016-03-19 19:45:00  Porsche_911_911R_1_of_20_ORIGINAL_R_nur_798KG!...   \n6509  2016-02-04 00:06:00  Ferrari_LaFerrari_Deutsche_Auslieferung._A_Cel...   \n35390 2016-10-03 20:43:00                                      Porsche_991_R   \n11028 2016-03-21 20:45:00                                   BMW_///_Bodensee   \n22872 2016-12-03 18:46:00                                       Porsche_911R   \n...                   ...                                                ...   \n6178  2016-03-28 21:48:00  Opel_Kadett_Rieger_Gto_Breitbau_Rar_Selten_Gsi...   \n41302 2016-03-31 16:53:00   Winterauto_top_zuverlaessig_bis_zuletzt_gelaufen   \n12828 2016-03-25 10:38:00  Verkaufe_sehr_gepflegten_VW_Lupo_mit_Frontschaden   \n45805 2016-03-04 09:00:00  Volkswagen_Golf_3_GTI_16v_ABF_Tausch_moeglich_...   \n37691 2016-03-24 17:47:00                           Audi_A4_b5_Avant_TÜV_Neu   \n\n        seller offerType    price   abtest    vehicleType  yearOfRegistration  \\\n17673  private     offer  9999999  control          coupe                1967   \n6509   private     offer  2795000  control          coupe                2016   \n35390  private     offer  1250000     test          coupe                2016   \n11028  private     offer   999999  control            NaN                9999   \n22872  private     offer   700000     test          coupe                2016   \n...        ...       ...      ...      ...            ...                 ...   \n6178   private     offer        0  control            NaN                1990   \n41302  private     offer        0  control            NaN                2016   \n12828  private     offer        0     test      small car                2002   \n45805  private     offer        0     test          coupe                1993   \n37691  private     offer        0  control  station wagon                1996   \n\n      gearbox  powerPS    model  kilometer  monthOfRegistration fuelType  \\\n17673  manual      215      911      50000                   10   petrol   \n6509      NaN      963      NaN       5000                    3      NaN   \n35390  manual      500      911       5000                    3   petrol   \n11028     NaN        0      NaN      10000                    0      NaN   \n22872     NaN        0      911       5000                    3      NaN   \n...       ...      ...      ...        ...                  ...      ...   \n6178      NaN        0   kadett     150000                    0      NaN   \n41302  manual      116  6_reihe     150000                    7   petrol   \n12828  manual       60     lupo     150000                    4   petrol   \n45805  manual      150     golf     100000                   10   petrol   \n37691  manual      150       a4     150000                    9   petrol   \n\n                brand notRepairedDamage dateCreated  postalCode  \\\n17673         porsche                no  2016-03-19       70435   \n6509   sonstige_autos                no  2016-01-04       60435   \n35390         porsche                no  2016-10-03       10719   \n11028             bmw               NaN  2016-03-21       88677   \n22872         porsche                no  2016-12-03       76275   \n...               ...               ...         ...         ...   \n6178             opel               NaN  2016-03-28       66877   \n41302           mazda               NaN  2016-03-31       38275   \n12828      volkswagen               yes  2016-03-25       66484   \n45805      volkswagen                no  2016-03-04       45665   \n37691            audi                no  2016-03-24       17367   \n\n                 lastSeen  \n17673 2016-01-04 10:45:00  \n6509  2016-03-04 14:32:00  \n35390 2016-03-15 15:19:00  \n11028 2016-03-27 06:15:00  \n22872 2016-12-03 18:46:00  \n...                   ...  \n6178  2016-07-04 04:45:00  \n41302 2016-03-31 16:53:00  \n12828 2016-06-04 09:45:00  \n45805 2016-07-04 10:45:00  \n37691 2016-05-04 08:45:00  \n\n[49999 rows x 19 columns]",
      "text/html": "<div>\n<style scoped>\n    .dataframe tbody tr th:only-of-type {\n        vertical-align: middle;\n    }\n\n    .dataframe tbody tr th {\n        vertical-align: top;\n    }\n\n    .dataframe thead th {\n        text-align: right;\n    }\n</style>\n<table border=\"1\" class=\"dataframe\">\n  <thead>\n    <tr style=\"text-align: right;\">\n      <th></th>\n      <th>dateCrawled</th>\n      <th>name</th>\n      <th>seller</th>\n      <th>offerType</th>\n      <th>price</th>\n      <th>abtest</th>\n      <th>vehicleType</th>\n      <th>yearOfRegistration</th>\n      <th>gearbox</th>\n      <th>powerPS</th>\n      <th>model</th>\n      <th>kilometer</th>\n      <th>monthOfRegistration</th>\n      <th>fuelType</th>\n      <th>brand</th>\n      <th>notRepairedDamage</th>\n      <th>dateCreated</th>\n      <th>postalCode</th>\n      <th>lastSeen</th>\n    </tr>\n  </thead>\n  <tbody>\n    <tr>\n      <th>17673</th>\n      <td>2016-03-19 19:45:00</td>\n      <td>Porsche_911_911R_1_of_20_ORIGINAL_R_nur_798KG!...</td>\n      <td>private</td>\n      <td>offer</td>\n      <td>9999999</td>\n      <td>control</td>\n      <td>coupe</td>\n      <td>1967</td>\n      <td>manual</td>\n      <td>215</td>\n      <td>911</td>\n      <td>50000</td>\n      <td>10</td>\n      <td>petrol</td>\n      <td>porsche</td>\n      <td>no</td>\n      <td>2016-03-19</td>\n      <td>70435</td>\n      <td>2016-01-04 10:45:00</td>\n    </tr>\n    <tr>\n      <th>6509</th>\n      <td>2016-02-04 00:06:00</td>\n      <td>Ferrari_LaFerrari_Deutsche_Auslieferung._A_Cel...</td>\n      <td>private</td>\n      <td>offer</td>\n      <td>2795000</td>\n      <td>control</td>\n      <td>coupe</td>\n      <td>2016</td>\n      <td>NaN</td>\n      <td>963</td>\n      <td>NaN</td>\n      <td>5000</td>\n      <td>3</td>\n      <td>NaN</td>\n      <td>sonstige_autos</td>\n      <td>no</td>\n      <td>2016-01-04</td>\n      <td>60435</td>\n      <td>2016-03-04 14:32:00</td>\n    </tr>\n    <tr>\n      <th>35390</th>\n      <td>2016-10-03 20:43:00</td>\n      <td>Porsche_991_R</td>\n      <td>private</td>\n      <td>offer</td>\n      <td>1250000</td>\n      <td>test</td>\n      <td>coupe</td>\n      <td>2016</td>\n      <td>manual</td>\n      <td>500</td>\n      <td>911</td>\n      <td>5000</td>\n      <td>3</td>\n      <td>petrol</td>\n      <td>porsche</td>\n      <td>no</td>\n      <td>2016-10-03</td>\n      <td>10719</td>\n      <td>2016-03-15 15:19:00</td>\n    </tr>\n    <tr>\n      <th>11028</th>\n      <td>2016-03-21 20:45:00</td>\n      <td>BMW_///_Bodensee</td>\n      <td>private</td>\n      <td>offer</td>\n      <td>999999</td>\n      <td>control</td>\n      <td>NaN</td>\n      <td>9999</td>\n      <td>NaN</td>\n      <td>0</td>\n      <td>NaN</td>\n      <td>10000</td>\n      <td>0</td>\n      <td>NaN</td>\n      <td>bmw</td>\n      <td>NaN</td>\n      <td>2016-03-21</td>\n      <td>88677</td>\n      <td>2016-03-27 06:15:00</td>\n    </tr>\n    <tr>\n      <th>22872</th>\n      <td>2016-12-03 18:46:00</td>\n      <td>Porsche_911R</td>\n      <td>private</td>\n      <td>offer</td>\n      <td>700000</td>\n      <td>test</td>\n      <td>coupe</td>\n      <td>2016</td>\n      <td>NaN</td>\n      <td>0</td>\n      <td>911</td>\n      <td>5000</td>\n      <td>3</td>\n      <td>NaN</td>\n      <td>porsche</td>\n      <td>no</td>\n      <td>2016-12-03</td>\n      <td>76275</td>\n      <td>2016-12-03 18:46:00</td>\n    </tr>\n    <tr>\n      <th>...</th>\n      <td>...</td>\n      <td>...</td>\n      <td>...</td>\n      <td>...</td>\n      <td>...</td>\n      <td>...</td>\n      <td>...</td>\n      <td>...</td>\n      <td>...</td>\n      <td>...</td>\n      <td>...</td>\n      <td>...</td>\n      <td>...</td>\n      <td>...</td>\n      <td>...</td>\n      <td>...</td>\n      <td>...</td>\n      <td>...</td>\n      <td>...</td>\n    </tr>\n    <tr>\n      <th>6178</th>\n      <td>2016-03-28 21:48:00</td>\n      <td>Opel_Kadett_Rieger_Gto_Breitbau_Rar_Selten_Gsi...</td>\n      <td>private</td>\n      <td>offer</td>\n      <td>0</td>\n      <td>control</td>\n      <td>NaN</td>\n      <td>1990</td>\n      <td>NaN</td>\n      <td>0</td>\n      <td>kadett</td>\n      <td>150000</td>\n      <td>0</td>\n      <td>NaN</td>\n      <td>opel</td>\n      <td>NaN</td>\n      <td>2016-03-28</td>\n      <td>66877</td>\n      <td>2016-07-04 04:45:00</td>\n    </tr>\n    <tr>\n      <th>41302</th>\n      <td>2016-03-31 16:53:00</td>\n      <td>Winterauto_top_zuverlaessig_bis_zuletzt_gelaufen</td>\n      <td>private</td>\n      <td>offer</td>\n      <td>0</td>\n      <td>control</td>\n      <td>NaN</td>\n      <td>2016</td>\n      <td>manual</td>\n      <td>116</td>\n      <td>6_reihe</td>\n      <td>150000</td>\n      <td>7</td>\n      <td>petrol</td>\n      <td>mazda</td>\n      <td>NaN</td>\n      <td>2016-03-31</td>\n      <td>38275</td>\n      <td>2016-03-31 16:53:00</td>\n    </tr>\n    <tr>\n      <th>12828</th>\n      <td>2016-03-25 10:38:00</td>\n      <td>Verkaufe_sehr_gepflegten_VW_Lupo_mit_Frontschaden</td>\n      <td>private</td>\n      <td>offer</td>\n      <td>0</td>\n      <td>test</td>\n      <td>small car</td>\n      <td>2002</td>\n      <td>manual</td>\n      <td>60</td>\n      <td>lupo</td>\n      <td>150000</td>\n      <td>4</td>\n      <td>petrol</td>\n      <td>volkswagen</td>\n      <td>yes</td>\n      <td>2016-03-25</td>\n      <td>66484</td>\n      <td>2016-06-04 09:45:00</td>\n    </tr>\n    <tr>\n      <th>45805</th>\n      <td>2016-03-04 09:00:00</td>\n      <td>Volkswagen_Golf_3_GTI_16v_ABF_Tausch_moeglich_...</td>\n      <td>private</td>\n      <td>offer</td>\n      <td>0</td>\n      <td>test</td>\n      <td>coupe</td>\n      <td>1993</td>\n      <td>manual</td>\n      <td>150</td>\n      <td>golf</td>\n      <td>100000</td>\n      <td>10</td>\n      <td>petrol</td>\n      <td>volkswagen</td>\n      <td>no</td>\n      <td>2016-03-04</td>\n      <td>45665</td>\n      <td>2016-07-04 10:45:00</td>\n    </tr>\n    <tr>\n      <th>37691</th>\n      <td>2016-03-24 17:47:00</td>\n      <td>Audi_A4_b5_Avant_TÜV_Neu</td>\n      <td>private</td>\n      <td>offer</td>\n      <td>0</td>\n      <td>control</td>\n      <td>station wagon</td>\n      <td>1996</td>\n      <td>manual</td>\n      <td>150</td>\n      <td>a4</td>\n      <td>150000</td>\n      <td>9</td>\n      <td>petrol</td>\n      <td>audi</td>\n      <td>no</td>\n      <td>2016-03-24</td>\n      <td>17367</td>\n      <td>2016-05-04 08:45:00</td>\n    </tr>\n  </tbody>\n</table>\n<p>49999 rows × 19 columns</p>\n</div>"
     },
     "execution_count": 132,
     "metadata": {},
     "output_type": "execute_result"
    }
   ],
   "source": [
    "dataset.drop(dataset.sort_values(by=[\"price\"], ascending=False)[:2].index, inplace=True)\n",
    "dataset.sort_values(by=[\"price\"], ascending=False)"
   ],
   "metadata": {
    "collapsed": false,
    "pycharm": {
     "name": "#%%\n"
    }
   }
  },
  {
   "cell_type": "code",
   "execution_count": 133,
   "outputs": [
    {
     "data": {
      "text/plain": "array([[4.10045016e-04, 1.22543566e-03, 2.94863832e-04, ...,\n        0.00000000e+00, 9.21449474e-06, 1.01359442e-04]])"
     },
     "execution_count": 133,
     "metadata": {},
     "output_type": "execute_result"
    }
   ],
   "source": [
    "from sklearn import preprocessing\n",
    "\n",
    "price = np.array(dataset[\"price\"])\n",
    "normal_price = preprocessing.normalize(price.reshape(1, -1))\n",
    "normal_price"
   ],
   "metadata": {
    "collapsed": false,
    "pycharm": {
     "name": "#%%\n"
    }
   }
  },
  {
   "cell_type": "code",
   "execution_count": 134,
   "outputs": [
    {
     "data": {
      "text/plain": "              dateCrawled                                               name  \\\n0     2016-03-30 13:51:00                                       Zu_verkaufen   \n1     2016-07-03 09:54:00                             Volvo_XC90_2.4D_Summum   \n2     2016-01-04 00:57:00                                  Volkswagen_Touran   \n3     2016-03-19 17:50:00                       Seat_Ibiza_1.4_16V_Reference   \n4     2016-03-16 14:51:00  Volvo_XC90_D5_Aut._RDesign_R_Design_AWD_GSHD_S...   \n...                   ...                                                ...   \n49996 2016-03-04 15:48:00                               Suche_VW_T5_Multivan   \n49997 2016-03-27 14:55:00  Suche_einen_originalen_VW_Golf_2_Fire_and_Ice_G60   \n49998 2016-03-14 18:51:00  [SUCHE]_BMW_e46_Coupe_330ci_M_Paket_Facelift__...   \n49999 2016-03-15 18:06:00        Verkaufe_mehrere_Fahrzeuge_zum_Verschrotten   \n50000 2016-03-22 09:54:00                    Chevrolet_Matiz_1.Hd_TÜV11/2017   \n\n           seller offerType  price   abtest    vehicleType  \\\n0         private     offer   4450     test      limousine   \n1         private     offer  13299  control            suv   \n2         private     offer   3200     test            bus   \n3         private     offer   4500  control      small car   \n4         private     offer  18750     test            suv   \n...           ...       ...    ...      ...            ...   \n49996     private   request      0     test            bus   \n49997     private   request  19999  control            NaN   \n49998     private   request      0     test          coupe   \n49999  commercial     offer    100  control  station wagon   \n50000  commercial     offer   1100     test      small car   \n\n       yearOfRegistration    gearbox  powerPS        model  kilometer  \\\n0                    2003     manual      150          3er     150000   \n1                    2005     manual      163     xc_reihe     150000   \n2                    2003     manual      101       touran     150000   \n3                    2006     manual       86        ibiza      60000   \n4                    2008  automatic      185     xc_reihe     150000   \n...                   ...        ...      ...          ...        ...   \n49996                2005        NaN        0  transporter     150000   \n49997                1990        NaN        0         golf       5000   \n49998                2004     manual        0          3er     150000   \n49999                2000     manual        0       megane     150000   \n50000                2006     manual       38        matiz     150000   \n\n       monthOfRegistration fuelType       brand notRepairedDamage dateCreated  \\\n0                        3   diesel         bmw               NaN  2016-03-30   \n1                        6   diesel       volvo                no  2016-07-03   \n2                       11   diesel  volkswagen               NaN  2016-03-31   \n3                       12   petrol        seat                no  2016-03-19   \n4                       11   diesel       volvo                no  2016-03-16   \n...                    ...      ...         ...               ...         ...   \n49996                    0      NaN  volkswagen               NaN  2016-03-04   \n49997                    0      NaN  volkswagen               NaN  2016-03-27   \n49998                    1   petrol         bmw                no  2016-03-14   \n49999                    8   petrol     renault               NaN  2016-03-15   \n50000                   10   petrol   chevrolet                no  2016-03-22   \n\n       postalCode            lastSeen  \n0           20257 2016-07-04 04:44:00  \n1           88045 2016-03-26 13:17:00  \n2           27449 2016-01-04 08:40:00  \n3           34537 2016-07-04 04:44:00  \n4           55270 2016-01-04 23:18:00  \n...           ...                 ...  \n49996       29690 2016-05-04 15:16:00  \n49997       50181 2016-07-04 11:45:00  \n49998       86956 2016-03-25 06:17:00  \n49999       65232 2016-06-04 17:15:00  \n50000        7973 2016-05-04 21:15:00  \n\n[49999 rows x 19 columns]",
      "text/html": "<div>\n<style scoped>\n    .dataframe tbody tr th:only-of-type {\n        vertical-align: middle;\n    }\n\n    .dataframe tbody tr th {\n        vertical-align: top;\n    }\n\n    .dataframe thead th {\n        text-align: right;\n    }\n</style>\n<table border=\"1\" class=\"dataframe\">\n  <thead>\n    <tr style=\"text-align: right;\">\n      <th></th>\n      <th>dateCrawled</th>\n      <th>name</th>\n      <th>seller</th>\n      <th>offerType</th>\n      <th>price</th>\n      <th>abtest</th>\n      <th>vehicleType</th>\n      <th>yearOfRegistration</th>\n      <th>gearbox</th>\n      <th>powerPS</th>\n      <th>model</th>\n      <th>kilometer</th>\n      <th>monthOfRegistration</th>\n      <th>fuelType</th>\n      <th>brand</th>\n      <th>notRepairedDamage</th>\n      <th>dateCreated</th>\n      <th>postalCode</th>\n      <th>lastSeen</th>\n    </tr>\n  </thead>\n  <tbody>\n    <tr>\n      <th>0</th>\n      <td>2016-03-30 13:51:00</td>\n      <td>Zu_verkaufen</td>\n      <td>private</td>\n      <td>offer</td>\n      <td>4450</td>\n      <td>test</td>\n      <td>limousine</td>\n      <td>2003</td>\n      <td>manual</td>\n      <td>150</td>\n      <td>3er</td>\n      <td>150000</td>\n      <td>3</td>\n      <td>diesel</td>\n      <td>bmw</td>\n      <td>NaN</td>\n      <td>2016-03-30</td>\n      <td>20257</td>\n      <td>2016-07-04 04:44:00</td>\n    </tr>\n    <tr>\n      <th>1</th>\n      <td>2016-07-03 09:54:00</td>\n      <td>Volvo_XC90_2.4D_Summum</td>\n      <td>private</td>\n      <td>offer</td>\n      <td>13299</td>\n      <td>control</td>\n      <td>suv</td>\n      <td>2005</td>\n      <td>manual</td>\n      <td>163</td>\n      <td>xc_reihe</td>\n      <td>150000</td>\n      <td>6</td>\n      <td>diesel</td>\n      <td>volvo</td>\n      <td>no</td>\n      <td>2016-07-03</td>\n      <td>88045</td>\n      <td>2016-03-26 13:17:00</td>\n    </tr>\n    <tr>\n      <th>2</th>\n      <td>2016-01-04 00:57:00</td>\n      <td>Volkswagen_Touran</td>\n      <td>private</td>\n      <td>offer</td>\n      <td>3200</td>\n      <td>test</td>\n      <td>bus</td>\n      <td>2003</td>\n      <td>manual</td>\n      <td>101</td>\n      <td>touran</td>\n      <td>150000</td>\n      <td>11</td>\n      <td>diesel</td>\n      <td>volkswagen</td>\n      <td>NaN</td>\n      <td>2016-03-31</td>\n      <td>27449</td>\n      <td>2016-01-04 08:40:00</td>\n    </tr>\n    <tr>\n      <th>3</th>\n      <td>2016-03-19 17:50:00</td>\n      <td>Seat_Ibiza_1.4_16V_Reference</td>\n      <td>private</td>\n      <td>offer</td>\n      <td>4500</td>\n      <td>control</td>\n      <td>small car</td>\n      <td>2006</td>\n      <td>manual</td>\n      <td>86</td>\n      <td>ibiza</td>\n      <td>60000</td>\n      <td>12</td>\n      <td>petrol</td>\n      <td>seat</td>\n      <td>no</td>\n      <td>2016-03-19</td>\n      <td>34537</td>\n      <td>2016-07-04 04:44:00</td>\n    </tr>\n    <tr>\n      <th>4</th>\n      <td>2016-03-16 14:51:00</td>\n      <td>Volvo_XC90_D5_Aut._RDesign_R_Design_AWD_GSHD_S...</td>\n      <td>private</td>\n      <td>offer</td>\n      <td>18750</td>\n      <td>test</td>\n      <td>suv</td>\n      <td>2008</td>\n      <td>automatic</td>\n      <td>185</td>\n      <td>xc_reihe</td>\n      <td>150000</td>\n      <td>11</td>\n      <td>diesel</td>\n      <td>volvo</td>\n      <td>no</td>\n      <td>2016-03-16</td>\n      <td>55270</td>\n      <td>2016-01-04 23:18:00</td>\n    </tr>\n    <tr>\n      <th>...</th>\n      <td>...</td>\n      <td>...</td>\n      <td>...</td>\n      <td>...</td>\n      <td>...</td>\n      <td>...</td>\n      <td>...</td>\n      <td>...</td>\n      <td>...</td>\n      <td>...</td>\n      <td>...</td>\n      <td>...</td>\n      <td>...</td>\n      <td>...</td>\n      <td>...</td>\n      <td>...</td>\n      <td>...</td>\n      <td>...</td>\n      <td>...</td>\n    </tr>\n    <tr>\n      <th>49996</th>\n      <td>2016-03-04 15:48:00</td>\n      <td>Suche_VW_T5_Multivan</td>\n      <td>private</td>\n      <td>request</td>\n      <td>0</td>\n      <td>test</td>\n      <td>bus</td>\n      <td>2005</td>\n      <td>NaN</td>\n      <td>0</td>\n      <td>transporter</td>\n      <td>150000</td>\n      <td>0</td>\n      <td>NaN</td>\n      <td>volkswagen</td>\n      <td>NaN</td>\n      <td>2016-03-04</td>\n      <td>29690</td>\n      <td>2016-05-04 15:16:00</td>\n    </tr>\n    <tr>\n      <th>49997</th>\n      <td>2016-03-27 14:55:00</td>\n      <td>Suche_einen_originalen_VW_Golf_2_Fire_and_Ice_G60</td>\n      <td>private</td>\n      <td>request</td>\n      <td>19999</td>\n      <td>control</td>\n      <td>NaN</td>\n      <td>1990</td>\n      <td>NaN</td>\n      <td>0</td>\n      <td>golf</td>\n      <td>5000</td>\n      <td>0</td>\n      <td>NaN</td>\n      <td>volkswagen</td>\n      <td>NaN</td>\n      <td>2016-03-27</td>\n      <td>50181</td>\n      <td>2016-07-04 11:45:00</td>\n    </tr>\n    <tr>\n      <th>49998</th>\n      <td>2016-03-14 18:51:00</td>\n      <td>[SUCHE]_BMW_e46_Coupe_330ci_M_Paket_Facelift__...</td>\n      <td>private</td>\n      <td>request</td>\n      <td>0</td>\n      <td>test</td>\n      <td>coupe</td>\n      <td>2004</td>\n      <td>manual</td>\n      <td>0</td>\n      <td>3er</td>\n      <td>150000</td>\n      <td>1</td>\n      <td>petrol</td>\n      <td>bmw</td>\n      <td>no</td>\n      <td>2016-03-14</td>\n      <td>86956</td>\n      <td>2016-03-25 06:17:00</td>\n    </tr>\n    <tr>\n      <th>49999</th>\n      <td>2016-03-15 18:06:00</td>\n      <td>Verkaufe_mehrere_Fahrzeuge_zum_Verschrotten</td>\n      <td>commercial</td>\n      <td>offer</td>\n      <td>100</td>\n      <td>control</td>\n      <td>station wagon</td>\n      <td>2000</td>\n      <td>manual</td>\n      <td>0</td>\n      <td>megane</td>\n      <td>150000</td>\n      <td>8</td>\n      <td>petrol</td>\n      <td>renault</td>\n      <td>NaN</td>\n      <td>2016-03-15</td>\n      <td>65232</td>\n      <td>2016-06-04 17:15:00</td>\n    </tr>\n    <tr>\n      <th>50000</th>\n      <td>2016-03-22 09:54:00</td>\n      <td>Chevrolet_Matiz_1.Hd_TÜV11/2017</td>\n      <td>commercial</td>\n      <td>offer</td>\n      <td>1100</td>\n      <td>test</td>\n      <td>small car</td>\n      <td>2006</td>\n      <td>manual</td>\n      <td>38</td>\n      <td>matiz</td>\n      <td>150000</td>\n      <td>10</td>\n      <td>petrol</td>\n      <td>chevrolet</td>\n      <td>no</td>\n      <td>2016-03-22</td>\n      <td>7973</td>\n      <td>2016-05-04 21:15:00</td>\n    </tr>\n  </tbody>\n</table>\n<p>49999 rows × 19 columns</p>\n</div>"
     },
     "execution_count": 134,
     "metadata": {},
     "output_type": "execute_result"
    }
   ],
   "source": [
    "# dataset[\"price\"] = normal_price.reshape(-1, 1)\n",
    "dataset"
   ],
   "metadata": {
    "collapsed": false,
    "pycharm": {
     "name": "#%%\n"
    }
   }
  },
  {
   "cell_type": "code",
   "execution_count": 135,
   "outputs": [
    {
     "data": {
      "text/plain": "count     49999.000\nmean       6113.005\nstd       48148.161\nmin           0.000\n25%        1150.000\n50%        2950.000\n75%        7190.000\nmax     9999999.000\nName: price, dtype: float64"
     },
     "execution_count": 135,
     "metadata": {},
     "output_type": "execute_result"
    }
   ],
   "source": [
    "dataset[\"price\"].describe()"
   ],
   "metadata": {
    "collapsed": false,
    "pycharm": {
     "name": "#%%\n"
    }
   }
  },
  {
   "cell_type": "code",
   "execution_count": 136,
   "outputs": [
    {
     "data": {
      "text/plain": "                     price  yearOfRegistration  powerPS  kilometer  \\\nprice                1.000               0.032    0.039     -0.087   \nyearOfRegistration   0.032               1.000   -0.004     -0.064   \npowerPS              0.039              -0.004    1.000     -0.016   \nkilometer           -0.087              -0.064   -0.016      1.000   \nmonthOfRegistration  0.015              -0.023    0.034      0.002   \npostalCode           0.018              -0.002    0.017     -0.024   \n\n                     monthOfRegistration  postalCode  \nprice                              0.015       0.018  \nyearOfRegistration                -0.023      -0.002  \npowerPS                            0.034       0.017  \nkilometer                          0.002      -0.024  \nmonthOfRegistration                1.000       0.019  \npostalCode                         0.019       1.000  ",
      "text/html": "<div>\n<style scoped>\n    .dataframe tbody tr th:only-of-type {\n        vertical-align: middle;\n    }\n\n    .dataframe tbody tr th {\n        vertical-align: top;\n    }\n\n    .dataframe thead th {\n        text-align: right;\n    }\n</style>\n<table border=\"1\" class=\"dataframe\">\n  <thead>\n    <tr style=\"text-align: right;\">\n      <th></th>\n      <th>price</th>\n      <th>yearOfRegistration</th>\n      <th>powerPS</th>\n      <th>kilometer</th>\n      <th>monthOfRegistration</th>\n      <th>postalCode</th>\n    </tr>\n  </thead>\n  <tbody>\n    <tr>\n      <th>price</th>\n      <td>1.000</td>\n      <td>0.032</td>\n      <td>0.039</td>\n      <td>-0.087</td>\n      <td>0.015</td>\n      <td>0.018</td>\n    </tr>\n    <tr>\n      <th>yearOfRegistration</th>\n      <td>0.032</td>\n      <td>1.000</td>\n      <td>-0.004</td>\n      <td>-0.064</td>\n      <td>-0.023</td>\n      <td>-0.002</td>\n    </tr>\n    <tr>\n      <th>powerPS</th>\n      <td>0.039</td>\n      <td>-0.004</td>\n      <td>1.000</td>\n      <td>-0.016</td>\n      <td>0.034</td>\n      <td>0.017</td>\n    </tr>\n    <tr>\n      <th>kilometer</th>\n      <td>-0.087</td>\n      <td>-0.064</td>\n      <td>-0.016</td>\n      <td>1.000</td>\n      <td>0.002</td>\n      <td>-0.024</td>\n    </tr>\n    <tr>\n      <th>monthOfRegistration</th>\n      <td>0.015</td>\n      <td>-0.023</td>\n      <td>0.034</td>\n      <td>0.002</td>\n      <td>1.000</td>\n      <td>0.019</td>\n    </tr>\n    <tr>\n      <th>postalCode</th>\n      <td>0.018</td>\n      <td>-0.002</td>\n      <td>0.017</td>\n      <td>-0.024</td>\n      <td>0.019</td>\n      <td>1.000</td>\n    </tr>\n  </tbody>\n</table>\n</div>"
     },
     "execution_count": 136,
     "metadata": {},
     "output_type": "execute_result"
    }
   ],
   "source": [
    "dataset.corr()"
   ],
   "metadata": {
    "collapsed": false,
    "pycharm": {
     "name": "#%%\n"
    }
   }
  },
  {
   "cell_type": "code",
   "execution_count": 137,
   "outputs": [
    {
     "data": {
      "text/plain": "Index(['dateCrawled', 'name', 'seller', 'offerType', 'price', 'abtest',\n       'vehicleType', 'yearOfRegistration', 'gearbox', 'powerPS', 'model',\n       'kilometer', 'monthOfRegistration', 'fuelType', 'brand',\n       'notRepairedDamage', 'dateCreated', 'postalCode', 'lastSeen'],\n      dtype='object')"
     },
     "execution_count": 137,
     "metadata": {},
     "output_type": "execute_result"
    }
   ],
   "source": [
    "dataset.columns"
   ],
   "metadata": {
    "collapsed": false,
    "pycharm": {
     "name": "#%%\n"
    }
   }
  },
  {
   "cell_type": "code",
   "execution_count": 148,
   "outputs": [
    {
     "data": {
      "text/plain": "<Figure size 432x288 with 1 Axes>",
      "image/png": "[encoded data removed]"
     },
     "metadata": {},
     "output_type": "display_data"
    }
   ],
   "source": [
    "sns.boxplot(data=dataset);"
   ],
   "metadata": {
    "collapsed": false,
    "pycharm": {
     "name": "#%%\n"
    }
   }
  },
  {
   "cell_type": "code",
   "execution_count": 145,
   "outputs": [],
   "source": [],
   "metadata": {
    "collapsed": false,
    "pycharm": {
     "name": "#%%\n"
    }
   }
  },
  {
   "cell_type": "code",
   "execution_count": null,
   "outputs": [],
   "source": [],
   "metadata": {
    "collapsed": false,
    "pycharm": {
     "name": "#%%\n"
    }
   }
  }
 ],
 "metadata": {
  "kernelspec": {
   "display_name": "Python 3",
   "language": "python",
   "name": "python3"
  },
  "language_info": {
   "codemirror_mode": {
    "name": "ipython",
    "version": 2
   },
   "file_extension": ".py",
   "mimetype": "text/x-python",
   "name": "python",
   "nbconvert_exporter": "python",
   "pygments_lexer": "ipython2",
   "version": "2.7.6"
  }
 },
 "nbformat": 4,
 "nbformat_minor": 0
}