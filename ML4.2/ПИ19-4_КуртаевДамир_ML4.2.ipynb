{
 "cells": [
  {
   "cell_type": "code",
   "execution_count": 155,
   "metadata": {
    "collapsed": true,
    "pycharm": {
     "name": "#%%\n"
    }
   },
   "outputs": [],
   "source": [
    "import pandas as pd\n",
    "import numpy as np\n",
    "# import"
   ]
  },
  {
   "cell_type": "code",
   "execution_count": 156,
   "outputs": [
    {
     "data": {
      "text/plain": "        Date      Open      High       Low     Close  Adj Close     Volume\n0 1972-08-25  0.063477  0.064697  0.063477  0.064453   0.036098  2508800.0\n1 1972-08-28  0.064453  0.064941  0.064209  0.064209   0.035962   972800.0\n2 1972-08-29  0.063965  0.063965  0.063477  0.063477   0.035552  1945600.0\n3 1972-08-30  0.063477  0.063477  0.062988  0.063477   0.035552   409600.0\n4 1972-08-31  0.062988  0.062988  0.062500  0.062500   0.035005   870400.0",
      "text/html": "<div>\n<style scoped>\n    .dataframe tbody tr th:only-of-type {\n        vertical-align: middle;\n    }\n\n    .dataframe tbody tr th {\n        vertical-align: top;\n    }\n\n    .dataframe thead th {\n        text-align: right;\n    }\n</style>\n<table border=\"1\" class=\"dataframe\">\n  <thead>\n    <tr style=\"text-align: right;\">\n      <th></th>\n      <th>Date</th>\n      <th>Open</th>\n      <th>High</th>\n      <th>Low</th>\n      <th>Close</th>\n      <th>Adj Close</th>\n      <th>Volume</th>\n    </tr>\n  </thead>\n  <tbody>\n    <tr>\n      <th>0</th>\n      <td>1972-08-25</td>\n      <td>0.063477</td>\n      <td>0.064697</td>\n      <td>0.063477</td>\n      <td>0.064453</td>\n      <td>0.036098</td>\n      <td>2508800.0</td>\n    </tr>\n    <tr>\n      <th>1</th>\n      <td>1972-08-28</td>\n      <td>0.064453</td>\n      <td>0.064941</td>\n      <td>0.064209</td>\n      <td>0.064209</td>\n      <td>0.035962</td>\n      <td>972800.0</td>\n    </tr>\n    <tr>\n      <th>2</th>\n      <td>1972-08-29</td>\n      <td>0.063965</td>\n      <td>0.063965</td>\n      <td>0.063477</td>\n      <td>0.063477</td>\n      <td>0.035552</td>\n      <td>1945600.0</td>\n    </tr>\n    <tr>\n      <th>3</th>\n      <td>1972-08-30</td>\n      <td>0.063477</td>\n      <td>0.063477</td>\n      <td>0.062988</td>\n      <td>0.063477</td>\n      <td>0.035552</td>\n      <td>409600.0</td>\n    </tr>\n    <tr>\n      <th>4</th>\n      <td>1972-08-31</td>\n      <td>0.062988</td>\n      <td>0.062988</td>\n      <td>0.062500</td>\n      <td>0.062500</td>\n      <td>0.035005</td>\n      <td>870400.0</td>\n    </tr>\n  </tbody>\n</table>\n</div>"
     },
     "execution_count": 156,
     "metadata": {},
     "output_type": "execute_result"
    }
   ],
   "source": [
    "df = pd.read_csv(\"WMT.csv\", parse_dates=[\"Date\"])\n",
    "df.head()"
   ],
   "metadata": {
    "collapsed": false,
    "pycharm": {
     "name": "#%%\n"
    }
   }
  },
  {
   "cell_type": "markdown",
   "source": [
    "У нас 12510 наблюдений"
   ],
   "metadata": {
    "collapsed": false,
    "pycharm": {
     "name": "#%% md\n"
    }
   }
  },
  {
   "cell_type": "code",
   "execution_count": 157,
   "outputs": [
    {
     "data": {
      "text/plain": "(12510, 7)"
     },
     "execution_count": 157,
     "metadata": {},
     "output_type": "execute_result"
    }
   ],
   "source": [
    "df.shape"
   ],
   "metadata": {
    "collapsed": false,
    "pycharm": {
     "name": "#%%\n"
    }
   }
  },
  {
   "cell_type": "code",
   "execution_count": 158,
   "outputs": [
    {
     "data": {
      "text/plain": "Date         12510\nOpen         12476\nHigh         12485\nLow          12509\nClose        12492\nAdj Close    12510\nVolume       12496\ndtype: int64"
     },
     "execution_count": 158,
     "metadata": {},
     "output_type": "execute_result"
    }
   ],
   "source": [
    "df.count()"
   ],
   "metadata": {
    "collapsed": false,
    "pycharm": {
     "name": "#%%\n"
    }
   }
  },
  {
   "cell_type": "markdown",
   "source": [
    "Предметная область - аналитика курса стоимости ценных бумаг магазина Walmart"
   ],
   "metadata": {
    "collapsed": false,
    "pycharm": {
     "name": "#%% md\n"
    }
   }
  },
  {
   "cell_type": "markdown",
   "source": [
    "* Date - дата\n",
    "* Open - цена открытия\n",
    "* High - наивысшая точка стоимости в этот день\n",
    "* Low - низшая точка стоимости в этот день\n",
    "* Close - цена закрытия\n",
    "* Adj Close - скорректированная цена закрытия изменяет цену закрытия акции, чтобы отразить стоимость этой акции после учета любых изменений\n",
    "* Volume - количество акций, проданных за конкретную акцию, индекс или другие инвестиции в течение дня"
   ],
   "metadata": {
    "collapsed": false,
    "pycharm": {
     "name": "#%% md\n"
    }
   }
  },
  {
   "cell_type": "markdown",
   "source": [
    "Задача обучения - регрессия"
   ],
   "metadata": {
    "collapsed": false,
    "pycharm": {
     "name": "#%% md\n"
    }
   }
  },
  {
   "cell_type": "markdown",
   "source": [
    "## Провести в Jupyter средствами pandas, sklearn, seaborn описательный анализ"
   ],
   "metadata": {
    "collapsed": false,
    "pycharm": {
     "name": "#%% md\n"
    }
   }
  },
  {
   "cell_type": "code",
   "execution_count": 159,
   "outputs": [
    {
     "data": {
      "text/plain": "               Open           Low     Adj Close        Volume\ncount  12476.000000  12509.000000  12510.000000  1.249600e+04\nmean      35.706034     35.318912     28.915924  7.547246e+06\nstd       37.454145     37.127724     34.677862  6.231867e+06\nmin        0.015625      0.014404      0.008804  0.000000e+00\n25%        1.386719      1.375000      0.851606  3.894400e+06\n50%       16.765625     16.343750     10.601800  6.321400e+06\n75%       56.500000     55.750000     40.595537  9.509050e+06\nmax      153.600006    151.660004    151.039993  1.318336e+08",
      "text/html": "<div>\n<style scoped>\n    .dataframe tbody tr th:only-of-type {\n        vertical-align: middle;\n    }\n\n    .dataframe tbody tr th {\n        vertical-align: top;\n    }\n\n    .dataframe thead th {\n        text-align: right;\n    }\n</style>\n<table border=\"1\" class=\"dataframe\">\n  <thead>\n    <tr style=\"text-align: right;\">\n      <th></th>\n      <th>Open</th>\n      <th>Low</th>\n      <th>Adj Close</th>\n      <th>Volume</th>\n    </tr>\n  </thead>\n  <tbody>\n    <tr>\n      <th>count</th>\n      <td>12476.000000</td>\n      <td>12509.000000</td>\n      <td>12510.000000</td>\n      <td>1.249600e+04</td>\n    </tr>\n    <tr>\n      <th>mean</th>\n      <td>35.706034</td>\n      <td>35.318912</td>\n      <td>28.915924</td>\n      <td>7.547246e+06</td>\n    </tr>\n    <tr>\n      <th>std</th>\n      <td>37.454145</td>\n      <td>37.127724</td>\n      <td>34.677862</td>\n      <td>6.231867e+06</td>\n    </tr>\n    <tr>\n      <th>min</th>\n      <td>0.015625</td>\n      <td>0.014404</td>\n      <td>0.008804</td>\n      <td>0.000000e+00</td>\n    </tr>\n    <tr>\n      <th>25%</th>\n      <td>1.386719</td>\n      <td>1.375000</td>\n      <td>0.851606</td>\n      <td>3.894400e+06</td>\n    </tr>\n    <tr>\n      <th>50%</th>\n      <td>16.765625</td>\n      <td>16.343750</td>\n      <td>10.601800</td>\n      <td>6.321400e+06</td>\n    </tr>\n    <tr>\n      <th>75%</th>\n      <td>56.500000</td>\n      <td>55.750000</td>\n      <td>40.595537</td>\n      <td>9.509050e+06</td>\n    </tr>\n    <tr>\n      <th>max</th>\n      <td>153.600006</td>\n      <td>151.660004</td>\n      <td>151.039993</td>\n      <td>1.318336e+08</td>\n    </tr>\n  </tbody>\n</table>\n</div>"
     },
     "execution_count": 159,
     "metadata": {},
     "output_type": "execute_result"
    }
   ],
   "source": [
    "df.describe()"
   ],
   "metadata": {
    "collapsed": false,
    "pycharm": {
     "name": "#%%\n"
    }
   }
  },
  {
   "cell_type": "code",
   "execution_count": 160,
   "outputs": [
    {
     "name": "stdout",
     "output_type": "stream",
     "text": [
      "<class 'pandas.core.frame.DataFrame'>\n",
      "RangeIndex: 12510 entries, 0 to 12509\n",
      "Data columns (total 7 columns):\n",
      " #   Column     Non-Null Count  Dtype         \n",
      "---  ------     --------------  -----         \n",
      " 0   Date       12510 non-null  datetime64[ns]\n",
      " 1   Open       12476 non-null  float64       \n",
      " 2   High       12485 non-null  object        \n",
      " 3   Low        12509 non-null  float64       \n",
      " 4   Close      12492 non-null  object        \n",
      " 5   Adj Close  12510 non-null  float64       \n",
      " 6   Volume     12496 non-null  float64       \n",
      "dtypes: datetime64[ns](1), float64(4), object(2)\n",
      "memory usage: 684.3+ KB\n"
     ]
    }
   ],
   "source": [
    "df.info()"
   ],
   "metadata": {
    "collapsed": false,
    "pycharm": {
     "name": "#%%\n"
    }
   }
  },
  {
   "cell_type": "code",
   "execution_count": 161,
   "outputs": [
    {
     "data": {
      "text/plain": "<Figure size 1080x720 with 1 Axes>",
      "image/png": "[encoded data removed]"
     },
     "metadata": {},
     "output_type": "display_data"
    }
   ],
   "source": [
    "import matplotlib.pyplot as plt\n",
    "\n",
    "plt.figure(figsize=(15, 10))\n",
    "\n",
    "groups = df.drop(labels=[\"Date\"], axis=1).columns\n",
    "len_of_nulls = df.drop(labels=[\"Date\"], axis=1).isnull().sum()\n",
    "colors = [[\"r\", \"b\", \"g\"][int(np.random.randint(0, 3, 1))] for _ in len_of_nulls]\n",
    "\n",
    "plt.bar(groups, len_of_nulls, color=colors)\n",
    "plt.title(\"Количество NULL значений в признаках\")\n",
    "plt.show()"
   ],
   "metadata": {
    "collapsed": false,
    "pycharm": {
     "name": "#%%\n"
    }
   }
  },
  {
   "cell_type": "code",
   "execution_count": 162,
   "outputs": [
    {
     "data": {
      "text/plain": "Date          0\nOpen         34\nHigh         25\nLow           1\nClose        18\nAdj Close     0\nVolume       14\ndtype: int64"
     },
     "execution_count": 162,
     "metadata": {},
     "output_type": "execute_result"
    }
   ],
   "source": [
    "df.isnull().sum()"
   ],
   "metadata": {
    "collapsed": false,
    "pycharm": {
     "name": "#%%\n"
    }
   }
  },
  {
   "cell_type": "code",
   "execution_count": 163,
   "outputs": [
    {
     "data": {
      "text/plain": "Date\n1972      0.035347\n1973      0.023997\n1974      0.017418\n1975      0.025937\n1976      0.032409\n1977      0.032491\n1978      0.052124\n1979      0.060360\n1980      0.089725\n1981      0.172687\n1982      0.245438\n1983      0.734560\n1984      0.752986\n1985      0.961974\n1986      1.705572\n1987      2.229057\n1988      2.333196\n1989      3.101908\n1990      4.262793\n1991      6.930233\n1992      8.806628\n1993      8.569123\n1994      7.866016\n1995      7.917713\n1996      7.983683\n1997     11.123805\n1998     19.490142\n1999     31.048468\n2000     35.981571\n2001     34.899178\n2002     37.118162\n2003     37.287388\n2004     37.002913\n2005     33.709298\n2006     32.583252\n2007     33.763332\n2008     40.715679\n2009     37.155014\n2010     40.386944\n2011     41.714233\n2012     54.688268\n2013     61.825128\n2014     64.086815\n2015     62.361294\n2016     62.072937\n2017     71.272911\n2018     85.663094\n2019    104.750129\n2020    125.391319\n2021    139.955933\n2022    140.900047\nName: Adj Close, dtype: float64"
     },
     "execution_count": 163,
     "metadata": {},
     "output_type": "execute_result"
    }
   ],
   "source": [
    "year_close = df[\"Adj Close\"].groupby(df[\"Date\"].dt.year).median()\n",
    "year_close"
   ],
   "metadata": {
    "collapsed": false,
    "pycharm": {
     "name": "#%%\n"
    }
   }
  },
  {
   "cell_type": "code",
   "execution_count": 164,
   "outputs": [
    {
     "data": {
      "text/plain": "Date\n1972      716800.0\n1973      921600.0\n1974      460800.0\n1975     1024000.0\n1976     1740800.0\n1977     1510400.0\n1978     2201600.0\n1979     1152000.0\n1980     1612800.0\n1981     1740800.0\n1982     4121600.0\n1983     5267200.0\n1984     5427200.0\n1985     5340000.0\n1986     5980800.0\n1987     7147200.0\n1988     4556000.0\n1989     4292400.0\n1990     5307200.0\n1991     4648800.0\n1992     4155600.0\n1993     5376800.0\n1994     4521300.0\n1995     5794800.0\n1996     6218800.0\n1997     6373600.0\n1998     6008300.0\n1999     6268400.0\n2000     7265350.0\n2001     7108900.0\n2002     8377450.0\n2003     7644650.0\n2004     9189500.0\n2005    11451150.0\n2006    12302300.0\n2007    15830000.0\n2008    22639700.0\n2009    17388100.0\n2010    12396650.0\n2011    10979900.0\n2012     8019250.0\n2013     6359300.0\n2014     5979300.0\n2015     7580750.0\n2016     8086950.0\n2017     7879400.0\n2018     8305500.0\n2019     5469900.0\n2020     7453200.0\n2021     7074400.0\n2022     7767650.0\nName: Volume, dtype: float64"
     },
     "execution_count": 164,
     "metadata": {},
     "output_type": "execute_result"
    }
   ],
   "source": [
    "year_volume = df[\"Volume\"].groupby(df[\"Date\"].dt.year).median()\n",
    "year_volume"
   ],
   "metadata": {
    "collapsed": false,
    "pycharm": {
     "name": "#%%\n"
    }
   }
  },
  {
   "cell_type": "code",
   "execution_count": 165,
   "outputs": [
    {
     "data": {
      "text/plain": "Date\n1972      0.035347\n1973      0.023997\n1974      0.017418\n1975      0.025937\n1976      0.032409\n1977      0.032491\n1978      0.052124\n1979      0.060360\n1980      0.089725\n1981      0.172687\n1982      0.245438\n1983      0.734560\n1984      0.752986\n1985      0.961974\n1986      1.705572\n1987      2.229057\n1988      2.333196\n1989      3.101908\n1990      4.262793\n1991      6.930233\n1992      8.806628\n1993      8.569123\n1994      7.866016\n1995      7.917713\n1996      7.983683\n1997     11.123805\n1998     19.490142\n1999     31.048468\n2000     35.981571\n2001     34.899178\n2002     37.118162\n2003     37.287388\n2004     37.002913\n2005     33.709298\n2006     32.583252\n2007     33.763332\n2008     40.715679\n2009     37.155014\n2010     40.386944\n2011     41.714233\n2012     54.688268\n2013     61.825128\n2014     64.086815\n2015     62.361294\n2016     62.072937\n2017     71.272911\n2018     85.663094\n2019    104.750129\n2020    125.391319\n2021    139.955933\n2022    140.900047\nName: Adj Close, dtype: float64"
     },
     "execution_count": 165,
     "metadata": {},
     "output_type": "execute_result"
    }
   ],
   "source": [
    "year_adj = df[\"Adj Close\"].groupby(df[\"Date\"].dt.year).median()\n",
    "year_adj"
   ],
   "metadata": {
    "collapsed": false,
    "pycharm": {
     "name": "#%%\n"
    }
   }
  },
  {
   "cell_type": "code",
   "execution_count": 166,
   "outputs": [
    {
     "data": {
      "text/plain": "<Figure size 1440x1152 with 3 Axes>",
      "image/png": "[encoded data removed]"
     },
     "metadata": {},
     "output_type": "display_data"
    }
   ],
   "source": [
    "import matplotlib.pyplot as plt\n",
    "\n",
    "\n",
    "plt.figure(figsize=(20, 16))\n",
    "\n",
    "ax1 = plt.subplot(221)\n",
    "ax1.plot(year_close.index, year_close.values)\n",
    "ax1.title.set_text(\"Отношение цены к году\")\n",
    "ax1.set_ylabel('close')\n",
    "ax1.set_xlabel('year')\n",
    "\n",
    "ax2 = plt.subplot(222)\n",
    "ax2.plot(year_volume.index, year_volume.values)\n",
    "ax2.title.set_text(\"Отношение объема к году\")\n",
    "ax2.set_ylabel('volume')\n",
    "ax2.set_xlabel('year')\n",
    "\n",
    "ax3 = plt.subplot(223)\n",
    "ax3.plot(year_adj.index, year_adj.values)\n",
    "ax3.title.set_text(\"Отношение скорректированной цены закрытия к году\")\n",
    "ax3.set_ylabel('Adj Close')\n",
    "ax3.set_xlabel('year')\n",
    "\n",
    "plt.show()"
   ],
   "metadata": {
    "collapsed": false,
    "pycharm": {
     "name": "#%%\n"
    }
   }
  },
  {
   "cell_type": "markdown",
   "source": [
    "Все показатели с каждым годом растут"
   ],
   "metadata": {
    "collapsed": false,
    "pycharm": {
     "name": "#%% md\n"
    }
   }
  },
  {
   "cell_type": "code",
   "execution_count": 167,
   "outputs": [
    {
     "data": {
      "text/plain": "Open         0.002725\nHigh         0.002002\nLow          0.000080\nClose        0.001441\nAdj Close    0.000000\nVolume       0.001120\ndtype: float64"
     },
     "execution_count": 167,
     "metadata": {},
     "output_type": "execute_result"
    }
   ],
   "source": [
    "df.drop(labels=[\"Date\"], axis=1).isnull().sum() / df.drop(labels=[\"Date\"], axis=1).count()"
   ],
   "metadata": {
    "collapsed": false,
    "pycharm": {
     "name": "#%%\n"
    }
   }
  },
  {
   "cell_type": "code",
   "execution_count": 168,
   "outputs": [
    {
     "data": {
      "text/plain": "               Open       Low  Adj Close    Volume\nOpen       1.000000  0.999923   0.987254  0.318474\nLow        0.999923  1.000000   0.987619  0.316059\nAdj Close  0.987254  0.987619   1.000000  0.262400\nVolume     0.318474  0.316059   0.262400  1.000000",
      "text/html": "<div>\n<style scoped>\n    .dataframe tbody tr th:only-of-type {\n        vertical-align: middle;\n    }\n\n    .dataframe tbody tr th {\n        vertical-align: top;\n    }\n\n    .dataframe thead th {\n        text-align: right;\n    }\n</style>\n<table border=\"1\" class=\"dataframe\">\n  <thead>\n    <tr style=\"text-align: right;\">\n      <th></th>\n      <th>Open</th>\n      <th>Low</th>\n      <th>Adj Close</th>\n      <th>Volume</th>\n    </tr>\n  </thead>\n  <tbody>\n    <tr>\n      <th>Open</th>\n      <td>1.000000</td>\n      <td>0.999923</td>\n      <td>0.987254</td>\n      <td>0.318474</td>\n    </tr>\n    <tr>\n      <th>Low</th>\n      <td>0.999923</td>\n      <td>1.000000</td>\n      <td>0.987619</td>\n      <td>0.316059</td>\n    </tr>\n    <tr>\n      <th>Adj Close</th>\n      <td>0.987254</td>\n      <td>0.987619</td>\n      <td>1.000000</td>\n      <td>0.262400</td>\n    </tr>\n    <tr>\n      <th>Volume</th>\n      <td>0.318474</td>\n      <td>0.316059</td>\n      <td>0.262400</td>\n      <td>1.000000</td>\n    </tr>\n  </tbody>\n</table>\n</div>"
     },
     "execution_count": 168,
     "metadata": {},
     "output_type": "execute_result"
    }
   ],
   "source": [
    "df.corr()"
   ],
   "metadata": {
    "collapsed": false,
    "pycharm": {
     "name": "#%%\n"
    }
   }
  },
  {
   "cell_type": "code",
   "execution_count": 169,
   "outputs": [
    {
     "data": {
      "text/plain": "<pandas.io.formats.style.Styler at 0x28d24156cb0>",
      "text/html": "<style type=\"text/css\">\n#T_0afdb_row0_col0, #T_0afdb_row0_col1, #T_0afdb_row1_col0, #T_0afdb_row1_col1, #T_0afdb_row2_col2, #T_0afdb_row3_col3 {\n  background-color: #b40426;\n  color: #f1f1f1;\n}\n#T_0afdb_row0_col2, #T_0afdb_row1_col2, #T_0afdb_row2_col0, #T_0afdb_row2_col1 {\n  background-color: #ba162b;\n  color: #f1f1f1;\n}\n#T_0afdb_row0_col3 {\n  background-color: #516ddb;\n  color: #f1f1f1;\n}\n#T_0afdb_row1_col3 {\n  background-color: #506bda;\n  color: #f1f1f1;\n}\n#T_0afdb_row2_col3, #T_0afdb_row3_col0, #T_0afdb_row3_col1, #T_0afdb_row3_col2 {\n  background-color: #3b4cc0;\n  color: #f1f1f1;\n}\n</style>\n<table id=\"T_0afdb\">\n  <thead>\n    <tr>\n      <th class=\"blank level0\" >&nbsp;</th>\n      <th id=\"T_0afdb_level0_col0\" class=\"col_heading level0 col0\" >Open</th>\n      <th id=\"T_0afdb_level0_col1\" class=\"col_heading level0 col1\" >Low</th>\n      <th id=\"T_0afdb_level0_col2\" class=\"col_heading level0 col2\" >Adj Close</th>\n      <th id=\"T_0afdb_level0_col3\" class=\"col_heading level0 col3\" >Volume</th>\n    </tr>\n  </thead>\n  <tbody>\n    <tr>\n      <th id=\"T_0afdb_level0_row0\" class=\"row_heading level0 row0\" >Open</th>\n      <td id=\"T_0afdb_row0_col0\" class=\"data row0 col0\" >1.000000</td>\n      <td id=\"T_0afdb_row0_col1\" class=\"data row0 col1\" >0.999923</td>\n      <td id=\"T_0afdb_row0_col2\" class=\"data row0 col2\" >0.987254</td>\n      <td id=\"T_0afdb_row0_col3\" class=\"data row0 col3\" >0.318474</td>\n    </tr>\n    <tr>\n      <th id=\"T_0afdb_level0_row1\" class=\"row_heading level0 row1\" >Low</th>\n      <td id=\"T_0afdb_row1_col0\" class=\"data row1 col0\" >0.999923</td>\n      <td id=\"T_0afdb_row1_col1\" class=\"data row1 col1\" >1.000000</td>\n      <td id=\"T_0afdb_row1_col2\" class=\"data row1 col2\" >0.987619</td>\n      <td id=\"T_0afdb_row1_col3\" class=\"data row1 col3\" >0.316059</td>\n    </tr>\n    <tr>\n      <th id=\"T_0afdb_level0_row2\" class=\"row_heading level0 row2\" >Adj Close</th>\n      <td id=\"T_0afdb_row2_col0\" class=\"data row2 col0\" >0.987254</td>\n      <td id=\"T_0afdb_row2_col1\" class=\"data row2 col1\" >0.987619</td>\n      <td id=\"T_0afdb_row2_col2\" class=\"data row2 col2\" >1.000000</td>\n      <td id=\"T_0afdb_row2_col3\" class=\"data row2 col3\" >0.262400</td>\n    </tr>\n    <tr>\n      <th id=\"T_0afdb_level0_row3\" class=\"row_heading level0 row3\" >Volume</th>\n      <td id=\"T_0afdb_row3_col0\" class=\"data row3 col0\" >0.318474</td>\n      <td id=\"T_0afdb_row3_col1\" class=\"data row3 col1\" >0.316059</td>\n      <td id=\"T_0afdb_row3_col2\" class=\"data row3 col2\" >0.262400</td>\n      <td id=\"T_0afdb_row3_col3\" class=\"data row3 col3\" >1.000000</td>\n    </tr>\n  </tbody>\n</table>\n"
     },
     "execution_count": 169,
     "metadata": {},
     "output_type": "execute_result"
    }
   ],
   "source": [
    "df.corr().style.background_gradient(cmap='coolwarm')"
   ],
   "metadata": {
    "collapsed": false,
    "pycharm": {
     "name": "#%%\n"
    }
   }
  },
  {
   "cell_type": "markdown",
   "source": [
    "# Подготовительная обработка данных"
   ],
   "metadata": {
    "collapsed": false,
    "pycharm": {
     "name": "#%% md\n"
    }
   }
  },
  {
   "cell_type": "markdown",
   "source": [
    "удаление или заполнение отсутствующих значений"
   ],
   "metadata": {
    "collapsed": false,
    "pycharm": {
     "name": "#%% md\n"
    }
   }
  },
  {
   "cell_type": "code",
   "execution_count": 170,
   "outputs": [
    {
     "data": {
      "text/plain": "Open         34\nHigh         25\nLow           1\nClose        18\nAdj Close     0\nVolume       14\ndtype: int64"
     },
     "execution_count": 170,
     "metadata": {},
     "output_type": "execute_result"
    }
   ],
   "source": [
    "df.drop(labels=[\"Date\"], axis=1).isnull().sum()"
   ],
   "metadata": {
    "collapsed": false,
    "pycharm": {
     "name": "#%%\n"
    }
   }
  },
  {
   "cell_type": "code",
   "execution_count": 171,
   "outputs": [
    {
     "data": {
      "text/plain": "            Date       Open      High        Low      Close  Adj Close  \\\n9     1972-09-08   0.062500       NaN   0.062256   0.062256   0.034868   \n159   1973-04-17   0.041748  0.041748   0.041748   0.041748   0.023382   \n160   1973-04-18   0.041504  0.041504   0.041260   0.041504   0.023245   \n161   1973-04-19   0.041504  0.042725   0.041504   0.042725   0.023929   \n162   1973-04-23   0.042969  0.043945   0.042969   0.043945   0.024612   \n...          ...        ...       ...        ...        ...        ...   \n10953 2016-01-29  64.750000       NaN  64.739998  66.360001  57.743996   \n10954 2016-02-01  65.910004       NaN  65.889999  67.500000  58.735977   \n10955 2016-02-02  67.300003       NaN  66.279999  66.860001  58.179062   \n10956 2016-02-03  67.309998       NaN  65.070000  66.269997  57.665672   \n10957 2016-02-04  65.760002       NaN  65.010002  66.419998  57.796196   \n\n           Volume  \n9        665600.0  \n159           NaN  \n160           NaN  \n161           NaN  \n162           NaN  \n...           ...  \n10953  16439100.0  \n10954  14728400.0  \n10955  13585900.0  \n10956  12315600.0  \n10957  12833400.0  \n\n[92 rows x 7 columns]",
      "text/html": "<div>\n<style scoped>\n    .dataframe tbody tr th:only-of-type {\n        vertical-align: middle;\n    }\n\n    .dataframe tbody tr th {\n        vertical-align: top;\n    }\n\n    .dataframe thead th {\n        text-align: right;\n    }\n</style>\n<table border=\"1\" class=\"dataframe\">\n  <thead>\n    <tr style=\"text-align: right;\">\n      <th></th>\n      <th>Date</th>\n      <th>Open</th>\n      <th>High</th>\n      <th>Low</th>\n      <th>Close</th>\n      <th>Adj Close</th>\n      <th>Volume</th>\n    </tr>\n  </thead>\n  <tbody>\n    <tr>\n      <th>9</th>\n      <td>1972-09-08</td>\n      <td>0.062500</td>\n      <td>NaN</td>\n      <td>0.062256</td>\n      <td>0.062256</td>\n      <td>0.034868</td>\n      <td>665600.0</td>\n    </tr>\n    <tr>\n      <th>159</th>\n      <td>1973-04-17</td>\n      <td>0.041748</td>\n      <td>0.041748</td>\n      <td>0.041748</td>\n      <td>0.041748</td>\n      <td>0.023382</td>\n      <td>NaN</td>\n    </tr>\n    <tr>\n      <th>160</th>\n      <td>1973-04-18</td>\n      <td>0.041504</td>\n      <td>0.041504</td>\n      <td>0.041260</td>\n      <td>0.041504</td>\n      <td>0.023245</td>\n      <td>NaN</td>\n    </tr>\n    <tr>\n      <th>161</th>\n      <td>1973-04-19</td>\n      <td>0.041504</td>\n      <td>0.042725</td>\n      <td>0.041504</td>\n      <td>0.042725</td>\n      <td>0.023929</td>\n      <td>NaN</td>\n    </tr>\n    <tr>\n      <th>162</th>\n      <td>1973-04-23</td>\n      <td>0.042969</td>\n      <td>0.043945</td>\n      <td>0.042969</td>\n      <td>0.043945</td>\n      <td>0.024612</td>\n      <td>NaN</td>\n    </tr>\n    <tr>\n      <th>...</th>\n      <td>...</td>\n      <td>...</td>\n      <td>...</td>\n      <td>...</td>\n      <td>...</td>\n      <td>...</td>\n      <td>...</td>\n    </tr>\n    <tr>\n      <th>10953</th>\n      <td>2016-01-29</td>\n      <td>64.750000</td>\n      <td>NaN</td>\n      <td>64.739998</td>\n      <td>66.360001</td>\n      <td>57.743996</td>\n      <td>16439100.0</td>\n    </tr>\n    <tr>\n      <th>10954</th>\n      <td>2016-02-01</td>\n      <td>65.910004</td>\n      <td>NaN</td>\n      <td>65.889999</td>\n      <td>67.500000</td>\n      <td>58.735977</td>\n      <td>14728400.0</td>\n    </tr>\n    <tr>\n      <th>10955</th>\n      <td>2016-02-02</td>\n      <td>67.300003</td>\n      <td>NaN</td>\n      <td>66.279999</td>\n      <td>66.860001</td>\n      <td>58.179062</td>\n      <td>13585900.0</td>\n    </tr>\n    <tr>\n      <th>10956</th>\n      <td>2016-02-03</td>\n      <td>67.309998</td>\n      <td>NaN</td>\n      <td>65.070000</td>\n      <td>66.269997</td>\n      <td>57.665672</td>\n      <td>12315600.0</td>\n    </tr>\n    <tr>\n      <th>10957</th>\n      <td>2016-02-04</td>\n      <td>65.760002</td>\n      <td>NaN</td>\n      <td>65.010002</td>\n      <td>66.419998</td>\n      <td>57.796196</td>\n      <td>12833400.0</td>\n    </tr>\n  </tbody>\n</table>\n<p>92 rows × 7 columns</p>\n</div>"
     },
     "execution_count": 171,
     "metadata": {},
     "output_type": "execute_result"
    }
   ],
   "source": [
    "df[df.isnull().any(axis=1)]"
   ],
   "metadata": {
    "collapsed": false,
    "pycharm": {
     "name": "#%%\n"
    }
   }
  },
  {
   "cell_type": "code",
   "execution_count": 172,
   "outputs": [
    {
     "data": {
      "text/plain": "               Open           Low     Adj Close        Volume\ncount  12476.000000  12509.000000  12510.000000  1.249600e+04\nmean      35.706034     35.318912     28.915924  7.547246e+06\nstd       37.454145     37.127724     34.677862  6.231867e+06\nmin        0.015625      0.014404      0.008804  0.000000e+00\n25%        1.386719      1.375000      0.851606  3.894400e+06\n50%       16.765625     16.343750     10.601800  6.321400e+06\n75%       56.500000     55.750000     40.595537  9.509050e+06\nmax      153.600006    151.660004    151.039993  1.318336e+08",
      "text/html": "<div>\n<style scoped>\n    .dataframe tbody tr th:only-of-type {\n        vertical-align: middle;\n    }\n\n    .dataframe tbody tr th {\n        vertical-align: top;\n    }\n\n    .dataframe thead th {\n        text-align: right;\n    }\n</style>\n<table border=\"1\" class=\"dataframe\">\n  <thead>\n    <tr style=\"text-align: right;\">\n      <th></th>\n      <th>Open</th>\n      <th>Low</th>\n      <th>Adj Close</th>\n      <th>Volume</th>\n    </tr>\n  </thead>\n  <tbody>\n    <tr>\n      <th>count</th>\n      <td>12476.000000</td>\n      <td>12509.000000</td>\n      <td>12510.000000</td>\n      <td>1.249600e+04</td>\n    </tr>\n    <tr>\n      <th>mean</th>\n      <td>35.706034</td>\n      <td>35.318912</td>\n      <td>28.915924</td>\n      <td>7.547246e+06</td>\n    </tr>\n    <tr>\n      <th>std</th>\n      <td>37.454145</td>\n      <td>37.127724</td>\n      <td>34.677862</td>\n      <td>6.231867e+06</td>\n    </tr>\n    <tr>\n      <th>min</th>\n      <td>0.015625</td>\n      <td>0.014404</td>\n      <td>0.008804</td>\n      <td>0.000000e+00</td>\n    </tr>\n    <tr>\n      <th>25%</th>\n      <td>1.386719</td>\n      <td>1.375000</td>\n      <td>0.851606</td>\n      <td>3.894400e+06</td>\n    </tr>\n    <tr>\n      <th>50%</th>\n      <td>16.765625</td>\n      <td>16.343750</td>\n      <td>10.601800</td>\n      <td>6.321400e+06</td>\n    </tr>\n    <tr>\n      <th>75%</th>\n      <td>56.500000</td>\n      <td>55.750000</td>\n      <td>40.595537</td>\n      <td>9.509050e+06</td>\n    </tr>\n    <tr>\n      <th>max</th>\n      <td>153.600006</td>\n      <td>151.660004</td>\n      <td>151.039993</td>\n      <td>1.318336e+08</td>\n    </tr>\n  </tbody>\n</table>\n</div>"
     },
     "execution_count": 172,
     "metadata": {},
     "output_type": "execute_result"
    }
   ],
   "source": [
    "df.describe()"
   ],
   "metadata": {
    "collapsed": false,
    "pycharm": {
     "name": "#%%\n"
    }
   }
  },
  {
   "cell_type": "markdown",
   "source": [
    "Признаки High и Low можно убрать"
   ],
   "metadata": {
    "collapsed": false,
    "pycharm": {
     "name": "#%% md\n"
    }
   }
  },
  {
   "cell_type": "code",
   "execution_count": 173,
   "outputs": [],
   "source": [
    "df.drop(columns=[\"High\", \"Low\"], inplace=True)"
   ],
   "metadata": {
    "collapsed": false,
    "pycharm": {
     "name": "#%%\n"
    }
   }
  },
  {
   "cell_type": "markdown",
   "source": [
    "Заполним Open медианой"
   ],
   "metadata": {
    "collapsed": false,
    "pycharm": {
     "name": "#%% md\n"
    }
   }
  },
  {
   "cell_type": "code",
   "execution_count": 174,
   "outputs": [
    {
     "data": {
      "text/plain": "(35.70603431957359, 16.765625)"
     },
     "execution_count": 174,
     "metadata": {},
     "output_type": "execute_result"
    }
   ],
   "source": [
    "df[\"Open\"].mean(), df[\"Open\"].median()"
   ],
   "metadata": {
    "collapsed": false,
    "pycharm": {
     "name": "#%%\n"
    }
   }
  },
  {
   "cell_type": "code",
   "execution_count": 175,
   "outputs": [],
   "source": [
    "df[\"Open\"].fillna(df[\"Open\"].median(), inplace=True)"
   ],
   "metadata": {
    "collapsed": false,
    "pycharm": {
     "name": "#%%\n"
    }
   }
  },
  {
   "cell_type": "markdown",
   "source": [
    "Заполняем объем"
   ],
   "metadata": {
    "collapsed": false,
    "pycharm": {
     "name": "#%% md\n"
    }
   }
  },
  {
   "cell_type": "code",
   "execution_count": 176,
   "outputs": [
    {
     "data": {
      "text/plain": "2224445.217391304"
     },
     "execution_count": 176,
     "metadata": {},
     "output_type": "execute_result"
    }
   ],
   "source": [
    "df[df[\"Date\"] < \"1980-01-01\"][\"Volume\"].mean()"
   ],
   "metadata": {
    "collapsed": false,
    "pycharm": {
     "name": "#%%\n"
    }
   }
  },
  {
   "cell_type": "code",
   "execution_count": 177,
   "outputs": [
    {
     "data": {
      "text/plain": "          Date      Open     Close  Adj Close     Volume\n130 1973-03-07  0.054688  0.053955   0.030219  5120000.0\n131 1973-03-08  0.055176  0.056641   0.031723  3276800.0\n132 1973-03-09  0.056641  0.055908   0.031313  2560000.0\n133 1973-03-12  0.056152  0.056152   0.031449   563200.0\n134 1973-03-13  0.055664  0.054443   0.030492  1484800.0\n135 1973-03-14  0.054443  0.055664   0.031176  1792000.0\n136 1973-03-15  0.055664  0.054688   0.030629   716800.0\n137 1973-03-16  0.054199  0.054199   0.030355  1126400.0\n138 1973-03-19  0.053711  0.052979   0.029672   512000.0\n139 1973-03-20  0.052734  0.051758   0.028988   153600.0\n140 1973-03-21  0.051758  0.050781   0.028441  2201600.0\n141 1973-03-22  0.049316  0.042236   0.023655  4300800.0\n142 1973-03-23  0.042236  0.042725   0.023929  5529600.0\n143 1973-03-26  0.042725  0.042969   0.024066  1382400.0\n144 1973-03-27  0.042969  0.044678   0.025023  4864000.0\n145 1973-03-28  0.044434  0.043945   0.024612   870400.0\n146 1973-03-29  0.044189  0.044189   0.024749    51200.0\n147 1973-03-30  0.044434  0.044434   0.024886  1382400.0\n148 1973-04-02  0.044434  0.044678   0.025023  1536000.0\n149 1973-04-03  0.044678  0.044678   0.025023   153600.0\n150 1973-04-04  0.044678  0.044678   0.025023   512000.0\n151 1973-04-05  0.043701  0.042480   0.023792  1433600.0\n152 1973-04-06  0.042480  0.042480   0.023792   153600.0\n153 1973-04-09  0.042480  0.042480   0.023792    51200.0\n154 1973-04-10  0.042480  0.042725   0.023929  1331200.0\n155 1973-04-11  0.042725  0.042480   0.023792   460800.0\n156 1973-04-12  0.042480  0.042480   0.023792   153600.0\n157 1973-04-13  0.042480  0.042480   0.023792   307200.0\n158 1973-04-16  0.041992  0.041748   0.023382   921600.0\n159 1973-04-17  0.041748  0.041748   0.023382        NaN\n160 1973-04-18  0.041504  0.041504   0.023245        NaN\n161 1973-04-19  0.041504  0.042725   0.023929        NaN\n162 1973-04-23  0.042969  0.043945   0.024612        NaN\n163 1973-04-24  0.044678  0.045166   0.025296        NaN\n164 1973-04-25  0.045166  0.045166   0.025296        NaN\n165 1973-04-26  0.045166  0.044922   0.025160        NaN\n166 1973-04-27  0.044922  0.043945   0.024612        NaN\n167 1973-04-30  0.043701  0.043701   0.024476        NaN\n168 1973-05-01  0.043457  0.043457   0.024339        NaN\n169 1973-05-02  0.043213  0.043213   0.024203        NaN\n170 1973-05-03  0.043213  0.043213   0.024203        NaN\n171 1973-05-04  0.043701  0.043945   0.024612        NaN\n172 1973-05-07  0.043457  0.043457   0.024339        NaN\n173 1973-05-08  0.043457  0.043457   0.024339        0.0\n174 1973-05-09  0.043701  0.043945   0.024612   460800.0\n175 1973-05-10  0.043945  0.043945   0.024612   409600.0\n176 1973-05-11  0.043457  0.043457   0.024339   102400.0\n177 1973-05-14  0.042725  0.041748   0.023382  3072000.0\n178 1973-05-15  0.041504  0.041504   0.023245   768000.0\n179 1973-05-16  0.041504  0.041504   0.023245        0.0\n180 1973-05-17  0.041992  0.041992   0.023519  1843200.0\n181 1973-05-18  0.042236  0.042236   0.023655   204800.0\n182 1973-05-21  0.041992  0.041748   0.023382  1228800.0\n183 1973-05-22  0.041748  0.041748   0.023382  1996800.0\n184 1973-05-23  0.041260  0.041016   0.022972   512000.0\n185 1973-05-24  0.041016  0.040527   0.022698  1792000.0\n186 1973-05-25  0.041016  0.041992   0.023519  3635200.0\n187 1973-05-29  0.042480  0.044189   0.024749   614400.0\n188 1973-05-30  0.043701  0.042969   0.024066   153600.0\n189 1973-05-31  0.042969  0.042969   0.024066   204800.0",
      "text/html": "<div>\n<style scoped>\n    .dataframe tbody tr th:only-of-type {\n        vertical-align: middle;\n    }\n\n    .dataframe tbody tr th {\n        vertical-align: top;\n    }\n\n    .dataframe thead th {\n        text-align: right;\n    }\n</style>\n<table border=\"1\" class=\"dataframe\">\n  <thead>\n    <tr style=\"text-align: right;\">\n      <th></th>\n      <th>Date</th>\n      <th>Open</th>\n      <th>Close</th>\n      <th>Adj Close</th>\n      <th>Volume</th>\n    </tr>\n  </thead>\n  <tbody>\n    <tr>\n      <th>130</th>\n      <td>1973-03-07</td>\n      <td>0.054688</td>\n      <td>0.053955</td>\n      <td>0.030219</td>\n      <td>5120000.0</td>\n    </tr>\n    <tr>\n      <th>131</th>\n      <td>1973-03-08</td>\n      <td>0.055176</td>\n      <td>0.056641</td>\n      <td>0.031723</td>\n      <td>3276800.0</td>\n    </tr>\n    <tr>\n      <th>132</th>\n      <td>1973-03-09</td>\n      <td>0.056641</td>\n      <td>0.055908</td>\n      <td>0.031313</td>\n      <td>2560000.0</td>\n    </tr>\n    <tr>\n      <th>133</th>\n      <td>1973-03-12</td>\n      <td>0.056152</td>\n      <td>0.056152</td>\n      <td>0.031449</td>\n      <td>563200.0</td>\n    </tr>\n    <tr>\n      <th>134</th>\n      <td>1973-03-13</td>\n      <td>0.055664</td>\n      <td>0.054443</td>\n      <td>0.030492</td>\n      <td>1484800.0</td>\n    </tr>\n    <tr>\n      <th>135</th>\n      <td>1973-03-14</td>\n      <td>0.054443</td>\n      <td>0.055664</td>\n      <td>0.031176</td>\n      <td>1792000.0</td>\n    </tr>\n    <tr>\n      <th>136</th>\n      <td>1973-03-15</td>\n      <td>0.055664</td>\n      <td>0.054688</td>\n      <td>0.030629</td>\n      <td>716800.0</td>\n    </tr>\n    <tr>\n      <th>137</th>\n      <td>1973-03-16</td>\n      <td>0.054199</td>\n      <td>0.054199</td>\n      <td>0.030355</td>\n      <td>1126400.0</td>\n    </tr>\n    <tr>\n      <th>138</th>\n      <td>1973-03-19</td>\n      <td>0.053711</td>\n      <td>0.052979</td>\n      <td>0.029672</td>\n      <td>512000.0</td>\n    </tr>\n    <tr>\n      <th>139</th>\n      <td>1973-03-20</td>\n      <td>0.052734</td>\n      <td>0.051758</td>\n      <td>0.028988</td>\n      <td>153600.0</td>\n    </tr>\n    <tr>\n      <th>140</th>\n      <td>1973-03-21</td>\n      <td>0.051758</td>\n      <td>0.050781</td>\n      <td>0.028441</td>\n      <td>2201600.0</td>\n    </tr>\n    <tr>\n      <th>141</th>\n      <td>1973-03-22</td>\n      <td>0.049316</td>\n      <td>0.042236</td>\n      <td>0.023655</td>\n      <td>4300800.0</td>\n    </tr>\n    <tr>\n      <th>142</th>\n      <td>1973-03-23</td>\n      <td>0.042236</td>\n      <td>0.042725</td>\n      <td>0.023929</td>\n      <td>5529600.0</td>\n    </tr>\n    <tr>\n      <th>143</th>\n      <td>1973-03-26</td>\n      <td>0.042725</td>\n      <td>0.042969</td>\n      <td>0.024066</td>\n      <td>1382400.0</td>\n    </tr>\n    <tr>\n      <th>144</th>\n      <td>1973-03-27</td>\n      <td>0.042969</td>\n      <td>0.044678</td>\n      <td>0.025023</td>\n      <td>4864000.0</td>\n    </tr>\n    <tr>\n      <th>145</th>\n      <td>1973-03-28</td>\n      <td>0.044434</td>\n      <td>0.043945</td>\n      <td>0.024612</td>\n      <td>870400.0</td>\n    </tr>\n    <tr>\n      <th>146</th>\n      <td>1973-03-29</td>\n      <td>0.044189</td>\n      <td>0.044189</td>\n      <td>0.024749</td>\n      <td>51200.0</td>\n    </tr>\n    <tr>\n      <th>147</th>\n      <td>1973-03-30</td>\n      <td>0.044434</td>\n      <td>0.044434</td>\n      <td>0.024886</td>\n      <td>1382400.0</td>\n    </tr>\n    <tr>\n      <th>148</th>\n      <td>1973-04-02</td>\n      <td>0.044434</td>\n      <td>0.044678</td>\n      <td>0.025023</td>\n      <td>1536000.0</td>\n    </tr>\n    <tr>\n      <th>149</th>\n      <td>1973-04-03</td>\n      <td>0.044678</td>\n      <td>0.044678</td>\n      <td>0.025023</td>\n      <td>153600.0</td>\n    </tr>\n    <tr>\n      <th>150</th>\n      <td>1973-04-04</td>\n      <td>0.044678</td>\n      <td>0.044678</td>\n      <td>0.025023</td>\n      <td>512000.0</td>\n    </tr>\n    <tr>\n      <th>151</th>\n      <td>1973-04-05</td>\n      <td>0.043701</td>\n      <td>0.042480</td>\n      <td>0.023792</td>\n      <td>1433600.0</td>\n    </tr>\n    <tr>\n      <th>152</th>\n      <td>1973-04-06</td>\n      <td>0.042480</td>\n      <td>0.042480</td>\n      <td>0.023792</td>\n      <td>153600.0</td>\n    </tr>\n    <tr>\n      <th>153</th>\n      <td>1973-04-09</td>\n      <td>0.042480</td>\n      <td>0.042480</td>\n      <td>0.023792</td>\n      <td>51200.0</td>\n    </tr>\n    <tr>\n      <th>154</th>\n      <td>1973-04-10</td>\n      <td>0.042480</td>\n      <td>0.042725</td>\n      <td>0.023929</td>\n      <td>1331200.0</td>\n    </tr>\n    <tr>\n      <th>155</th>\n      <td>1973-04-11</td>\n      <td>0.042725</td>\n      <td>0.042480</td>\n      <td>0.023792</td>\n      <td>460800.0</td>\n    </tr>\n    <tr>\n      <th>156</th>\n      <td>1973-04-12</td>\n      <td>0.042480</td>\n      <td>0.042480</td>\n      <td>0.023792</td>\n      <td>153600.0</td>\n    </tr>\n    <tr>\n      <th>157</th>\n      <td>1973-04-13</td>\n      <td>0.042480</td>\n      <td>0.042480</td>\n      <td>0.023792</td>\n      <td>307200.0</td>\n    </tr>\n    <tr>\n      <th>158</th>\n      <td>1973-04-16</td>\n      <td>0.041992</td>\n      <td>0.041748</td>\n      <td>0.023382</td>\n      <td>921600.0</td>\n    </tr>\n    <tr>\n      <th>159</th>\n      <td>1973-04-17</td>\n      <td>0.041748</td>\n      <td>0.041748</td>\n      <td>0.023382</td>\n      <td>NaN</td>\n    </tr>\n    <tr>\n      <th>160</th>\n      <td>1973-04-18</td>\n      <td>0.041504</td>\n      <td>0.041504</td>\n      <td>0.023245</td>\n      <td>NaN</td>\n    </tr>\n    <tr>\n      <th>161</th>\n      <td>1973-04-19</td>\n      <td>0.041504</td>\n      <td>0.042725</td>\n      <td>0.023929</td>\n      <td>NaN</td>\n    </tr>\n    <tr>\n      <th>162</th>\n      <td>1973-04-23</td>\n      <td>0.042969</td>\n      <td>0.043945</td>\n      <td>0.024612</td>\n      <td>NaN</td>\n    </tr>\n    <tr>\n      <th>163</th>\n      <td>1973-04-24</td>\n      <td>0.044678</td>\n      <td>0.045166</td>\n      <td>0.025296</td>\n      <td>NaN</td>\n    </tr>\n    <tr>\n      <th>164</th>\n      <td>1973-04-25</td>\n      <td>0.045166</td>\n      <td>0.045166</td>\n      <td>0.025296</td>\n      <td>NaN</td>\n    </tr>\n    <tr>\n      <th>165</th>\n      <td>1973-04-26</td>\n      <td>0.045166</td>\n      <td>0.044922</td>\n      <td>0.025160</td>\n      <td>NaN</td>\n    </tr>\n    <tr>\n      <th>166</th>\n      <td>1973-04-27</td>\n      <td>0.044922</td>\n      <td>0.043945</td>\n      <td>0.024612</td>\n      <td>NaN</td>\n    </tr>\n    <tr>\n      <th>167</th>\n      <td>1973-04-30</td>\n      <td>0.043701</td>\n      <td>0.043701</td>\n      <td>0.024476</td>\n      <td>NaN</td>\n    </tr>\n    <tr>\n      <th>168</th>\n      <td>1973-05-01</td>\n      <td>0.043457</td>\n      <td>0.043457</td>\n      <td>0.024339</td>\n      <td>NaN</td>\n    </tr>\n    <tr>\n      <th>169</th>\n      <td>1973-05-02</td>\n      <td>0.043213</td>\n      <td>0.043213</td>\n      <td>0.024203</td>\n      <td>NaN</td>\n    </tr>\n    <tr>\n      <th>170</th>\n      <td>1973-05-03</td>\n      <td>0.043213</td>\n      <td>0.043213</td>\n      <td>0.024203</td>\n      <td>NaN</td>\n    </tr>\n    <tr>\n      <th>171</th>\n      <td>1973-05-04</td>\n      <td>0.043701</td>\n      <td>0.043945</td>\n      <td>0.024612</td>\n      <td>NaN</td>\n    </tr>\n    <tr>\n      <th>172</th>\n      <td>1973-05-07</td>\n      <td>0.043457</td>\n      <td>0.043457</td>\n      <td>0.024339</td>\n      <td>NaN</td>\n    </tr>\n    <tr>\n      <th>173</th>\n      <td>1973-05-08</td>\n      <td>0.043457</td>\n      <td>0.043457</td>\n      <td>0.024339</td>\n      <td>0.0</td>\n    </tr>\n    <tr>\n      <th>174</th>\n      <td>1973-05-09</td>\n      <td>0.043701</td>\n      <td>0.043945</td>\n      <td>0.024612</td>\n      <td>460800.0</td>\n    </tr>\n    <tr>\n      <th>175</th>\n      <td>1973-05-10</td>\n      <td>0.043945</td>\n      <td>0.043945</td>\n      <td>0.024612</td>\n      <td>409600.0</td>\n    </tr>\n    <tr>\n      <th>176</th>\n      <td>1973-05-11</td>\n      <td>0.043457</td>\n      <td>0.043457</td>\n      <td>0.024339</td>\n      <td>102400.0</td>\n    </tr>\n    <tr>\n      <th>177</th>\n      <td>1973-05-14</td>\n      <td>0.042725</td>\n      <td>0.041748</td>\n      <td>0.023382</td>\n      <td>3072000.0</td>\n    </tr>\n    <tr>\n      <th>178</th>\n      <td>1973-05-15</td>\n      <td>0.041504</td>\n      <td>0.041504</td>\n      <td>0.023245</td>\n      <td>768000.0</td>\n    </tr>\n    <tr>\n      <th>179</th>\n      <td>1973-05-16</td>\n      <td>0.041504</td>\n      <td>0.041504</td>\n      <td>0.023245</td>\n      <td>0.0</td>\n    </tr>\n    <tr>\n      <th>180</th>\n      <td>1973-05-17</td>\n      <td>0.041992</td>\n      <td>0.041992</td>\n      <td>0.023519</td>\n      <td>1843200.0</td>\n    </tr>\n    <tr>\n      <th>181</th>\n      <td>1973-05-18</td>\n      <td>0.042236</td>\n      <td>0.042236</td>\n      <td>0.023655</td>\n      <td>204800.0</td>\n    </tr>\n    <tr>\n      <th>182</th>\n      <td>1973-05-21</td>\n      <td>0.041992</td>\n      <td>0.041748</td>\n      <td>0.023382</td>\n      <td>1228800.0</td>\n    </tr>\n    <tr>\n      <th>183</th>\n      <td>1973-05-22</td>\n      <td>0.041748</td>\n      <td>0.041748</td>\n      <td>0.023382</td>\n      <td>1996800.0</td>\n    </tr>\n    <tr>\n      <th>184</th>\n      <td>1973-05-23</td>\n      <td>0.041260</td>\n      <td>0.041016</td>\n      <td>0.022972</td>\n      <td>512000.0</td>\n    </tr>\n    <tr>\n      <th>185</th>\n      <td>1973-05-24</td>\n      <td>0.041016</td>\n      <td>0.040527</td>\n      <td>0.022698</td>\n      <td>1792000.0</td>\n    </tr>\n    <tr>\n      <th>186</th>\n      <td>1973-05-25</td>\n      <td>0.041016</td>\n      <td>0.041992</td>\n      <td>0.023519</td>\n      <td>3635200.0</td>\n    </tr>\n    <tr>\n      <th>187</th>\n      <td>1973-05-29</td>\n      <td>0.042480</td>\n      <td>0.044189</td>\n      <td>0.024749</td>\n      <td>614400.0</td>\n    </tr>\n    <tr>\n      <th>188</th>\n      <td>1973-05-30</td>\n      <td>0.043701</td>\n      <td>0.042969</td>\n      <td>0.024066</td>\n      <td>153600.0</td>\n    </tr>\n    <tr>\n      <th>189</th>\n      <td>1973-05-31</td>\n      <td>0.042969</td>\n      <td>0.042969</td>\n      <td>0.024066</td>\n      <td>204800.0</td>\n    </tr>\n  </tbody>\n</table>\n</div>"
     },
     "execution_count": 177,
     "metadata": {},
     "output_type": "execute_result"
    }
   ],
   "source": [
    "df[130:190]"
   ],
   "metadata": {
    "collapsed": false,
    "pycharm": {
     "name": "#%%\n"
    }
   }
  },
  {
   "cell_type": "code",
   "execution_count": 178,
   "outputs": [],
   "source": [
    "df.Volume.fillna(df[df[\"Date\"] < \"1980-01-01\"][\"Volume\"].mean(), inplace=True)"
   ],
   "metadata": {
    "collapsed": false,
    "pycharm": {
     "name": "#%%\n"
    }
   }
  },
  {
   "cell_type": "markdown",
   "source": [
    "Заполняем Close"
   ],
   "metadata": {
    "collapsed": false,
    "pycharm": {
     "name": "#%% md\n"
    }
   }
  },
  {
   "cell_type": "code",
   "execution_count": 179,
   "outputs": [],
   "source": [
    "df[\"Close\"] = pd.to_numeric(df[\"Close\"], errors='coerce')"
   ],
   "metadata": {
    "collapsed": false,
    "pycharm": {
     "name": "#%%\n"
    }
   }
  },
  {
   "cell_type": "code",
   "execution_count": 180,
   "outputs": [
    {
     "data": {
      "text/plain": "           Date       Open  Close  Adj Close      Volume\n6237 1997-05-02  14.125000    NaN   9.316047   5157200.0\n6238 1997-05-05  14.187500    NaN   9.316047  12384400.0\n6239 1997-05-06  14.125000    NaN   9.316047   8031200.0\n6240 1997-05-07  14.312500    NaN   9.275001   6491200.0\n6241 1997-05-08  14.187500    NaN   9.603318  10392800.0\n...         ...        ...    ...        ...         ...\n8657 2006-12-13  45.900002    NaN  32.434856  17372300.0\n8658 2006-12-14  46.119999    NaN  32.872967  18438400.0\n8659 2006-12-15  46.630001    NaN  32.823498  16087800.0\n8660 2006-12-18  46.500000    NaN  32.766987  12870200.0\n8661 2006-12-19  46.130001    NaN  32.569111  17349900.0\n\n[65 rows x 5 columns]",
      "text/html": "<div>\n<style scoped>\n    .dataframe tbody tr th:only-of-type {\n        vertical-align: middle;\n    }\n\n    .dataframe tbody tr th {\n        vertical-align: top;\n    }\n\n    .dataframe thead th {\n        text-align: right;\n    }\n</style>\n<table border=\"1\" class=\"dataframe\">\n  <thead>\n    <tr style=\"text-align: right;\">\n      <th></th>\n      <th>Date</th>\n      <th>Open</th>\n      <th>Close</th>\n      <th>Adj Close</th>\n      <th>Volume</th>\n    </tr>\n  </thead>\n  <tbody>\n    <tr>\n      <th>6237</th>\n      <td>1997-05-02</td>\n      <td>14.125000</td>\n      <td>NaN</td>\n      <td>9.316047</td>\n      <td>5157200.0</td>\n    </tr>\n    <tr>\n      <th>6238</th>\n      <td>1997-05-05</td>\n      <td>14.187500</td>\n      <td>NaN</td>\n      <td>9.316047</td>\n      <td>12384400.0</td>\n    </tr>\n    <tr>\n      <th>6239</th>\n      <td>1997-05-06</td>\n      <td>14.125000</td>\n      <td>NaN</td>\n      <td>9.316047</td>\n      <td>8031200.0</td>\n    </tr>\n    <tr>\n      <th>6240</th>\n      <td>1997-05-07</td>\n      <td>14.312500</td>\n      <td>NaN</td>\n      <td>9.275001</td>\n      <td>6491200.0</td>\n    </tr>\n    <tr>\n      <th>6241</th>\n      <td>1997-05-08</td>\n      <td>14.187500</td>\n      <td>NaN</td>\n      <td>9.603318</td>\n      <td>10392800.0</td>\n    </tr>\n    <tr>\n      <th>...</th>\n      <td>...</td>\n      <td>...</td>\n      <td>...</td>\n      <td>...</td>\n      <td>...</td>\n    </tr>\n    <tr>\n      <th>8657</th>\n      <td>2006-12-13</td>\n      <td>45.900002</td>\n      <td>NaN</td>\n      <td>32.434856</td>\n      <td>17372300.0</td>\n    </tr>\n    <tr>\n      <th>8658</th>\n      <td>2006-12-14</td>\n      <td>46.119999</td>\n      <td>NaN</td>\n      <td>32.872967</td>\n      <td>18438400.0</td>\n    </tr>\n    <tr>\n      <th>8659</th>\n      <td>2006-12-15</td>\n      <td>46.630001</td>\n      <td>NaN</td>\n      <td>32.823498</td>\n      <td>16087800.0</td>\n    </tr>\n    <tr>\n      <th>8660</th>\n      <td>2006-12-18</td>\n      <td>46.500000</td>\n      <td>NaN</td>\n      <td>32.766987</td>\n      <td>12870200.0</td>\n    </tr>\n    <tr>\n      <th>8661</th>\n      <td>2006-12-19</td>\n      <td>46.130001</td>\n      <td>NaN</td>\n      <td>32.569111</td>\n      <td>17349900.0</td>\n    </tr>\n  </tbody>\n</table>\n<p>65 rows × 5 columns</p>\n</div>"
     },
     "execution_count": 180,
     "metadata": {},
     "output_type": "execute_result"
    }
   ],
   "source": [
    "df[df[\"Close\"].isna()]"
   ],
   "metadata": {
    "collapsed": false,
    "pycharm": {
     "name": "#%%\n"
    }
   }
  },
  {
   "cell_type": "code",
   "execution_count": 181,
   "outputs": [
    {
     "data": {
      "text/plain": "(35.636588719967854, 16.3125)"
     },
     "execution_count": 181,
     "metadata": {},
     "output_type": "execute_result"
    }
   ],
   "source": [
    "df[\"Close\"].mean(), df[\"Close\"].median()"
   ],
   "metadata": {
    "collapsed": false,
    "pycharm": {
     "name": "#%%\n"
    }
   }
  },
  {
   "cell_type": "code",
   "execution_count": 184,
   "outputs": [
    {
     "data": {
      "text/plain": "           Date       Open  Close  Adj Close      Volume\n6237 1997-05-02  14.125000    NaN   9.316047   5157200.0\n6238 1997-05-05  14.187500    NaN   9.316047  12384400.0\n6239 1997-05-06  14.125000    NaN   9.316047   8031200.0\n6240 1997-05-07  14.312500    NaN   9.275001   6491200.0\n6241 1997-05-08  14.187500    NaN   9.603318  10392800.0\n...         ...        ...    ...        ...         ...\n8657 2006-12-13  45.900002    NaN  32.434856  17372300.0\n8658 2006-12-14  46.119999    NaN  32.872967  18438400.0\n8659 2006-12-15  46.630001    NaN  32.823498  16087800.0\n8660 2006-12-18  46.500000    NaN  32.766987  12870200.0\n8661 2006-12-19  46.130001    NaN  32.569111  17349900.0\n\n[65 rows x 5 columns]",
      "text/html": "<div>\n<style scoped>\n    .dataframe tbody tr th:only-of-type {\n        vertical-align: middle;\n    }\n\n    .dataframe tbody tr th {\n        vertical-align: top;\n    }\n\n    .dataframe thead th {\n        text-align: right;\n    }\n</style>\n<table border=\"1\" class=\"dataframe\">\n  <thead>\n    <tr style=\"text-align: right;\">\n      <th></th>\n      <th>Date</th>\n      <th>Open</th>\n      <th>Close</th>\n      <th>Adj Close</th>\n      <th>Volume</th>\n    </tr>\n  </thead>\n  <tbody>\n    <tr>\n      <th>6237</th>\n      <td>1997-05-02</td>\n      <td>14.125000</td>\n      <td>NaN</td>\n      <td>9.316047</td>\n      <td>5157200.0</td>\n    </tr>\n    <tr>\n      <th>6238</th>\n      <td>1997-05-05</td>\n      <td>14.187500</td>\n      <td>NaN</td>\n      <td>9.316047</td>\n      <td>12384400.0</td>\n    </tr>\n    <tr>\n      <th>6239</th>\n      <td>1997-05-06</td>\n      <td>14.125000</td>\n      <td>NaN</td>\n      <td>9.316047</td>\n      <td>8031200.0</td>\n    </tr>\n    <tr>\n      <th>6240</th>\n      <td>1997-05-07</td>\n      <td>14.312500</td>\n      <td>NaN</td>\n      <td>9.275001</td>\n      <td>6491200.0</td>\n    </tr>\n    <tr>\n      <th>6241</th>\n      <td>1997-05-08</td>\n      <td>14.187500</td>\n      <td>NaN</td>\n      <td>9.603318</td>\n      <td>10392800.0</td>\n    </tr>\n    <tr>\n      <th>...</th>\n      <td>...</td>\n      <td>...</td>\n      <td>...</td>\n      <td>...</td>\n      <td>...</td>\n    </tr>\n    <tr>\n      <th>8657</th>\n      <td>2006-12-13</td>\n      <td>45.900002</td>\n      <td>NaN</td>\n      <td>32.434856</td>\n      <td>17372300.0</td>\n    </tr>\n    <tr>\n      <th>8658</th>\n      <td>2006-12-14</td>\n      <td>46.119999</td>\n      <td>NaN</td>\n      <td>32.872967</td>\n      <td>18438400.0</td>\n    </tr>\n    <tr>\n      <th>8659</th>\n      <td>2006-12-15</td>\n      <td>46.630001</td>\n      <td>NaN</td>\n      <td>32.823498</td>\n      <td>16087800.0</td>\n    </tr>\n    <tr>\n      <th>8660</th>\n      <td>2006-12-18</td>\n      <td>46.500000</td>\n      <td>NaN</td>\n      <td>32.766987</td>\n      <td>12870200.0</td>\n    </tr>\n    <tr>\n      <th>8661</th>\n      <td>2006-12-19</td>\n      <td>46.130001</td>\n      <td>NaN</td>\n      <td>32.569111</td>\n      <td>17349900.0</td>\n    </tr>\n  </tbody>\n</table>\n<p>65 rows × 5 columns</p>\n</div>"
     },
     "execution_count": 184,
     "metadata": {},
     "output_type": "execute_result"
    }
   ],
   "source": [
    "df[df[\"Close\"].isna()]"
   ],
   "metadata": {
    "collapsed": false,
    "pycharm": {
     "name": "#%%\n"
    }
   }
  },
  {
   "cell_type": "code",
   "execution_count": 185,
   "outputs": [],
   "source": [
    "df[\"Close\"].fillna(method=\"ffill\", inplace=True)"
   ],
   "metadata": {
    "collapsed": false,
    "pycharm": {
     "name": "#%%\n"
    }
   }
  },
  {
   "cell_type": "markdown",
   "source": [
    "Что мы получили"
   ],
   "metadata": {
    "collapsed": false,
    "pycharm": {
     "name": "#%% md\n"
    }
   }
  },
  {
   "cell_type": "code",
   "execution_count": 186,
   "outputs": [
    {
     "data": {
      "text/plain": "               Open         Close     Adj Close        Volume\ncount  12510.000000  12510.000000  12510.000000  1.251000e+04\nmean      35.654558     35.653288     28.915924  7.541289e+06\nstd       37.416206     37.431846     34.677862  6.230921e+06\nmin        0.015625      0.015625      0.008804  0.000000e+00\n25%        1.390625      1.390625      0.851606  3.888400e+06\n50%       16.765625     16.500000     10.601800  6.317450e+06\n75%       56.480000     56.400002     40.595537  9.501675e+06\nmax      153.600006    152.789993    151.039993  1.318336e+08",
      "text/html": "<div>\n<style scoped>\n    .dataframe tbody tr th:only-of-type {\n        vertical-align: middle;\n    }\n\n    .dataframe tbody tr th {\n        vertical-align: top;\n    }\n\n    .dataframe thead th {\n        text-align: right;\n    }\n</style>\n<table border=\"1\" class=\"dataframe\">\n  <thead>\n    <tr style=\"text-align: right;\">\n      <th></th>\n      <th>Open</th>\n      <th>Close</th>\n      <th>Adj Close</th>\n      <th>Volume</th>\n    </tr>\n  </thead>\n  <tbody>\n    <tr>\n      <th>count</th>\n      <td>12510.000000</td>\n      <td>12510.000000</td>\n      <td>12510.000000</td>\n      <td>1.251000e+04</td>\n    </tr>\n    <tr>\n      <th>mean</th>\n      <td>35.654558</td>\n      <td>35.653288</td>\n      <td>28.915924</td>\n      <td>7.541289e+06</td>\n    </tr>\n    <tr>\n      <th>std</th>\n      <td>37.416206</td>\n      <td>37.431846</td>\n      <td>34.677862</td>\n      <td>6.230921e+06</td>\n    </tr>\n    <tr>\n      <th>min</th>\n      <td>0.015625</td>\n      <td>0.015625</td>\n      <td>0.008804</td>\n      <td>0.000000e+00</td>\n    </tr>\n    <tr>\n      <th>25%</th>\n      <td>1.390625</td>\n      <td>1.390625</td>\n      <td>0.851606</td>\n      <td>3.888400e+06</td>\n    </tr>\n    <tr>\n      <th>50%</th>\n      <td>16.765625</td>\n      <td>16.500000</td>\n      <td>10.601800</td>\n      <td>6.317450e+06</td>\n    </tr>\n    <tr>\n      <th>75%</th>\n      <td>56.480000</td>\n      <td>56.400002</td>\n      <td>40.595537</td>\n      <td>9.501675e+06</td>\n    </tr>\n    <tr>\n      <th>max</th>\n      <td>153.600006</td>\n      <td>152.789993</td>\n      <td>151.039993</td>\n      <td>1.318336e+08</td>\n    </tr>\n  </tbody>\n</table>\n</div>"
     },
     "execution_count": 186,
     "metadata": {},
     "output_type": "execute_result"
    }
   ],
   "source": [
    "df.describe()"
   ],
   "metadata": {
    "collapsed": false,
    "pycharm": {
     "name": "#%%\n"
    }
   }
  },
  {
   "cell_type": "code",
   "execution_count": 187,
   "outputs": [
    {
     "data": {
      "text/plain": "Date         0\nOpen         0\nClose        0\nAdj Close    0\nVolume       0\ndtype: int64"
     },
     "execution_count": 187,
     "metadata": {},
     "output_type": "execute_result"
    }
   ],
   "source": [
    "df.isnull().sum()"
   ],
   "metadata": {
    "collapsed": false,
    "pycharm": {
     "name": "#%%\n"
    }
   }
  }
 ],
 "metadata": {
  "kernelspec": {
   "display_name": "Python 3",
   "language": "python",
   "name": "python3"
  },
  "language_info": {
   "codemirror_mode": {
    "name": "ipython",
    "version": 2
   },
   "file_extension": ".py",
   "mimetype": "text/x-python",
   "name": "python",
   "nbconvert_exporter": "python",
   "pygments_lexer": "ipython2",
   "version": "2.7.6"
  }
 },
 "nbformat": 4,
 "nbformat_minor": 0
}