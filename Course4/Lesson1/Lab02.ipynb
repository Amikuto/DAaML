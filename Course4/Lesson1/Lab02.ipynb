{
  "cells": [
    {
      "cell_type": "markdown",
      "metadata": {
        "id": "tXgsjonuL_Ih"
      },
      "source": [
        "# 2. Создание нейронной сети без использования готовых решений\n",
        "\n",
        "__Автор__: Никита Владимирович Блохин (NVBlokhin@fa.ru)\n",
        "\n",
        "Финансовый университет, 2020 г. "
      ]
    },
    {
      "cell_type": "code",
      "execution_count": 1,
      "metadata": {
        "id": "PqC4R7SGseKa"
      },
      "outputs": [],
      "source": [
        "import torch"
      ]
    },
    {
      "cell_type": "markdown",
      "metadata": {
        "id": "0J2RM8f5wP33"
      },
      "source": [
        "## 1. Создание нейронов и полносвязных слоев"
      ]
    },
    {
      "cell_type": "markdown",
      "metadata": {
        "id": "_2ArJn_nsdZC"
      },
      "source": [
        "1.1. Используя операции над матрицами и векторами из библиотеки `torch`, реализовать нейрон с заданными весами `weights` и `bias`. Прогнать вектор `inputs` через нейрон и вывести результат."
      ]
    },
    {
      "cell_type": "code",
      "execution_count": 2,
      "outputs": [],
      "source": [
        "class Neuron:\n",
        "\n",
        "  def __init__(self, weights, bias):\n",
        "    self.bias = bias\n",
        "    self.weights = weights\n",
        "\n",
        "  def forward(self, inputs):\n",
        "    z = self.bias + torch.sum(self.weights * inputs)\n",
        "    return z\n"
      ],
      "metadata": {
        "id": "wNL3zGB-L_Ik"
      }
    },
    {
      "cell_type": "code",
      "execution_count": 3,
      "outputs": [],
      "source": [
        "inputs = torch.tensor([1.0, 2.0, 3.0, 4.0])\n",
        "weights = torch.tensor([-0.2, 0.3, -0.5, 0.7])\n",
        "bias = 3.14"
      ],
      "metadata": {
        "id": "uu55N7pNL_Ik"
      }
    },
    {
      "cell_type": "code",
      "execution_count": 4,
      "outputs": [
        {
          "output_type": "execute_result",
          "data": {
            "text/plain": [
              "tensor(4.8400)"
            ]
          },
          "metadata": {},
          "execution_count": 4
        }
      ],
      "source": [
        "neuron = Neuron(weights, bias)\n",
        "out = neuron.forward(inputs)\n",
        "out"
      ],
      "metadata": {
        "id": "0eOLc6ZXL_Il",
        "outputId": "d1ba34a5-1ebf-4fa3-ef3b-c4e81c8b534b",
        "colab": {
          "base_uri": "https://localhost:8080/"
        }
      }
    },
    {
      "cell_type": "markdown",
      "source": [
        "1.2 Используя операции над матрицами и векторами из библиотеки `torch`, реализовать полносвязный слой с заданными весами `weights` и `biases`. Прогнать вектор `inputs` через слой и вывести результат."
      ],
      "metadata": {
        "collapsed": false,
        "id": "zMo7E4qiL_Im"
      }
    },
    {
      "cell_type": "code",
      "execution_count": 5,
      "outputs": [],
      "source": [
        "class Linear:\n",
        "  biases = torch.tensor([])\n",
        "  weights = torch.tensor([])\n",
        "\n",
        "  def __init__(self, weights, bias):\n",
        "    self.biases = bias\n",
        "    self.weights = weights\n",
        "\n",
        "  def forward(self, inputs: torch.Tensor) -> torch.Tensor:\n",
        "    return (inputs @ self.weights) + biases"
      ],
      "metadata": {
        "id": "w2HjGLj7L_Im"
      }
    },
    {
      "cell_type": "code",
      "execution_count": 6,
      "outputs": [],
      "source": [
        "inputs = torch.tensor([1.0, 2.0, 3.0, 4.0])\n",
        "weights = torch.tensor([[-0.2, 0.3, -0.5, 0.7],\n",
        "                        [0.5, -0.91, 0.26, -0.5],\n",
        "                        [-0.26, -0.27, 0.17, 0.87]]).T\n",
        "\n",
        "biases = torch.tensor([3.14, 2.71, 7.2])"
      ],
      "metadata": {
        "id": "6oTlOI4fL_Im"
      }
    },
    {
      "cell_type": "code",
      "execution_count": 7,
      "outputs": [
        {
          "output_type": "execute_result",
          "data": {
            "text/plain": [
              "tensor([ 4.8400,  0.1700, 10.3900])"
            ]
          },
          "metadata": {},
          "execution_count": 7
        }
      ],
      "source": [
        "linear = Linear(weights, biases)\n",
        "out = linear.forward(inputs)\n",
        "out"
      ],
      "metadata": {
        "id": "FwUcgK_fL_In",
        "outputId": "3be1b862-7363-4cba-b9cf-1993f4898e23",
        "colab": {
          "base_uri": "https://localhost:8080/"
        }
      }
    },
    {
      "cell_type": "markdown",
      "source": [
        "1.3 Реализовать полносвязный слой из __2.1.2__ таким образом, чтобы он мог принимать на вход матрицу (батч) с данными. Продемонстрировать работу.\n",
        "Результатом прогона сквозь слой должна быть матрица размера `batch_size` x `n_neurons`.\n"
      ],
      "metadata": {
        "collapsed": false,
        "id": "oAH6B2LPL_In"
      }
    },
    {
      "cell_type": "code",
      "execution_count": 8,
      "outputs": [],
      "source": [
        "inputs = torch.tensor([[1, 2, 3, 2.5],\n",
        "                       [2, 5, -1, 2],\n",
        "                       [-1.5, 2.7, 3.3, -0.8]])"
      ],
      "metadata": {
        "id": "OEZsVcRyL_In"
      }
    },
    {
      "cell_type": "code",
      "execution_count": 9,
      "outputs": [],
      "source": [
        "out2 = linear.forward(inputs)"
      ],
      "metadata": {
        "id": "cQH4cc2dL_In"
      }
    },
    {
      "cell_type": "code",
      "execution_count": 10,
      "outputs": [
        {
          "output_type": "execute_result",
          "data": {
            "text/plain": [
              "tensor([[ 3.7900,  0.9200,  9.0850],\n",
              "        [ 6.1400, -2.1000,  6.9000],\n",
              "        [ 2.0400,  0.7610,  6.7260]])"
            ]
          },
          "metadata": {},
          "execution_count": 10
        }
      ],
      "source": [
        "out2"
      ],
      "metadata": {
        "id": "-yyt2wRCL_Io",
        "outputId": "7e6f024b-a857-421f-e331-f1058e9436b0",
        "colab": {
          "base_uri": "https://localhost:8080/"
        }
      }
    },
    {
      "cell_type": "markdown",
      "source": [
        "1.4 Используя операции над матрицами и векторами из библиотеки `torch`, реализовать полносвязный слой из `n_neurons` нейронов с `n_features` весами у каждого нейрона (инициализируются из стандартного нормального распределения). Прогнать вектор `inputs` через слой и вывести результат. Результатом прогона сквозь слой должна быть матрица размера `batch_size` x `n_neurons`."
      ],
      "metadata": {
        "collapsed": false,
        "id": "eJ8G32bsL_Io"
      }
    },
    {
      "cell_type": "code",
      "execution_count": 11,
      "outputs": [],
      "source": [
        "class Linear:\n",
        "  def __init__(self, n_features, n_neurons):\n",
        "    self.weights = torch.randn(n_features, n_neurons)\n",
        "    self.biases = torch.randn(n_neurons)\n",
        "\n",
        "  def forward(self, inputs: torch.Tensor) -> torch.Tensor:\n",
        "    return (inputs @ self.weights) + self.biases"
      ],
      "metadata": {
        "id": "tVMA2qCFL_Io"
      }
    },
    {
      "cell_type": "code",
      "execution_count": 12,
      "outputs": [],
      "source": [
        "inputs = torch.tensor([[1, 2, 3, 2.5],\n",
        "                       [2, 5, -1, 2],\n",
        "                       [-1.5, 2.7, 3.3, -0.8]])"
      ],
      "metadata": {
        "id": "lE81x_ecL_Io"
      }
    },
    {
      "cell_type": "code",
      "execution_count": 13,
      "outputs": [
        {
          "output_type": "execute_result",
          "data": {
            "text/plain": [
              "tensor([[-5.0479,  5.7004,  1.1955],\n",
              "        [-3.1785, -1.3427,  2.3543],\n",
              "        [-6.8568, -2.0139,  3.7709]])"
            ]
          },
          "metadata": {},
          "execution_count": 13
        }
      ],
      "source": [
        "ln = Linear(4, 3)\n",
        "ln.forward(inputs)"
      ],
      "metadata": {
        "id": "NC9kImZzL_Ip",
        "outputId": "c1097a9d-a0e0-4e6e-9397-66f0c704f60d",
        "colab": {
          "base_uri": "https://localhost:8080/"
        }
      }
    },
    {
      "cell_type": "markdown",
      "source": [
        "1.5 Используя решение из __1.4__, создать 2 полносвязных слоя и пропустить матрицу `inputs` последовательно через эти два слоя. Количество нейронов в первом слое выбрать произвольно, количество нейронов во втором слое выбрать так, чтобы результатом прогона являлась матрица (3x7)."
      ],
      "metadata": {
        "collapsed": false,
        "id": "ku0UO0snL_Ip"
      }
    },
    {
      "cell_type": "code",
      "execution_count": 14,
      "outputs": [],
      "source": [
        "inputs = torch.tensor([[1, 2, 3, 2.5],\n",
        "                       [2, 5, -1, 2],\n",
        "                       [-1.5, 2.7, 3.3, -0.8]])"
      ],
      "metadata": {
        "id": "ga1AM63GL_Ip"
      }
    },
    {
      "cell_type": "code",
      "execution_count": 15,
      "outputs": [
        {
          "output_type": "execute_result",
          "data": {
            "text/plain": [
              "tensor([[  2.5563,  -0.2038,  -5.5126,   4.2538,   1.4600, -10.3131],\n",
              "        [  6.4934,  -4.4403,  -8.0817,   7.8722,  -5.3700, -14.7534],\n",
              "        [  1.7186,  -0.4673,  -5.3710,   4.8905,   0.4566,  -3.2165]])"
            ]
          },
          "metadata": {},
          "execution_count": 15
        }
      ],
      "source": [
        "lay1 = Linear(n_features=4, n_neurons=6)\n",
        "l1_out = lay1.forward(inputs)\n",
        "l1_out"
      ],
      "metadata": {
        "id": "18-IKOFzL_Iq",
        "outputId": "ff56706f-6fb4-41a8-e40d-531258d2af59",
        "colab": {
          "base_uri": "https://localhost:8080/"
        }
      }
    },
    {
      "cell_type": "code",
      "execution_count": 16,
      "outputs": [
        {
          "output_type": "execute_result",
          "data": {
            "text/plain": [
              "tensor([[ -0.3343, -11.8378,   7.0247, -29.8435,  -5.2516, -17.0130,  -8.5379],\n",
              "        [  1.7771, -21.1614,  16.2558, -61.4115,   2.5700, -35.4476, -13.1361],\n",
              "        [ -8.2378,  -0.2352,   1.8655, -22.2376,   4.2908, -22.2045,  -9.9877]])"
            ]
          },
          "metadata": {},
          "execution_count": 16
        }
      ],
      "source": [
        "lay2 = Linear(n_features=6, n_neurons=7)\n",
        "l2_out = lay2.forward(l1_out)\n",
        "l2_out"
      ],
      "metadata": {
        "id": "5sZYeRXTL_Iq",
        "outputId": "b1441b08-8f87-4019-dbf5-d8a79a44d6ba",
        "colab": {
          "base_uri": "https://localhost:8080/"
        }
      }
    },
    {
      "cell_type": "markdown",
      "metadata": {
        "id": "cRVH_2K7xTBC"
      },
      "source": [
        "## 2. Создание функций активации"
      ]
    },
    {
      "cell_type": "markdown",
      "metadata": {
        "id": "B9kngE6Fxs9D"
      },
      "source": [
        "2.1 Используя операции над матрицами и векторами из библиотеки `torch`, реализовать функцию активации ReLU:\n",
        "\n",
        "![](https://wikimedia.org/api/rest_v1/media/math/render/svg/f4353f4e3e484130504049599d2e7b040793e1eb)\n",
        "\n",
        "Создать матрицу размера (4,3), заполненную числами из стандартного нормального распределения, и проверить работоспособность функции активации."
      ]
    },
    {
      "cell_type": "code",
      "execution_count": 17,
      "metadata": {
        "id": "jZLvMRByxSTC"
      },
      "outputs": [],
      "source": [
        "class ReLU:\n",
        "  def forward(self, inputs: torch.Tensor) -> torch.Tensor:\n",
        "    return torch.where(inputs>0, inputs, 0)"
      ]
    },
    {
      "cell_type": "code",
      "execution_count": 18,
      "outputs": [
        {
          "output_type": "execute_result",
          "data": {
            "text/plain": [
              "tensor([[-1.7739, -2.2611,  1.9321],\n",
              "        [-0.2254,  0.0899, -0.1229],\n",
              "        [-0.2068,  0.4013, -0.6686],\n",
              "        [-0.0607,  0.3621,  0.3393]])"
            ]
          },
          "metadata": {},
          "execution_count": 18
        }
      ],
      "source": [
        "input = torch.randn((4, 3))\n",
        "input"
      ],
      "metadata": {
        "id": "P6PlZbsKL_Ir",
        "outputId": "82eb47f8-cf3f-4ec2-9232-b440daf95be9",
        "colab": {
          "base_uri": "https://localhost:8080/"
        }
      }
    },
    {
      "cell_type": "code",
      "execution_count": 19,
      "outputs": [
        {
          "output_type": "execute_result",
          "data": {
            "text/plain": [
              "tensor([[0.0000, 0.0000, 1.9321],\n",
              "        [0.0000, 0.0899, 0.0000],\n",
              "        [0.0000, 0.4013, 0.0000],\n",
              "        [0.0000, 0.3621, 0.3393]])"
            ]
          },
          "metadata": {},
          "execution_count": 19
        }
      ],
      "source": [
        "r = ReLU()\n",
        "r.forward(input)"
      ],
      "metadata": {
        "id": "-VKPxugSL_Ir",
        "outputId": "204e0e7a-834f-4360-af73-edce8d01f95d",
        "colab": {
          "base_uri": "https://localhost:8080/"
        }
      }
    },
    {
      "cell_type": "markdown",
      "metadata": {
        "id": "puExCWiKyTtb"
      },
      "source": [
        "2.2 Используя операции над матрицами и векторами из библиотеки `torch`, реализовать функцию активации softmax:\n",
        "\n",
        "![](https://wikimedia.org/api/rest_v1/media/math/render/svg/6d7500d980c313da83e4117da701bf7c8f1982f5)\n",
        "\n",
        "Создать матрицу размера (4,3), заполненную числами из стандартного нормального распределения, и проверить работоспособность функции активации. Строки матрицы трактовать как выходы линейного слоя некоторого классификатора для 4 различных примеров."
      ]
    },
    {
      "cell_type": "code",
      "execution_count": 47,
      "metadata": {
        "id": "fXNcFlqqyKHl"
      },
      "outputs": [],
      "source": [
        "class Softmax:\n",
        "  def forward(self, inputs: torch.Tensor) -> torch.Tensor:\n",
        "    return torch.exp(inputs) / torch.sum(torch.exp(inputs), dim = 1).view(-1, 1)"
      ]
    },
    {
      "cell_type": "code",
      "execution_count": 48,
      "outputs": [
        {
          "output_type": "execute_result",
          "data": {
            "text/plain": [
              "tensor([[-0.5304,  0.2711, -2.2645],\n",
              "        [-1.2981, -1.6760, -1.0793],\n",
              "        [ 0.8809, -1.0324, -0.4870],\n",
              "        [-0.7747, -0.9540, -1.3941]])"
            ]
          },
          "metadata": {},
          "execution_count": 48
        }
      ],
      "source": [
        "input = torch.randn((4, 3))\n",
        "input"
      ],
      "metadata": {
        "id": "4aijuM9OL_Is",
        "outputId": "ed4ff1e6-1a81-43a6-a73f-4c68fc7f298b",
        "colab": {
          "base_uri": "https://localhost:8080/"
        }
      }
    },
    {
      "cell_type": "code",
      "execution_count": 49,
      "outputs": [
        {
          "output_type": "execute_result",
          "data": {
            "text/plain": [
              "tensor([[0.2936, 0.6545, 0.0518],\n",
              "        [0.3413, 0.2339, 0.4248],\n",
              "        [0.7131, 0.1053, 0.1816],\n",
              "        [0.4212, 0.3521, 0.2267]])"
            ]
          },
          "metadata": {},
          "execution_count": 49
        }
      ],
      "source": [
        "sm = Softmax()\n",
        "sm.forward(input)"
      ],
      "metadata": {
        "id": "fms1S_xdL_It",
        "outputId": "62c5eb46-83b5-430a-86b4-121d9e5e4132",
        "colab": {
          "base_uri": "https://localhost:8080/"
        }
      }
    },
    {
      "cell_type": "code",
      "execution_count": 50,
      "outputs": [
        {
          "output_type": "execute_result",
          "data": {
            "text/plain": [
              "tensor([[0.2689, 0.7311],\n",
              "        [0.2689, 0.7311]])"
            ]
          },
          "metadata": {},
          "execution_count": 50
        }
      ],
      "source": [
        "input_test2 = torch.tensor([[1, 2], [3, 4]])\n",
        "sm.forward(input_test2)"
      ],
      "metadata": {
        "id": "ZBmMpInSL_It",
        "outputId": "f6139506-6771-4918-e74f-d24121c97123",
        "colab": {
          "base_uri": "https://localhost:8080/"
        }
      }
    },
    {
      "cell_type": "markdown",
      "metadata": {
        "id": "vxVK2TYez_Ye"
      },
      "source": [
        "2.3 Используя операции над матрицами и векторами из библиотеки `torch`, реализовать функцию активации ELU:\n",
        "\n",
        "![](https://wikimedia.org/api/rest_v1/media/math/render/svg/eb23becd37c3602c4838e53f532163279192e4fd)\n",
        "\n",
        "Создать матрицу размера (4,3), заполненную числами из стандартного нормального распределения, и проверить работоспособность функции активации."
      ]
    },
    {
      "cell_type": "code",
      "execution_count": 51,
      "metadata": {
        "id": "NzMz7HDLySxK"
      },
      "outputs": [],
      "source": [
        "class ELU:\n",
        "  def __init__(self, alpha):\n",
        "    self.alpha = alpha\n",
        "\n",
        "  def forward(self, inputs):\n",
        "    return torch.where(inputs<=0, self.alpha * (torch.exp(inputs) - 1), inputs)"
      ]
    },
    {
      "cell_type": "code",
      "execution_count": 52,
      "outputs": [
        {
          "output_type": "execute_result",
          "data": {
            "text/plain": [
              "tensor([[-0.2376, -2.1421, -0.9440],\n",
              "        [-0.0636, -0.2743,  1.1682],\n",
              "        [-0.5658,  0.3416,  2.2739],\n",
              "        [-0.6640,  0.0474,  0.3064]])"
            ]
          },
          "metadata": {},
          "execution_count": 52
        }
      ],
      "source": [
        "input = torch.randn((4, 3))\n",
        "input"
      ],
      "metadata": {
        "id": "0wGFvx_kL_Iu",
        "outputId": "81e6444e-30d1-449a-8609-f1f60add433c",
        "colab": {
          "base_uri": "https://localhost:8080/"
        }
      }
    },
    {
      "cell_type": "code",
      "execution_count": 53,
      "outputs": [
        {
          "output_type": "execute_result",
          "data": {
            "text/plain": [
              "tensor([[-0.2115, -0.8826, -0.6109],\n",
              "        [-0.0616, -0.2399,  1.1682],\n",
              "        [-0.4321,  0.3416,  2.2739],\n",
              "        [-0.4852,  0.0474,  0.3064]])"
            ]
          },
          "metadata": {},
          "execution_count": 53
        }
      ],
      "source": [
        "elu = ELU(1)\n",
        "elu.forward(input)"
      ],
      "metadata": {
        "id": "AyVLVv5KL_Iv",
        "outputId": "a405753b-0abb-4e4b-c389-9a43482ea960",
        "colab": {
          "base_uri": "https://localhost:8080/"
        }
      }
    },
    {
      "cell_type": "markdown",
      "metadata": {
        "id": "0peh8r-20Pof"
      },
      "source": [
        "## 3. Создание функции потерь"
      ]
    },
    {
      "cell_type": "markdown",
      "metadata": {
        "id": "EY-k3eEs0f7f"
      },
      "source": [
        "3.1 Используя операции над матрицами и векторами из библиотеки `torch`, реализовать функцию потерь MSE:\n",
        "\n",
        "![](https://wikimedia.org/api/rest_v1/media/math/render/svg/e258221518869aa1c6561bb75b99476c4734108e)\n",
        "<img src=\"https://wikimedia.org/api/rest_v1/media/math/render/svg/e258221518869aa1c6561bb75b99476c4734108e\">\n",
        "\n",
        "Создать полносвязный слой с 1 нейроном, прогнать через него батч `inputs` и посчитать значение MSE, трактуя вектор `y` как вектор правильных ответов."
      ]
    },
    {
      "cell_type": "code",
      "execution_count": 24,
      "metadata": {
        "id": "f9-wdj5Tz-br"
      },
      "outputs": [],
      "source": [
        "class MSELoss:\n",
        "  def forward(self, y_pred, y_true):\n",
        "    diff = torch.subtract(y_true, y_pred.view(1, 3))\n",
        "    sq_diff = torch.pow(diff, 2)\n",
        "    # n = len(y_pred)\n",
        "    return torch.mean(sq_diff)"
      ]
    },
    {
      "cell_type": "code",
      "execution_count": 25,
      "metadata": {
        "id": "NAyuDU9F1Vuz"
      },
      "outputs": [],
      "source": [
        "inputs = torch.tensor([[1, 2, 3, 2.5], \n",
        "                       [2, 5, -1, 2], \n",
        "                       [-1.5, 2.7, 3.3, -0.8]])\n",
        "\n",
        "y = torch.tensor([2, 3, 4])"
      ]
    },
    {
      "cell_type": "code",
      "execution_count": 26,
      "outputs": [
        {
          "output_type": "execute_result",
          "data": {
            "text/plain": [
              "tensor([[-0.6952],\n",
              "        [ 1.7180],\n",
              "        [-0.2741]])"
            ]
          },
          "metadata": {},
          "execution_count": 26
        }
      ],
      "source": [
        "ln = Linear(4, 1)\n",
        "n_out = ln.forward(inputs)\n",
        "n_out"
      ],
      "metadata": {
        "colab": {
          "base_uri": "https://localhost:8080/"
        },
        "id": "gtCL2U3sL_Iw",
        "outputId": "36ade2ed-1715-4c41-c37c-9a2602f5be2e"
      }
    },
    {
      "cell_type": "code",
      "execution_count": 27,
      "outputs": [
        {
          "output_type": "execute_result",
          "data": {
            "text/plain": [
              "tensor([[2.6952, 3.6952, 4.6952],\n",
              "        [0.2820, 1.2820, 2.2820],\n",
              "        [2.2741, 3.2741, 4.2741]])"
            ]
          },
          "metadata": {},
          "execution_count": 27
        }
      ],
      "source": [
        "torch.subtract(y, n_out)"
      ],
      "metadata": {
        "colab": {
          "base_uri": "https://localhost:8080/"
        },
        "id": "1laCF_SJL_Iw",
        "outputId": "72b678aa-4d04-4919-bf55-32949d529b63"
      }
    },
    {
      "cell_type": "code",
      "source": [
        "torch.subtract(y, n_out.view(1, 3)) "
      ],
      "metadata": {
        "colab": {
          "base_uri": "https://localhost:8080/"
        },
        "id": "HM39io4uNPp3",
        "outputId": "0dae8d2a-e1e4-4678-c032-7c8a81349805"
      },
      "execution_count": 28,
      "outputs": [
        {
          "output_type": "execute_result",
          "data": {
            "text/plain": [
              "tensor([[2.6952, 1.2820, 4.2741]])"
            ]
          },
          "metadata": {},
          "execution_count": 28
        }
      ]
    },
    {
      "cell_type": "code",
      "execution_count": 29,
      "outputs": [
        {
          "output_type": "execute_result",
          "data": {
            "text/plain": [
              "tensor([[ 7.2641,  1.6435, 18.2681]])"
            ]
          },
          "metadata": {},
          "execution_count": 29
        }
      ],
      "source": [
        "torch.pow(torch.subtract(y, n_out.view(1, 3)), 2)"
      ],
      "metadata": {
        "colab": {
          "base_uri": "https://localhost:8080/"
        },
        "id": "AgR7uSt3L_Iw",
        "outputId": "e512a9e0-1677-4ead-a7f2-14657ef783f8"
      }
    },
    {
      "cell_type": "code",
      "execution_count": 30,
      "outputs": [
        {
          "output_type": "execute_result",
          "data": {
            "text/plain": [
              "tensor(9.0586)"
            ]
          },
          "metadata": {},
          "execution_count": 30
        }
      ],
      "source": [
        "torch.pow(torch.subtract(y, n_out.view(1, 3)), 2).mean()"
      ],
      "metadata": {
        "colab": {
          "base_uri": "https://localhost:8080/"
        },
        "id": "DeGBf7OAL_Iw",
        "outputId": "e8240818-df02-4d34-f126-8cd2e7f97c28"
      }
    },
    {
      "cell_type": "code",
      "execution_count": 31,
      "outputs": [
        {
          "output_type": "execute_result",
          "data": {
            "text/plain": [
              "tensor(9.0586)"
            ]
          },
          "metadata": {},
          "execution_count": 31
        }
      ],
      "source": [
        "mse = MSELoss()\n",
        "mse.forward(n_out, y)"
      ],
      "metadata": {
        "colab": {
          "base_uri": "https://localhost:8080/"
        },
        "id": "iQ2pZQ4wL_Iw",
        "outputId": "7dfff91d-548f-48c4-e356-ab6ad6584fcc"
      }
    },
    {
      "cell_type": "markdown",
      "metadata": {
        "id": "uaR7rILd1eWR"
      },
      "source": [
        "3.2 Используя операции над матрицами и векторами из библиотеки `torch`, реализовать функцию потерь Categorical Cross-Entropy:\n",
        "\n",
        "<img src=\"https://i.ibb.co/93gy1dN/Screenshot-9.png\" width=\"200\">\n",
        "\n",
        "Создать полносвязный слой с 3 нейронами и прогнать через него батч `inputs`. Полученный результат пропустить через функцию активации softmax. Посчитать значение CCE, трактуя вектор `y` как вектор правильных ответов."
      ]
    },
    {
      "cell_type": "code",
      "execution_count": 32,
      "metadata": {
        "id": "hQl8pJsT3HcF"
      },
      "outputs": [],
      "source": [
        "class CategoricalCrossentropyLoss:\n",
        "  def forward(self, y_pred: torch.Tensor, y_true: torch.Tensor) -> torch.Tensor:\n",
        "    return -torch.sum(y_true * torch.log(y_pred))"
      ]
    },
    {
      "cell_type": "code",
      "execution_count": 33,
      "metadata": {
        "id": "s7Qoupfo1ZGJ"
      },
      "outputs": [],
      "source": [
        "inputs = torch.tensor([[1, 2, 3, 2.5], \n",
        "                        [2, 5, -1, 2], \n",
        "                        [-1.5, 2.7, 3.3, -0.8]])\n",
        "y = torch.tensor([1, 0, 0])"
      ]
    },
    {
      "cell_type": "code",
      "source": [
        "ln = Linear(n_features=4, n_neurons=3)\n",
        "n_out = ln.forward(inputs=inputs)\n",
        "n_out"
      ],
      "metadata": {
        "colab": {
          "base_uri": "https://localhost:8080/"
        },
        "id": "yc-2hlepQ46R",
        "outputId": "af803d20-ccfd-4744-a272-af29fcade543"
      },
      "execution_count": 34,
      "outputs": [
        {
          "output_type": "execute_result",
          "data": {
            "text/plain": [
              "tensor([[ 0.1380, -0.6812, -2.7722],\n",
              "        [ 7.4152,  3.9594, -9.6164],\n",
              "        [-6.5828, -1.8742,  1.2177]])"
            ]
          },
          "metadata": {},
          "execution_count": 34
        }
      ]
    },
    {
      "cell_type": "code",
      "source": [
        "sm = Softmax()\n",
        "act_out = sm.forward(n_out)\n",
        "act_out"
      ],
      "metadata": {
        "colab": {
          "base_uri": "https://localhost:8080/"
        },
        "id": "p7AqTRRqQ5JE",
        "outputId": "0a951738-6992-486a-c3fa-5857098b613d"
      },
      "execution_count": 35,
      "outputs": [
        {
          "output_type": "execute_result",
          "data": {
            "text/plain": [
              "tensor([[6.6880e-01, 2.9477e-01, 3.6424e-02],\n",
              "        [9.6940e-01, 3.0595e-02, 3.8884e-08],\n",
              "        [3.9157e-04, 4.3427e-02, 9.5618e-01]])"
            ]
          },
          "metadata": {},
          "execution_count": 35
        }
      ]
    },
    {
      "cell_type": "code",
      "source": [
        "ccl = CategoricalCrossentropyLoss()\n",
        "ccl.forward(y_true=y, y_pred=act_out)"
      ],
      "metadata": {
        "colab": {
          "base_uri": "https://localhost:8080/"
        },
        "id": "jbXv6kFIR8qO",
        "outputId": "59722ca8-62cf-472e-c6c8-d8977138d413"
      },
      "execution_count": 36,
      "outputs": [
        {
          "output_type": "execute_result",
          "data": {
            "text/plain": [
              "tensor(8.2787)"
            ]
          },
          "metadata": {},
          "execution_count": 36
        }
      ]
    },
    {
      "cell_type": "markdown",
      "metadata": {
        "id": "fA6dbanf44_4"
      },
      "source": [
        "3.3 Модифицировать 2.3.1, добавив L2-регуляризацию.\n",
        "\n",
        "![](https://wikimedia.org/api/rest_v1/media/math/render/svg/d92ca2429275bfdc0474523babbafe014ca8b580)\n"
      ]
    },
    {
      "cell_type": "code",
      "execution_count": 70,
      "metadata": {
        "id": "ADsZxD-h4_Os"
      },
      "outputs": [],
      "source": [
        "class MSELossL2:\n",
        "  def __init__(self, lambda_: int):\n",
        "    # <создать атрибут объекта alpha>\n",
        "    self.alpha = lambda_\n",
        "\n",
        "  def data_loss(self, y_pred: torch.Tensor, y_true: torch.Tensor):\n",
        "    # <подсчет первого слагаемого из формулы>\n",
        "    # x = y_pred - y_true\n",
        "    # px = torch.pow(x, 2)\n",
        "    # spx = torch.sum(px)\n",
        "    # return spx\n",
        "    return (y_true - y_pred) ** 2\n",
        "\n",
        "  def reg_loss(self, layer):\n",
        "    # используйте атрибуты объекта layer, в которых хранятся веса слоя\n",
        "    # <подсчет второго слагаемого из формулы>\n",
        "    # return self.alpha * torch.sum(torch.pow(layer, 2))\n",
        "    return self.alpha * (layer ** 2)\n",
        "\n",
        "  def forward(self, y_pred, y_true, layer):\n",
        "    # return self.data_loss(y_pred, y_true) + self.reg_loss(layer)\n",
        "    return self.data_loss(y_pred, y_true) + self.reg_loss(layer)"
      ]
    },
    {
      "cell_type": "code",
      "source": [
        "inputs = torch.tensor([[1, 2, 3, 2.5], \n",
        "                        [2, 5, -1, 2], \n",
        "                        [-1.5, 2.7, 3.3, -0.8]])\n",
        "y = torch.tensor([1, 0, 0])\n",
        "\n",
        "linear_layer = Linear(4, 3)\n",
        "layer_out = linear_layer.forward(inputs)\n",
        "layer_out"
      ],
      "metadata": {
        "id": "m2rEJe17ZSL6",
        "colab": {
          "base_uri": "https://localhost:8080/"
        },
        "outputId": "f13ed6ff-120f-49ca-e573-4d00b949bc35"
      },
      "execution_count": 57,
      "outputs": [
        {
          "output_type": "execute_result",
          "data": {
            "text/plain": [
              "tensor([[ 1.4586, -5.6443,  0.0240],\n",
              "        [ 5.5260, -1.3061, -8.5822],\n",
              "        [-1.8659, -8.4408,  6.6187]])"
            ]
          },
          "metadata": {},
          "execution_count": 57
        }
      ]
    },
    {
      "cell_type": "code",
      "source": [
        "inputs = torch.tensor([[1, 2, 3, 2.5], \n",
        "                        [2, 5, -1, 2], \n",
        "                        [-1.5, 2.7, 3.3, -0.8]])\n",
        "y = torch.tensor([1, 0, 0])\n",
        "\n",
        "ll = Linear(4, 3)\n",
        "ll_out = ll.forward(inputs)\n",
        "\n",
        "softmax = Softmax()\n",
        "mse_loss_l2 = MSELossL2(1.5)\n",
        "out = mse_loss_l2.forward(softmax.forward(ll_out), y, 0.1)\n",
        "out"
      ],
      "metadata": {
        "colab": {
          "base_uri": "https://localhost:8080/"
        },
        "id": "15W_12qCzKLe",
        "outputId": "011b14bd-5fa7-4e29-e229-16a691878df7"
      },
      "execution_count": 75,
      "outputs": [
        {
          "output_type": "execute_result",
          "data": {
            "text/plain": [
              "tensor([[0.1192, 0.0161, 0.0988],\n",
              "        [0.1854, 0.0150, 0.1821],\n",
              "        [0.0247, 0.0151, 0.0225]])"
            ]
          },
          "metadata": {},
          "execution_count": 75
        }
      ]
    },
    {
      "cell_type": "markdown",
      "metadata": {
        "id": "w049ZSdR6qQi"
      },
      "source": [
        "## 4. Обратное распространение ошибки"
      ]
    },
    {
      "cell_type": "markdown",
      "metadata": {
        "id": "pBtCfSME9W7Q"
      },
      "source": [
        "4.1 Используя один нейрон и SGD (1 пример за шаг), решите задачу регрессии"
      ]
    },
    {
      "cell_type": "code",
      "execution_count": 77,
      "metadata": {
        "id": "4xmI-QJ66WAF"
      },
      "outputs": [],
      "source": [
        "from sklearn.datasets import make_regression\n",
        "\n",
        "X, y, coef = make_regression(n_features=4, n_informative=4, coef=True, bias=0.5)\n",
        "X = torch.tensor(X, dtype=torch.float32)\n",
        "y = torch.tensor(y, dtype=torch.float32).view(-1, 1)"
      ]
    },
    {
      "cell_type": "markdown",
      "metadata": {
        "id": "KpPSPYSpD9Ey"
      },
      "source": [
        "[Граф вычислений для этой задачи](https://i.ibb.co/2dhDxZx/photo-2021-02-15-17-18-04.jpg)"
      ]
    },
    {
      "cell_type": "markdown",
      "metadata": {
        "id": "Fc1sXtGd_J-y"
      },
      "source": [
        "4.1.1 Модифицируйте класс `MSELoss` из __2.3.1__, реализовав расчет производной относительно предыдущего слоя\n"
      ]
    },
    {
      "cell_type": "code",
      "execution_count": 78,
      "metadata": {
        "id": "llFigkqd_JRU"
      },
      "outputs": [],
      "source": [
        "class MSELoss:\n",
        "  def forward(self, y_pred, y_true):\n",
        "    return (y_pred - y_true) ** 2 # <реализовать логику MSE>\n",
        "\n",
        "  def backward(self, y_pred, y_true):\n",
        "    self.dinput = 2 * (y_pred - y_true) # df/dc\n"
      ]
    },
    {
      "cell_type": "markdown",
      "metadata": {
        "id": "GY7ForfM97UQ"
      },
      "source": [
        "4.1.2. Модифицируйте класс `Neuron` из __2.1.1__:\n",
        "\n",
        "  1) Сделайте так, чтобы веса нейрона инициализировались из стандартного нормального распределения\n",
        "\n",
        "  2) Реализуйте расчет градиента относительно весов `weights` и `bias`"
      ]
    },
    {
      "cell_type": "code",
      "execution_count": 79,
      "metadata": {
        "id": "L0KqxPJU9kAN"
      },
      "outputs": [],
      "source": [
        "class Neuron:\n",
        "  def __init__(self, n_inputs):\n",
        "    # <создать атрибуты объекта weights и bias>\n",
        "    self.n_inputs = n_inputs\n",
        "    self.weights = torch.randn(n_inputs)\n",
        "    self.bias = torch.randn(1)\n",
        "  \n",
        "  def forward(self, inputs):\n",
        "    return (inputs * self.weights).sum() + self.bias # <реализовать логику нейрона>\n",
        "  \n",
        "  def backward(self, dvalue):\n",
        "    # dvalue - значение производной, которое приходит нейрону от следующего слоя сети\n",
        "    # в данном случае это будет значение df/dc (созданное методом backwards у объекта MSELoss)\n",
        "    self.dweights = dvalue * self.inputs # df/dW\n",
        "    self.dinput =  dvalue * self.weights # df/wX\n",
        "    self.dbias = dvalue # df/db\n"
      ]
    },
    {
      "cell_type": "code",
      "source": [
        "inputs = torch.tensor([1.0, 2.0, 3.0, 4.0])\n",
        "\n",
        "naive_neuron = Neuron(4)\n",
        "out = naive_neuron.forward(inputs)\n",
        "print(out)"
      ],
      "metadata": {
        "colab": {
          "base_uri": "https://localhost:8080/"
        },
        "id": "Zl3keR5035RX",
        "outputId": "19623027-32d7-43a9-f896-a23a988f9e4f"
      },
      "execution_count": 83,
      "outputs": [
        {
          "output_type": "stream",
          "name": "stdout",
          "text": [
            "tensor([1.8292])\n"
          ]
        }
      ]
    },
    {
      "cell_type": "markdown",
      "metadata": {
        "id": "rKcO4zOLACxM"
      },
      "source": [
        "4.1.3 Допишите цикл для настройки весов нейрона\n",
        "\n",
        "[SGD](https://ru.wikipedia.org/wiki/%D0%A1%D1%82%D0%BE%D1%85%D0%B0%D1%81%D1%82%D0%B8%D1%87%D0%B5%D1%81%D0%BA%D0%B8%D0%B9_%D0%B3%D1%80%D0%B0%D0%B4%D0%B8%D0%B5%D0%BD%D1%82%D0%BD%D1%8B%D0%B9_%D1%81%D0%BF%D1%83%D1%81%D0%BA)\n",
        "\n",
        "![](https://wikimedia.org/api/rest_v1/media/math/render/svg/dda3670f8a8996a0d3bf80856bb4a166cc8db6d4)"
      ]
    },
    {
      "cell_type": "code",
      "execution_count": null,
      "metadata": {
        "id": "_g_FvwvmALJd"
      },
      "outputs": [],
      "source": [
        "n_inputs = # <размерность элемента выборки >\n",
        "learning_rate = 0.1 #  скорость обучения\n",
        "n_epoch = 100 #  количество эпох\n",
        "\n",
        "neuron = Neuron(n_inputs)\n",
        "loss = MSELoss()\n",
        "\n",
        "losses = []\n",
        "for epoch in range(100):\n",
        "  for x_example, y_example in zip(X, y):\n",
        "    # forward pass\n",
        "    y_pred = # <прогон через нейрон>\n",
        "    curr_loss = # <прогон через функцию потерь>\n",
        "    losses.append(curr_loss)\n",
        "\n",
        "    # backprop\n",
        "    # <вызов методов backward>\n",
        "    # обратите внимание на последовательность вызовов: от конца к началу\n",
        "\n",
        "    # <шаг оптимизации для весов (weights и bias) нейрона>"
      ]
    },
    {
      "cell_type": "markdown",
      "metadata": {
        "id": "ebibge9VEgF7"
      },
      "source": [
        "4.2 Решите задачу 2.4.1, используя пакетный градиентный спуск"
      ]
    },
    {
      "cell_type": "markdown",
      "metadata": {
        "id": "as-QeWSdOELd"
      },
      "source": [
        "Вычисления для этой задачи: \n",
        "[1](https://i.ibb.co/rmtQT6P/photo-2021-02-15-18-00-43.jpg)\n",
        "[2](https://i.ibb.co/NmCFVnQ/photo-2021-02-15-18-01-17.jpg)"
      ]
    },
    {
      "cell_type": "markdown",
      "metadata": {
        "id": "dr9qq4H_J3zt"
      },
      "source": [
        "4.2.1 Модифицируйте класс `MSELoss` из __3.1__, реализовав расчет производной относительно предыдущего слоя с учетом того, что теперь работа ведется с батчами, а не с индивидуальными примерами\n",
        " "
      ]
    },
    {
      "cell_type": "code",
      "execution_count": null,
      "metadata": {
        "id": "L8wjk9iPMQ4x"
      },
      "outputs": [],
      "source": [
        "class MSELoss:\n",
        "  def forward(self, y_pred, y_true):\n",
        "    return torch.mean((y_pred - y_true) ** 2) # <реализовать логику MSE>\n",
        "\n",
        "  def backward(self, y_pred, y_true):\n",
        "    self.dinput = 2 * (y_pred - y_true) / y_pred.shape[0] # df/dy^\n"
      ]
    },
    {
      "cell_type": "markdown",
      "metadata": {
        "id": "E3fSHCEtJjX8"
      },
      "source": [
        "4.2.2. Модифицируйте класс `Neuron` из __4.1.2__:\n",
        "\n",
        "  1) Реализуйте метод `forward` таким образом, чтобы он мог принимать на вход матрицу (батч) с данными. \n",
        "\n",
        "  2) Реализуйте расчет градиента относительно весов `weights` и `bias` с учетом того, что теперь работа ведется с батчами, а не с индивидуальными примерами"
      ]
    },
    {
      "cell_type": "code",
      "execution_count": null,
      "metadata": {
        "id": "o_OpuAP0Jpz1"
      },
      "outputs": [],
      "source": [
        "class Neuron:\n",
        "  def __init__(self, n_inputs):\n",
        "    # <создать атрибуты объекта weights и bias>\n",
        "    pass\n",
        "  \n",
        "  def forward(self, inputs):\n",
        "    return # <реализовать логику нейрона>\n",
        "  \n",
        "  def backward(self, dvalue):\n",
        "    # dvalue - значение градиента, которое приходит нейрону от следующего слоя сети\n",
        "    # в данном случае это будет градиент L по y^ (созданный методом backwards у объекта MSELoss)\n",
        "    self.dweights = # df/dW\n",
        "    self.dbias = # df/db\n",
        "\n",
        "\n",
        "class Neuron:\n",
        "    def __init__(self, n_inputs):\n",
        "        self.n_inputs = n_inputs\n",
        "        self.weights = torch.randn(1, n_inputs).T\n",
        "        self.bias = torch.randn(1)\n",
        "  \n",
        "    def forward(self, inputs):\n",
        "        self.inputs = inputs\n",
        "        return torch.matmul(inputs, self.weights) + self.bias\n",
        "  \n",
        "    def backward(self, dvalue):\n",
        "        # dvalue - значение градиента, которое приходит нейрону от следующего слоя сети\n",
        "        # в данном случае это будет градиент L по y^ (созданный методом backwards у объекта MSELoss)\n",
        "        self.dinputs = torch.matmul(dvalue, self.weights.T)\n",
        "        self.dweights = torch.matmul(self.inputs.T, dvalue) # df/dW\n",
        "        self.dbias = torch.sum(dvalue) # df/db\n"
      ]
    },
    {
      "cell_type": "markdown",
      "metadata": {
        "id": "zO-NZrgKMBFx"
      },
      "source": [
        "4.2.3 Допишите цикл для настройки весов нейрона"
      ]
    },
    {
      "cell_type": "code",
      "execution_count": null,
      "metadata": {
        "id": "Zqwm_7eqJim1"
      },
      "outputs": [],
      "source": [
        "n_inputs = # <размерность элемента выборки >\n",
        "learning_rate = 0.1 #  скорость обучения\n",
        "n_epoch = 100 #  количество эпох\n",
        "\n",
        "neuron = Neuron(n_inputs)\n",
        "loss = MSELoss()\n",
        "\n",
        "\n",
        "for epoch in range(100):\n",
        "    # forward pass\n",
        "    y_pred = # <прогон через нейрон>\n",
        "    curr_loss = # <прогон через функцию потерь>\n",
        "    losses.append(curr_loss)\n",
        "\n",
        "    # backprop\n",
        "    # <вызов методов backward>\n",
        "    # обратите внимание на последовательность вызовов: от конца к началу\n",
        "\n",
        "    # <шаг оптимизации для весов (weights и bias) нейрона>"
      ]
    },
    {
      "cell_type": "markdown",
      "metadata": {
        "id": "16VtP159OdMk"
      },
      "source": [
        "4.3  Используя один полносвязный слой и  пакетный градиетный спуск, решите задачу регрессии из __2.4.1__"
      ]
    },
    {
      "cell_type": "markdown",
      "metadata": {
        "id": "uj5febreSSZ7"
      },
      "source": [
        "4.3.1 Модифицируйте класс `Linear` из __1.4__. ([вычисление градиентов](https://i.ibb.co/kgVR6m6/photo-2021-02-15-21-30-28.jpg))"
      ]
    },
    {
      "cell_type": "code",
      "execution_count": null,
      "metadata": {
        "id": "9zWuhaLdSB2_"
      },
      "outputs": [],
      "source": [
        "class Linear:\n",
        "  def __init__(self, n_features, n_neurons):\n",
        "    # <создать атрибуты объекта weights и biases>\n",
        "    pass\n",
        "  \n",
        "  def forward(self, inputs):\n",
        "    return # <реализовать логику слоя>\n",
        "\n",
        "  def backward(self, dvalues):\n",
        "    self.dweights = # df/dW\n",
        "    self.dbiases = # df/db\n",
        "    self.dinputs = # df/dX"
      ]
    },
    {
      "cell_type": "markdown",
      "metadata": {
        "id": "j3w1hT9MS_Lt"
      },
      "source": [
        "4.3.2 Создайте слой с одним нейроном. Используя класс MSELoss из 2.4.2, убедитесь, что модель обучается"
      ]
    },
    {
      "cell_type": "markdown",
      "metadata": {
        "id": "RTkJV-F8TVuN"
      },
      "source": [
        "4.4 Используя наработки из 2.4, создайте нейросеть и решите задачу регрессии.\n",
        "\n",
        "Предлагаемая архитектура: \n",
        "1. Полносвязный слой с 10 нейронами\n",
        "2. Активация ReLU\n",
        "3. Полносвязный слой с 1 нейроном"
      ]
    },
    {
      "cell_type": "code",
      "execution_count": null,
      "metadata": {
        "id": "axUjpPz-SvS1"
      },
      "outputs": [],
      "source": [
        "X = torch.linspace(-1, 1, 100).view(-1, 1)\n",
        "y = X.pow(2) + 0.2 * torch.rand(X.size()) "
      ]
    },
    {
      "cell_type": "code",
      "execution_count": null,
      "metadata": {
        "id": "LXoiNxkpTziV"
      },
      "outputs": [],
      "source": [
        "class Activation_ReLU:\n",
        "  def forward(self, inputs):\n",
        "    self.inputs = inputs\n",
        "    self.output = inputs.clip(min=0)\n",
        "    return self.output\n",
        "  \n",
        "  def backward(self, dvalues):\n",
        "    self.dinputs = dvalues.clone()\n",
        "    self.dinputs[self.inputs <= 0] = 0"
      ]
    },
    {
      "cell_type": "code",
      "execution_count": null,
      "metadata": {
        "id": "tXhspwW6T44T"
      },
      "outputs": [],
      "source": [
        "# создание компонентов сети\n",
        "# fc1 = \n",
        "# relu1 = \n",
        "# fc2 = \n",
        "\n",
        "loss = MSELoss()\n",
        "lr = 0.02\n",
        "\n",
        "ys = []\n",
        "for epoch in range(2001):\n",
        "  # <forward pass>\n",
        "  # fc1 > relu1 > fc2 > loss\n",
        "\n",
        "  data_loss = # <прогон через функцию потерь>\n",
        "\n",
        "  if epoch % 200 == 0:\n",
        "    print(f'epoch {epoch} mean loss {data_loss}')\n",
        "    ys.append(out)\n",
        "  \n",
        "  # <backprop> \n",
        "  # loss > fc2 > relu1 > fc1\n",
        "\n",
        "  # <шаг оптимизации для fc1>\n",
        "\n",
        "  # <шаг оптимизации для fc2>\n"
      ]
    },
    {
      "cell_type": "code",
      "execution_count": null,
      "metadata": {
        "id": "kpKi0OfoUkwk"
      },
      "outputs": [],
      "source": [
        "import matplotlib.pyplot as plt\n",
        "\n",
        "fig, axs = plt.subplots(len(ys), 1, figsize=(10, 40))\n",
        "for ax, y_ in zip(axs, ys):\n",
        "  ax.scatter(X.numpy(), y.numpy(), color = \"orange\")\n",
        "  ax.plot(X.numpy(), y_.numpy(), 'g-', lw=3)\n",
        "  ax.set_xlim(-1.05, 1.5)\n",
        "  ax.set_ylim(-0.25, 1.25)"
      ]
    }
  ],
  "metadata": {
    "colab": {
      "name": "02_NN_blocks_backprop_v1.ipynb",
      "provenance": []
    },
    "kernelspec": {
      "display_name": "Python 3 (ipykernel)",
      "language": "python",
      "name": "python3"
    },
    "language_info": {
      "codemirror_mode": {
        "name": "ipython",
        "version": 3
      },
      "file_extension": ".py",
      "mimetype": "text/x-python",
      "name": "python",
      "nbconvert_exporter": "python",
      "pygments_lexer": "ipython3",
      "version": "3.9.7"
    }
  },
  "nbformat": 4,
  "nbformat_minor": 0
}