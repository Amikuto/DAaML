{
 "cells": [
  {
   "cell_type": "markdown",
   "metadata": {
    "id": "_gE94V3G1RCx"
   },
   "source": [
    "# 01. Знакомство с `torch.Tensor`"
   ]
  },
  {
   "cell_type": "markdown",
   "metadata": {
    "id": "TlWOXn0f1RC7"
   },
   "source": [
    "---"
   ]
  },
  {
   "cell_type": "markdown",
   "metadata": {
    "id": "lZfJ1FRM1RC8"
   },
   "source": [
    "При решении данных задач не подразумевается использования циклов или генераторов Python, если в задании не сказано обратного. Решение должно опираться на использование функционала библиотеки `torch`.\n",
    "\n",
    "[PyTorch documentation](https://pytorch.org/docs/stable/#pytorch-documentation)"
   ]
  },
  {
   "cell_type": "code",
   "execution_count": 900,
   "metadata": {
    "id": "b3AW8rF-1RC9"
   },
   "outputs": [
    {
     "data": {
      "text/plain": "<torch._C.Generator at 0x26b2f1ac7d0>"
     },
     "execution_count": 900,
     "metadata": {},
     "output_type": "execute_result"
    }
   ],
   "source": [
    "import math\n",
    "import numpy as np\n",
    "import torch\n",
    "import random\n",
    "\n",
    "np.random.seed(0)\n",
    "random.seed(0)\n",
    "torch.manual_seed(73)"
   ]
  },
  {
   "cell_type": "code",
   "execution_count": 901,
   "outputs": [
    {
     "data": {
      "text/plain": "sys.version_info(major=3, minor=10, micro=7, releaselevel='final', serial=0)"
     },
     "execution_count": 901,
     "metadata": {},
     "output_type": "execute_result"
    }
   ],
   "source": [
    "import sys\n",
    "sys.version_info"
   ],
   "metadata": {
    "id": "SRYUML31KoEv",
    "outputId": "04c18521-4575-4e64-94ea-6f9ddf18ba3d",
    "colab": {
     "base_uri": "https://localhost:8080/"
    }
   }
  },
  {
   "cell_type": "markdown",
   "metadata": {
    "id": "vow49PuE1RC9"
   },
   "source": [
    "## 1.1 Создание тензоров и выполнение базовых операций над ними\n",
    "\n",
    "[Документация по функциям для создания тензоров](https://pytorch.org/docs/stable/torch.html#creation-ops)\n",
    "\n",
    "[Документация по функциям для работы с индексами](https://pytorch.org/docs/stable/torch.html#indexing-slicing-joining-mutating-ops)"
   ]
  },
  {
   "cell_type": "markdown",
   "metadata": {
    "id": "wBIwO1SB1RC-"
   },
   "source": [
    "1.1.1 Создайте двумерный тензор размера (8, 8). Используя как можно меньше операций, добейтесь расстановки кодов \"шахматных фигур\".\n",
    "\n",
    "Ожидаемый результат:\n",
    "\n",
    "```\n",
    "[[-4., -3., -2., -6., -5., -2., -3., -4.],\n",
    " [-1., -1., -1., -1., -1., -1., -1., -1.],\n",
    " [0., 0., 0., 0., 0., 0., 0., 0.],\n",
    " [0., 0., 0., 0., 0., 0., 0., 0.],\n",
    " [0., 0., 0., 0., 0., 0., 0., 0.],\n",
    " [0., 0., 0., 0., 0., 0., 0., 0.],\n",
    " [1., 1., 1., 1., 1., 1., 1., 1.],\n",
    " [4., 3., 2., 6., 5., 2., 3., 4.]]\n",
    "\n",
    "```"
   ]
  },
  {
   "cell_type": "code",
   "execution_count": 902,
   "outputs": [
    {
     "data": {
      "text/plain": "tensor([[0., 0., 0., 0., 0., 0., 0., 0.],\n        [0., 0., 0., 0., 0., 0., 0., 0.],\n        [0., 0., 0., 0., 0., 0., 0., 0.],\n        [0., 0., 0., 0., 0., 0., 0., 0.],\n        [0., 0., 0., 0., 0., 0., 0., 0.],\n        [0., 0., 0., 0., 0., 0., 0., 0.],\n        [0., 0., 0., 0., 0., 0., 0., 0.],\n        [0., 0., 0., 0., 0., 0., 0., 0.]])"
     },
     "execution_count": 902,
     "metadata": {},
     "output_type": "execute_result"
    }
   ],
   "source": [
    "task1 = torch.zeros((8, 8))\n",
    "task1"
   ],
   "metadata": {
    "id": "d07jkAsDKoEx",
    "outputId": "de12a4b2-f6ea-4b6a-c902-334026d3e0d2"
   }
  },
  {
   "cell_type": "code",
   "execution_count": 903,
   "outputs": [
    {
     "data": {
      "text/plain": "tensor([[-4., -3., -2., -6., -5., -2., -3., -4.],\n        [-1., -1., -1., -1., -1., -1., -1., -1.],\n        [ 0.,  0.,  0.,  0.,  0.,  0.,  0.,  0.],\n        [ 0.,  0.,  0.,  0.,  0.,  0.,  0.,  0.],\n        [ 0.,  0.,  0.,  0.,  0.,  0.,  0.,  0.],\n        [ 0.,  0.,  0.,  0.,  0.,  0.,  0.,  0.],\n        [ 1.,  1.,  1.,  1.,  1.,  1.,  1.,  1.],\n        [ 4.,  3.,  2.,  6.,  5.,  2.,  3.,  4.]])"
     },
     "execution_count": 903,
     "metadata": {},
     "output_type": "execute_result"
    }
   ],
   "source": [
    "task1[0] = torch.as_tensor([-4., -3., -2., -6., -5., -2., -3., -4.])\n",
    "task1[1] = -1\n",
    "task1[-2] = task1[1] * -1\n",
    "task1[-1] = task1[0] * -1\n",
    "task1"
   ],
   "metadata": {
    "id": "td3QW62IKoEy",
    "outputId": "b7a3e858-dcdc-43c0-9efe-a804f64ba3a2"
   }
  },
  {
   "cell_type": "markdown",
   "metadata": {
    "id": "20x5RE1V1RC_"
   },
   "source": [
    "1.1.2 Средствами `torch` рассчитать произведения четных чисел от 2 до 20 на ближайшие к ним бОльшие нечетные числа."
   ]
  },
  {
   "cell_type": "code",
   "execution_count": 904,
   "outputs": [
    {
     "data": {
      "text/plain": "tensor([  6,  20,  42,  72, 110, 156, 210, 272, 342, 420])"
     },
     "execution_count": 904,
     "metadata": {},
     "output_type": "execute_result"
    }
   ],
   "source": [
    "data = torch.arange(2, 21)\n",
    "x = data[data % 2 == 0]\n",
    "y = x + 1\n",
    "z = x * y\n",
    "z"
   ],
   "metadata": {
    "id": "xX9I_XCDKoE0",
    "outputId": "d5f002ea-89aa-41be-8552-fc9bd6392171"
   }
  },
  {
   "cell_type": "markdown",
   "metadata": {
    "id": "N_-t5GRM1RC_"
   },
   "source": [
    "1.1.3 Создать тензор размера 11x7 вида: [[1, 2, 3, ..., 7], [11, 12, 13, ..., 17], [21, 22, 23, ..., 27], ..., [101, 102, 103, ..., 107]]"
   ]
  },
  {
   "cell_type": "code",
   "execution_count": 905,
   "outputs": [
    {
     "data": {
      "text/plain": "tensor([[  1,  11,  21,  31,  41,  51,  61,  71,  81,  91, 101],\n        [  2,  12,  22,  32,  42,  52,  62,  72,  82,  92, 102],\n        [  3,  13,  23,  33,  43,  53,  63,  73,  83,  93, 103],\n        [  4,  14,  24,  34,  44,  54,  64,  74,  84,  94, 104],\n        [  5,  15,  25,  35,  45,  55,  65,  75,  85,  95, 105],\n        [  6,  16,  26,  36,  46,  56,  66,  76,  86,  96, 106],\n        [  7,  17,  27,  37,  47,  57,  67,  77,  87,  97, 107]])"
     },
     "execution_count": 905,
     "metadata": {},
     "output_type": "execute_result"
    }
   ],
   "source": [
    "x = torch.arange(0, 7)\n",
    "y = torch.arange(1, 110, 10)\n",
    "x.unsqueeze(1) + y"
   ],
   "metadata": {
    "collapsed": false
   }
  },
  {
   "cell_type": "markdown",
   "source": [
    "1.1.4 Написать функцию, которая для целых значений `n` и `m` будет возвращать тензор размера `n`x`m`, заполненный текстурой размера 2x2, состоящей из следующих значений:\n",
    "\n",
    "```\n",
    "0 1\n",
    "\n",
    "2 3\n",
    "\n",
    "```\n",
    "\n",
    "Пример для n = 4 и m = 5:\n",
    "\n",
    "```\n",
    "0 1 0 1 0\n",
    "\n",
    "2 3 2 3 2\n",
    "\n",
    "0 1 0 1 0\n",
    "\n",
    "2 3 2 3 2\n",
    "```"
   ],
   "metadata": {
    "collapsed": false
   }
  },
  {
   "cell_type": "code",
   "execution_count": 906,
   "outputs": [],
   "source": [
    "n = 4\n",
    "m = 5"
   ],
   "metadata": {
    "collapsed": false
   }
  },
  {
   "cell_type": "code",
   "execution_count": 907,
   "outputs": [
    {
     "data": {
      "text/plain": "tensor([[0, 1, 0, 1, 0],\n        [2, 3, 2, 3, 2],\n        [0, 1, 0, 1, 0],\n        [2, 3, 2, 3, 2]])"
     },
     "execution_count": 907,
     "metadata": {},
     "output_type": "execute_result"
    }
   ],
   "source": [
    "base = torch.as_tensor([[0, 1], [2, 3]])\n",
    "base.repeat(n, m)[:n, :m]"
   ],
   "metadata": {
    "collapsed": false
   }
  },
  {
   "cell_type": "markdown",
   "source": [
    "1.1.5 Сгенерировать двумерный тензор `t` размерности (4, 7), состоящий из случайных действительных чисел, равномерно распределенных в дипазоне от 0 до 20. Нормализовать значения массива с помощью преобразования вида $ax+b$ так, что после нормализации максимальный элемент масива будет равен 1.0, минимальный 0.0"
   ],
   "metadata": {
    "collapsed": false
   }
  },
  {
   "cell_type": "code",
   "execution_count": 908,
   "outputs": [
    {
     "data": {
      "text/plain": "tensor([[13.,  4., 13.,  8., 16., 15., 18.],\n        [ 9.,  1.,  9.,  0., 12., 19., 11.],\n        [18., 12.,  5.,  3.,  8.,  4.,  0.],\n        [ 8.,  6., 10.,  8.,  9., 11.,  4.]], dtype=torch.float64)"
     },
     "execution_count": 908,
     "metadata": {},
     "output_type": "execute_result"
    }
   ],
   "source": [
    "a = torch.randint(0, 21, (4, 7), dtype=float)\n",
    "a"
   ],
   "metadata": {
    "collapsed": false
   }
  },
  {
   "cell_type": "code",
   "execution_count": 909,
   "outputs": [
    {
     "data": {
      "text/plain": "tensor([[0.7134, 0.2195, 0.7134, 0.4390, 0.8780, 0.8232, 0.9878],\n        [0.4737, 0.0526, 0.4737, 0.0000, 0.6315, 0.9999, 0.5789],\n        [0.9999, 0.6666, 0.2778, 0.1667, 0.4444, 0.2222, 0.0000],\n        [0.7165, 0.5374, 0.8956, 0.7165, 0.8060, 0.9852, 0.3582]],\n       dtype=torch.float64)"
     },
     "execution_count": 909,
     "metadata": {},
     "output_type": "execute_result"
    }
   ],
   "source": [
    "torch.nn.functional.normalize(a, 16)"
   ],
   "metadata": {
    "collapsed": false
   }
  },
  {
   "cell_type": "markdown",
   "source": [
    "[Random Sampling](https://pytorch.org/docs/stable/torch.html#random-sampling)\n",
    "\n",
    "[Distributions](https://pytorch.org/docs/stable/distributions.html)"
   ],
   "metadata": {
    "collapsed": false
   }
  },
  {
   "cell_type": "markdown",
   "source": [
    "1.1.6 Задать два двумерных тензора `ar1` и `ar2` размерности (4, 7), состоящих из случайных целых чисел в пределах от 0 до 10. Построить двумерный тензор размерности (4, 7), каждый элемент которого представляет собой максимум из двух значений, находящихся на аналогичной позиции в массивах `ar1`, `ar2`.\n",
    "\n",
    "[Reductions ops](https://pytorch.org/docs/stable/torch.html#reduction-ops)"
   ],
   "metadata": {
    "collapsed": false
   }
  },
  {
   "cell_type": "code",
   "execution_count": 910,
   "outputs": [
    {
     "data": {
      "text/plain": "(tensor([[1, 7, 3, 3, 1, 8, 3],\n         [5, 9, 9, 0, 2, 5, 1],\n         [1, 2, 6, 4, 9, 0, 9],\n         [5, 6, 3, 6, 6, 3, 1]]),\n tensor([[0, 3, 9, 8, 3, 5, 6],\n         [4, 4, 6, 9, 7, 0, 2],\n         [9, 2, 4, 7, 5, 1, 4],\n         [9, 8, 9, 3, 0, 1, 8]]))"
     },
     "execution_count": 910,
     "metadata": {},
     "output_type": "execute_result"
    }
   ],
   "source": [
    "ar1 = torch.randint(0, 10, (4, 7))\n",
    "ar2 = torch.randint(0, 10, (4, 7))\n",
    "ar1, ar2"
   ],
   "metadata": {
    "collapsed": false
   }
  },
  {
   "cell_type": "code",
   "execution_count": 911,
   "outputs": [
    {
     "data": {
      "text/plain": "tensor([[1, 7, 9, 8, 3, 8, 6],\n        [5, 9, 9, 9, 7, 5, 2],\n        [9, 2, 6, 7, 9, 1, 9],\n        [9, 8, 9, 6, 6, 3, 8]])"
     },
     "execution_count": 911,
     "metadata": {},
     "output_type": "execute_result"
    }
   ],
   "source": [
    "torch.where(ar1>ar2, ar1, ar2)"
   ],
   "metadata": {
    "collapsed": false
   }
  },
  {
   "cell_type": "markdown",
   "source": [
    "1.1.7 Создать тензор из 20 случайных целых чисел от 0 до 100. Получить второе сверху значение в тензоре. Определить индекс этого значения."
   ],
   "metadata": {
    "collapsed": false
   }
  },
  {
   "cell_type": "code",
   "execution_count": 912,
   "outputs": [
    {
     "data": {
      "text/plain": "tensor([63, 41,  2, 15, 57, 17, 51, 52, 75, 96, 56, 57, 38, 61, 86, 66, 17, 68,\n        41, 81])"
     },
     "execution_count": 912,
     "metadata": {},
     "output_type": "execute_result"
    }
   ],
   "source": [
    "x = torch.randint(0, 101, (20, ))\n",
    "values, indices = x.sort()\n",
    "x"
   ],
   "metadata": {
    "collapsed": false
   }
  },
  {
   "cell_type": "code",
   "execution_count": 913,
   "outputs": [
    {
     "data": {
      "text/plain": "torch.return_types.sort(\nvalues=tensor([ 2, 15, 17, 17, 38, 41, 41, 51, 52, 56, 57, 57, 61, 63, 66, 68, 75, 81,\n        86, 96]),\nindices=tensor([ 2,  3,  5, 16, 12,  1, 18,  6,  7, 10,  4, 11, 13,  0, 15, 17,  8, 19,\n        14,  9]))"
     },
     "execution_count": 913,
     "metadata": {},
     "output_type": "execute_result"
    }
   ],
   "source": [
    "x.sort()"
   ],
   "metadata": {
    "collapsed": false
   }
  },
  {
   "cell_type": "code",
   "execution_count": 914,
   "outputs": [
    {
     "name": "stdout",
     "output_type": "stream",
     "text": [
      "Значение: 96, индекс:9\n"
     ]
    }
   ],
   "source": [
    "print(f\"Значение: {values[-1]}, индекс:{indices[-1]}\")"
   ],
   "metadata": {
    "collapsed": false
   }
  },
  {
   "cell_type": "markdown",
   "source": [
    "## 1.2 Распространение"
   ],
   "metadata": {
    "collapsed": false
   }
  },
  {
   "cell_type": "markdown",
   "source": [
    "[Numpy broadcasting](https://numpy.org/devdocs/user/theory.broadcasting.html)\n",
    "\n",
    "[Torch broadcasting](https://pytorch.org/docs/stable/notes/broadcasting.html)"
   ],
   "metadata": {
    "collapsed": false
   }
  },
  {
   "cell_type": "markdown",
   "source": [
    "1.2.1 Создать тензор 11x7 вида: `[[1, 2, 3, ..., 7], [11, 12, 13, ..., 17], [21, 22, 23, ..., 27], ..., [101, 102, 103, ..., 107]]`. При решении задачи применить технику распространения."
   ],
   "metadata": {
    "collapsed": false
   }
  },
  {
   "cell_type": "code",
   "execution_count": 915,
   "outputs": [
    {
     "data": {
      "text/plain": "(tensor([[0],\n         [1],\n         [2],\n         [3],\n         [4],\n         [5],\n         [6]]),\n tensor([  1,  11,  21,  31,  41,  51,  61,  71,  81,  91, 101]))"
     },
     "execution_count": 915,
     "metadata": {},
     "output_type": "execute_result"
    }
   ],
   "source": [
    "x = torch.arange(0, 7).unsqueeze(1)\n",
    "y = torch.arange(1, 110, 10)\n",
    "x, y"
   ],
   "metadata": {
    "collapsed": false
   }
  },
  {
   "cell_type": "code",
   "execution_count": 916,
   "outputs": [
    {
     "data": {
      "text/plain": "tensor([[  1,  11,  21,  31,  41,  51,  61,  71,  81,  91, 101],\n        [  2,  12,  22,  32,  42,  52,  62,  72,  82,  92, 102],\n        [  3,  13,  23,  33,  43,  53,  63,  73,  83,  93, 103],\n        [  4,  14,  24,  34,  44,  54,  64,  74,  84,  94, 104],\n        [  5,  15,  25,  35,  45,  55,  65,  75,  85,  95, 105],\n        [  6,  16,  26,  36,  46,  56,  66,  76,  86,  96, 106],\n        [  7,  17,  27,  37,  47,  57,  67,  77,  87,  97, 107]])"
     },
     "execution_count": 916,
     "metadata": {},
     "output_type": "execute_result"
    }
   ],
   "source": [
    "x + y"
   ],
   "metadata": {
    "collapsed": false
   }
  },
  {
   "cell_type": "markdown",
   "source": [
    "1.2.2 Вычесть одномерный тензор `b_1d` из двухмерного тензора `a_2d`, так, чтобы каждый элемент одномерного тензора вычитался из всех элементов соответствующих строк двумерного тензора.\n",
    "\n",
    "_Пример:_\n",
    "\n",
    "Для входа:\n",
    "```python\n",
    "a_2d = np.array([[3,3,3],[4,4,4],[5,5,5]])\n",
    "b_1d = np.array([1,2,3])\n",
    "```\n",
    "\n",
    "Ожидается резульат:\n",
    "\n",
    "```python\n",
    "[[2 2 2]\n",
    " [2 2 2]\n",
    " [2 2 2]]\n",
    "```"
   ],
   "metadata": {
    "collapsed": false
   }
  },
  {
   "cell_type": "code",
   "execution_count": 917,
   "outputs": [],
   "source": [
    "a_2d = torch.tensor([[3,3,3],[4,4,4],[5,5,5]])\n",
    "b_1d = torch.tensor([1,2,3])"
   ],
   "metadata": {
    "collapsed": false
   }
  },
  {
   "cell_type": "code",
   "execution_count": 918,
   "outputs": [
    {
     "data": {
      "text/plain": "tensor([[2, 2, 2],\n        [2, 2, 2],\n        [2, 2, 2]])"
     },
     "execution_count": 918,
     "metadata": {},
     "output_type": "execute_result"
    }
   ],
   "source": [
    "torch.sub(a_2d, b_1d.unsqueeze(1))"
   ],
   "metadata": {
    "collapsed": false
   }
  },
  {
   "cell_type": "markdown",
   "source": [
    "## 1.3 Индексы, маскирование и прихотливое индексирование\n",
    "\n",
    "[Документация по функциям для работы с индексами](https://pytorch.org/docs/stable/torch.html#indexing-slicing-joining-mutating-ops)"
   ],
   "metadata": {
    "collapsed": false
   }
  },
  {
   "cell_type": "markdown",
   "source": [
    "1.3.1 Получить индексы, для которых элементы тензоров `a` и `b` совпадают.\n",
    "\n",
    "_Пример:_\n",
    "\n",
    "Для входа:\n",
    "```python\n",
    "a = np.array([1,2,3,2,3,4,3,4,5,6])\n",
    "b = np.array([7,2,10,2,7,4,9,4,9,8])\n",
    "```\n",
    "\n",
    "Ожидается резульат:\n",
    "\n",
    "```python\n",
    "array([1, 3, 5, 7])\n",
    "```"
   ],
   "metadata": {
    "collapsed": false
   }
  },
  {
   "cell_type": "code",
   "execution_count": 919,
   "outputs": [],
   "source": [
    "a = np.array([1,2,3,2,3,4,3,4,5,6])\n",
    "b = np.array([7,2,10,2,7,4,9,4,9,8])"
   ],
   "metadata": {
    "collapsed": false
   }
  },
  {
   "cell_type": "code",
   "execution_count": 920,
   "outputs": [
    {
     "data": {
      "text/plain": "tensor([1, 3, 5, 7])"
     },
     "execution_count": 920,
     "metadata": {},
     "output_type": "execute_result"
    }
   ],
   "source": [
    "a = torch.tensor(a)\n",
    "b = torch.tensor(b)\n",
    "torch.where(a == b)[0]"
   ],
   "metadata": {
    "collapsed": false
   }
  },
  {
   "cell_type": "markdown",
   "source": [
    "1.3.2 Инвертировать порядок элементов в двумерном тензоре `torch.arange(9).view(3,3)`.\n",
    "\n",
    "Ожидаемый результат:\n",
    "\n",
    "\n",
    "```python\n",
    "array([[8, 7, 6],\n",
    "       [5, 4, 3],\n",
    "       [2, 1, 0]])\n",
    "```"
   ],
   "metadata": {
    "collapsed": false
   }
  },
  {
   "cell_type": "code",
   "execution_count": 921,
   "outputs": [
    {
     "data": {
      "text/plain": "tensor([[8, 7, 6],\n        [5, 4, 3],\n        [2, 1, 0]])"
     },
     "execution_count": 921,
     "metadata": {},
     "output_type": "execute_result"
    }
   ],
   "source": [
    "torch.flip(torch.arange(9).view(3,3), [0, 1])"
   ],
   "metadata": {
    "collapsed": false
   }
  },
  {
   "cell_type": "markdown",
   "source": [
    "1.3.3 Из входного тензора a получить только элементы, находящиеся в диапазоне от 5 до 10.\n",
    "\n",
    "_Пример:_\n",
    "\n",
    "Для входа:\n",
    "```python\n",
    "a = np.array([2, 6, 1, 9, 10, 3, 27])\n",
    "```\n",
    "\n",
    "Ожидается резульат:\n",
    "\n",
    "```python\n",
    "array([6, 9, 10])\n",
    "```"
   ],
   "metadata": {
    "collapsed": false
   }
  },
  {
   "cell_type": "code",
   "execution_count": 922,
   "outputs": [
    {
     "data": {
      "text/plain": "tensor([ 2,  6,  1,  9, 10,  3, 27])"
     },
     "execution_count": 922,
     "metadata": {},
     "output_type": "execute_result"
    }
   ],
   "source": [
    "a = torch.tensor([2, 6, 1, 9, 10, 3, 27])\n",
    "a"
   ],
   "metadata": {
    "collapsed": false
   }
  },
  {
   "cell_type": "code",
   "execution_count": 923,
   "outputs": [
    {
     "data": {
      "text/plain": "tensor([ 6,  9, 10])"
     },
     "execution_count": 923,
     "metadata": {},
     "output_type": "execute_result"
    }
   ],
   "source": [
    "a[torch.logical_and(10>=a, 5<=a)]"
   ],
   "metadata": {
    "collapsed": false
   }
  },
  {
   "cell_type": "markdown",
   "source": [
    "1.3.4 Поменять местами столбец 1 и 2. тензора `np.arange(9).reshape(3,3)`"
   ],
   "metadata": {
    "collapsed": false
   }
  },
  {
   "cell_type": "code",
   "execution_count": 924,
   "outputs": [
    {
     "name": "stdout",
     "output_type": "stream",
     "text": [
      "tensor([[0, 1, 2],\n",
      "        [3, 4, 5],\n",
      "        [6, 7, 8]])\n"
     ]
    },
    {
     "data": {
      "text/plain": "tensor([[1, 0, 2],\n        [4, 3, 5],\n        [7, 6, 8]])"
     },
     "execution_count": 924,
     "metadata": {},
     "output_type": "execute_result"
    }
   ],
   "source": [
    "a = torch.arange(9).reshape(3,3)\n",
    "print(a)\n",
    "torch.index_select(a, 1, torch.LongTensor([1,0,2]))"
   ],
   "metadata": {
    "collapsed": false
   }
  },
  {
   "cell_type": "markdown",
   "source": [
    "1.3.5 Создать тензор 8 на 10 из случайных целых чисел из диапазона от 0 до 10 и найти в ней строку (ее индекс и вывести саму строку), в которой сумма значений минимальна."
   ],
   "metadata": {
    "collapsed": false
   }
  },
  {
   "cell_type": "code",
   "execution_count": 925,
   "outputs": [
    {
     "data": {
      "text/plain": "tensor([[4, 1, 7, 7, 8, 8, 5, 9, 1, 6],\n        [5, 2, 2, 1, 2, 9, 0, 1, 7, 0],\n        [7, 0, 9, 6, 2, 2, 9, 6, 9, 1],\n        [0, 3, 1, 1, 4, 4, 4, 3, 9, 1],\n        [0, 7, 4, 3, 6, 7, 8, 1, 9, 2],\n        [4, 4, 4, 6, 8, 7, 7, 9, 5, 5],\n        [1, 2, 1, 3, 9, 8, 8, 1, 6, 9],\n        [6, 1, 6, 7, 0, 7, 1, 7, 7, 2]])"
     },
     "execution_count": 925,
     "metadata": {},
     "output_type": "execute_result"
    }
   ],
   "source": [
    "x = torch.randint(0, 10, (8, 10))\n",
    "x"
   ],
   "metadata": {
    "collapsed": false
   }
  },
  {
   "cell_type": "code",
   "execution_count": 926,
   "outputs": [
    {
     "data": {
      "text/plain": "tensor([56, 29, 51, 30, 47, 59, 48, 44])"
     },
     "execution_count": 926,
     "metadata": {},
     "output_type": "execute_result"
    }
   ],
   "source": [
    "a = torch.sum(x, 1)\n",
    "a"
   ],
   "metadata": {
    "collapsed": false
   }
  },
  {
   "cell_type": "code",
   "execution_count": 927,
   "outputs": [
    {
     "data": {
      "text/plain": "(tensor(29), tensor(1))"
     },
     "execution_count": 927,
     "metadata": {},
     "output_type": "execute_result"
    }
   ],
   "source": [
    "value, ind = torch.min(a, 0)\n",
    "value, ind"
   ],
   "metadata": {
    "collapsed": false
   }
  },
  {
   "cell_type": "code",
   "execution_count": 928,
   "outputs": [
    {
     "name": "stdout",
     "output_type": "stream",
     "text": [
      "Индекс: 1, строка: tensor([5, 2, 2, 1, 2, 9, 0, 1, 7, 0])\n"
     ]
    }
   ],
   "source": [
    "print(f\"Индекс: {ind.item()}, строка: {x[ind]}\")"
   ],
   "metadata": {
    "collapsed": false
   }
  },
  {
   "cell_type": "markdown",
   "source": [
    "1.3.6 Cоздать тензор из 20 случайных целых чисел от 0 до 100. Обрезать значения тензора (заменить значения, выходящие за диапазон, на крайние значения) снизу по значению 30, сверху по значению 70."
   ],
   "metadata": {
    "collapsed": false
   }
  },
  {
   "cell_type": "code",
   "execution_count": 929,
   "outputs": [
    {
     "data": {
      "text/plain": "tensor([77, 10, 79, 22, 95, 23, 73, 70,  9, 83, 76, 52,  9, 51, 56, 48,  5, 97,\n        22, 89])"
     },
     "execution_count": 929,
     "metadata": {},
     "output_type": "execute_result"
    }
   ],
   "source": [
    "x = torch.randint(0, 101, (20, ))\n",
    "x"
   ],
   "metadata": {
    "collapsed": false
   }
  },
  {
   "cell_type": "code",
   "execution_count": 930,
   "outputs": [
    {
     "data": {
      "text/plain": "tensor([70, 30, 70, 30, 70, 30, 70, 70, 30, 70, 70, 52, 30, 51, 56, 48, 30, 70,\n        30, 70])"
     },
     "execution_count": 930,
     "metadata": {},
     "output_type": "execute_result"
    }
   ],
   "source": [
    "x[x < 30] = 30\n",
    "x[x > 70] = 70\n",
    "x"
   ],
   "metadata": {
    "collapsed": false
   }
  },
  {
   "cell_type": "markdown",
   "source": [
    "1.3.7 Создать два тензора размера 30 на 3 из случайных целых чисел из диапазона от 0 до 10 и найти все значения первого тензора, которые больше соответсвующих (по расположению) значений второго тензора. Подсчитать сумму этих значений."
   ],
   "metadata": {
    "collapsed": false
   }
  },
  {
   "cell_type": "code",
   "execution_count": 931,
   "outputs": [
    {
     "data": {
      "text/plain": "(tensor([[0, 2, 7],\n         [1, 5, 4],\n         [4, 1, 2],\n         [6, 2, 6],\n         [2, 7, 4],\n         [7, 9, 8],\n         [6, 2, 0],\n         [8, 4, 8],\n         [7, 7, 4],\n         [4, 4, 6],\n         [1, 0, 9],\n         [7, 9, 9],\n         [6, 2, 3],\n         [0, 3, 3],\n         [1, 3, 0],\n         [5, 7, 8],\n         [4, 6, 4],\n         [6, 9, 8],\n         [8, 5, 9],\n         [9, 7, 1],\n         [2, 4, 4],\n         [2, 3, 9],\n         [0, 6, 3],\n         [0, 5, 3],\n         [1, 6, 0],\n         [3, 6, 8],\n         [8, 8, 5],\n         [8, 3, 7],\n         [6, 8, 2],\n         [3, 3, 3]]),\n tensor([[0, 4, 4],\n         [8, 2, 4],\n         [3, 4, 3],\n         [7, 5, 6],\n         [3, 8, 9],\n         [5, 7, 4],\n         [7, 3, 0],\n         [3, 1, 8],\n         [4, 8, 5],\n         [6, 4, 8],\n         [8, 2, 9],\n         [1, 3, 7],\n         [7, 5, 9],\n         [6, 4, 2],\n         [3, 8, 6],\n         [4, 8, 2],\n         [8, 2, 0],\n         [1, 5, 8],\n         [8, 9, 3],\n         [3, 1, 7],\n         [5, 1, 1],\n         [4, 5, 1],\n         [4, 8, 8],\n         [7, 7, 9],\n         [8, 0, 1],\n         [6, 4, 0],\n         [1, 5, 0],\n         [0, 6, 3],\n         [4, 3, 4],\n         [4, 1, 5]]))"
     },
     "execution_count": 931,
     "metadata": {},
     "output_type": "execute_result"
    }
   ],
   "source": [
    "a = torch.randint(0, 10, (30, 3))\n",
    "b = torch.randint(0, 10, (30, 3))\n",
    "a, b"
   ],
   "metadata": {
    "collapsed": false
   }
  },
  {
   "cell_type": "code",
   "execution_count": 932,
   "outputs": [
    {
     "data": {
      "text/plain": "tensor([7, 5, 4, 7, 9, 8, 8, 4, 7, 7, 9, 9, 3, 5, 8, 6, 4, 6, 9, 9, 9, 7, 4, 4,\n        9, 6, 6, 8, 8, 8, 5, 8, 7, 6, 8, 3])"
     },
     "execution_count": 932,
     "metadata": {},
     "output_type": "execute_result"
    }
   ],
   "source": [
    "a[a > b]"
   ],
   "metadata": {
    "collapsed": false
   }
  },
  {
   "cell_type": "code",
   "execution_count": 933,
   "outputs": [
    {
     "data": {
      "text/plain": "tensor(240)"
     },
     "execution_count": 933,
     "metadata": {},
     "output_type": "execute_result"
    }
   ],
   "source": [
    "a[a > b].sum()"
   ],
   "metadata": {
    "collapsed": false
   }
  },
  {
   "cell_type": "markdown",
   "source": [
    "1.3.8 При помощи прихотливого индексирования для двухмерного массива размерности (20, 20), состоящего из случайных целых чисел в пределах от 0 до 10 получить массив элементов находящихся на диагонали, проходящей над основной диагональю."
   ],
   "metadata": {
    "collapsed": false
   }
  },
  {
   "cell_type": "code",
   "execution_count": 934,
   "outputs": [
    {
     "data": {
      "text/plain": "tensor([[0, 6, 6, 0, 8, 4, 0, 7, 9, 4, 0, 0, 7, 7, 1, 6, 4, 1, 5, 8],\n        [0, 8, 8, 1, 4, 8, 2, 7, 6, 9, 5, 1, 3, 3, 6, 8, 9, 7, 8, 6],\n        [4, 0, 5, 0, 7, 7, 0, 7, 0, 5, 5, 9, 1, 2, 1, 8, 4, 7, 9, 0],\n        [9, 6, 9, 0, 2, 6, 5, 4, 3, 6, 6, 8, 9, 1, 9, 7, 8, 6, 0, 7],\n        [3, 0, 5, 5, 6, 4, 9, 6, 1, 9, 9, 6, 2, 4, 4, 7, 9, 3, 8, 7],\n        [4, 4, 4, 6, 3, 8, 2, 1, 1, 2, 9, 3, 3, 4, 8, 4, 6, 0, 4, 5],\n        [4, 4, 5, 9, 5, 5, 5, 6, 7, 7, 0, 9, 3, 3, 5, 3, 0, 1, 9, 8],\n        [3, 4, 4, 9, 4, 0, 1, 0, 2, 0, 9, 4, 2, 9, 4, 0, 2, 9, 0, 4],\n        [3, 7, 8, 5, 6, 2, 2, 4, 0, 4, 8, 4, 4, 6, 3, 3, 4, 1, 7, 7],\n        [5, 4, 1, 7, 6, 7, 5, 0, 8, 1, 7, 4, 5, 7, 7, 1, 7, 2, 9, 6],\n        [2, 2, 5, 8, 1, 5, 8, 3, 3, 9, 6, 8, 8, 2, 5, 4, 9, 5, 0, 9],\n        [9, 7, 0, 3, 8, 9, 0, 9, 4, 7, 9, 6, 2, 2, 4, 1, 9, 3, 4, 7],\n        [1, 1, 7, 7, 0, 4, 9, 5, 3, 6, 6, 3, 3, 4, 9, 3, 2, 8, 5, 5],\n        [4, 4, 1, 8, 5, 1, 4, 0, 9, 3, 9, 0, 3, 0, 2, 5, 2, 6, 6, 7],\n        [5, 0, 7, 7, 7, 3, 2, 6, 4, 9, 7, 1, 0, 4, 1, 3, 9, 8, 4, 5],\n        [8, 2, 8, 4, 3, 2, 3, 8, 5, 3, 2, 3, 9, 6, 1, 0, 4, 3, 2, 9],\n        [4, 5, 1, 1, 2, 6, 5, 4, 0, 0, 5, 2, 1, 8, 0, 0, 5, 4, 1, 5],\n        [1, 1, 2, 3, 8, 4, 3, 1, 3, 5, 0, 4, 9, 8, 5, 4, 0, 4, 5, 1],\n        [3, 2, 5, 0, 9, 0, 5, 8, 2, 8, 4, 3, 1, 5, 4, 8, 9, 3, 4, 5],\n        [7, 2, 4, 9, 2, 6, 4, 9, 9, 2, 8, 4, 4, 1, 7, 1, 1, 0, 3, 2]])"
     },
     "execution_count": 934,
     "metadata": {},
     "output_type": "execute_result"
    }
   ],
   "source": [
    "x = torch.randint(0, 10, (20, 20))\n",
    "x"
   ],
   "metadata": {
    "collapsed": false
   }
  },
  {
   "cell_type": "code",
   "execution_count": 935,
   "outputs": [
    {
     "data": {
      "text/plain": "tensor([6, 8, 0, 2, 4, 2, 6, 2, 4, 7, 8, 2, 4, 2, 3, 4, 4, 5, 5])"
     },
     "execution_count": 935,
     "metadata": {},
     "output_type": "execute_result"
    }
   ],
   "source": [
    "torch.diag(x, 1)"
   ],
   "metadata": {
    "collapsed": false
   }
  },
  {
   "cell_type": "markdown",
   "source": [
    "1.3.9 Задать два двухмерных тензора `ar1` и `ar2` размерности (5, 10), состоящих из случайных целых чисел в пределах от 0 до 10. Удвоить все значения `ar1`, которые совпадают со значениями `ar2`, расположенными на аналогичных позициях."
   ],
   "metadata": {
    "collapsed": false
   }
  },
  {
   "cell_type": "code",
   "execution_count": 936,
   "outputs": [
    {
     "data": {
      "text/plain": "(tensor([[ 0,  5,  8,  3, 10,  7,  0,  1,  1,  1],\n         [ 2,  8,  7, 10,  5,  2,  3,  7,  2,  9],\n         [ 1, 10,  2,  6,  9,  5,  1,  8,  8,  3],\n         [ 6,  6,  3,  9,  0,  3,  1,  4,  4,  9],\n         [ 8,  9,  7,  0,  6,  8, 10,  1, 10, 10]]),\n tensor([[ 3,  4,  0,  9,  3,  6,  8,  3,  3,  0],\n         [ 5,  5, 10, 10,  3,  0,  4,  5,  9,  9],\n         [ 0,  6,  7,  0,  0,  3,  6,  7,  1,  5],\n         [10,  6,  5,  7,  4,  9,  4,  9,  6,  6],\n         [ 1,  0, 10,  2,  4,  0,  9,  0, 10,  4]]))"
     },
     "execution_count": 936,
     "metadata": {},
     "output_type": "execute_result"
    }
   ],
   "source": [
    "ar1 = torch.randint(0, 11, (5, 10))\n",
    "ar2 = torch.randint(0, 11, (5, 10))\n",
    "ar1, ar2"
   ],
   "metadata": {
    "collapsed": false
   }
  },
  {
   "cell_type": "code",
   "execution_count": 937,
   "outputs": [
    {
     "data": {
      "text/plain": "tensor([[False, False, False, False, False, False, False, False, False, False],\n        [False, False, False,  True, False, False, False, False, False,  True],\n        [False, False, False, False, False, False, False, False, False, False],\n        [False,  True, False, False, False, False, False, False, False, False],\n        [False, False, False, False, False, False, False, False,  True, False]])"
     },
     "execution_count": 937,
     "metadata": {},
     "output_type": "execute_result"
    }
   ],
   "source": [
    "ar1 == ar2"
   ],
   "metadata": {
    "collapsed": false
   }
  },
  {
   "cell_type": "code",
   "execution_count": 938,
   "outputs": [
    {
     "data": {
      "text/plain": "tensor([[  0,   5,   8,   3,  10,   7,   0,   1,   1,   1],\n        [  2,   8,   7, 100,   5,   2,   3,   7,   2,  81],\n        [  1,  10,   2,   6,   9,   5,   1,   8,   8,   3],\n        [  6,  36,   3,   9,   0,   3,   1,   4,   4,   9],\n        [  8,   9,   7,   0,   6,   8,  10,   1, 100,  10]])"
     },
     "execution_count": 938,
     "metadata": {},
     "output_type": "execute_result"
    }
   ],
   "source": [
    "torch.where(ar1==ar2, ar1**2, ar1)"
   ],
   "metadata": {
    "collapsed": false
   }
  },
  {
   "cell_type": "markdown",
   "source": [
    "1.3.10 Заданы три двухмерных тензора `ar1`, `ar2` и `ar3` размерности (4, 7), состоящие из случайных целых чисел в пределах от 0 до 10. Обнулить все элементы `ar1`, которые больше соответствующих (находящихся в соответствующих позициях) элементов `ar2` и меньше соответствующих элементов `ar3`.\n"
   ],
   "metadata": {
    "collapsed": false
   }
  },
  {
   "cell_type": "code",
   "execution_count": 939,
   "outputs": [
    {
     "data": {
      "text/plain": "(tensor([[2, 3, 3, 6, 9, 8, 3],\n         [5, 1, 1, 4, 9, 4, 5],\n         [6, 2, 7, 4, 7, 8, 2],\n         [3, 0, 3, 8, 3, 8, 8]]),\n tensor([[2, 0, 1, 9, 3, 5, 7],\n         [6, 8, 9, 0, 0, 4, 4],\n         [1, 7, 7, 2, 3, 1, 6],\n         [7, 1, 5, 2, 0, 1, 3]]),\n tensor([[9, 4, 6, 4, 2, 4, 0],\n         [3, 1, 4, 5, 7, 5, 9],\n         [2, 0, 0, 7, 6, 1, 9],\n         [2, 7, 7, 8, 6, 8, 0]]))"
     },
     "execution_count": 939,
     "metadata": {},
     "output_type": "execute_result"
    }
   ],
   "source": [
    "ar1 = torch.randint(0, 10, (4, 7))\n",
    "ar2 = torch.randint(0, 10, (4, 7))\n",
    "ar3 = torch.randint(0, 10, (4, 7))\n",
    "ar1, ar2, ar3"
   ],
   "metadata": {
    "collapsed": false
   }
  },
  {
   "cell_type": "code",
   "execution_count": 940,
   "outputs": [],
   "source": [
    "mask1 = ar1>ar2\n",
    "mask2 = ar1<ar3"
   ],
   "metadata": {
    "collapsed": false
   }
  },
  {
   "cell_type": "code",
   "execution_count": 941,
   "outputs": [
    {
     "data": {
      "text/plain": "tensor([[False,  True,  True, False,  True,  True, False],\n        [False, False, False,  True,  True, False,  True],\n        [ True, False, False,  True,  True,  True, False],\n        [False, False, False,  True,  True,  True,  True]])"
     },
     "execution_count": 941,
     "metadata": {},
     "output_type": "execute_result"
    }
   ],
   "source": [
    "mask1"
   ],
   "metadata": {
    "collapsed": false
   }
  },
  {
   "cell_type": "code",
   "execution_count": 942,
   "outputs": [
    {
     "data": {
      "text/plain": "tensor([[ True,  True,  True, False, False, False, False],\n        [False, False,  True,  True, False,  True,  True],\n        [False, False, False,  True, False, False,  True],\n        [False,  True,  True, False,  True, False, False]])"
     },
     "execution_count": 942,
     "metadata": {},
     "output_type": "execute_result"
    }
   ],
   "source": [
    "mask2"
   ],
   "metadata": {
    "collapsed": false
   }
  },
  {
   "cell_type": "code",
   "execution_count": 943,
   "outputs": [
    {
     "data": {
      "text/plain": "tensor([[False,  True,  True, False, False, False, False],\n        [False, False, False,  True, False, False,  True],\n        [False, False, False,  True, False, False, False],\n        [False, False, False, False,  True, False, False]])"
     },
     "execution_count": 943,
     "metadata": {},
     "output_type": "execute_result"
    }
   ],
   "source": [
    "mask = mask1 & mask2\n",
    "mask"
   ],
   "metadata": {
    "collapsed": false
   }
  },
  {
   "cell_type": "code",
   "execution_count": 944,
   "outputs": [
    {
     "data": {
      "text/plain": "tensor([[2, 0, 0, 6, 9, 8, 3],\n        [5, 1, 1, 0, 9, 4, 0],\n        [6, 2, 7, 0, 7, 8, 2],\n        [3, 0, 3, 8, 0, 8, 8]])"
     },
     "execution_count": 944,
     "metadata": {},
     "output_type": "execute_result"
    }
   ],
   "source": [
    "ar1[mask] = 0\n",
    "ar1"
   ],
   "metadata": {
    "collapsed": false
   }
  },
  {
   "cell_type": "markdown",
   "metadata": {
    "id": "Qe2oVr4p1RDJ"
   },
   "source": [
    "1.3.11 Задан двумерный тензор `ar1` размерности (20, 5), состоящий из случайных целых чисел в пределах от 0 до 20. Определить, в каких столбцах не менее 5 раз встречается значение, максимальное по своей строке."
   ]
  },
  {
   "cell_type": "code",
   "execution_count": 984,
   "outputs": [
    {
     "data": {
      "text/plain": "tensor([[ 2,  6, 18, 10,  4],\n        [ 4, 19, 13, 18,  6],\n        [11, 17,  0,  1, 18],\n        [ 3, 19, 12, 15,  5],\n        [ 1, 10, 15, 18, 10],\n        [12, 12, 11,  1, 17],\n        [ 3,  3, 11,  8,  3],\n        [ 5, 19,  9,  0, 12],\n        [ 5,  1,  1,  2,  6],\n        [ 4, 19, 10,  9, 15],\n        [ 6, 13,  6, 16, 13],\n        [11,  0,  3,  9, 18],\n        [ 3,  5,  6, 14,  4],\n        [16, 19, 17,  0, 12],\n        [19,  2,  4, 17,  5],\n        [11, 14, 19,  8, 19],\n        [ 3, 10,  1,  8,  7],\n        [10, 18, 16, 16, 10],\n        [10, 18,  0, 17, 19],\n        [17,  9, 15,  6,  9]])"
     },
     "execution_count": 984,
     "metadata": {},
     "output_type": "execute_result"
    }
   ],
   "source": [
    "torch.manual_seed(73)\n",
    "ar1 = torch.randint(0, 20, (20, 5))\n",
    "ar1"
   ],
   "metadata": {
    "collapsed": false
   }
  },
  {
   "cell_type": "code",
   "execution_count": 985,
   "outputs": [
    {
     "data": {
      "text/plain": "torch.return_types.max(\nvalues=tensor([19, 19, 19, 18, 19]),\nindices=tensor([14,  1, 15,  1, 15]))"
     },
     "execution_count": 985,
     "metadata": {},
     "output_type": "execute_result"
    }
   ],
   "source": [
    "torch.max(ar1, 0)"
   ],
   "metadata": {
    "collapsed": false
   }
  },
  {
   "cell_type": "code",
   "execution_count": 986,
   "outputs": [
    {
     "data": {
      "text/plain": "tensor([[False, False, False, False, False],\n        [False,  True, False,  True, False],\n        [False, False, False, False, False],\n        [False,  True, False, False, False],\n        [False, False, False,  True, False],\n        [False, False, False, False, False],\n        [False, False, False, False, False],\n        [False,  True, False, False, False],\n        [False, False, False, False, False],\n        [False,  True, False, False, False],\n        [False, False, False, False, False],\n        [False, False, False, False, False],\n        [False, False, False, False, False],\n        [False,  True, False, False, False],\n        [ True, False, False, False, False],\n        [False, False,  True, False,  True],\n        [False, False, False, False, False],\n        [False, False, False, False, False],\n        [False, False, False, False,  True],\n        [False, False, False, False, False]])"
     },
     "execution_count": 986,
     "metadata": {},
     "output_type": "execute_result"
    }
   ],
   "source": [
    "ar1 == torch.max(ar1, 0).values"
   ],
   "metadata": {
    "collapsed": false
   }
  },
  {
   "cell_type": "code",
   "execution_count": 987,
   "outputs": [
    {
     "data": {
      "text/plain": "tensor([1, 5, 1, 2, 2])"
     },
     "execution_count": 987,
     "metadata": {},
     "output_type": "execute_result"
    }
   ],
   "source": [
    "torch.sum((ar1 == torch.max(ar1, 0).values), 0)"
   ],
   "metadata": {
    "collapsed": false
   }
  },
  {
   "cell_type": "code",
   "execution_count": 988,
   "outputs": [
    {
     "data": {
      "text/plain": "tensor(True)"
     },
     "execution_count": 988,
     "metadata": {},
     "output_type": "execute_result"
    }
   ],
   "source": [
    "torch.isin(5, torch.sum((ar1 == torch.max(ar1, 0).values), 0))"
   ],
   "metadata": {
    "collapsed": false
   }
  },
  {
   "cell_type": "code",
   "execution_count": 989,
   "outputs": [
    {
     "data": {
      "text/plain": "tensor([False,  True, False, False, False])"
     },
     "execution_count": 989,
     "metadata": {},
     "output_type": "execute_result"
    }
   ],
   "source": [
    "more_then_five = torch.sum((ar1 == torch.max(ar1, 0).values), 0) >= 5\n",
    "more_then_five"
   ],
   "metadata": {
    "collapsed": false
   }
  },
  {
   "cell_type": "code",
   "execution_count": 990,
   "outputs": [
    {
     "name": "stdout",
     "output_type": "stream",
     "text": [
      "Столбец: 2\n"
     ]
    }
   ],
   "source": [
    "if torch.isin(5, torch.sum((ar1 == torch.max(ar1, 0).values), 0)):\n",
    "\tprint(\"Столбец:\", torch.where(more_then_five)[0].item() + 1)\n",
    "else:\n",
    "\tprint(\"Количество повторяющихся значений меньше 5\")"
   ],
   "metadata": {
    "collapsed": false
   }
  },
  {
   "cell_type": "markdown",
   "metadata": {
    "id": "BTcRVeYh1RDK"
   },
   "source": [
    "1.3.12 Задан двумерный тензор `ar1` размерности (4, 7), состоящий из случайных  чисел в пределах от 0 до 1. Обнулить все значения в массиве, расположенные строго правее и ниже максимального элемента массива."
   ]
  },
  {
   "cell_type": "code",
   "execution_count": 952,
   "outputs": [
    {
     "data": {
      "text/plain": "tensor([[0.6932, 0.0995, 0.3391, 0.5062, 0.3786, 0.4498, 0.3426],\n        [0.0042, 0.5031, 0.9655, 0.2548, 0.4115, 0.0020, 0.4201],\n        [0.4337, 0.2021, 0.6049, 0.9168, 0.3325, 0.2174, 0.0023],\n        [0.7393, 0.8144, 0.4233, 0.0917, 0.1533, 0.0644, 0.5261]])"
     },
     "execution_count": 952,
     "metadata": {},
     "output_type": "execute_result"
    }
   ],
   "source": [
    "ar1 = torch.rand(4, 7)\n",
    "ar1"
   ],
   "metadata": {
    "collapsed": false
   }
  },
  {
   "cell_type": "code",
   "execution_count": 953,
   "outputs": [
    {
     "data": {
      "text/plain": "tensor(0.9655)"
     },
     "execution_count": 953,
     "metadata": {},
     "output_type": "execute_result"
    }
   ],
   "source": [
    "ar1.max()"
   ],
   "metadata": {
    "collapsed": false
   }
  },
  {
   "cell_type": "code",
   "execution_count": 954,
   "outputs": [
    {
     "data": {
      "text/plain": "tensor([[False, False, False, False, False, False, False],\n        [False, False,  True, False, False, False, False],\n        [False, False, False, False, False, False, False],\n        [False, False, False, False, False, False, False]])"
     },
     "execution_count": 954,
     "metadata": {},
     "output_type": "execute_result"
    }
   ],
   "source": [
    "ar1 == ar1.max()"
   ],
   "metadata": {
    "collapsed": false
   }
  },
  {
   "cell_type": "code",
   "execution_count": 955,
   "outputs": [
    {
     "data": {
      "text/plain": "(tensor([1]), tensor([2]))"
     },
     "execution_count": 955,
     "metadata": {},
     "output_type": "execute_result"
    }
   ],
   "source": [
    "x, y = torch.where(ar1 == ar1.max())\n",
    "x, y"
   ],
   "metadata": {
    "collapsed": false
   }
  },
  {
   "cell_type": "code",
   "execution_count": 956,
   "outputs": [
    {
     "data": {
      "text/plain": "tensor([[0.6932, 0.0995, 0.3391],\n        [0.0042, 0.5031, 0.9655]])"
     },
     "execution_count": 956,
     "metadata": {},
     "output_type": "execute_result"
    }
   ],
   "source": [
    "ar1[:x+1, :y+1]"
   ],
   "metadata": {
    "collapsed": false
   }
  },
  {
   "cell_type": "markdown",
   "source": [
    "1.3.13 Построить \\\"one-hot encoding\\\" для одномерного тензора, содержащего целые числа (длина вектора заранее неизвестна, набор значений заранее неизвестен, при этом в итоговой матрице должны присутствовать столбцы для всех натуральных чисел вплоть до максимального встречающегося в исходном массиве)."
   ],
   "metadata": {
    "collapsed": false
   }
  },
  {
   "cell_type": "code",
   "execution_count": 957,
   "outputs": [
    {
     "data": {
      "text/plain": "tensor([2, 3, 2, 2, 2, 1])"
     },
     "execution_count": 957,
     "metadata": {},
     "output_type": "execute_result"
    }
   ],
   "source": [
    "x = torch.tensor([2, 3, 2, 2, 2, 1])\n",
    "x"
   ],
   "metadata": {
    "collapsed": false
   }
  },
  {
   "cell_type": "code",
   "execution_count": 958,
   "outputs": [
    {
     "data": {
      "text/plain": "tensor([[0, 1, 0],\n        [0, 0, 1],\n        [0, 1, 0],\n        [0, 1, 0],\n        [0, 1, 0],\n        [1, 0, 0]])"
     },
     "execution_count": 958,
     "metadata": {},
     "output_type": "execute_result"
    }
   ],
   "source": [
    "torch.nn.functional.one_hot(x)[:, 1:]"
   ],
   "metadata": {
    "collapsed": false
   }
  },
  {
   "cell_type": "markdown",
   "metadata": {
    "id": "pYxX90B11RDL"
   },
   "source": [
    "1.3.14 Создать тензор `arr` из 20 случайных целых чисел от 0 до 100. Найти самое частое значение в тензоре. \n",
    "Найти индексы в тензоре, соответствующие самому частому значению. Проверить, как работет алгоритм при двух значениях, имеющих наибольшую встречаемость, предложить приемлемое поведение алгоритма для этого случая."
   ]
  },
  {
   "cell_type": "code",
   "execution_count": 959,
   "outputs": [
    {
     "data": {
      "text/plain": "tensor([99, 45, 35, 16, 78, 85, 18, 20, 79, 70, 67, 79, 29, 16, 62, 74, 37, 14,\n        50,  8])"
     },
     "execution_count": 959,
     "metadata": {},
     "output_type": "execute_result"
    }
   ],
   "source": [
    "arr = torch.randint(0, 100, (20, ))\n",
    "arr"
   ],
   "metadata": {
    "collapsed": false
   }
  },
  {
   "cell_type": "code",
   "execution_count": 960,
   "outputs": [
    {
     "data": {
      "text/plain": "tensor([0, 0, 0, 0, 0, 0, 0, 0, 1, 0, 0, 0, 0, 0, 1, 0, 2, 0, 1, 0, 1, 0, 0, 0,\n        0, 0, 0, 0, 0, 1, 0, 0, 0, 0, 0, 1, 0, 1, 0, 0, 0, 0, 0, 0, 0, 1, 0, 0,\n        0, 0, 1, 0, 0, 0, 0, 0, 0, 0, 0, 0, 0, 0, 1, 0, 0, 0, 0, 1, 0, 0, 1, 0,\n        0, 0, 1, 0, 0, 0, 1, 2, 0, 0, 0, 0, 0, 1, 0, 0, 0, 0, 0, 0, 0, 0, 0, 0,\n        0, 0, 0, 1])"
     },
     "execution_count": 960,
     "metadata": {},
     "output_type": "execute_result"
    }
   ],
   "source": [
    "bc = torch.bincount(arr)\n",
    "bc"
   ],
   "metadata": {
    "collapsed": false
   }
  },
  {
   "cell_type": "code",
   "execution_count": 961,
   "outputs": [
    {
     "data": {
      "text/plain": "tensor([16, 79])"
     },
     "execution_count": 961,
     "metadata": {},
     "output_type": "execute_result"
    }
   ],
   "source": [
    "ind = torch.where(bc == bc.max(0)[0])[0]\n",
    "ind"
   ],
   "metadata": {
    "collapsed": false
   }
  },
  {
   "cell_type": "code",
   "execution_count": 962,
   "outputs": [
    {
     "data": {
      "text/plain": "tensor([False, False, False,  True, False, False, False, False,  True, False,\n        False,  True, False,  True, False, False, False, False, False, False])"
     },
     "execution_count": 962,
     "metadata": {},
     "output_type": "execute_result"
    }
   ],
   "source": [
    "torch.isin(arr, ind)"
   ],
   "metadata": {
    "collapsed": false
   }
  },
  {
   "cell_type": "code",
   "execution_count": 963,
   "outputs": [
    {
     "name": "stdout",
     "output_type": "stream",
     "text": [
      "Индексы:  [3, 8, 11, 13]\n"
     ]
    }
   ],
   "source": [
    "print(\"Индексы: \", torch.where(torch.isin(arr, ind))[0].tolist())"
   ],
   "metadata": {
    "collapsed": false
   }
  },
  {
   "cell_type": "markdown",
   "metadata": {
    "id": "UenAEfEG1RDN"
   },
   "source": [
    "## 1.4 Математические задачи"
   ]
  },
  {
   "cell_type": "markdown",
   "source": [
    "1.4.1 Приблизительно (с погрешностью порядка 1%) рассчитать на какой части интервала от 0 до 10 значение функции x * sin(x) больше 0.5."
   ],
   "metadata": {
    "collapsed": false
   }
  },
  {
   "cell_type": "code",
   "execution_count": 964,
   "outputs": [
    {
     "data": {
      "text/plain": "tensor([0.0000, 0.1000, 0.2000, 0.3000, 0.4000, 0.5000, 0.6000, 0.7000, 0.8000,\n        0.9000, 1.0000, 1.1000, 1.2000, 1.3000, 1.4000, 1.5000, 1.6000, 1.7000,\n        1.8000, 1.9000, 2.0000, 2.1000, 2.2000, 2.3000, 2.4000, 2.5000, 2.6000,\n        2.7000, 2.8000, 2.9000, 3.0000, 3.1000, 3.2000, 3.3000, 3.4000, 3.5000,\n        3.6000, 3.7000, 3.8000, 3.9000, 4.0000, 4.1000, 4.2000, 4.3000, 4.4000,\n        4.5000, 4.6000, 4.7000, 4.8000, 4.9000, 5.0000, 5.1000, 5.2000, 5.3000,\n        5.4000, 5.5000, 5.6000, 5.7000, 5.8000, 5.9000, 6.0000, 6.1000, 6.2000,\n        6.3000, 6.4000, 6.5000, 6.6000, 6.7000, 6.8000, 6.9000, 7.0000, 7.1000,\n        7.2000, 7.3000, 7.4000, 7.5000, 7.6000, 7.7000, 7.8000, 7.9000, 8.0000,\n        8.1000, 8.2000, 8.3000, 8.4000, 8.5000, 8.6000, 8.7000, 8.8000, 8.9000,\n        9.0000, 9.1000, 9.2000, 9.3000, 9.4000, 9.5000, 9.6000, 9.7000, 9.8000,\n        9.9000])"
     },
     "execution_count": 964,
     "metadata": {},
     "output_type": "execute_result"
    }
   ],
   "source": [
    "x = torch.arange(0, 10, 0.1)\n",
    "x"
   ],
   "metadata": {
    "collapsed": false
   }
  },
  {
   "cell_type": "code",
   "execution_count": 965,
   "outputs": [
    {
     "data": {
      "text/plain": "tensor([ 0.0000,  0.0100,  0.0397,  0.0887,  0.1558,  0.2397,  0.3388,  0.4510,\n         0.5739,  0.7050,  0.8415,  0.9803,  1.1184,  1.2526,  1.3796,  1.4962,\n         1.5993,  1.6858,  1.7529,  1.7980,  1.8186,  1.8127,  1.7787,  1.7151,\n         1.6211,  1.4962,  1.3403,  1.1539,  0.9380,  0.6938,  0.4234,  0.1289,\n        -0.1868, -0.5206, -0.8688, -1.2277, -1.5931, -1.9604, -2.3251, -2.6823,\n        -3.0272, -3.3549, -3.6606, -3.9395, -4.1870, -4.3989, -4.5710, -4.6996,\n        -4.7816, -4.8140, -4.7946, -4.7217, -4.5940, -4.4110, -4.1729, -3.8805,\n        -3.5351, -3.1389, -2.6947, -2.2059, -1.6765, -1.1112, -0.5152,  0.1059,\n         0.7459,  1.3983,  2.0562,  2.7125,  3.3600,  3.9912,  4.5989,  5.1757,\n         5.7144,  6.2082,  6.6504,  7.0350,  7.3562,  7.6089,  7.7886,  7.8916,\n         7.9149,  7.8561,  7.7140,  7.4880,  7.1786,  6.7871,  6.3158,  5.7678,\n         5.1473,  4.4591,  3.7091,  2.9038,  2.0506,  1.1574,  0.2329, -0.7139,\n        -1.6735, -2.6361, -3.5915, -4.5296])"
     },
     "execution_count": 965,
     "metadata": {},
     "output_type": "execute_result"
    }
   ],
   "source": [
    "z = x * torch.sin(x)\n",
    "z"
   ],
   "metadata": {
    "collapsed": false
   }
  },
  {
   "cell_type": "code",
   "execution_count": 967,
   "outputs": [
    {
     "data": {
      "text/plain": "tensor([ 8,  9, 10, 11, 12, 13, 14, 15, 16, 17, 18, 19, 20, 21, 22, 23, 24, 25,\n        26, 27, 28, 29, 64, 65, 66, 67, 68, 69, 70, 71, 72, 73, 74, 75, 76, 77,\n        78, 79, 80, 81, 82, 83, 84, 85, 86, 87, 88, 89, 90, 91, 92, 93])"
     },
     "execution_count": 967,
     "metadata": {},
     "output_type": "execute_result"
    }
   ],
   "source": [
    "torch.where(z > 0.5)[0]"
   ],
   "metadata": {
    "collapsed": false
   }
  },
  {
   "cell_type": "code",
   "execution_count": 968,
   "outputs": [
    {
     "name": "stdout",
     "output_type": "stream",
     "text": [
      "52.0%\n"
     ]
    }
   ],
   "source": [
    "print(f\"{torch.where(z > 0.5)[0].shape[0] / z.shape[0] * 100}%\")"
   ],
   "metadata": {
    "collapsed": false
   }
  },
  {
   "cell_type": "markdown",
   "source": [
    "1.4.2 Найти все простые числа в пределах ста. (Для решения предлагается использовать Решето Эратосфена) Использовать не более 1 цикла (желательно)."
   ],
   "metadata": {
    "collapsed": false
   }
  },
  {
   "cell_type": "code",
   "execution_count": 969,
   "outputs": [
    {
     "data": {
      "text/plain": "tensor([  2,   3,   4,   5,   6,   7,   8,   9,  10,  11,  12,  13,  14,  15,\n         16,  17,  18,  19,  20,  21,  22,  23,  24,  25,  26,  27,  28,  29,\n         30,  31,  32,  33,  34,  35,  36,  37,  38,  39,  40,  41,  42,  43,\n         44,  45,  46,  47,  48,  49,  50,  51,  52,  53,  54,  55,  56,  57,\n         58,  59,  60,  61,  62,  63,  64,  65,  66,  67,  68,  69,  70,  71,\n         72,  73,  74,  75,  76,  77,  78,  79,  80,  81,  82,  83,  84,  85,\n         86,  87,  88,  89,  90,  91,  92,  93,  94,  95,  96,  97,  98,  99,\n        100])"
     },
     "execution_count": 969,
     "metadata": {},
     "output_type": "execute_result"
    }
   ],
   "source": [
    "n = 101\n",
    "numbers = torch.arange(2, n)\n",
    "numbers"
   ],
   "metadata": {
    "collapsed": false
   }
  },
  {
   "cell_type": "code",
   "execution_count": 970,
   "outputs": [
    {
     "data": {
      "text/plain": "[2,\n 3,\n 5,\n 7,\n 11,\n 13,\n 17,\n 19,\n 23,\n 29,\n 31,\n 37,\n 41,\n 43,\n 47,\n 53,\n 59,\n 61,\n 67,\n 71,\n 73,\n 79,\n 83,\n 89,\n 97]"
     },
     "execution_count": 970,
     "metadata": {},
     "output_type": "execute_result"
    }
   ],
   "source": [
    "prime = []\n",
    "for i in range(0, int((n-1) / 4)):\n",
    "\tprime.append(numbers[i].item())\n",
    "\tnumbers = numbers[(torch.isin(numbers / numbers[i], numbers, invert=True))]\n",
    "\n",
    "prime"
   ],
   "metadata": {
    "collapsed": false
   }
  },
  {
   "cell_type": "markdown",
   "metadata": {
    "id": "AHupFoTR1RDN"
   },
   "source": [
    "1.4.3 Найти евклидово расстояние между двумя одномерными тензорами одинаковой размерности, не используя готовые решения из библиотек."
   ]
  },
  {
   "cell_type": "code",
   "execution_count": 1169,
   "outputs": [],
   "source": [
    "xy1 = torch.tensor([1, 2])\n",
    "xy2 = torch.tensor([5, 6])"
   ],
   "metadata": {
    "collapsed": false
   }
  },
  {
   "cell_type": "code",
   "execution_count": 1178,
   "outputs": [
    {
     "data": {
      "text/plain": "tensor([16, 16])"
     },
     "execution_count": 1178,
     "metadata": {},
     "output_type": "execute_result"
    }
   ],
   "source": [
    "p = torch.pow(xy2 - xy1, 2)\n",
    "p"
   ],
   "metadata": {
    "collapsed": false
   }
  },
  {
   "cell_type": "code",
   "execution_count": 1180,
   "outputs": [
    {
     "data": {
      "text/plain": "tensor(5.6569)"
     },
     "execution_count": 1180,
     "metadata": {},
     "output_type": "execute_result"
    }
   ],
   "source": [
    "torch.sqrt(p.sum())"
   ],
   "metadata": {
    "collapsed": false
   }
  },
  {
   "cell_type": "markdown",
   "source": [
    "1.4.4 Создать двумерный тензор 20 на 3, содержащий случайные целые числа от 0 до 100.\n",
    "Интерпретируя тензор как 20 векторов из 3х компонент, отсортировать его по длине векторов."
   ],
   "metadata": {
    "collapsed": false
   }
  },
  {
   "cell_type": "code",
   "execution_count": 991,
   "outputs": [
    {
     "data": {
      "text/plain": "tensor([[17., 68., 41.],\n        [81., 62.,  2.],\n        [74., 47., 88.],\n        [89., 71., 63.],\n        [29., 59.,  0.],\n        [ 4.,  8., 35.],\n        [73., 36., 71.],\n        [63., 67., 21.],\n        [ 4., 76., 16.],\n        [76., 62., 66.],\n        [66., 42.,  1.],\n        [69., 87., 58.],\n        [80., 22., 88.],\n        [ 6., 50., 33.],\n        [71., 69., 84.],\n        [ 8., 68., 18.],\n        [21., 27., 23.],\n        [39., 33., 59.],\n        [30.,  5., 73.],\n        [58., 52., 87.]], dtype=torch.float64)"
     },
     "execution_count": 991,
     "metadata": {},
     "output_type": "execute_result"
    }
   ],
   "source": [
    "x = torch.randint(0, 101, (20, 3), dtype=float)\n",
    "x"
   ],
   "metadata": {
    "collapsed": false
   }
  },
  {
   "cell_type": "code",
   "execution_count": 992,
   "outputs": [
    {
     "data": {
      "text/plain": "tensor([ 81.2034, 102.0245, 124.2135, 130.1192,  65.7419,  36.1248, 108.0093,\n         94.3345,  77.7689, 118.2201,  78.2368, 125.2757, 120.9463,  60.2080,\n        129.8384,  70.7955,  41.2189,  78.0449,  79.0822, 116.7776],\n       dtype=torch.float64)"
     },
     "execution_count": 992,
     "metadata": {},
     "output_type": "execute_result"
    }
   ],
   "source": [
    "x.norm(dim=1, p=2).squeeze(-1)"
   ],
   "metadata": {
    "collapsed": false
   }
  },
  {
   "cell_type": "code",
   "execution_count": 996,
   "outputs": [
    {
     "data": {
      "text/plain": "(tensor([ 36.1248,  41.2189,  60.2080,  65.7419,  70.7955,  77.7689,  78.0449,\n          78.2368,  79.0822,  81.2034,  94.3345, 102.0245, 108.0093, 116.7776,\n         118.2201, 120.9463, 124.2135, 125.2757, 129.8384, 130.1192],\n        dtype=torch.float64),\n tensor([ 5, 16, 13,  4, 15,  8, 17, 10, 18,  0,  7,  1,  6, 19,  9, 12,  2, 11,\n         14,  3]))"
     },
     "execution_count": 996,
     "metadata": {},
     "output_type": "execute_result"
    }
   ],
   "source": [
    "vals, ind = x.norm(dim=1, p=2).squeeze(-1).sort()\n",
    "vals, ind"
   ],
   "metadata": {
    "collapsed": false
   }
  },
  {
   "cell_type": "code",
   "execution_count": 999,
   "outputs": [
    {
     "data": {
      "text/plain": "tensor([[ 4.,  8., 35.],\n        [21., 27., 23.],\n        [ 6., 50., 33.],\n        [29., 59.,  0.],\n        [ 8., 68., 18.],\n        [ 4., 76., 16.],\n        [39., 33., 59.],\n        [66., 42.,  1.],\n        [30.,  5., 73.],\n        [17., 68., 41.],\n        [63., 67., 21.],\n        [81., 62.,  2.],\n        [73., 36., 71.],\n        [58., 52., 87.],\n        [76., 62., 66.],\n        [80., 22., 88.],\n        [74., 47., 88.],\n        [69., 87., 58.],\n        [71., 69., 84.],\n        [89., 71., 63.]], dtype=torch.float64)"
     },
     "execution_count": 999,
     "metadata": {},
     "output_type": "execute_result"
    }
   ],
   "source": [
    "torch.index_select(x, 0, torch.LongTensor(ind))"
   ],
   "metadata": {
    "collapsed": false
   }
  },
  {
   "cell_type": "markdown",
   "metadata": {
    "id": "IkBRFTKa1RDO"
   },
   "source": [
    "1.4.5 Найти \"локальные максимумы\" в одномерном тензоре (т.е. значения, большие предыдущего и последующего) `torch.tensor([1, 3, 7, 1, 2, 6, 0, 1])` и вывести их индексы."
   ]
  },
  {
   "cell_type": "code",
   "execution_count": 1162,
   "outputs": [
    {
     "data": {
      "text/plain": "tensor([1, 3, 7, 1, 2, 6, 0, 1])"
     },
     "execution_count": 1162,
     "metadata": {},
     "output_type": "execute_result"
    }
   ],
   "source": [
    "x = torch.tensor([1, 3, 7, 1, 2, 6, 0, 1])\n",
    "x"
   ],
   "metadata": {
    "collapsed": false
   }
  },
  {
   "cell_type": "code",
   "execution_count": 1163,
   "outputs": [
    {
     "data": {
      "text/plain": "tensor([1, 1, 3, 7, 1, 2, 6, 0])"
     },
     "execution_count": 1163,
     "metadata": {},
     "output_type": "execute_result"
    }
   ],
   "source": [
    "y = torch.roll(x, 1)\n",
    "y"
   ],
   "metadata": {
    "collapsed": false
   }
  },
  {
   "cell_type": "code",
   "execution_count": 1164,
   "outputs": [
    {
     "data": {
      "text/plain": "tensor([3, 7, 1, 2, 6, 0, 1, 1])"
     },
     "execution_count": 1164,
     "metadata": {},
     "output_type": "execute_result"
    }
   ],
   "source": [
    "z = torch.roll(x, -1)\n",
    "z"
   ],
   "metadata": {
    "collapsed": false
   }
  },
  {
   "cell_type": "code",
   "execution_count": 1165,
   "outputs": [],
   "source": [
    "mask1 = x > y\n",
    "mask2 = x > z"
   ],
   "metadata": {
    "collapsed": false
   }
  },
  {
   "cell_type": "code",
   "execution_count": 1166,
   "outputs": [
    {
     "name": "stdout",
     "output_type": "stream",
     "text": [
      "Ответ: [7, 6]\n"
     ]
    }
   ],
   "source": [
    "print(f\"Ответ: {x[mask1 & mask2].tolist()}\")"
   ],
   "metadata": {
    "collapsed": false
   }
  },
  {
   "cell_type": "markdown",
   "metadata": {
    "id": "VXD58rlc1RDP"
   },
   "source": [
    "1.4.6 Задан произвольный массив numpy (например массив из 100 случайных числе от 0 до 1). Необходимо найти в нем число наиболее близкое к заданному."
   ]
  },
  {
   "cell_type": "code",
   "execution_count": 1041,
   "outputs": [
    {
     "data": {
      "text/plain": "tensor([0.8409, 0.7534, 0.4155, 0.9406, 0.9571, 0.8192, 0.4545, 0.2154, 0.0538,\n        0.7622, 0.3621, 0.1712, 0.0937, 0.9106, 0.2013, 0.2859, 0.8924, 0.2064,\n        0.1152, 0.2790, 0.4251, 0.2204, 0.7720, 0.5124, 0.5129, 0.5897, 0.7384,\n        0.8293, 0.2712, 0.8516, 0.8339, 0.8208, 0.3444, 0.4372, 0.2061, 0.5381,\n        0.4730, 0.8633, 0.5236, 0.8970, 0.8994, 0.7926, 0.0493, 0.1290, 0.9323,\n        0.7524, 0.7789, 0.3911, 0.6553, 0.3750, 0.5341, 0.5014, 0.2242, 0.4117,\n        0.5790, 0.1084, 0.1868, 0.7367, 0.7587, 0.2912, 0.3183, 0.6446, 0.5504,\n        0.8911, 0.1120, 0.6762, 0.1441, 0.5034, 0.5691, 0.8515, 0.0451, 0.1228,\n        0.1348, 0.5808, 0.9377, 0.6680, 0.4088, 0.0999, 0.3102, 0.7110, 0.0962,\n        0.7710, 0.4552, 0.6265, 0.6741, 0.4130, 0.3793, 0.5053, 0.9343, 0.5347,\n        0.2395, 0.3112, 0.3664, 0.9452, 0.3543, 0.4683, 0.5040, 0.0264, 0.8272,\n        0.7627])"
     },
     "execution_count": 1041,
     "metadata": {},
     "output_type": "execute_result"
    }
   ],
   "source": [
    "x = torch.rand(100)\n",
    "x"
   ],
   "metadata": {
    "collapsed": false
   }
  },
  {
   "cell_type": "code",
   "execution_count": 1042,
   "outputs": [
    {
     "data": {
      "text/plain": "torch.return_types.sort(\nvalues=tensor([0.0264, 0.0451, 0.0493, 0.0538, 0.0937, 0.0962, 0.0999, 0.1084, 0.1120,\n        0.1152, 0.1228, 0.1290, 0.1348, 0.1441, 0.1712, 0.1868, 0.2013, 0.2061,\n        0.2064, 0.2154, 0.2204, 0.2242, 0.2395, 0.2712, 0.2790, 0.2859, 0.2912,\n        0.3102, 0.3112, 0.3183, 0.3444, 0.3543, 0.3621, 0.3664, 0.3750, 0.3793,\n        0.3911, 0.4088, 0.4117, 0.4130, 0.4155, 0.4251, 0.4372, 0.4545, 0.4552,\n        0.4683, 0.4730, 0.5014, 0.5034, 0.5040, 0.5053, 0.5124, 0.5129, 0.5236,\n        0.5341, 0.5347, 0.5381, 0.5504, 0.5691, 0.5790, 0.5808, 0.5897, 0.6265,\n        0.6446, 0.6553, 0.6680, 0.6741, 0.6762, 0.7110, 0.7367, 0.7384, 0.7524,\n        0.7534, 0.7587, 0.7622, 0.7627, 0.7710, 0.7720, 0.7789, 0.7926, 0.8192,\n        0.8208, 0.8272, 0.8293, 0.8339, 0.8409, 0.8515, 0.8516, 0.8633, 0.8911,\n        0.8924, 0.8970, 0.8994, 0.9106, 0.9323, 0.9343, 0.9377, 0.9406, 0.9452,\n        0.9571]),\nindices=tensor([97, 70, 42,  8, 12, 80, 77, 55, 64, 18, 71, 43, 72, 66, 11, 56, 14, 34,\n        17,  7, 21, 52, 90, 28, 19, 15, 59, 78, 91, 60, 32, 94, 10, 92, 49, 86,\n        47, 76, 53, 85,  2, 20, 33,  6, 82, 95, 36, 51, 67, 96, 87, 23, 24, 38,\n        50, 89, 35, 62, 68, 54, 73, 25, 83, 61, 48, 75, 84, 65, 79, 57, 26, 45,\n         1, 58,  9, 99, 81, 22, 46, 41,  5, 31, 98, 27, 30,  0, 69, 29, 37, 63,\n        16, 39, 40, 13, 44, 88, 74,  3, 93,  4]))"
     },
     "execution_count": 1042,
     "metadata": {},
     "output_type": "execute_result"
    }
   ],
   "source": [
    "x.sort()"
   ],
   "metadata": {
    "collapsed": false
   }
  },
  {
   "cell_type": "code",
   "execution_count": 1043,
   "outputs": [],
   "source": [
    "n = .4"
   ],
   "metadata": {
    "collapsed": false
   }
  },
  {
   "cell_type": "code",
   "execution_count": 1044,
   "outputs": [
    {
     "data": {
      "text/plain": "torch.return_types.sort(\nvalues=tensor([0.5571, 0.5452, 0.5406, 0.5377, 0.5343, 0.5323, 0.5106, 0.4994, 0.4970,\n        0.4924, 0.4911, 0.4633, 0.4516, 0.4515, 0.4409, 0.4339, 0.4293, 0.4272,\n        0.4208, 0.4192, 0.3926, 0.3789, 0.3736, 0.3720, 0.3710, 0.3627, 0.3622,\n        0.3587, 0.3549, 0.3534, 0.3524, 0.3507, 0.3462, 0.3384, 0.3367, 0.3110,\n        0.3063, 0.3038, 0.3001, 0.2916, 0.2880, 0.2848, 0.2772, 0.2762, 0.2741,\n        0.2710, 0.2680, 0.2652, 0.2559, 0.2553, 0.2446, 0.2288, 0.2265, 0.2132,\n        0.1987, 0.1939, 0.1936, 0.1897, 0.1846, 0.1808, 0.1796, 0.1790, 0.1758,\n        0.1691, 0.1605, 0.1504, 0.1381, 0.1347, 0.1341, 0.1288, 0.1236, 0.1210,\n        0.1141, 0.1129, 0.1124, 0.1088, 0.1053, 0.1040, 0.1034, 0.1014, 0.0898,\n        0.0888, 0.0817, 0.0730, 0.0683, 0.0556, 0.0552, 0.0545, 0.0457, 0.0379,\n        0.0372, 0.0336, 0.0251, 0.0250, 0.0207, 0.0155, 0.0130, 0.0117, 0.0089,\n        0.0088]),\nindices=tensor([ 4, 93,  3, 74, 88, 44, 13, 40, 39, 16, 63, 37, 29, 69,  0, 30, 27, 98,\n        31,  5, 41, 46, 97, 22, 81, 99,  9, 58, 70,  1, 45, 42,  8, 26, 57, 79,\n        12, 80, 77, 55, 64, 18, 71, 65, 84, 43, 75, 72, 66, 48, 61, 11, 83, 56,\n        14, 34, 17, 25,  7, 73, 21, 54, 52, 68, 90, 62, 35, 89, 50, 28, 38, 19,\n        15, 24, 23, 59, 87, 96, 67, 51, 78, 91, 60, 36, 95, 32, 82,  6, 94, 10,\n        33, 92, 20, 49, 86,  2, 85, 53, 47, 76]))"
     },
     "execution_count": 1044,
     "metadata": {},
     "output_type": "execute_result"
    }
   ],
   "source": [
    "(torch.abs(x - n)).sort(descending=True)"
   ],
   "metadata": {
    "collapsed": false
   }
  },
  {
   "cell_type": "code",
   "execution_count": 1048,
   "outputs": [],
   "source": [
    "val, ind = (torch.abs(x - n)).sort(descending=True)"
   ],
   "metadata": {
    "collapsed": false
   }
  },
  {
   "cell_type": "code",
   "execution_count": 1049,
   "outputs": [
    {
     "data": {
      "text/plain": "(tensor(0.0088), tensor(76))"
     },
     "execution_count": 1049,
     "metadata": {},
     "output_type": "execute_result"
    }
   ],
   "source": [
    "val[-1], ind[-1]"
   ],
   "metadata": {
    "collapsed": false
   }
  },
  {
   "cell_type": "code",
   "execution_count": 1050,
   "outputs": [
    {
     "name": "stdout",
     "output_type": "stream",
     "text": [
      "Число, наиболее близкое к заданному: 0.4088438153266907, его индекс: 76\n"
     ]
    }
   ],
   "source": [
    "print(f\"Число, наиболее близкое к заданному: {x[ind[-1]]}, его индекс: {ind[-1]}\")"
   ],
   "metadata": {
    "collapsed": false
   }
  },
  {
   "cell_type": "markdown",
   "metadata": {
    "id": "81F_B2ij1RDP"
   },
   "source": [
    "1.4.7 Решить матричное уравнение `A*X*B=-C` - найти матрицу X. Где `A = [[-1, 2, 4], [-3, 1, 2], [-3, 0, 1]]`, `B=[[3, -1], [2, 1]]`, `C=[[7, 21], [11, 8], [8, 4]]`."
   ]
  },
  {
   "cell_type": "code",
   "execution_count": 974,
   "outputs": [],
   "source": [
    "A = [[-1, 2, 4], [-3, 1, 2], [-3, 0, 1]]\n",
    "B = [[3, -1], [2, 1]]\n",
    "C = [[7, 21], [11, 8], [8, 4]]"
   ],
   "metadata": {
    "collapsed": false
   }
  },
  {
   "cell_type": "code",
   "execution_count": null,
   "outputs": [],
   "source": [],
   "metadata": {
    "collapsed": false
   }
  },
  {
   "cell_type": "markdown",
   "metadata": {
    "id": "1P7O19bj1RDP"
   },
   "source": [
    "1.4.8 Проверить, является ли система векторов a1 = (3; −3; 0; 7),\n",
    "a2 = (2; 2; 4; 7), a3 = (1; 2; 3; 4), a4 = (5; −4; 1; 3) линейно зависимой?"
   ]
  },
  {
   "cell_type": "code",
   "execution_count": null,
   "outputs": [],
   "source": [],
   "metadata": {
    "collapsed": false
   }
  },
  {
   "cell_type": "markdown",
   "metadata": {
    "id": "Jg_bzMVS1RDQ"
   },
   "source": [
    "1.4.9 Сгенирировать тензор из 200 случайных целых чисел, нормально распрделенных cо стандартным отклонением $\\sigma = 10$ и матожиданием $\\mu = 0$. Построить тензор гистограммы с 20 бинами. "
   ]
  }
 ],
 "metadata": {
  "colab": {
   "name": "01_tensor_v1_blank.ipynb",
   "provenance": [],
   "toc_visible": true
  },
  "kernelspec": {
   "display_name": "Python 3 (ipykernel)",
   "language": "python",
   "name": "python3"
  },
  "language_info": {
   "codemirror_mode": {
    "name": "ipython",
    "version": 3
   },
   "file_extension": ".py",
   "mimetype": "text/x-python",
   "name": "python",
   "nbconvert_exporter": "python",
   "pygments_lexer": "ipython3",
   "version": "3.9.7"
  }
 },
 "nbformat": 4,
 "nbformat_minor": 0
}
