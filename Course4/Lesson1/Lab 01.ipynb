{
 "cells": [
  {
   "cell_type": "markdown",
   "metadata": {
    "id": "_gE94V3G1RCx",
    "pycharm": {
     "name": "#%% md\n"
    }
   },
   "source": [
    "# 01. Знакомство с `torch.Tensor`"
   ]
  },
  {
   "cell_type": "markdown",
   "metadata": {
    "id": "TlWOXn0f1RC7",
    "pycharm": {
     "name": "#%% md\n"
    }
   },
   "source": [
    "---"
   ]
  },
  {
   "cell_type": "markdown",
   "metadata": {
    "id": "lZfJ1FRM1RC8",
    "pycharm": {
     "name": "#%% md\n"
    }
   },
   "source": [
    "При решении данных задач не подразумевается использования циклов или генераторов Python, если в задании не сказано обратного. Решение должно опираться на использование функционала библиотеки `torch`.\n",
    "\n",
    "[PyTorch documentation](https://pytorch.org/docs/stable/#pytorch-documentation)"
   ]
  },
  {
   "cell_type": "code",
   "execution_count": 161,
   "metadata": {
    "id": "b3AW8rF-1RC9",
    "pycharm": {
     "name": "#%%\n"
    }
   },
   "outputs": [],
   "source": [
    "import numpy as np\n",
    "import torch"
   ]
  },
  {
   "cell_type": "code",
   "execution_count": 162,
   "outputs": [
    {
     "data": {
      "text/plain": "sys.version_info(major=3, minor=10, micro=7, releaselevel='final', serial=0)"
     },
     "execution_count": 162,
     "metadata": {},
     "output_type": "execute_result"
    }
   ],
   "source": [
    "import sys\n",
    "sys.version_info"
   ],
   "metadata": {
    "collapsed": false,
    "pycharm": {
     "name": "#%%\n"
    }
   }
  },
  {
   "cell_type": "markdown",
   "metadata": {
    "id": "vow49PuE1RC9",
    "pycharm": {
     "name": "#%% md\n"
    }
   },
   "source": [
    "## 1.1 Создание тензоров и выполнение базовых операций над ними\n",
    "\n",
    "[Документация по функциям для создания тензоров](https://pytorch.org/docs/stable/torch.html#creation-ops)\n",
    "\n",
    "[Документация по функциям для работы с индексами](https://pytorch.org/docs/stable/torch.html#indexing-slicing-joining-mutating-ops)"
   ]
  },
  {
   "cell_type": "markdown",
   "metadata": {
    "id": "wBIwO1SB1RC-",
    "pycharm": {
     "name": "#%% md\n"
    }
   },
   "source": [
    "1.1.1 Создайте двумерный тензор размера (8, 8). Используя как можно меньше операций, добейтесь расстановки кодов \"шахматных фигур\".\n",
    "\n",
    "Ожидаемый результат:\n",
    "\n",
    "```\n",
    "[[-4., -3., -2., -6., -5., -2., -3., -4.],\n",
    " [-1., -1., -1., -1., -1., -1., -1., -1.],\n",
    " [0., 0., 0., 0., 0., 0., 0., 0.],\n",
    " [0., 0., 0., 0., 0., 0., 0., 0.],\n",
    " [0., 0., 0., 0., 0., 0., 0., 0.],\n",
    " [0., 0., 0., 0., 0., 0., 0., 0.],\n",
    " [1., 1., 1., 1., 1., 1., 1., 1.],\n",
    " [4., 3., 2., 6., 5., 2., 3., 4.]]\n",
    "\n",
    "```"
   ]
  },
  {
   "cell_type": "code",
   "execution_count": 163,
   "outputs": [
    {
     "data": {
      "text/plain": "tensor([[0., 0., 0., 0., 0., 0., 0., 0.],\n        [0., 0., 0., 0., 0., 0., 0., 0.],\n        [0., 0., 0., 0., 0., 0., 0., 0.],\n        [0., 0., 0., 0., 0., 0., 0., 0.],\n        [0., 0., 0., 0., 0., 0., 0., 0.],\n        [0., 0., 0., 0., 0., 0., 0., 0.],\n        [0., 0., 0., 0., 0., 0., 0., 0.],\n        [0., 0., 0., 0., 0., 0., 0., 0.]])"
     },
     "execution_count": 163,
     "metadata": {},
     "output_type": "execute_result"
    }
   ],
   "source": [
    "task1 = torch.zeros((8, 8))\n",
    "task1"
   ],
   "metadata": {
    "collapsed": false,
    "pycharm": {
     "name": "#%%\n"
    }
   }
  },
  {
   "cell_type": "code",
   "execution_count": 164,
   "outputs": [
    {
     "data": {
      "text/plain": "tensor([[-4., -3., -2., -6., -5., -2., -3., -4.],\n        [-1., -1., -1., -1., -1., -1., -1., -1.],\n        [ 0.,  0.,  0.,  0.,  0.,  0.,  0.,  0.],\n        [ 0.,  0.,  0.,  0.,  0.,  0.,  0.,  0.],\n        [ 0.,  0.,  0.,  0.,  0.,  0.,  0.,  0.],\n        [ 0.,  0.,  0.,  0.,  0.,  0.,  0.,  0.],\n        [ 1.,  1.,  1.,  1.,  1.,  1.,  1.,  1.],\n        [ 4.,  3.,  2.,  6.,  5.,  2.,  3.,  4.]])"
     },
     "execution_count": 164,
     "metadata": {},
     "output_type": "execute_result"
    }
   ],
   "source": [
    "task1[0] = torch.as_tensor([-4., -3., -2., -6., -5., -2., -3., -4.])\n",
    "task1[1] = -1\n",
    "task1[-2] = task1[1] * -1\n",
    "task1[-1] = task1[0] * -1\n",
    "task1"
   ],
   "metadata": {
    "collapsed": false,
    "pycharm": {
     "name": "#%%\n"
    }
   }
  },
  {
   "cell_type": "markdown",
   "metadata": {
    "id": "20x5RE1V1RC_",
    "pycharm": {
     "name": "#%% md\n"
    }
   },
   "source": [
    "1.1.2 Средствами `torch` рассчитать произведения четных чисел от 2 до 20 на ближайшие к ним бОльшие нечетные числа."
   ]
  },
  {
   "cell_type": "code",
   "execution_count": 165,
   "outputs": [
    {
     "data": {
      "text/plain": "tensor([  6,  20,  42,  72, 110, 156, 210, 272, 342, 420])"
     },
     "execution_count": 165,
     "metadata": {},
     "output_type": "execute_result"
    }
   ],
   "source": [
    "data = torch.arange(2, 21)\n",
    "x = data[data % 2 == 0]\n",
    "y = x + 1\n",
    "z = x * y\n",
    "z"
   ],
   "metadata": {
    "collapsed": false,
    "pycharm": {
     "name": "#%%\n"
    }
   }
  },
  {
   "cell_type": "markdown",
   "metadata": {
    "id": "N_-t5GRM1RC_",
    "pycharm": {
     "name": "#%% md\n"
    }
   },
   "source": [
    "1.1.3 Создать тензор размера 11x7 вида: [[1, 2, 3, ..., 7], [11, 12, 13, ..., 17], [21, 22, 23, ..., 27], ..., [101, 102, 103, ..., 107]]"
   ]
  },
  {
   "cell_type": "code",
   "execution_count": 166,
   "outputs": [
    {
     "name": "stdout",
     "output_type": "stream",
     "text": [
      "tensor([[  1,   2,   3,   4,   5,   6,   7],\n",
      "        [ 11,  12,  13,  14,  15,  16,  17],\n",
      "        [ 21,  22,  23,  24,  25,  26,  27],\n",
      "        [ 31,  32,  33,  34,  35,  36,  37],\n",
      "        [ 41,  42,  43,  44,  45,  46,  47],\n",
      "        [ 51,  52,  53,  54,  55,  56,  57],\n",
      "        [ 61,  62,  63,  64,  65,  66,  67],\n",
      "        [ 71,  72,  73,  74,  75,  76,  77],\n",
      "        [ 81,  82,  83,  84,  85,  86,  87],\n",
      "        [ 91,  92,  93,  94,  95,  96,  97],\n",
      "        [101, 102, 103, 104, 105, 106, 107]])\n"
     ]
    }
   ],
   "source": [
    "z = [n + torch.arange(0, 7) for n in range(1, 110, 10)]\n",
    "print(torch.stack(z))"
   ],
   "metadata": {
    "collapsed": false,
    "pycharm": {
     "name": "#%%\n"
    }
   }
  },
  {
   "cell_type": "code",
   "execution_count": 167,
   "outputs": [
    {
     "data": {
      "text/plain": "tensor([11, 12, 13, 14, 15, 16, 17])"
     },
     "execution_count": 167,
     "metadata": {},
     "output_type": "execute_result"
    }
   ],
   "source": [
    "torch.arange(1, 8) + 10"
   ],
   "metadata": {
    "collapsed": false,
    "pycharm": {
     "name": "#%%\n"
    }
   }
  },
  {
   "cell_type": "code",
   "execution_count": 168,
   "outputs": [
    {
     "data": {
      "text/plain": "tensor([  1,  11,  21,  31,  41,  51,  61,  71,  81,  91, 101])"
     },
     "execution_count": 168,
     "metadata": {},
     "output_type": "execute_result"
    }
   ],
   "source": [
    "torch.arange(1, 110, 10)"
   ],
   "metadata": {
    "collapsed": false,
    "pycharm": {
     "name": "#%%\n"
    }
   }
  },
  {
   "cell_type": "markdown",
   "metadata": {
    "id": "oxVeUiHR1RC_",
    "pycharm": {
     "name": "#%% md\n"
    }
   },
   "source": [
    "1.1.4 Написать функцию, которая для целых значений `n` и `m` будет возвращать тензор размера `n`x`m`, заполненный текстурой размера 2x2, состоящей из следующих значений:\n",
    "\n",
    "```\n",
    "0 1\n",
    "\n",
    "2 3\n",
    "\n",
    "```\n",
    "\n",
    "Пример для n = 4 и m = 5:\n",
    "\n",
    "```\n",
    "0 1 0 1 0\n",
    "\n",
    "2 3 2 3 2\n",
    "\n",
    "0 1 0 1 0\n",
    "\n",
    "2 3 2 3 2\n",
    "```"
   ]
  },
  {
   "cell_type": "code",
   "execution_count": 169,
   "outputs": [],
   "source": [
    "n = 4\n",
    "m = 5"
   ],
   "metadata": {
    "collapsed": false,
    "pycharm": {
     "name": "#%%\n"
    }
   }
  },
  {
   "cell_type": "code",
   "execution_count": 211,
   "outputs": [
    {
     "data": {
      "text/plain": "tensor([[0, 1, 2, 3, 0, 1, 2, 3, 0, 1, 2, 3, 0, 1, 2, 3, 0, 1, 2, 3],\n        [0, 1, 2, 3, 0, 1, 2, 3, 0, 1, 2, 3, 0, 1, 2, 3, 0, 1, 2, 3],\n        [0, 1, 2, 3, 0, 1, 2, 3, 0, 1, 2, 3, 0, 1, 2, 3, 0, 1, 2, 3],\n        [0, 1, 2, 3, 0, 1, 2, 3, 0, 1, 2, 3, 0, 1, 2, 3, 0, 1, 2, 3]])"
     },
     "execution_count": 211,
     "metadata": {},
     "output_type": "execute_result"
    }
   ],
   "source": [
    "base = torch.as_tensor([0, 1, 2, 3])\n",
    "base\n",
    "base.repeat(4, 5)"
   ],
   "metadata": {
    "collapsed": false,
    "pycharm": {
     "name": "#%%\n"
    }
   }
  },
  {
   "cell_type": "code",
   "execution_count": 171,
   "outputs": [
    {
     "ename": "RuntimeError",
     "evalue": "allocated size does not match required size",
     "output_type": "error",
     "traceback": [
      "\u001B[1;31m---------------------------------------------------------------------------\u001B[0m",
      "\u001B[1;31mRuntimeError\u001B[0m                              Traceback (most recent call last)",
      "Input \u001B[1;32mIn [171]\u001B[0m, in \u001B[0;36m<module>\u001B[1;34m\u001B[0m\n\u001B[0;32m      1\u001B[0m base \u001B[38;5;241m=\u001B[39m torch\u001B[38;5;241m.\u001B[39mas_tensor([[\u001B[38;5;241m0\u001B[39m, \u001B[38;5;241m1\u001B[39m], [\u001B[38;5;241m2\u001B[39m, \u001B[38;5;241m3\u001B[39m]])\n\u001B[1;32m----> 2\u001B[0m \u001B[43mtorch\u001B[49m\u001B[38;5;241;43m.\u001B[39;49m\u001B[43mrepeat_interleave\u001B[49m\u001B[43m(\u001B[49m\u001B[43mbase\u001B[49m\u001B[43m,\u001B[49m\u001B[43m \u001B[49m\u001B[43mtorch\u001B[49m\u001B[38;5;241;43m.\u001B[39;49m\u001B[43mtensor\u001B[49m\u001B[43m(\u001B[49m\u001B[43m[\u001B[49m\u001B[38;5;241;43m4\u001B[39;49m\u001B[43m,\u001B[49m\u001B[43m \u001B[49m\u001B[38;5;241;43m5\u001B[39;49m\u001B[43m]\u001B[49m\u001B[43m)\u001B[49m\u001B[43m,\u001B[49m\u001B[43m \u001B[49m\u001B[43mdim\u001B[49m\u001B[38;5;241;43m=\u001B[39;49m\u001B[38;5;241;43m0\u001B[39;49m\u001B[43m,\u001B[49m\u001B[43m \u001B[49m\u001B[43moutput_size\u001B[49m\u001B[38;5;241;43m=\u001B[39;49m\u001B[38;5;241;43m7\u001B[39;49m\u001B[43m)\u001B[49m\n",
      "\u001B[1;31mRuntimeError\u001B[0m: allocated size does not match required size"
     ]
    }
   ],
   "source": [
    "base = torch.as_tensor([[0, 1], [2, 3]])\n",
    "torch.repeat_interleave(base, torch.tensor([4, 5]), dim=0, output_size=7)"
   ],
   "metadata": {
    "collapsed": false,
    "pycharm": {
     "name": "#%%\n"
    }
   }
  },
  {
   "cell_type": "code",
   "execution_count": 223,
   "outputs": [
    {
     "data": {
      "text/plain": "tensor([[[0, 1],\n         [2, 3]],\n\n        [[0, 1],\n         [2, 3]],\n\n        [[0, 1],\n         [2, 3]],\n\n        [[0, 1],\n         [2, 3]]])"
     },
     "execution_count": 223,
     "metadata": {},
     "output_type": "execute_result"
    }
   ],
   "source": [
    "base = torch.as_tensor([[0, 1], [2, 3]])\n",
    "base.expand(4, 2, 2)"
   ],
   "metadata": {
    "collapsed": false,
    "pycharm": {
     "name": "#%%\n"
    }
   }
  },
  {
   "cell_type": "code",
   "execution_count": null,
   "outputs": [],
   "source": [],
   "metadata": {
    "collapsed": false,
    "pycharm": {
     "name": "#%%\n"
    }
   }
  },
  {
   "cell_type": "markdown",
   "metadata": {
    "id": "WH9hxJse1RDA",
    "pycharm": {
     "name": "#%% md\n"
    }
   },
   "source": [
    "1.1.5 Сгенерировать двумерный тензор `t` размерности (4, 7), состоящий из случайных действительных чисел, равномерно распределенных в дипазоне от 0 до 20. Нормализовать значения массива с помощью преобразования вида $ax+b$ так, что после нормализации максимальный элемент масива будет равен 1.0, минимальный 0.0"
   ]
  },
  {
   "cell_type": "code",
   "execution_count": null,
   "outputs": [],
   "source": [],
   "metadata": {
    "collapsed": false,
    "pycharm": {
     "name": "#%%\n"
    }
   }
  },
  {
   "cell_type": "markdown",
   "metadata": {
    "id": "vPqIeewXB-mM",
    "pycharm": {
     "name": "#%% md\n"
    }
   },
   "source": [
    "[Random Sampling](https://pytorch.org/docs/stable/torch.html#random-sampling)\n",
    "\n",
    "[Distributions](https://pytorch.org/docs/stable/distributions.html)"
   ]
  },
  {
   "cell_type": "markdown",
   "metadata": {
    "id": "K_R6cwq11RDE",
    "pycharm": {
     "name": "#%% md\n"
    }
   },
   "source": [
    "1.1.6 Задать два двумерных тензора `ar1` и `ar2` размерности (4, 7), состоящих из случайных целых чисел в пределах от 0 до 10. Построить двумерный тензор размерности (4, 7), каждый элемент которого представляет собой максимум из двух значений, находящихся на аналогичной позиции в массивах `ar1`, `ar2`.\n",
    "\n",
    "[Reductions ops](https://pytorch.org/docs/stable/torch.html#reduction-ops)"
   ]
  },
  {
   "cell_type": "markdown",
   "metadata": {
    "id": "x6zmMhyKBPWQ",
    "pycharm": {
     "name": "#%% md\n"
    }
   },
   "source": [
    "1.1.7 Создать тензор из 20 случайных целых чисел от 0 до 100. Получить второе сверху значение в тензоре. Определить индекс этого значения."
   ]
  },
  {
   "cell_type": "code",
   "execution_count": 207,
   "outputs": [
    {
     "data": {
      "text/plain": "tensor([98,  8, 74,  6, 28, 24,  3, 15, 74, 16, 81, 85,  5, 72,  8, 54, 36, 12,\n        58, 72])"
     },
     "execution_count": 207,
     "metadata": {},
     "output_type": "execute_result"
    }
   ],
   "source": [
    "x = torch.randint(0, 101, (20, ))\n",
    "x"
   ],
   "metadata": {
    "collapsed": false,
    "pycharm": {
     "name": "#%%\n"
    }
   }
  },
  {
   "cell_type": "code",
   "execution_count": 210,
   "outputs": [
    {
     "data": {
      "text/plain": "8"
     },
     "execution_count": 210,
     "metadata": {},
     "output_type": "execute_result"
    }
   ],
   "source": [
    "x[1].item()"
   ],
   "metadata": {
    "collapsed": false,
    "pycharm": {
     "name": "#%%\n"
    }
   }
  },
  {
   "cell_type": "code",
   "execution_count": 209,
   "outputs": [
    {
     "data": {
      "text/plain": "tensor([0, 2])"
     },
     "execution_count": 209,
     "metadata": {},
     "output_type": "execute_result"
    }
   ],
   "source": [
    "torch.tensor([0, 2])"
   ],
   "metadata": {
    "collapsed": false,
    "pycharm": {
     "name": "#%%\n"
    }
   }
  },
  {
   "cell_type": "code",
   "execution_count": 175,
   "outputs": [
    {
     "ename": "TypeError",
     "evalue": "index_select() received an invalid combination of arguments - got (), but expected one of:\n * (Tensor input, int dim, Tensor index, *, Tensor out)\n * (Tensor input, name dim, Tensor index, *, Tensor out)\n",
     "output_type": "error",
     "traceback": [
      "\u001B[1;31m---------------------------------------------------------------------------\u001B[0m",
      "\u001B[1;31mTypeError\u001B[0m                                 Traceback (most recent call last)",
      "Input \u001B[1;32mIn [175]\u001B[0m, in \u001B[0;36m<module>\u001B[1;34m\u001B[0m\n\u001B[1;32m----> 1\u001B[0m \u001B[43mtorch\u001B[49m\u001B[38;5;241;43m.\u001B[39;49m\u001B[43mindex_select\u001B[49m\u001B[43m(\u001B[49m\u001B[43m)\u001B[49m\n",
      "\u001B[1;31mTypeError\u001B[0m: index_select() received an invalid combination of arguments - got (), but expected one of:\n * (Tensor input, int dim, Tensor index, *, Tensor out)\n * (Tensor input, name dim, Tensor index, *, Tensor out)\n"
     ]
    }
   ],
   "source": [
    "torch.index_select()"
   ],
   "metadata": {
    "collapsed": false,
    "pycharm": {
     "name": "#%%\n"
    }
   }
  },
  {
   "cell_type": "markdown",
   "metadata": {
    "id": "Xshsy8fD1RDE",
    "pycharm": {
     "name": "#%% md\n"
    }
   },
   "source": [
    "## 1.2 Распространение"
   ]
  },
  {
   "cell_type": "markdown",
   "metadata": {
    "id": "jlP22HAJCo28",
    "pycharm": {
     "name": "#%% md\n"
    }
   },
   "source": [
    "[Numpy broadcasting](https://numpy.org/devdocs/user/theory.broadcasting.html)\n",
    "\n",
    "[Torch broadcasting](https://pytorch.org/docs/stable/notes/broadcasting.html)"
   ]
  },
  {
   "cell_type": "markdown",
   "metadata": {
    "id": "uRD6-8Gd1RDF",
    "pycharm": {
     "name": "#%% md\n"
    }
   },
   "source": [
    "1.2.1 Создать тензор 11x7 вида: `[[1, 2, 3, ..., 7], [11, 12, 13, ..., 17], [21, 22, 23, ..., 27], ..., [101, 102, 103, ..., 107]]`. При решении задачи применить технику распространения."
   ]
  },
  {
   "cell_type": "markdown",
   "metadata": {
    "id": "iSY9Iday1RDF",
    "pycharm": {
     "name": "#%% md\n"
    }
   },
   "source": [
    "1.2.2 Вычесть одномерный тензор `b_1d` из двухмерного тензора `a_2d`, так, чтобы каждый элемент одномерного тензора вычитался из всех элементов соответствующих строк двумерного тензора.\n",
    "\n",
    "_Пример:_\n",
    "\n",
    "Для входа:\n",
    "```python\n",
    "a_2d = np.array([[3,3,3],[4,4,4],[5,5,5]])\n",
    "b_1d = np.array([1,2,3])\n",
    "```\n",
    "\n",
    "Ожидается резульат:\n",
    "\n",
    "```python\n",
    "[[2 2 2]\n",
    " [2 2 2]\n",
    " [2 2 2]]\n",
    "```"
   ]
  },
  {
   "cell_type": "markdown",
   "metadata": {
    "id": "dFTvPsY91RDF",
    "pycharm": {
     "name": "#%% md\n"
    }
   },
   "source": [
    "## 1.3 Индексы, маскирование и прихотливое индексирование\n",
    "\n",
    "[Документация по функциям для работы с индексами](https://pytorch.org/docs/stable/torch.html#indexing-slicing-joining-mutating-ops)"
   ]
  },
  {
   "cell_type": "markdown",
   "metadata": {
    "id": "McYtDYhH1RDG",
    "pycharm": {
     "name": "#%% md\n"
    }
   },
   "source": [
    "1.3.1 Получить индексы, для которых элементы тензоров `a` и `b` совпадают.\n",
    "\n",
    "_Пример:_\n",
    "\n",
    "Для входа:\n",
    "```python\n",
    "a = np.array([1,2,3,2,3,4,3,4,5,6])\n",
    "b = np.array([7,2,10,2,7,4,9,4,9,8])\n",
    "```\n",
    "\n",
    "Ожидается резульат:\n",
    "\n",
    "```python\n",
    "array([1, 3, 5, 7])\n",
    "```"
   ]
  },
  {
   "cell_type": "code",
   "execution_count": 198,
   "outputs": [],
   "source": [
    "a = np.array([1,2,3,2,3,4,3,4,5,6])\n",
    "b = np.array([7,2,10,2,7,4,9,4,9,8])"
   ],
   "metadata": {
    "collapsed": false,
    "pycharm": {
     "name": "#%%\n"
    }
   }
  },
  {
   "cell_type": "code",
   "execution_count": 199,
   "outputs": [
    {
     "data": {
      "text/plain": "(tensor([1, 3, 5, 7]),)"
     },
     "execution_count": 199,
     "metadata": {},
     "output_type": "execute_result"
    }
   ],
   "source": [
    "a = torch.tensor(a)\n",
    "b = torch.tensor(b)\n",
    "torch.where(a == b)"
   ],
   "metadata": {
    "collapsed": false,
    "pycharm": {
     "name": "#%%\n"
    }
   }
  },
  {
   "cell_type": "markdown",
   "metadata": {
    "id": "MnBq3nfy1RDG",
    "pycharm": {
     "name": "#%% md\n"
    }
   },
   "source": [
    "1.3.2 Инвертировать порядок элементов в двумерном тензоре `torch.arange(9).view(3,3)`.\n",
    "\n",
    "Ожидаемый результат:\n",
    "\n",
    "\n",
    "```python\n",
    "array([[8, 7, 6],\n",
    "       [5, 4, 3],\n",
    "       [2, 1, 0]])\n",
    "```"
   ]
  },
  {
   "cell_type": "code",
   "execution_count": 205,
   "outputs": [
    {
     "data": {
      "text/plain": "tensor([[0, 1, 2],\n        [3, 4, 5],\n        [6, 7, 8]])"
     },
     "execution_count": 205,
     "metadata": {},
     "output_type": "execute_result"
    }
   ],
   "source": [
    "torch.arange(9).view(3,3)"
   ],
   "metadata": {
    "collapsed": false,
    "pycharm": {
     "name": "#%%\n"
    }
   }
  },
  {
   "cell_type": "markdown",
   "metadata": {
    "id": "tANsLnOC1RDH",
    "pycharm": {
     "name": "#%% md\n"
    }
   },
   "source": [
    "1.3.3 Из входного тензора a получить только элементы, находящиеся в диапазоне от 5 до 10.\n",
    "\n",
    "_Пример:_\n",
    "\n",
    "Для входа:\n",
    "```python\n",
    "a = np.array([2, 6, 1, 9, 10, 3, 27])\n",
    "```\n",
    "\n",
    "Ожидается резульат:\n",
    "\n",
    "```python\n",
    "array([6, 9, 10])\n",
    "```"
   ]
  },
  {
   "cell_type": "markdown",
   "metadata": {
    "id": "3vlK0gV21RDH",
    "pycharm": {
     "name": "#%% md\n"
    }
   },
   "source": [
    "1.3.4 Поменять местами столбец 1 и 2 тензора `np.arange(9).reshape(3,3)`"
   ]
  },
  {
   "cell_type": "markdown",
   "metadata": {
    "id": "cheFtWhU1RDH",
    "pycharm": {
     "name": "#%% md\n"
    }
   },
   "source": [
    "1.3.5 Создать тензор 8 на 10 из случайных целых чисел из диапазона от 0 до 10 и найти в ней строку (ее индекс и вывести саму строку), в которой сумма значений минимальна."
   ]
  },
  {
   "cell_type": "markdown",
   "metadata": {
    "id": "grOCNU4XFE2B",
    "pycharm": {
     "name": "#%% md\n"
    }
   },
   "source": [
    "1.3.6 Cоздать тензор из 20 случайных целых чисел от 0 до 100. Обрезать значения тензора (заменить значения, выходящие за диапазон, на крайние значения) снизу по значению 30, сверху по значению 70."
   ]
  },
  {
   "cell_type": "code",
   "execution_count": 225,
   "outputs": [
    {
     "data": {
      "text/plain": "tensor([72, 30, 66, 67, 76, 33, 83, 91, 80, 97, 38, 15, 39, 44, 49,  7, 41, 78,\n        67, 24])"
     },
     "execution_count": 225,
     "metadata": {},
     "output_type": "execute_result"
    }
   ],
   "source": [
    "x = torch.randint(0, 101, (20, ))\n",
    "x"
   ],
   "metadata": {
    "collapsed": false,
    "pycharm": {
     "name": "#%%\n"
    }
   }
  },
  {
   "cell_type": "code",
   "execution_count": 228,
   "outputs": [
    {
     "data": {
      "text/plain": "tensor([70, 30, 66, 67, 70, 33, 70, 70, 70, 70, 38, 30, 39, 44, 49, 30, 41, 70,\n        67, 30])"
     },
     "execution_count": 228,
     "metadata": {},
     "output_type": "execute_result"
    }
   ],
   "source": [
    "x[x < 30] = 30\n",
    "x[x > 70] = 70\n",
    "x"
   ],
   "metadata": {
    "collapsed": false,
    "pycharm": {
     "name": "#%%\n"
    }
   }
  },
  {
   "cell_type": "markdown",
   "metadata": {
    "id": "HNfQjY8P1RDI",
    "pycharm": {
     "name": "#%% md\n"
    }
   },
   "source": [
    "1.3.7 Создать два тензора размера 30 на 3 из случайных целых чисел из диапазона от 0 до 10 и найти все значения первого тензора, которые больше соответсвующих (по расположению) значений второго тензора. Подсчитать сумму этих значений."
   ]
  },
  {
   "cell_type": "markdown",
   "metadata": {
    "id": "doBCxYJA1RDI",
    "pycharm": {
     "name": "#%% md\n"
    }
   },
   "source": [
    "1.3.8 При помощи прихотливого индексирования для двухмерного массива размерности (20, 20), состоящего из случайных целых чисел в пределах от 0 до 10 получить массив элементов находящихся на диагонали, проходящей над основной диагональю."
   ]
  },
  {
   "cell_type": "markdown",
   "metadata": {
    "id": "6M1lkfLp1RDJ",
    "pycharm": {
     "name": "#%% md\n"
    }
   },
   "source": [
    "1.3.9 Задать два двухмерных тензора `ar1` и `ar2` размерности (5, 10), состоящих из случайных целых чисел в пределах от 0 до 10. Удвоить все значения `ar1`, которые совпадают со значениями `ar2`, расположенными на аналогичных позициях."
   ]
  },
  {
   "cell_type": "markdown",
   "metadata": {
    "id": "Qe2oVr4p1RDJ",
    "pycharm": {
     "name": "#%% md\n"
    }
   },
   "source": [
    "1.3.10 Заданы три двухмерных тензора `ar1`, `ar2` и `ar3` размерности (4, 7), состоящие из случайных целых чисел в пределах от 0 до 10. Обнулить все элементы `ar1`, которые больше соответствующих (находящихся в соответствующих позициях) элементов `ar2` и меньше соответствующих элементов `ar3`."
   ]
  },
  {
   "cell_type": "markdown",
   "metadata": {
    "id": "BTcRVeYh1RDK",
    "pycharm": {
     "name": "#%% md\n"
    }
   },
   "source": [
    "1.3.11 Задан двумерный тензор `ar1` размерности (20, 5), состоящий из случайных целых чисел в пределах от 0 до 20. Определить, в каких столбцах не менее 5 раз встречается значение, максимальное по своей строке."
   ]
  },
  {
   "cell_type": "markdown",
   "metadata": {
    "id": "ZeYlNWNE1RDK",
    "pycharm": {
     "name": "#%% md\n"
    }
   },
   "source": [
    "1.3.12 Задан двумерный тензор `ar1` размерности (4, 7), состоящий из случайных  чисел в пределах от 0 до 1. Обнулить все значения в массиве, расположенные строго правее и ниже максимального элемента массива. "
   ]
  },
  {
   "cell_type": "markdown",
   "metadata": {
    "id": "pYxX90B11RDL",
    "pycharm": {
     "name": "#%% md\n"
    }
   },
   "source": [
    "1.3.13 Построить \"one-hot encoding\" для одномерного тензора, содержащего целые числа (длина вектора заранее неизвестна, набор значений заранее неизвестен, при этом в итоговой матрице должны присутствовать столбцы для всех натуральных чисел вплоть до максимального встречающегося в исходном массиве).\n",
    "\n",
    "Пример:\n",
    "\n",
    "для тензора `torch.tensor([2, 3, 2, 2, 2, 1])`.\n",
    "\n",
    "Ожидается результат:\n",
    "\n",
    "```python\n",
    "tensor([[0., 1., 0.],\n",
    "        [0., 0., 1.],\n",
    "        [0., 1., 0.],\n",
    "        [0., 1., 0.],\n",
    "        [0., 1., 0.],\n",
    "        [1., 0., 0.]])\n",
    "```"
   ]
  },
  {
   "cell_type": "markdown",
   "metadata": {
    "id": "GYU8DmNTDLN8",
    "pycharm": {
     "name": "#%% md\n"
    }
   },
   "source": [
    "1.3.14 Создать тензор `arr` из 20 случайных целых чисел от 0 до 100. Найти самое частое значение в тензоре. \n",
    "Найти индексы в тензоре, соответствующие самому частому значению. Проверить, как работет алгоритм при двух значениях, имеющих наибольшую встречаемость, предложить приемлемое поведение алгоритма для этого случая. "
   ]
  },
  {
   "cell_type": "markdown",
   "metadata": {
    "id": "UenAEfEG1RDN",
    "pycharm": {
     "name": "#%% md\n"
    }
   },
   "source": [
    "## 1.4 Математические задачи"
   ]
  },
  {
   "cell_type": "markdown",
   "metadata": {
    "id": "6weDrqJR1RDN",
    "pycharm": {
     "name": "#%% md\n"
    }
   },
   "source": [
    "1.4.1 Приблизительно (с погрешностью порядка 1%) рассчитать на какой части интервала от 0 до 10 значение функции x * sin(x) больше 0.5."
   ]
  },
  {
   "cell_type": "markdown",
   "metadata": {
    "id": "B9xAv8TR1RDN",
    "pycharm": {
     "name": "#%% md\n"
    }
   },
   "source": [
    "1.4.2 Найти все простые числа в пределах ста. (Для решения предлагается использовать Решето Эратосфена) Использовать не более 1 цикла (желательно)."
   ]
  },
  {
   "cell_type": "markdown",
   "metadata": {
    "id": "AHupFoTR1RDN",
    "pycharm": {
     "name": "#%% md\n"
    }
   },
   "source": [
    "1.4.3 Найти евклидово расстояние между двумя одномерными тензорами одинаковой размерности, не используя готовые решения из библиотек."
   ]
  },
  {
   "cell_type": "markdown",
   "metadata": {
    "id": "j-ZvjWDKDVMQ",
    "pycharm": {
     "name": "#%% md\n"
    }
   },
   "source": [
    "1.4.4 Создать двумерный тензор 20 на 3, содержащий случайные целые числа от 0 до 100. \n",
    "Интерпретируя тензор как 20 векторов из 3х компонент, отсортировать его по длине векторов."
   ]
  },
  {
   "cell_type": "markdown",
   "metadata": {
    "id": "IkBRFTKa1RDO",
    "pycharm": {
     "name": "#%% md\n"
    }
   },
   "source": [
    "1.4.5 Найти \"локальные максимумы\" в одномерном тензоре (т.е. значения, большие предыдущего и последующего) `torch.tensor([1, 3, 7, 1, 2, 6, 0, 1])` и вывести их индексы."
   ]
  },
  {
   "cell_type": "markdown",
   "metadata": {
    "id": "VXD58rlc1RDP",
    "pycharm": {
     "name": "#%% md\n"
    }
   },
   "source": [
    "1.4.6 Задан произвольный массив numpy (например массив из 100 случайных числе от 0 до 1). Необходимо найти в нем число наиболее близкое к заданному."
   ]
  },
  {
   "cell_type": "markdown",
   "metadata": {
    "id": "81F_B2ij1RDP",
    "pycharm": {
     "name": "#%% md\n"
    }
   },
   "source": [
    "1.4.7 Решить матричное уравнение `A*X*B=-C` - найти матрицу X. Где `A = [[-1, 2, 4], [-3, 1, 2], [-3, 0, 1]]`, `B=[[3, -1], [2, 1]]`, `C=[[7, 21], [11, 8], [8, 4]]`."
   ]
  },
  {
   "cell_type": "markdown",
   "metadata": {
    "id": "1P7O19bj1RDP",
    "pycharm": {
     "name": "#%% md\n"
    }
   },
   "source": [
    "1.4.8 Проверить, является ли система векторов a1 = (3; −3; 0; 7),\n",
    "a2 = (2; 2; 4; 7), a3 = (1; 2; 3; 4), a4 = (5; −4; 1; 3) линейно зависимой?"
   ]
  },
  {
   "cell_type": "markdown",
   "metadata": {
    "id": "Jg_bzMVS1RDQ",
    "pycharm": {
     "name": "#%% md\n"
    }
   },
   "source": [
    "1.4.9 Сгенирировать тензор из 200 случайных целых чисел, нормально распрделенных cо стандартным отклонением $\\sigma = 10$ и матожиданием $\\mu = 0$. Построить тензор гистограммы с 20 бинами. "
   ]
  }
 ],
 "metadata": {
  "colab": {
   "name": "01_tensor_v1_blank.ipynb",
   "provenance": [],
   "toc_visible": true
  },
  "kernelspec": {
   "display_name": "Python 3 (ipykernel)",
   "language": "python",
   "name": "python3"
  },
  "language_info": {
   "codemirror_mode": {
    "name": "ipython",
    "version": 3
   },
   "file_extension": ".py",
   "mimetype": "text/x-python",
   "name": "python",
   "nbconvert_exporter": "python",
   "pygments_lexer": "ipython3",
   "version": "3.9.7"
  }
 },
 "nbformat": 4,
 "nbformat_minor": 1
}