{
 "cells": [
  {
   "cell_type": "markdown",
   "metadata": {
    "id": "_gE94V3G1RCx",
    "pycharm": {
     "name": "#%% md\n"
    }
   },
   "source": [
    "# 01. Знакомство с `torch.Tensor`"
   ]
  },
  {
   "cell_type": "markdown",
   "metadata": {
    "id": "TlWOXn0f1RC7",
    "pycharm": {
     "name": "#%% md\n"
    }
   },
   "source": [
    "---"
   ]
  },
  {
   "cell_type": "markdown",
   "metadata": {
    "id": "lZfJ1FRM1RC8",
    "pycharm": {
     "name": "#%% md\n"
    }
   },
   "source": [
    "При решении данных задач не подразумевается использования циклов или генераторов Python, если в задании не сказано обратного. Решение должно опираться на использование функционала библиотеки `torch`.\n",
    "\n",
    "[PyTorch documentation](https://pytorch.org/docs/stable/#pytorch-documentation)"
   ]
  },
  {
   "cell_type": "code",
   "execution_count": 1,
   "metadata": {
    "id": "b3AW8rF-1RC9",
    "pycharm": {
     "name": "#%%\n"
    }
   },
   "outputs": [],
   "source": [
    "import numpy as np\n",
    "import torch"
   ]
  },
  {
   "cell_type": "code",
   "execution_count": 2,
   "outputs": [
    {
     "data": {
      "text/plain": "sys.version_info(major=3, minor=10, micro=7, releaselevel='final', serial=0)"
     },
     "execution_count": 2,
     "metadata": {},
     "output_type": "execute_result"
    }
   ],
   "source": [
    "import sys\n",
    "sys.version_info"
   ],
   "metadata": {
    "pycharm": {
     "name": "#%%\n"
    },
    "id": "SRYUML31KoEv",
    "outputId": "04c18521-4575-4e64-94ea-6f9ddf18ba3d",
    "colab": {
     "base_uri": "https://localhost:8080/"
    }
   }
  },
  {
   "cell_type": "markdown",
   "metadata": {
    "id": "vow49PuE1RC9",
    "pycharm": {
     "name": "#%% md\n"
    }
   },
   "source": [
    "## 1.1 Создание тензоров и выполнение базовых операций над ними\n",
    "\n",
    "[Документация по функциям для создания тензоров](https://pytorch.org/docs/stable/torch.html#creation-ops)\n",
    "\n",
    "[Документация по функциям для работы с индексами](https://pytorch.org/docs/stable/torch.html#indexing-slicing-joining-mutating-ops)"
   ]
  },
  {
   "cell_type": "markdown",
   "metadata": {
    "id": "wBIwO1SB1RC-",
    "pycharm": {
     "name": "#%% md\n"
    }
   },
   "source": [
    "1.1.1 Создайте двумерный тензор размера (8, 8). Используя как можно меньше операций, добейтесь расстановки кодов \"шахматных фигур\".\n",
    "\n",
    "Ожидаемый результат:\n",
    "\n",
    "```\n",
    "[[-4., -3., -2., -6., -5., -2., -3., -4.],\n",
    " [-1., -1., -1., -1., -1., -1., -1., -1.],\n",
    " [0., 0., 0., 0., 0., 0., 0., 0.],\n",
    " [0., 0., 0., 0., 0., 0., 0., 0.],\n",
    " [0., 0., 0., 0., 0., 0., 0., 0.],\n",
    " [0., 0., 0., 0., 0., 0., 0., 0.],\n",
    " [1., 1., 1., 1., 1., 1., 1., 1.],\n",
    " [4., 3., 2., 6., 5., 2., 3., 4.]]\n",
    "\n",
    "```"
   ]
  },
  {
   "cell_type": "code",
   "execution_count": 3,
   "outputs": [
    {
     "data": {
      "text/plain": "tensor([[0., 0., 0., 0., 0., 0., 0., 0.],\n        [0., 0., 0., 0., 0., 0., 0., 0.],\n        [0., 0., 0., 0., 0., 0., 0., 0.],\n        [0., 0., 0., 0., 0., 0., 0., 0.],\n        [0., 0., 0., 0., 0., 0., 0., 0.],\n        [0., 0., 0., 0., 0., 0., 0., 0.],\n        [0., 0., 0., 0., 0., 0., 0., 0.],\n        [0., 0., 0., 0., 0., 0., 0., 0.]])"
     },
     "execution_count": 3,
     "metadata": {},
     "output_type": "execute_result"
    }
   ],
   "source": [
    "task1 = torch.zeros((8, 8))\n",
    "task1"
   ],
   "metadata": {
    "pycharm": {
     "name": "#%%\n"
    },
    "id": "d07jkAsDKoEx",
    "outputId": "de12a4b2-f6ea-4b6a-c902-334026d3e0d2"
   }
  },
  {
   "cell_type": "code",
   "execution_count": 4,
   "outputs": [
    {
     "data": {
      "text/plain": "tensor([[-4., -3., -2., -6., -5., -2., -3., -4.],\n        [-1., -1., -1., -1., -1., -1., -1., -1.],\n        [ 0.,  0.,  0.,  0.,  0.,  0.,  0.,  0.],\n        [ 0.,  0.,  0.,  0.,  0.,  0.,  0.,  0.],\n        [ 0.,  0.,  0.,  0.,  0.,  0.,  0.,  0.],\n        [ 0.,  0.,  0.,  0.,  0.,  0.,  0.,  0.],\n        [ 1.,  1.,  1.,  1.,  1.,  1.,  1.,  1.],\n        [ 4.,  3.,  2.,  6.,  5.,  2.,  3.,  4.]])"
     },
     "execution_count": 4,
     "metadata": {},
     "output_type": "execute_result"
    }
   ],
   "source": [
    "task1[0] = torch.as_tensor([-4., -3., -2., -6., -5., -2., -3., -4.])\n",
    "task1[1] = -1\n",
    "task1[-2] = task1[1] * -1\n",
    "task1[-1] = task1[0] * -1\n",
    "task1"
   ],
   "metadata": {
    "pycharm": {
     "name": "#%%\n"
    },
    "id": "td3QW62IKoEy",
    "outputId": "b7a3e858-dcdc-43c0-9efe-a804f64ba3a2"
   }
  },
  {
   "cell_type": "markdown",
   "metadata": {
    "id": "20x5RE1V1RC_",
    "pycharm": {
     "name": "#%% md\n"
    }
   },
   "source": [
    "1.1.2 Средствами `torch` рассчитать произведения четных чисел от 2 до 20 на ближайшие к ним бОльшие нечетные числа."
   ]
  },
  {
   "cell_type": "code",
   "execution_count": 5,
   "outputs": [
    {
     "data": {
      "text/plain": "tensor([  6,  20,  42,  72, 110, 156, 210, 272, 342, 420])"
     },
     "execution_count": 5,
     "metadata": {},
     "output_type": "execute_result"
    }
   ],
   "source": [
    "data = torch.arange(2, 21)\n",
    "x = data[data % 2 == 0]\n",
    "y = x + 1\n",
    "z = x * y\n",
    "z"
   ],
   "metadata": {
    "pycharm": {
     "name": "#%%\n"
    },
    "id": "xX9I_XCDKoE0",
    "outputId": "d5f002ea-89aa-41be-8552-fc9bd6392171"
   }
  },
  {
   "cell_type": "markdown",
   "metadata": {
    "id": "N_-t5GRM1RC_",
    "pycharm": {
     "name": "#%% md\n"
    }
   },
   "source": [
    "1.1.3 Создать тензор размера 11x7 вида: [[1, 2, 3, ..., 7], [11, 12, 13, ..., 17], [21, 22, 23, ..., 27], ..., [101, 102, 103, ..., 107]]"
   ]
  },
  {
   "cell_type": "code",
   "execution_count": 7,
   "outputs": [
    {
     "data": {
      "text/plain": "tensor([[  1,  11,  21,  31,  41,  51,  61,  71,  81,  91, 101],\n        [  2,  12,  22,  32,  42,  52,  62,  72,  82,  92, 102],\n        [  3,  13,  23,  33,  43,  53,  63,  73,  83,  93, 103],\n        [  4,  14,  24,  34,  44,  54,  64,  74,  84,  94, 104],\n        [  5,  15,  25,  35,  45,  55,  65,  75,  85,  95, 105],\n        [  6,  16,  26,  36,  46,  56,  66,  76,  86,  96, 106],\n        [  7,  17,  27,  37,  47,  57,  67,  77,  87,  97, 107]])"
     },
     "execution_count": 7,
     "metadata": {},
     "output_type": "execute_result"
    }
   ],
   "source": [
    "x = torch.arange(0, 7)\n",
    "y = torch.arange(1, 110, 10)\n",
    "x.unsqueeze(1) + y"
   ],
   "metadata": {
    "collapsed": false,
    "pycharm": {
     "name": "#%%\n"
    }
   }
  },
  {
   "cell_type": "markdown",
   "source": [
    "1.1.4 Написать функцию, которая для целых значений `n` и `m` будет возвращать тензор размера `n`x`m`, заполненный текстурой размера 2x2, состоящей из следующих значений:\n",
    "\n",
    "```\n",
    "0 1\n",
    "\n",
    "2 3\n",
    "\n",
    "```\n",
    "\n",
    "Пример для n = 4 и m = 5:\n",
    "\n",
    "```\n",
    "0 1 0 1 0\n",
    "\n",
    "2 3 2 3 2\n",
    "\n",
    "0 1 0 1 0\n",
    "\n",
    "2 3 2 3 2\n",
    "```"
   ],
   "metadata": {
    "collapsed": false,
    "pycharm": {
     "name": "#%% md\n"
    }
   }
  },
  {
   "cell_type": "code",
   "execution_count": 8,
   "outputs": [],
   "source": [
    "n = 4\n",
    "m = 5"
   ],
   "metadata": {
    "collapsed": false,
    "pycharm": {
     "name": "#%%\n"
    }
   }
  },
  {
   "cell_type": "code",
   "execution_count": 214,
   "outputs": [
    {
     "data": {
      "text/plain": "tensor([[0, 1, 0, 1, 0],\n        [2, 3, 2, 3, 2],\n        [0, 1, 0, 1, 0],\n        [2, 3, 2, 3, 2]])"
     },
     "execution_count": 214,
     "metadata": {},
     "output_type": "execute_result"
    }
   ],
   "source": [
    "base = torch.as_tensor([[0, 1], [2, 3]])\n",
    "base.repeat(n, m)[:n, :m]"
   ],
   "metadata": {
    "collapsed": false,
    "pycharm": {
     "name": "#%%\n"
    }
   }
  },
  {
   "cell_type": "markdown",
   "source": [
    "1.1.5 Сгенерировать двумерный тензор `t` размерности (4, 7), состоящий из случайных действительных чисел, равномерно распределенных в дипазоне от 0 до 20. Нормализовать значения массива с помощью преобразования вида $ax+b$ так, что после нормализации максимальный элемент масива будет равен 1.0, минимальный 0.0"
   ],
   "metadata": {
    "collapsed": false,
    "pycharm": {
     "name": "#%% md\n"
    }
   }
  },
  {
   "cell_type": "code",
   "execution_count": 225,
   "outputs": [
    {
     "data": {
      "text/plain": "tensor([[ 9.,  8.,  0., 10., 14.,  1., 20.],\n        [20.,  3.,  0., 12., 12.,  7.,  7.],\n        [ 7., 19.,  9., 17.,  7.,  3., 18.],\n        [13., 11.,  2., 13.,  0., 11., 12.]], dtype=torch.float64)"
     },
     "execution_count": 225,
     "metadata": {},
     "output_type": "execute_result"
    }
   ],
   "source": [
    "a = torch.randint(0, 21, (4, 7), dtype=float)\n",
    "a"
   ],
   "metadata": {
    "collapsed": false,
    "pycharm": {
     "name": "#%%\n"
    }
   }
  },
  {
   "cell_type": "code",
   "execution_count": 254,
   "outputs": [
    {
     "data": {
      "text/plain": "tensor([[0.4499, 0.3999, 0.0000, 0.4999, 0.6999, 0.0500, 0.9998],\n        [1.0000, 0.1500, 0.0000, 0.6000, 0.6000, 0.3500, 0.3500],\n        [0.3579, 0.9714, 0.4602, 0.8692, 0.3579, 0.1534, 0.9203],\n        [0.9464, 0.8008, 0.1456, 0.9464, 0.0000, 0.8008, 0.8736]],\n       dtype=torch.float64)"
     },
     "execution_count": 254,
     "metadata": {},
     "output_type": "execute_result"
    }
   ],
   "source": [
    "torch.nn.functional.normalize(a, 16)"
   ],
   "metadata": {
    "collapsed": false,
    "pycharm": {
     "name": "#%%\n"
    }
   }
  },
  {
   "cell_type": "markdown",
   "source": [
    "[Random Sampling](https://pytorch.org/docs/stable/torch.html#random-sampling)\n",
    "\n",
    "[Distributions](https://pytorch.org/docs/stable/distributions.html)"
   ],
   "metadata": {
    "collapsed": false,
    "pycharm": {
     "name": "#%% md\n"
    }
   }
  },
  {
   "cell_type": "markdown",
   "source": [
    "1.1.6 Задать два двумерных тензора `ar1` и `ar2` размерности (4, 7), состоящих из случайных целых чисел в пределах от 0 до 10. Построить двумерный тензор размерности (4, 7), каждый элемент которого представляет собой максимум из двух значений, находящихся на аналогичной позиции в массивах `ar1`, `ar2`.\n",
    "\n",
    "[Reductions ops](https://pytorch.org/docs/stable/torch.html#reduction-ops)"
   ],
   "metadata": {
    "collapsed": false,
    "pycharm": {
     "name": "#%% md\n"
    }
   }
  },
  {
   "cell_type": "code",
   "execution_count": 212,
   "outputs": [
    {
     "data": {
      "text/plain": "(tensor([[3, 5, 6, 6, 5, 3, 1],\n         [1, 7, 7, 2, 0, 8, 0],\n         [3, 2, 9, 0, 7, 1, 2],\n         [4, 4, 7, 2, 9, 1, 6]]),\n tensor([[6, 6, 1, 2, 4, 1, 1],\n         [4, 3, 8, 8, 6, 8, 1],\n         [5, 6, 4, 3, 6, 1, 4],\n         [9, 2, 1, 1, 0, 3, 9]]))"
     },
     "execution_count": 212,
     "metadata": {},
     "output_type": "execute_result"
    }
   ],
   "source": [
    "ar1 = torch.randint(0, 10, (4, 7))\n",
    "ar2 = torch.randint(0, 10, (4, 7))\n",
    "ar1, ar2"
   ],
   "metadata": {
    "collapsed": false,
    "pycharm": {
     "name": "#%%\n"
    }
   }
  },
  {
   "cell_type": "code",
   "execution_count": 213,
   "outputs": [
    {
     "data": {
      "text/plain": "tensor([[6, 6, 6, 6, 5, 3, 1],\n        [4, 7, 8, 8, 6, 8, 1],\n        [5, 6, 9, 3, 7, 1, 4],\n        [9, 4, 7, 2, 9, 3, 9]])"
     },
     "execution_count": 213,
     "metadata": {},
     "output_type": "execute_result"
    }
   ],
   "source": [
    "torch.where(ar1>ar2, ar1, ar2)"
   ],
   "metadata": {
    "collapsed": false,
    "pycharm": {
     "name": "#%%\n"
    }
   }
  },
  {
   "cell_type": "markdown",
   "source": [
    "1.1.7 Создать тензор из 20 случайных целых чисел от 0 до 100. Получить второе сверху значение в тензоре. Определить индекс этого значения."
   ],
   "metadata": {
    "collapsed": false,
    "pycharm": {
     "name": "#%% md\n"
    }
   }
  },
  {
   "cell_type": "code",
   "execution_count": 208,
   "outputs": [
    {
     "data": {
      "text/plain": "tensor([88,  7,  4, 33, 78, 43, 15, 27, 91,  1, 87, 41, 40, 58, 70, 88, 50,  0,\n        43, 24])"
     },
     "execution_count": 208,
     "metadata": {},
     "output_type": "execute_result"
    }
   ],
   "source": [
    "x = torch.randint(0, 101, (20, ))\n",
    "values, indices = x.sort()\n",
    "x"
   ],
   "metadata": {
    "collapsed": false,
    "pycharm": {
     "name": "#%%\n"
    }
   }
  },
  {
   "cell_type": "code",
   "execution_count": 209,
   "outputs": [
    {
     "data": {
      "text/plain": "torch.return_types.sort(\nvalues=tensor([ 0,  1,  4,  7, 15, 24, 27, 33, 40, 41, 43, 43, 50, 58, 70, 78, 87, 88,\n        88, 91]),\nindices=tensor([17,  9,  2,  1,  6, 19,  7,  3, 12, 11,  5, 18, 16, 13, 14,  4, 10,  0,\n        15,  8]))"
     },
     "execution_count": 209,
     "metadata": {},
     "output_type": "execute_result"
    }
   ],
   "source": [
    "x.sort()"
   ],
   "metadata": {
    "collapsed": false,
    "pycharm": {
     "name": "#%%\n"
    }
   }
  },
  {
   "cell_type": "code",
   "execution_count": 210,
   "outputs": [
    {
     "data": {
      "text/plain": "(tensor(91), tensor(8))"
     },
     "execution_count": 210,
     "metadata": {},
     "output_type": "execute_result"
    }
   ],
   "source": [
    "values[-1], indices[-1]"
   ],
   "metadata": {
    "collapsed": false,
    "pycharm": {
     "name": "#%%\n"
    }
   }
  },
  {
   "cell_type": "markdown",
   "source": [
    "## 1.2 Распространение"
   ],
   "metadata": {
    "collapsed": false,
    "pycharm": {
     "name": "#%% md\n"
    }
   }
  },
  {
   "cell_type": "markdown",
   "source": [
    "[Numpy broadcasting](https://numpy.org/devdocs/user/theory.broadcasting.html)\n",
    "\n",
    "[Torch broadcasting](https://pytorch.org/docs/stable/notes/broadcasting.html)"
   ],
   "metadata": {
    "collapsed": false,
    "pycharm": {
     "name": "#%% md\n"
    }
   }
  },
  {
   "cell_type": "markdown",
   "source": [
    "1.2.1 Создать тензор 11x7 вида: `[[1, 2, 3, ..., 7], [11, 12, 13, ..., 17], [21, 22, 23, ..., 27], ..., [101, 102, 103, ..., 107]]`. При решении задачи применить технику распространения."
   ],
   "metadata": {
    "collapsed": false,
    "pycharm": {
     "name": "#%% md\n"
    }
   }
  },
  {
   "cell_type": "markdown",
   "source": [
    "1.2.2 Вычесть одномерный тензор `b_1d` из двухмерного тензора `a_2d`, так, чтобы каждый элемент одномерного тензора вычитался из всех элементов соответствующих строк двумерного тензора.\n",
    "\n",
    "_Пример:_\n",
    "\n",
    "Для входа:\n",
    "```python\n",
    "a_2d = np.array([[3,3,3],[4,4,4],[5,5,5]])\n",
    "b_1d = np.array([1,2,3])\n",
    "```\n",
    "\n",
    "Ожидается резульат:\n",
    "\n",
    "```python\n",
    "[[2 2 2]\n",
    " [2 2 2]\n",
    " [2 2 2]]\n",
    "```"
   ],
   "metadata": {
    "collapsed": false,
    "pycharm": {
     "name": "#%% md\n"
    }
   }
  },
  {
   "cell_type": "markdown",
   "source": [
    "## 1.3 Индексы, маскирование и прихотливое индексирование\n",
    "\n",
    "[Документация по функциям для работы с индексами](https://pytorch.org/docs/stable/torch.html#indexing-slicing-joining-mutating-ops)"
   ],
   "metadata": {
    "collapsed": false,
    "pycharm": {
     "name": "#%% md\n"
    }
   }
  },
  {
   "cell_type": "markdown",
   "source": [
    "1.3.1 Получить индексы, для которых элементы тензоров `a` и `b` совпадают.\n",
    "\n",
    "_Пример:_\n",
    "\n",
    "Для входа:\n",
    "```python\n",
    "a = np.array([1,2,3,2,3,4,3,4,5,6])\n",
    "b = np.array([7,2,10,2,7,4,9,4,9,8])\n",
    "```\n",
    "\n",
    "Ожидается резульат:\n",
    "\n",
    "```python\n",
    "array([1, 3, 5, 7])\n",
    "```"
   ],
   "metadata": {
    "collapsed": false,
    "pycharm": {
     "name": "#%% md\n"
    }
   }
  },
  {
   "cell_type": "code",
   "execution_count": 255,
   "outputs": [],
   "source": [
    "a = np.array([1,2,3,2,3,4,3,4,5,6])\n",
    "b = np.array([7,2,10,2,7,4,9,4,9,8])"
   ],
   "metadata": {
    "collapsed": false,
    "pycharm": {
     "name": "#%%\n"
    }
   }
  },
  {
   "cell_type": "code",
   "execution_count": 256,
   "outputs": [
    {
     "data": {
      "text/plain": "tensor([1, 3, 5, 7])"
     },
     "execution_count": 256,
     "metadata": {},
     "output_type": "execute_result"
    }
   ],
   "source": [
    "a = torch.tensor(a)\n",
    "b = torch.tensor(b)\n",
    "torch.where(a == b)[0]"
   ],
   "metadata": {
    "collapsed": false,
    "pycharm": {
     "name": "#%%\n"
    }
   }
  },
  {
   "cell_type": "markdown",
   "source": [
    "1.3.2 Инвертировать порядок элементов в двумерном тензоре `torch.arange(9).view(3,3)`.\n",
    "\n",
    "Ожидаемый результат:\n",
    "\n",
    "\n",
    "```python\n",
    "array([[8, 7, 6],\n",
    "       [5, 4, 3],\n",
    "       [2, 1, 0]])\n",
    "```"
   ],
   "metadata": {
    "collapsed": false,
    "pycharm": {
     "name": "#%% md\n"
    }
   }
  },
  {
   "cell_type": "code",
   "execution_count": 15,
   "outputs": [
    {
     "data": {
      "text/plain": "tensor([[8, 7, 6],\n        [5, 4, 3],\n        [2, 1, 0]])"
     },
     "execution_count": 15,
     "metadata": {},
     "output_type": "execute_result"
    }
   ],
   "source": [
    "torch.flip(torch.arange(9).view(3,3), [0, 1])"
   ],
   "metadata": {
    "collapsed": false,
    "pycharm": {
     "name": "#%%\n"
    }
   }
  },
  {
   "cell_type": "markdown",
   "source": [
    "1.3.3 Из входного тензора a получить только элементы, находящиеся в диапазоне от 5 до 10.\n",
    "\n",
    "_Пример:_\n",
    "\n",
    "Для входа:\n",
    "```python\n",
    "a = np.array([2, 6, 1, 9, 10, 3, 27])\n",
    "```\n",
    "\n",
    "Ожидается резульат:\n",
    "\n",
    "```python\n",
    "array([6, 9, 10])\n",
    "```"
   ],
   "metadata": {
    "collapsed": false,
    "pycharm": {
     "name": "#%% md\n"
    }
   }
  },
  {
   "cell_type": "code",
   "execution_count": 17,
   "outputs": [
    {
     "data": {
      "text/plain": "tensor([ 2,  6,  1,  9, 10,  3, 27])"
     },
     "execution_count": 17,
     "metadata": {},
     "output_type": "execute_result"
    }
   ],
   "source": [
    "a = torch.tensor([2, 6, 1, 9, 10, 3, 27])\n",
    "a"
   ],
   "metadata": {
    "collapsed": false,
    "pycharm": {
     "name": "#%%\n"
    }
   }
  },
  {
   "cell_type": "code",
   "execution_count": 18,
   "outputs": [
    {
     "data": {
      "text/plain": "tensor([ 6,  9, 10])"
     },
     "execution_count": 18,
     "metadata": {},
     "output_type": "execute_result"
    }
   ],
   "source": [
    "a[torch.logical_and(10>=a, 5<=a)]"
   ],
   "metadata": {
    "collapsed": false,
    "pycharm": {
     "name": "#%%\n"
    }
   }
  },
  {
   "cell_type": "markdown",
   "source": [
    "1.3.4 Поменять местами столбец 1 и 2. тензора `np.arange(9).reshape(3,3)`"
   ],
   "metadata": {
    "collapsed": false,
    "pycharm": {
     "name": "#%% md\n"
    }
   }
  },
  {
   "cell_type": "code",
   "execution_count": 21,
   "outputs": [
    {
     "name": "stdout",
     "output_type": "stream",
     "text": [
      "tensor([[0, 1, 2],\n",
      "        [3, 4, 5],\n",
      "        [6, 7, 8]])\n"
     ]
    },
    {
     "data": {
      "text/plain": "tensor([[1, 0, 2],\n        [4, 3, 5],\n        [7, 6, 8]])"
     },
     "execution_count": 21,
     "metadata": {},
     "output_type": "execute_result"
    }
   ],
   "source": [
    "a = torch.arange(9).reshape(3,3)\n",
    "print(a)\n",
    "torch.index_select(a, 1, torch.LongTensor([1,0,2]))"
   ],
   "metadata": {
    "collapsed": false,
    "pycharm": {
     "name": "#%%\n"
    }
   }
  },
  {
   "cell_type": "markdown",
   "source": [
    "1.3.5 Создать тензор 8 на 10 из случайных целых чисел из диапазона от 0 до 10 и найти в ней строку (ее индекс и вывести саму строку), в которой сумма значений минимальна."
   ],
   "metadata": {
    "collapsed": false,
    "pycharm": {
     "name": "#%% md\n"
    }
   }
  },
  {
   "cell_type": "code",
   "execution_count": 66,
   "outputs": [
    {
     "data": {
      "text/plain": "tensor([[8, 2, 2, 5, 3, 2, 3, 4, 6, 6],\n        [2, 5, 9, 9, 4, 3, 8, 6, 2, 6],\n        [6, 9, 3, 5, 4, 8, 2, 9, 7, 6],\n        [7, 1, 5, 3, 8, 7, 9, 8, 9, 1],\n        [5, 2, 6, 7, 9, 4, 0, 1, 0, 8],\n        [2, 8, 8, 2, 1, 6, 4, 7, 3, 8],\n        [6, 8, 3, 3, 6, 8, 4, 6, 0, 0],\n        [9, 3, 3, 9, 8, 6, 4, 0, 5, 5]])"
     },
     "execution_count": 66,
     "metadata": {},
     "output_type": "execute_result"
    }
   ],
   "source": [
    "x = torch.randint(0, 10, (8, 10))\n",
    "x"
   ],
   "metadata": {
    "collapsed": false,
    "pycharm": {
     "name": "#%%\n"
    }
   }
  },
  {
   "cell_type": "code",
   "execution_count": 67,
   "outputs": [
    {
     "data": {
      "text/plain": "tensor([41, 54, 59, 58, 42, 49, 44, 52])"
     },
     "execution_count": 67,
     "metadata": {},
     "output_type": "execute_result"
    }
   ],
   "source": [
    "a = torch.sum(x, 1)\n",
    "a"
   ],
   "metadata": {
    "collapsed": false,
    "pycharm": {
     "name": "#%%\n"
    }
   }
  },
  {
   "cell_type": "code",
   "execution_count": 68,
   "outputs": [
    {
     "data": {
      "text/plain": "(tensor(41), tensor(0))"
     },
     "execution_count": 68,
     "metadata": {},
     "output_type": "execute_result"
    }
   ],
   "source": [
    "value, ind = torch.min(a, 0)\n",
    "value, ind"
   ],
   "metadata": {
    "collapsed": false,
    "pycharm": {
     "name": "#%%\n"
    }
   }
  },
  {
   "cell_type": "code",
   "execution_count": 69,
   "outputs": [
    {
     "data": {
      "text/plain": "(0, tensor([8, 2, 2, 5, 3, 2, 3, 4, 6, 6]))"
     },
     "execution_count": 69,
     "metadata": {},
     "output_type": "execute_result"
    }
   ],
   "source": [
    "ind.item(), x[ind]"
   ],
   "metadata": {
    "collapsed": false,
    "pycharm": {
     "name": "#%%\n"
    }
   }
  },
  {
   "cell_type": "markdown",
   "source": [
    "1.3.6 Cоздать тензор из 20 случайных целых чисел от 0 до 100. Обрезать значения тензора (заменить значения, выходящие за диапазон, на крайние значения) снизу по значению 30, сверху по значению 70."
   ],
   "metadata": {
    "collapsed": false,
    "pycharm": {
     "name": "#%% md\n"
    }
   }
  },
  {
   "cell_type": "code",
   "execution_count": 22,
   "outputs": [
    {
     "data": {
      "text/plain": "tensor([33, 17, 65, 14, 77, 40, 64, 91, 19, 84,  4, 42, 51, 85, 21, 11, 84, 15,\n        12, 23])"
     },
     "execution_count": 22,
     "metadata": {},
     "output_type": "execute_result"
    }
   ],
   "source": [
    "x = torch.randint(0, 101, (20, ))\n",
    "x"
   ],
   "metadata": {
    "collapsed": false,
    "pycharm": {
     "name": "#%%\n"
    }
   }
  },
  {
   "cell_type": "code",
   "execution_count": 23,
   "outputs": [
    {
     "data": {
      "text/plain": "tensor([33, 30, 65, 30, 70, 40, 64, 70, 30, 70, 30, 42, 51, 70, 30, 30, 70, 30,\n        30, 30])"
     },
     "execution_count": 23,
     "metadata": {},
     "output_type": "execute_result"
    }
   ],
   "source": [
    "x[x < 30] = 30\n",
    "x[x > 70] = 70\n",
    "x"
   ],
   "metadata": {
    "collapsed": false,
    "pycharm": {
     "name": "#%%\n"
    }
   }
  },
  {
   "cell_type": "code",
   "source": [],
   "metadata": {
    "id": "n6Wr-sDaThHX"
   },
   "execution_count": null,
   "outputs": []
  },
  {
   "cell_type": "code",
   "execution_count": 73,
   "outputs": [
    {
     "data": {
      "text/plain": "(tensor([[8, 0, 7],\n         [9, 3, 0],\n         [2, 1, 4],\n         [0, 5, 0],\n         [2, 6, 4],\n         [3, 4, 8],\n         [0, 5, 5],\n         [1, 1, 3],\n         [6, 5, 5],\n         [5, 4, 2],\n         [5, 7, 9],\n         [5, 4, 4],\n         [4, 4, 9],\n         [9, 1, 6],\n         [6, 1, 6],\n         [7, 5, 9],\n         [7, 4, 7],\n         [0, 6, 2],\n         [2, 9, 9],\n         [9, 4, 7],\n         [7, 3, 6],\n         [9, 1, 4],\n         [2, 8, 1],\n         [3, 0, 2],\n         [4, 9, 7],\n         [7, 9, 5],\n         [2, 4, 2],\n         [5, 7, 7],\n         [2, 4, 6],\n         [5, 9, 2]]),\n tensor([[7, 7, 5],\n         [9, 0, 1],\n         [1, 3, 2],\n         [6, 8, 5],\n         [8, 5, 5],\n         [2, 7, 9],\n         [8, 4, 8],\n         [2, 9, 2],\n         [1, 8, 6],\n         [9, 1, 8],\n         [1, 5, 0],\n         [9, 0, 9],\n         [0, 5, 1],\n         [3, 4, 4],\n         [5, 5, 9],\n         [2, 4, 7],\n         [9, 8, 8],\n         [8, 3, 3],\n         [8, 8, 8],\n         [4, 3, 3],\n         [2, 0, 5],\n         [2, 5, 7],\n         [4, 5, 7],\n         [7, 8, 7],\n         [4, 0, 7],\n         [1, 0, 1],\n         [8, 6, 2],\n         [7, 1, 8],\n         [3, 6, 1],\n         [4, 8, 4]]))"
     },
     "execution_count": 73,
     "metadata": {},
     "output_type": "execute_result"
    }
   ],
   "source": [
    "a = torch.randint(0, 10, (30, 3))\n",
    "b = torch.randint(0, 10, (30, 3))\n",
    "a, b"
   ],
   "metadata": {
    "collapsed": false,
    "pycharm": {
     "name": "#%%\n"
    }
   }
  },
  {
   "cell_type": "code",
   "execution_count": 77,
   "outputs": [
    {
     "data": {
      "text/plain": "tensor([8, 7, 3, 2, 4, 6, 3, 5, 3, 6, 4, 5, 7, 9, 4, 4, 9, 9, 6, 6, 7, 5, 9, 6,\n        9, 9, 9, 4, 7, 7, 3, 6, 9, 8, 9, 7, 9, 5, 7, 6, 5, 9])"
     },
     "execution_count": 77,
     "metadata": {},
     "output_type": "execute_result"
    }
   ],
   "source": [
    "a[a > b]"
   ],
   "metadata": {
    "collapsed": false,
    "pycharm": {
     "name": "#%%\n"
    }
   }
  },
  {
   "cell_type": "code",
   "execution_count": 76,
   "outputs": [
    {
     "data": {
      "text/plain": "tensor(265)"
     },
     "execution_count": 76,
     "metadata": {},
     "output_type": "execute_result"
    }
   ],
   "source": [
    "a[a > b].sum()"
   ],
   "metadata": {
    "collapsed": false,
    "pycharm": {
     "name": "#%%\n"
    }
   }
  },
  {
   "cell_type": "markdown",
   "metadata": {
    "id": "HNfQjY8P1RDI",
    "pycharm": {
     "name": "#%% md\n"
    }
   },
   "source": [
    "1.3.7 Создать два тензора размера 30 на 3 из случайных целых чисел из диапазона от 0 до 10 и найти все значения первого тензора, которые больше соответсвующих (по расположению) значений второго тензора. Подсчитать сумму этих значений."
   ]
  },
  {
   "cell_type": "code",
   "execution_count": 81,
   "outputs": [
    {
     "data": {
      "text/plain": "tensor([[5, 6, 8, 3, 0, 5, 6, 0, 2, 8, 6, 9, 3, 5, 6, 7, 5, 6, 6, 3],\n        [3, 9, 5, 2, 1, 1, 4, 6, 6, 2, 9, 1, 7, 9, 0, 2, 9, 9, 3, 3],\n        [8, 1, 6, 3, 7, 2, 4, 0, 4, 1, 4, 2, 0, 1, 4, 8, 4, 6, 3, 6],\n        [8, 9, 6, 8, 7, 6, 4, 6, 0, 9, 5, 9, 1, 8, 8, 8, 0, 1, 7, 5],\n        [0, 0, 1, 1, 8, 7, 1, 4, 4, 6, 8, 7, 7, 7, 4, 7, 2, 9, 5, 4],\n        [7, 1, 0, 8, 0, 0, 0, 0, 1, 8, 2, 9, 0, 1, 5, 0, 3, 4, 8, 7],\n        [6, 3, 3, 5, 3, 3, 7, 1, 0, 9, 1, 1, 3, 5, 6, 8, 6, 4, 5, 0],\n        [0, 0, 4, 5, 8, 4, 4, 5, 0, 2, 9, 8, 4, 2, 4, 6, 2, 8, 3, 4],\n        [5, 1, 4, 7, 8, 8, 9, 6, 2, 0, 4, 5, 5, 8, 5, 3, 6, 9, 4, 8],\n        [0, 1, 1, 8, 2, 0, 8, 6, 2, 9, 1, 2, 6, 2, 9, 7, 1, 7, 7, 0],\n        [4, 6, 9, 5, 2, 0, 6, 8, 9, 5, 7, 5, 5, 1, 4, 3, 4, 4, 5, 4],\n        [8, 0, 4, 0, 4, 6, 8, 4, 8, 2, 6, 2, 0, 6, 1, 5, 7, 4, 7, 4],\n        [6, 3, 6, 5, 6, 5, 6, 5, 5, 1, 8, 7, 8, 5, 6, 7, 2, 1, 5, 4],\n        [4, 8, 0, 9, 4, 0, 1, 8, 7, 3, 7, 3, 0, 4, 6, 3, 7, 5, 3, 6],\n        [6, 0, 2, 3, 9, 2, 1, 9, 7, 4, 1, 9, 3, 9, 5, 9, 1, 7, 5, 9],\n        [0, 5, 1, 6, 8, 5, 1, 5, 2, 4, 2, 8, 8, 5, 7, 5, 0, 8, 8, 9],\n        [7, 9, 6, 9, 3, 8, 9, 4, 8, 9, 7, 5, 4, 1, 7, 8, 5, 6, 7, 6],\n        [7, 5, 1, 5, 8, 7, 7, 7, 4, 1, 8, 8, 2, 6, 1, 1, 6, 8, 7, 4],\n        [9, 6, 7, 4, 3, 0, 1, 0, 0, 8, 2, 9, 0, 7, 9, 7, 5, 4, 5, 2],\n        [2, 2, 1, 8, 6, 4, 6, 0, 5, 4, 4, 1, 8, 5, 5, 9, 6, 3, 0, 3]])"
     },
     "execution_count": 81,
     "metadata": {},
     "output_type": "execute_result"
    }
   ],
   "source": [
    "x = torch.randint(0, 10, (20, 20))\n",
    "x"
   ],
   "metadata": {
    "collapsed": false,
    "pycharm": {
     "name": "#%%\n"
    }
   }
  },
  {
   "cell_type": "code",
   "execution_count": 82,
   "outputs": [
    {
     "data": {
      "text/plain": "tensor([6, 5, 3, 7, 7, 0, 1, 0, 0, 1, 5, 0, 5, 6, 9, 0, 6, 7, 2])"
     },
     "execution_count": 82,
     "metadata": {},
     "output_type": "execute_result"
    }
   ],
   "source": [
    "torch.diag(x, 1)"
   ],
   "metadata": {
    "collapsed": false,
    "pycharm": {
     "name": "#%%\n"
    }
   }
  },
  {
   "cell_type": "markdown",
   "metadata": {
    "id": "doBCxYJA1RDI",
    "pycharm": {
     "name": "#%% md\n"
    }
   },
   "source": [
    "1.3.8 При помощи прихотливого индексирования для двухмерного массива размерности (20, 20), состоящего из случайных целых чисел в пределах от 0 до 10 получить массив элементов находящихся на диагонали, проходящей над основной диагональю."
   ]
  },
  {
   "cell_type": "code",
   "execution_count": 119,
   "outputs": [
    {
     "data": {
      "text/plain": "(tensor([[8, 7, 4, 7, 4, 1, 2, 4, 0, 9],\n         [6, 3, 0, 8, 8, 5, 5, 1, 4, 2],\n         [8, 9, 2, 4, 0, 7, 0, 7, 9, 2],\n         [1, 5, 4, 7, 8, 5, 7, 8, 2, 7],\n         [1, 5, 8, 4, 3, 9, 4, 3, 0, 9]]),\n tensor([[9, 2, 5, 8, 6, 7, 1, 7, 4, 8],\n         [4, 2, 9, 5, 1, 3, 2, 6, 7, 4],\n         [8, 3, 2, 2, 4, 9, 6, 9, 5, 2],\n         [2, 8, 8, 6, 0, 7, 7, 6, 5, 5],\n         [9, 1, 0, 5, 7, 4, 5, 4, 1, 6]]))"
     },
     "execution_count": 119,
     "metadata": {},
     "output_type": "execute_result"
    }
   ],
   "source": [
    "ar1 = torch.randint(0, 10, (5, 10))\n",
    "ar2 = torch.randint(0, 10, (5, 10))\n",
    "ar1, ar2"
   ],
   "metadata": {
    "collapsed": false,
    "pycharm": {
     "name": "#%%\n"
    }
   }
  },
  {
   "cell_type": "code",
   "execution_count": 121,
   "outputs": [
    {
     "data": {
      "text/plain": "tensor([[False, False, False, False, False, False, False, False, False, False],\n        [False, False, False, False, False, False, False, False, False, False],\n        [ True, False,  True, False, False, False, False, False, False,  True],\n        [False, False, False, False, False, False,  True, False, False, False],\n        [False, False, False, False, False, False, False, False, False, False]])"
     },
     "execution_count": 121,
     "metadata": {},
     "output_type": "execute_result"
    }
   ],
   "source": [
    "ar1 == ar2"
   ],
   "metadata": {
    "collapsed": false,
    "pycharm": {
     "name": "#%%\n"
    }
   }
  },
  {
   "cell_type": "code",
   "execution_count": 122,
   "outputs": [
    {
     "data": {
      "text/plain": "tensor([[ 9,  2,  5,  8,  6,  7,  1,  7,  4,  8],\n        [ 4,  2,  9,  5,  1,  3,  2,  6,  7,  4],\n        [64,  3,  4,  2,  4,  9,  6,  9,  5,  4],\n        [ 2,  8,  8,  6,  0,  7, 49,  6,  5,  5],\n        [ 9,  1,  0,  5,  7,  4,  5,  4,  1,  6]])"
     },
     "execution_count": 122,
     "metadata": {},
     "output_type": "execute_result"
    }
   ],
   "source": [
    "torch.where(ar1==ar2, ar1**2, ar2)"
   ],
   "metadata": {
    "collapsed": false,
    "pycharm": {
     "name": "#%%\n"
    }
   }
  },
  {
   "cell_type": "markdown",
   "metadata": {
    "id": "6M1lkfLp1RDJ",
    "pycharm": {
     "name": "#%% md\n"
    }
   },
   "source": [
    "1.3.9 Задать два двухмерных тензора `ar1` и `ar2` размерности (5, 10), состоящих из случайных целых чисел в пределах от 0 до 10. Удвоить все значения `ar1`, которые совпадают со значениями `ar2`, расположенными на аналогичных позициях."
   ]
  },
  {
   "cell_type": "code",
   "execution_count": 131,
   "outputs": [
    {
     "data": {
      "text/plain": "(tensor([[6, 2, 4, 1, 9, 8, 7],\n         [6, 7, 1, 1, 3, 0, 2],\n         [0, 8, 9, 2, 1, 3, 3],\n         [2, 8, 6, 5, 3, 5, 4]]),\n tensor([[6, 8, 3, 8, 7, 6, 4],\n         [3, 2, 5, 3, 1, 3, 8],\n         [9, 0, 9, 2, 1, 5, 0],\n         [2, 0, 0, 7, 8, 8, 8]]),\n tensor([[7, 1, 7, 5, 7, 2, 1],\n         [2, 8, 8, 4, 4, 1, 5],\n         [3, 6, 8, 1, 3, 6, 4],\n         [6, 9, 0, 1, 7, 2, 5]]))"
     },
     "execution_count": 131,
     "metadata": {},
     "output_type": "execute_result"
    }
   ],
   "source": [
    "ar1 = torch.randint(0, 10, (4, 7))\n",
    "ar2 = torch.randint(0, 10, (4, 7))\n",
    "ar3 = torch.randint(0, 10, (4, 7))\n",
    "ar1, ar2, ar3"
   ],
   "metadata": {
    "collapsed": false,
    "pycharm": {
     "name": "#%%\n"
    }
   }
  },
  {
   "cell_type": "code",
   "execution_count": 136,
   "outputs": [],
   "source": [
    "mask1 = ar1>ar2\n",
    "mask2 = ar1<ar3"
   ],
   "metadata": {
    "collapsed": false,
    "pycharm": {
     "name": "#%%\n"
    }
   }
  },
  {
   "cell_type": "code",
   "execution_count": 138,
   "outputs": [
    {
     "data": {
      "text/plain": "tensor([[False, False,  True, False,  True,  True,  True],\n        [ True,  True, False, False,  True, False, False],\n        [False,  True, False, False, False, False,  True],\n        [False,  True,  True, False, False, False, False]])"
     },
     "execution_count": 138,
     "metadata": {},
     "output_type": "execute_result"
    }
   ],
   "source": [
    "mask1"
   ],
   "metadata": {
    "collapsed": false,
    "pycharm": {
     "name": "#%%\n"
    }
   }
  },
  {
   "cell_type": "code",
   "execution_count": 139,
   "outputs": [
    {
     "data": {
      "text/plain": "tensor([[ True, False,  True,  True, False, False, False],\n        [False,  True,  True,  True,  True,  True,  True],\n        [ True, False, False, False,  True,  True,  True],\n        [ True,  True, False, False,  True, False,  True]])"
     },
     "execution_count": 139,
     "metadata": {},
     "output_type": "execute_result"
    }
   ],
   "source": [
    "mask2"
   ],
   "metadata": {
    "collapsed": false,
    "pycharm": {
     "name": "#%%\n"
    }
   }
  },
  {
   "cell_type": "code",
   "execution_count": 149,
   "outputs": [
    {
     "data": {
      "text/plain": "tensor([[False, False,  True, False, False, False, False],\n        [False,  True, False, False,  True, False, False],\n        [False, False, False, False, False, False,  True],\n        [False,  True, False, False, False, False, False]])"
     },
     "execution_count": 149,
     "metadata": {},
     "output_type": "execute_result"
    }
   ],
   "source": [
    "mask = mask1 & mask2\n",
    "mask"
   ],
   "metadata": {
    "collapsed": false,
    "pycharm": {
     "name": "#%%\n"
    }
   }
  },
  {
   "cell_type": "code",
   "execution_count": 150,
   "outputs": [
    {
     "data": {
      "text/plain": "tensor([[6, 2, 0, 1, 9, 8, 7],\n        [6, 0, 1, 1, 0, 0, 2],\n        [0, 8, 9, 2, 1, 3, 0],\n        [2, 0, 6, 5, 3, 5, 4]])"
     },
     "execution_count": 150,
     "metadata": {},
     "output_type": "execute_result"
    }
   ],
   "source": [
    "ar1[mask] = 0\n",
    "ar1"
   ],
   "metadata": {
    "collapsed": false,
    "pycharm": {
     "name": "#%%\n"
    }
   }
  },
  {
   "cell_type": "markdown",
   "metadata": {
    "id": "Qe2oVr4p1RDJ",
    "pycharm": {
     "name": "#%% md\n"
    }
   },
   "source": [
    "1.3.10 Заданы три двухмерных тензора `ar1`, `ar2` и `ar3` размерности (4, 7), состоящие из случайных целых чисел в пределах от 0 до 10. Обнулить все элементы `ar1`, которые больше соответствующих (находящихся в соответствующих позициях) элементов `ar2` и меньше соответствующих элементов `ar3`."
   ]
  },
  {
   "cell_type": "code",
   "execution_count": 151,
   "outputs": [
    {
     "data": {
      "text/plain": "tensor([[19,  2,  4,  3,  6],\n        [ 1, 14,  2,  4,  9],\n        [12,  3, 18, 13,  2],\n        [13,  4, 14, 18,  4],\n        [11, 13, 11,  8,  3],\n        [13,  6, 18,  5,  7],\n        [15,  1,  9,  4,  5],\n        [15,  8,  4, 19,  1],\n        [10,  6,  4, 14, 14],\n        [ 3,  7,  6, 17,  3],\n        [ 2,  0,  9,  4, 15],\n        [14, 10,  9,  4, 11],\n        [ 2, 16,  1,  3, 17],\n        [18, 10, 18, 16, 16],\n        [16, 14,  4,  8, 17],\n        [ 2,  7, 18, 18, 19],\n        [ 8,  5, 14,  7,  0],\n        [16, 13,  8,  1,  8],\n        [ 0,  3, 18,  3,  5],\n        [ 8, 10, 13, 10, 12]])"
     },
     "execution_count": 151,
     "metadata": {},
     "output_type": "execute_result"
    }
   ],
   "source": [
    "ar1 = torch.randint(0, 20, (20, 5))\n",
    "ar1"
   ],
   "metadata": {
    "collapsed": false,
    "pycharm": {
     "name": "#%%\n"
    }
   }
  },
  {
   "cell_type": "code",
   "execution_count": 153,
   "outputs": [
    {
     "data": {
      "text/plain": "torch.return_types.max(\nvalues=tensor([19, 16, 18, 19, 19]),\nindices=tensor([ 0, 12,  2,  7, 15]))"
     },
     "execution_count": 153,
     "metadata": {},
     "output_type": "execute_result"
    }
   ],
   "source": [
    "torch.max(ar1, 0)"
   ],
   "metadata": {
    "collapsed": false,
    "pycharm": {
     "name": "#%%\n"
    }
   }
  },
  {
   "cell_type": "code",
   "execution_count": 155,
   "outputs": [
    {
     "data": {
      "text/plain": "tensor([[ True, False, False, False, False],\n        [False, False, False, False, False],\n        [False, False,  True, False, False],\n        [False, False, False, False, False],\n        [False, False, False, False, False],\n        [False, False,  True, False, False],\n        [False, False, False, False, False],\n        [False, False, False,  True, False],\n        [False, False, False, False, False],\n        [False, False, False, False, False],\n        [False, False, False, False, False],\n        [False, False, False, False, False],\n        [False,  True, False, False, False],\n        [False, False,  True, False, False],\n        [False, False, False, False, False],\n        [False, False,  True, False,  True],\n        [False, False, False, False, False],\n        [False, False, False, False, False],\n        [False, False,  True, False, False],\n        [False, False, False, False, False]])"
     },
     "execution_count": 155,
     "metadata": {},
     "output_type": "execute_result"
    }
   ],
   "source": [
    "ar1 == torch.max(ar1, 0).values"
   ],
   "metadata": {
    "collapsed": false,
    "pycharm": {
     "name": "#%%\n"
    }
   }
  },
  {
   "cell_type": "code",
   "execution_count": 184,
   "outputs": [
    {
     "data": {
      "text/plain": "tensor([1, 1, 5, 1, 1])"
     },
     "execution_count": 184,
     "metadata": {},
     "output_type": "execute_result"
    }
   ],
   "source": [
    "torch.sum((ar1 == torch.max(ar1, 0).values), 0)"
   ],
   "metadata": {
    "collapsed": false,
    "pycharm": {
     "name": "#%%\n"
    }
   }
  },
  {
   "cell_type": "code",
   "execution_count": 185,
   "outputs": [
    {
     "data": {
      "text/plain": "tensor([False, False,  True, False, False])"
     },
     "execution_count": 185,
     "metadata": {},
     "output_type": "execute_result"
    }
   ],
   "source": [
    "more_then_five = torch.sum((ar1 == torch.max(ar1, 0).values), 0) >= 5\n",
    "more_then_five"
   ],
   "metadata": {
    "collapsed": false,
    "pycharm": {
     "name": "#%%\n"
    }
   }
  },
  {
   "cell_type": "code",
   "execution_count": 188,
   "outputs": [
    {
     "name": "stdout",
     "output_type": "stream",
     "text": [
      "Столбец: 3\n"
     ]
    }
   ],
   "source": [
    "print(\"Столбец:\", torch.where(more_then_five)[0].item() + 1)"
   ],
   "metadata": {
    "collapsed": false,
    "pycharm": {
     "name": "#%%\n"
    }
   }
  },
  {
   "cell_type": "markdown",
   "metadata": {
    "id": "BTcRVeYh1RDK",
    "pycharm": {
     "name": "#%% md\n"
    }
   },
   "source": [
    "1.3.12 Задан двумерный тензор `ar1` размерности (4, 7), состоящий из случайных  чисел в пределах от 0 до 1. Обнулить все значения в массиве, расположенные строго правее и ниже максимального элемента массива."
   ]
  },
  {
   "cell_type": "code",
   "execution_count": 200,
   "outputs": [
    {
     "data": {
      "text/plain": "tensor([[0.2559, 0.9207, 0.3171, 0.2286, 0.4639, 0.3292, 0.9362],\n        [0.3850, 0.5433, 0.3630, 0.7128, 0.7638, 0.3548, 0.5871],\n        [0.6396, 0.5745, 0.1387, 0.2900, 0.9930, 0.6333, 0.4608],\n        [0.8247, 0.5364, 0.0889, 0.8417, 0.4360, 0.8216, 0.2623]])"
     },
     "execution_count": 200,
     "metadata": {},
     "output_type": "execute_result"
    }
   ],
   "source": [
    "ar1 = torch.rand(4, 7)\n",
    "ar1"
   ],
   "metadata": {
    "collapsed": false,
    "pycharm": {
     "name": "#%%\n"
    }
   }
  },
  {
   "cell_type": "code",
   "execution_count": 201,
   "outputs": [
    {
     "data": {
      "text/plain": "tensor(0.9930)"
     },
     "execution_count": 201,
     "metadata": {},
     "output_type": "execute_result"
    }
   ],
   "source": [
    "ar1.max()"
   ],
   "metadata": {
    "collapsed": false,
    "pycharm": {
     "name": "#%%\n"
    }
   }
  },
  {
   "cell_type": "code",
   "execution_count": 206,
   "outputs": [
    {
     "data": {
      "text/plain": "tensor([[False, False, False, False, False, False, False],\n        [False, False, False, False, False, False, False],\n        [False, False, False, False,  True, False, False],\n        [False, False, False, False, False, False, False]])"
     },
     "execution_count": 206,
     "metadata": {},
     "output_type": "execute_result"
    }
   ],
   "source": [
    "ar1 == ar1.max()"
   ],
   "metadata": {
    "collapsed": false,
    "pycharm": {
     "name": "#%%\n"
    }
   }
  },
  {
   "cell_type": "code",
   "execution_count": 202,
   "outputs": [
    {
     "data": {
      "text/plain": "(tensor([2]), tensor([4]))"
     },
     "execution_count": 202,
     "metadata": {},
     "output_type": "execute_result"
    }
   ],
   "source": [
    "x, y = torch.where(ar1 == ar1.max())\n",
    "x, y"
   ],
   "metadata": {
    "collapsed": false,
    "pycharm": {
     "name": "#%%\n"
    }
   }
  },
  {
   "cell_type": "code",
   "execution_count": 205,
   "outputs": [
    {
     "data": {
      "text/plain": "tensor([[0.2559, 0.9207, 0.3171, 0.2286, 0.4639],\n        [0.3850, 0.5433, 0.3630, 0.7128, 0.7638],\n        [0.6396, 0.5745, 0.1387, 0.2900, 0.9930]])"
     },
     "execution_count": 205,
     "metadata": {},
     "output_type": "execute_result"
    }
   ],
   "source": [
    "ar1[:x+1, :y+1]"
   ],
   "metadata": {
    "collapsed": false,
    "pycharm": {
     "name": "#%%\n"
    }
   }
  },
  {
   "cell_type": "markdown",
   "metadata": {
    "id": "ZeYlNWNE1RDK",
    "pycharm": {
     "name": "#%% md\n"
    }
   },
   "source": [
    "1.3.12 Задан двумерный тензор `ar1` размерности (4, 7), состоящий из случайных  чисел в пределах от 0 до 1. Обнулить все значения в массиве, расположенные строго правее и ниже максимального элемента массива. "
   ]
  },
  {
   "cell_type": "code",
   "execution_count": 321,
   "outputs": [
    {
     "data": {
      "text/plain": "tensor([2, 3, 2, 2, 2, 1])"
     },
     "execution_count": 321,
     "metadata": {},
     "output_type": "execute_result"
    }
   ],
   "source": [
    "x = torch.tensor([2, 3, 2, 2, 2, 1])\n",
    "x"
   ],
   "metadata": {
    "collapsed": false,
    "pycharm": {
     "name": "#%%\n"
    }
   }
  },
  {
   "cell_type": "code",
   "execution_count": 344,
   "outputs": [
    {
     "data": {
      "text/plain": "tensor([[0, 1, 0],\n        [0, 0, 1],\n        [0, 1, 0],\n        [0, 1, 0],\n        [0, 1, 0],\n        [1, 0, 0]])"
     },
     "execution_count": 344,
     "metadata": {},
     "output_type": "execute_result"
    }
   ],
   "source": [
    "torch.nn.functional.one_hot(x)[:, 1:]"
   ],
   "metadata": {
    "collapsed": false,
    "pycharm": {
     "name": "#%%\n"
    }
   }
  },
  {
   "cell_type": "markdown",
   "metadata": {
    "id": "pYxX90B11RDL",
    "pycharm": {
     "name": "#%% md\n"
    }
   },
   "source": [
    "1.3.14 Создать тензор `arr` из 20 случайных целых чисел от 0 до 100. Найти самое частое значение в тензоре. \n",
    "Найти индексы в тензоре, соответствующие самому частому значению. Проверить, как работет алгоритм при двух значениях, имеющих наибольшую встречаемость, предложить приемлемое поведение алгоритма для этого случая."
   ]
  },
  {
   "cell_type": "code",
   "execution_count": 345,
   "outputs": [
    {
     "data": {
      "text/plain": "tensor([63, 14,  0, 23, 27, 21, 44, 99, 57, 79, 69, 67, 62, 91,  6, 69, 78, 22,\n        68, 27])"
     },
     "execution_count": 345,
     "metadata": {},
     "output_type": "execute_result"
    }
   ],
   "source": [
    "arr = torch.randint(0, 100, (20, ))\n",
    "arr"
   ],
   "metadata": {
    "collapsed": false,
    "pycharm": {
     "name": "#%%\n"
    }
   }
  },
  {
   "cell_type": "code",
   "execution_count": 346,
   "outputs": [
    {
     "data": {
      "text/plain": "tensor([1, 0, 0, 0, 0, 0, 1, 0, 0, 0, 0, 0, 0, 0, 1, 0, 0, 0, 0, 0, 0, 1, 1, 1,\n        0, 0, 0, 2, 0, 0, 0, 0, 0, 0, 0, 0, 0, 0, 0, 0, 0, 0, 0, 0, 1, 0, 0, 0,\n        0, 0, 0, 0, 0, 0, 0, 0, 0, 1, 0, 0, 0, 0, 1, 1, 0, 0, 0, 1, 1, 2, 0, 0,\n        0, 0, 0, 0, 0, 0, 1, 1, 0, 0, 0, 0, 0, 0, 0, 0, 0, 0, 0, 1, 0, 0, 0, 0,\n        0, 0, 0, 1])"
     },
     "execution_count": 346,
     "metadata": {},
     "output_type": "execute_result"
    }
   ],
   "source": [
    "bc = torch.bincount(arr)\n",
    "bc"
   ],
   "metadata": {
    "collapsed": false,
    "pycharm": {
     "name": "#%%\n"
    }
   }
  },
  {
   "cell_type": "code",
   "execution_count": 348,
   "outputs": [
    {
     "data": {
      "text/plain": "tensor([27, 69])"
     },
     "execution_count": 348,
     "metadata": {},
     "output_type": "execute_result"
    }
   ],
   "source": [
    "ind = torch.where(bc == bc.max(0)[0])[0]\n",
    "ind"
   ],
   "metadata": {
    "collapsed": false,
    "pycharm": {
     "name": "#%%\n"
    }
   }
  },
  {
   "cell_type": "code",
   "execution_count": 353,
   "outputs": [
    {
     "data": {
      "text/plain": "tensor([False, False, False, False,  True, False, False, False, False, False,\n         True, False, False, False, False,  True, False, False, False,  True])"
     },
     "execution_count": 353,
     "metadata": {},
     "output_type": "execute_result"
    }
   ],
   "source": [
    "torch.isin(arr, ind)"
   ],
   "metadata": {
    "collapsed": false,
    "pycharm": {
     "name": "#%%\n"
    }
   }
  },
  {
   "cell_type": "code",
   "execution_count": 358,
   "outputs": [
    {
     "name": "stdout",
     "output_type": "stream",
     "text": [
      "Индексы:  [4, 10, 15, 19]\n"
     ]
    }
   ],
   "source": [
    "print(\"Индексы: \", torch.where(torch.isin(arr, ind))[0].tolist())"
   ],
   "metadata": {
    "collapsed": false,
    "pycharm": {
     "name": "#%%\n"
    }
   }
  },
  {
   "cell_type": "markdown",
   "metadata": {
    "id": "GYU8DmNTDLN8",
    "pycharm": {
     "name": "#%% md\n"
    }
   },
   "source": [
    "1.3.14 Создать тензор `arr` из 20 случайных целых чисел от 0 до 100. Найти самое частое значение в тензоре. \n",
    "Найти индексы в тензоре, соответствующие самому частому значению. Проверить, как работет алгоритм при двух значениях, имеющих наибольшую встречаемость, предложить приемлемое поведение алгоритма для этого случая. "
   ]
  },
  {
   "cell_type": "markdown",
   "metadata": {
    "id": "UenAEfEG1RDN",
    "pycharm": {
     "name": "#%% md\n"
    }
   },
   "source": [
    "## 1.4 Математические задачи"
   ]
  },
  {
   "cell_type": "code",
   "execution_count": 315,
   "outputs": [
    {
     "data": {
      "text/plain": "tensor([ 0,  1,  2,  3,  4,  5,  6,  7,  8,  9, 10])"
     },
     "execution_count": 315,
     "metadata": {},
     "output_type": "execute_result"
    }
   ],
   "source": [
    "x = torch.arange(11)\n",
    "x"
   ],
   "metadata": {
    "collapsed": false,
    "pycharm": {
     "name": "#%%\n"
    }
   }
  },
  {
   "cell_type": "code",
   "execution_count": 316,
   "outputs": [
    {
     "data": {
      "text/plain": "tensor([ 0.0000,  0.8415,  1.8186,  0.4234, -3.0272, -4.7946, -1.6765,  4.5989,\n         7.9149,  3.7091, -5.4402])"
     },
     "execution_count": 316,
     "metadata": {},
     "output_type": "execute_result"
    }
   ],
   "source": [
    "x = x*torch.sin(x)\n",
    "x"
   ],
   "metadata": {
    "collapsed": false,
    "pycharm": {
     "name": "#%%\n"
    }
   }
  },
  {
   "cell_type": "markdown",
   "metadata": {
    "id": "6weDrqJR1RDN",
    "pycharm": {
     "name": "#%% md\n"
    }
   },
   "source": [
    "1.4.1 Приблизительно (с погрешностью порядка 1%) рассчитать на какой части интервала от 0 до 10 значение функции x * sin(x) больше 0.5."
   ]
  },
  {
   "cell_type": "code",
   "execution_count": 320,
   "outputs": [
    {
     "data": {
      "text/plain": "tensor([  2,   3,   4,   5,   6,   7,   8,   9,  10,  11,  12,  13,  14,  15,\n         16,  17,  18,  19,  20,  21,  22,  23,  24,  25,  26,  27,  28,  29,\n         30,  31,  32,  33,  34,  35,  36,  37,  38,  39,  40,  41,  42,  43,\n         44,  45,  46,  47,  48,  49,  50,  51,  52,  53,  54,  55,  56,  57,\n         58,  59,  60,  61,  62,  63,  64,  65,  66,  67,  68,  69,  70,  71,\n         72,  73,  74,  75,  76,  77,  78,  79,  80,  81,  82,  83,  84,  85,\n         86,  87,  88,  89,  90,  91,  92,  93,  94,  95,  96,  97,  98,  99,\n        100])"
     },
     "execution_count": 320,
     "metadata": {},
     "output_type": "execute_result"
    }
   ],
   "source": [
    "numbers = torch.arange(2, 101)\n",
    "numbers"
   ],
   "metadata": {
    "collapsed": false,
    "pycharm": {
     "name": "#%%\n"
    }
   }
  },
  {
   "cell_type": "markdown",
   "metadata": {
    "id": "B9xAv8TR1RDN",
    "pycharm": {
     "name": "#%% md\n"
    }
   },
   "source": [
    "1.4.2 Найти все простые числа в пределах ста. (Для решения предлагается использовать Решето Эратосфена) Использовать не более 1 цикла (желательно)."
   ]
  },
  {
   "cell_type": "markdown",
   "metadata": {
    "id": "AHupFoTR1RDN",
    "pycharm": {
     "name": "#%% md\n"
    }
   },
   "source": [
    "1.4.3 Найти евклидово расстояние между двумя одномерными тензорами одинаковой размерности, не используя готовые решения из библиотек."
   ]
  },
  {
   "cell_type": "code",
   "execution_count": 362,
   "outputs": [
    {
     "data": {
      "text/plain": "tensor([[ 29.,  50.,  27.],\n        [  6.,  86.,   0.],\n        [ 27.,  33.,  86.],\n        [  2.,   7.,  49.],\n        [ 34.,  82.,   8.],\n        [ 14.,  34.,   3.],\n        [ 25.,  16.,  73.],\n        [100.,  51.,  10.],\n        [ 44.,  44.,  96.],\n        [ 92.,  13.,  72.],\n        [ 40.,  67.,  42.],\n        [ 53.,  66.,  26.],\n        [ 99.,   1.,   3.],\n        [ 54.,  52.,  26.],\n        [ 87.,  47.,  40.],\n        [ 76.,  94.,  57.],\n        [100.,   9.,  93.],\n        [ 43.,  23.,  18.],\n        [ 68.,   2.,  11.],\n        [ 83.,  37.,  21.]], dtype=torch.float64)"
     },
     "execution_count": 362,
     "metadata": {},
     "output_type": "execute_result"
    }
   ],
   "source": [
    "x = torch.randint(0, 101, (20, 3), dtype=float)\n",
    "x"
   ],
   "metadata": {
    "collapsed": false,
    "pycharm": {
     "name": "#%%\n"
    }
   }
  },
  {
   "cell_type": "code",
   "execution_count": 370,
   "outputs": [
    {
     "data": {
      "text/plain": "tensor([ 63.7966,  86.2090,  95.9896,  49.5379,  89.1291,  36.8917,  78.8036,\n        112.6987, 114.4028, 117.5457,  88.6172,  88.5494,  99.0505,  79.3473,\n        106.6677, 133.6451, 136.8576,  51.9808,  68.9130,  93.2684],\n       dtype=torch.float64)"
     },
     "execution_count": 370,
     "metadata": {},
     "output_type": "execute_result"
    }
   ],
   "source": [
    "x.norm(dim=1, p=2).squeeze(-1)"
   ],
   "metadata": {
    "collapsed": false,
    "pycharm": {
     "name": "#%%\n"
    }
   }
  },
  {
   "cell_type": "code",
   "execution_count": 367,
   "outputs": [
    {
     "data": {
      "text/plain": "tensor([[2, 0, 1],\n        [2, 0, 1],\n        [0, 1, 2],\n        [0, 1, 2],\n        [2, 0, 1],\n        [2, 0, 1],\n        [1, 0, 2],\n        [2, 1, 0],\n        [0, 1, 2],\n        [1, 2, 0],\n        [0, 2, 1],\n        [2, 0, 1],\n        [1, 2, 0],\n        [2, 1, 0],\n        [2, 1, 0],\n        [2, 0, 1],\n        [1, 2, 0],\n        [2, 1, 0],\n        [1, 2, 0],\n        [2, 1, 0]])"
     },
     "execution_count": 367,
     "metadata": {},
     "output_type": "execute_result"
    }
   ],
   "source": [
    "torch.argsort(x, dim=1)"
   ],
   "metadata": {
    "collapsed": false,
    "pycharm": {
     "name": "#%%\n"
    }
   }
  },
  {
   "cell_type": "code",
   "execution_count": null,
   "outputs": [],
   "source": [],
   "metadata": {
    "collapsed": false,
    "pycharm": {
     "name": "#%%\n"
    }
   }
  },
  {
   "cell_type": "markdown",
   "metadata": {
    "id": "j-ZvjWDKDVMQ",
    "pycharm": {
     "name": "#%% md\n"
    }
   },
   "source": [
    "1.4.4 Создать двумерный тензор 20 на 3, содержащий случайные целые числа от 0 до 100. \n",
    "Интерпретируя тензор как 20 векторов из 3х компонент, отсортировать его по длине векторов."
   ]
  },
  {
   "cell_type": "markdown",
   "metadata": {
    "id": "IkBRFTKa1RDO",
    "pycharm": {
     "name": "#%% md\n"
    }
   },
   "source": [
    "1.4.5 Найти \"локальные максимумы\" в одномерном тензоре (т.е. значения, большие предыдущего и последующего) `torch.tensor([1, 3, 7, 1, 2, 6, 0, 1])` и вывести их индексы."
   ]
  },
  {
   "cell_type": "markdown",
   "metadata": {
    "id": "VXD58rlc1RDP",
    "pycharm": {
     "name": "#%% md\n"
    }
   },
   "source": [
    "1.4.6 Задан произвольный массив numpy (например массив из 100 случайных числе от 0 до 1). Необходимо найти в нем число наиболее близкое к заданному."
   ]
  },
  {
   "cell_type": "markdown",
   "metadata": {
    "id": "81F_B2ij1RDP",
    "pycharm": {
     "name": "#%% md\n"
    }
   },
   "source": [
    "1.4.7 Решить матричное уравнение `A*X*B=-C` - найти матрицу X. Где `A = [[-1, 2, 4], [-3, 1, 2], [-3, 0, 1]]`, `B=[[3, -1], [2, 1]]`, `C=[[7, 21], [11, 8], [8, 4]]`."
   ]
  },
  {
   "cell_type": "markdown",
   "metadata": {
    "id": "1P7O19bj1RDP",
    "pycharm": {
     "name": "#%% md\n"
    }
   },
   "source": [
    "1.4.8 Проверить, является ли система векторов a1 = (3; −3; 0; 7),\n",
    "a2 = (2; 2; 4; 7), a3 = (1; 2; 3; 4), a4 = (5; −4; 1; 3) линейно зависимой?"
   ]
  },
  {
   "cell_type": "markdown",
   "metadata": {
    "id": "Jg_bzMVS1RDQ",
    "pycharm": {
     "name": "#%% md\n"
    }
   },
   "source": [
    "1.4.9 Сгенирировать тензор из 200 случайных целых чисел, нормально распрделенных cо стандартным отклонением $\\sigma = 10$ и матожиданием $\\mu = 0$. Построить тензор гистограммы с 20 бинами. "
   ]
  }
 ],
 "metadata": {
  "colab": {
   "name": "01_tensor_v1_blank.ipynb",
   "provenance": [],
   "toc_visible": true
  },
  "kernelspec": {
   "display_name": "Python 3 (ipykernel)",
   "language": "python",
   "name": "python3"
  },
  "language_info": {
   "codemirror_mode": {
    "name": "ipython",
    "version": 3
   },
   "file_extension": ".py",
   "mimetype": "text/x-python",
   "name": "python",
   "nbconvert_exporter": "python",
   "pygments_lexer": "ipython3",
   "version": "3.9.7"
  }
 },
 "nbformat": 4,
 "nbformat_minor": 0
}