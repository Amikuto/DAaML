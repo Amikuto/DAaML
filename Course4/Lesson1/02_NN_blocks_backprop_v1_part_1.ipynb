{
 "cells": [
  {
   "cell_type": "markdown",
   "metadata": {
    "id": "nf4-Tz5S5lHW"
   },
   "source": [
    "# 2. Создание нейронной сети без использования готовых решений\n",
    "\n",
    "__Автор__: Никита Владимирович Блохин (NVBlokhin@fa.ru)\n",
    "\n",
    "Финансовый университет, 2020 г. "
   ]
  },
  {
   "cell_type": "code",
   "execution_count": 1,
   "metadata": {
    "id": "PqC4R7SGseKa"
   },
   "outputs": [],
   "source": [
    "import torch"
   ]
  },
  {
   "cell_type": "markdown",
   "metadata": {
    "id": "0J2RM8f5wP33"
   },
   "source": [
    "## 1. Создание нейронов и полносвязных слоев"
   ]
  },
  {
   "cell_type": "markdown",
   "metadata": {
    "id": "_2ArJn_nsdZC"
   },
   "source": [
    "1.1. Используя операции над матрицами и векторами из библиотеки `torch`, реализовать нейрон с заданными весами `weights` и `bias`. Прогнать вектор `inputs` через нейрон и вывести результат. "
   ]
  },
  {
   "cell_type": "code",
   "execution_count": 2,
   "metadata": {
    "id": "f4agkY9WqPwe"
   },
   "outputs": [],
   "source": [
    "class Neuron:\n",
    "\n",
    "  def __init__(self, weights, bias):\n",
    "    self.bias = bias\n",
    "    self.weights = weights\n",
    "  \n",
    "  def forward(self, inputs):\n",
    "    z = self.bias + torch.sum(self.weights * inputs)\n",
    "    return z\n"
   ]
  },
  {
   "cell_type": "code",
   "execution_count": 3,
   "metadata": {
    "id": "HJRkSkHHsb7u"
   },
   "outputs": [],
   "source": [
    "inputs = torch.tensor([1.0, 2.0, 3.0, 4.0])\n",
    "weights = torch.tensor([-0.2, 0.3, -0.5, 0.7])\n",
    "bias = 3.14"
   ]
  },
  {
   "cell_type": "code",
   "source": [
    "neuron = Neuron(weights, bias)\n",
    "out = neuron.forward(inputs)\n",
    "out"
   ],
   "metadata": {
    "id": "MNBRYYcl8fyk",
    "outputId": "674e6977-8436-432c-8042-75da5ac31e8c",
    "colab": {
     "base_uri": "https://localhost:8080/"
    }
   },
   "execution_count": 4,
   "outputs": [
    {
     "data": {
      "text/plain": "tensor(4.8400)"
     },
     "execution_count": 4,
     "metadata": {},
     "output_type": "execute_result"
    }
   ]
  },
  {
   "cell_type": "markdown",
   "metadata": {
    "id": "1qJvnwiyty37"
   },
   "source": [
    "1.2 Используя операции над матрицами и векторами из библиотеки `torch`, реализовать полносвязный слой с заданными весами `weights` и `biases`. Прогнать вектор `inputs` через слой и вывести результат. "
   ]
  },
  {
   "cell_type": "code",
   "execution_count": 5,
   "metadata": {
    "id": "fVWF3a9vtx90"
   },
   "outputs": [],
   "source": [
    "class Linear:\n",
    "  biases = torch.tensor([])\n",
    "  weights = torch.tensor([])\n",
    "\n",
    "  def __init__(self, weights, bias):\n",
    "    self.biases = bias\n",
    "    self.weights = weights\n",
    "  \n",
    "  def forward(self, inputs):\n",
    "    if len(inputs.shape) == 1:\n",
    "      shaped = inputs.view(inputs.shape[0], 1)\n",
    "    else:\n",
    "      shaped = inputs.T\n",
    "    mp = shaped * weights\n",
    "    bimp = biases + mp\n",
    "    su = bimp.sum(dim=1)\n",
    "    return su"
   ]
  },
  {
   "cell_type": "code",
   "execution_count": 6,
   "metadata": {
    "id": "Fo-JFnHPuFCS"
   },
   "outputs": [],
   "source": [
    "inputs = torch.tensor([1.0, 2.0, 3.0, 4.0])\n",
    "weights = torch.tensor([[-0.2, 0.3, -0.5, 0.7],\n",
    "                        [0.5, -0.91, 0.26, -0.5],\n",
    "                        [-0.26, -0.27, 0.17, 0.87]]).T\n",
    "\n",
    "biases = torch.tensor([3.14, 2.71, 7.2])"
   ]
  },
  {
   "cell_type": "code",
   "source": [
    "linear = Linear(weights, biases)\n",
    "out = linear.forward(inputs)\n",
    "out"
   ],
   "metadata": {
    "id": "kiuPsOyfE1BA",
    "outputId": "c730d17e-983f-4bcf-9771-b61ed92b38a5",
    "colab": {
     "base_uri": "https://localhost:8080/"
    }
   },
   "execution_count": 7,
   "outputs": [
    {
     "data": {
      "text/plain": "tensor([13.0900, 11.2900, 12.8400, 17.3300])"
     },
     "execution_count": 7,
     "metadata": {},
     "output_type": "execute_result"
    }
   ]
  },
  {
   "cell_type": "code",
   "source": [
    "weights"
   ],
   "metadata": {
    "id": "JrEQx_La-E6Z",
    "outputId": "c808ebe9-f446-4a29-e39a-f2bd5c47d19a",
    "colab": {
     "base_uri": "https://localhost:8080/"
    }
   },
   "execution_count": 112,
   "outputs": [
    {
     "output_type": "execute_result",
     "data": {
      "text/plain": [
       "tensor([[-0.2000,  0.5000, -0.2600],\n",
       "        [ 0.3000, -0.9100, -0.2700],\n",
       "        [-0.5000,  0.2600,  0.1700],\n",
       "        [ 0.7000, -0.5000,  0.8700]])"
      ]
     },
     "metadata": {},
     "execution_count": 112
    }
   ]
  },
  {
   "cell_type": "code",
   "source": [
    "inputs"
   ],
   "metadata": {
    "id": "rxR_0FQtF_JQ",
    "outputId": "3a6d5f8e-a48e-46c8-9df7-2c90a8c30b5f",
    "colab": {
     "base_uri": "https://localhost:8080/"
    }
   },
   "execution_count": 127,
   "outputs": [
    {
     "output_type": "execute_result",
     "data": {
      "text/plain": [
       "tensor([[ 1.0000,  2.0000,  3.0000,  2.5000],\n",
       "        [ 2.0000,  5.0000, -1.0000,  2.0000],\n",
       "        [-1.5000,  2.7000,  3.3000, -0.8000]])"
      ]
     },
     "metadata": {},
     "execution_count": 127
    }
   ]
  },
  {
   "cell_type": "code",
   "source": [
    "inputs.T"
   ],
   "metadata": {
    "id": "EztW7b0kFTK5",
    "outputId": "119edf34-ca6a-4f6d-fdbc-ab28cf9c5f9e",
    "colab": {
     "base_uri": "https://localhost:8080/"
    }
   },
   "execution_count": 129,
   "outputs": [
    {
     "output_type": "execute_result",
     "data": {
      "text/plain": [
       "tensor([[ 1.0000,  2.0000, -1.5000],\n",
       "        [ 2.0000,  5.0000,  2.7000],\n",
       "        [ 3.0000, -1.0000,  3.3000],\n",
       "        [ 2.5000,  2.0000, -0.8000]])"
      ]
     },
     "metadata": {},
     "execution_count": 129
    }
   ]
  },
  {
   "cell_type": "code",
   "source": [
    "len(inputs.shape)"
   ],
   "metadata": {
    "id": "EptyU_ATHAwh",
    "outputId": "283cfecc-5176-4776-9067-e354e6e415ce",
    "colab": {
     "base_uri": "https://localhost:8080/"
    }
   },
   "execution_count": 145,
   "outputs": [
    {
     "output_type": "execute_result",
     "data": {
      "text/plain": [
       "2"
      ]
     },
     "metadata": {},
     "execution_count": 145
    }
   ]
  },
  {
   "cell_type": "code",
   "source": [
    "torch.transpose(input, 1, 0)"
   ],
   "metadata": {
    "id": "CBrqE5X6GoS6",
    "outputId": "5d117007-0cd1-465e-d3a2-c8cb93dd7136",
    "colab": {
     "base_uri": "https://localhost:8080/",
     "height": 235
    }
   },
   "execution_count": 139,
   "outputs": [
    {
     "output_type": "error",
     "ename": "TypeError",
     "evalue": "ignored",
     "traceback": [
      "\u001B[0;31m---------------------------------------------------------------------------\u001B[0m",
      "\u001B[0;31mTypeError\u001B[0m                                 Traceback (most recent call last)",
      "\u001B[0;32m<ipython-input-139-ce6dd8a05994>\u001B[0m in \u001B[0;36m<module>\u001B[0;34m\u001B[0m\n\u001B[0;32m----> 1\u001B[0;31m \u001B[0mtorch\u001B[0m\u001B[0;34m.\u001B[0m\u001B[0mtranspose\u001B[0m\u001B[0;34m(\u001B[0m\u001B[0minput\u001B[0m\u001B[0;34m,\u001B[0m \u001B[0;36m1\u001B[0m\u001B[0;34m,\u001B[0m \u001B[0;36m0\u001B[0m\u001B[0;34m)\u001B[0m\u001B[0;34m\u001B[0m\u001B[0;34m\u001B[0m\u001B[0m\n\u001B[0m",
      "\u001B[0;31mTypeError\u001B[0m: transpose() received an invalid combination of arguments - got (method, int, int), but expected one of:\n * (Tensor input, int dim0, int dim1)\n      didn't match because some of the arguments have invalid types: (!method!, int, int)\n * (Tensor input, name dim0, name dim1)\n      didn't match because some of the arguments have invalid types: (!method!, !int!, !int!)\n"
     ]
    }
   ]
  },
  {
   "cell_type": "code",
   "source": [
    "inputs.T * weights"
   ],
   "metadata": {
    "id": "gQLgtIUwGFT4",
    "outputId": "06d00270-a83d-4a90-dabc-961619b30444",
    "colab": {
     "base_uri": "https://localhost:8080/",
     "height": 165
    }
   },
   "execution_count": 132,
   "outputs": [
    {
     "output_type": "error",
     "ename": "RuntimeError",
     "evalue": "ignored",
     "traceback": [
      "\u001B[0;31m---------------------------------------------------------------------------\u001B[0m",
      "\u001B[0;31mRuntimeError\u001B[0m                              Traceback (most recent call last)",
      "\u001B[0;32m<ipython-input-132-db75572ffaef>\u001B[0m in \u001B[0;36m<module>\u001B[0;34m\u001B[0m\n\u001B[0;32m----> 1\u001B[0;31m \u001B[0minputs\u001B[0m\u001B[0;34m.\u001B[0m\u001B[0mT\u001B[0m \u001B[0;34m*\u001B[0m \u001B[0mweights\u001B[0m\u001B[0;34m\u001B[0m\u001B[0;34m\u001B[0m\u001B[0m\n\u001B[0m",
      "\u001B[0;31mRuntimeError\u001B[0m: The size of tensor a (4) must match the size of tensor b (3) at non-singleton dimension 1"
     ]
    }
   ]
  },
  {
   "cell_type": "code",
   "source": [
    "inputs.view(4, 3)"
   ],
   "metadata": {
    "id": "1RMa1W6aFmzf",
    "outputId": "608858e2-c283-4705-b1f6-235a4f897b0a",
    "colab": {
     "base_uri": "https://localhost:8080/"
    }
   },
   "execution_count": 124,
   "outputs": [
    {
     "output_type": "execute_result",
     "data": {
      "text/plain": [
       "tensor([[ 1.0000,  2.0000,  3.0000],\n",
       "        [ 2.5000,  2.0000,  5.0000],\n",
       "        [-1.0000,  2.0000, -1.5000],\n",
       "        [ 2.7000,  3.3000, -0.8000]])"
      ]
     },
     "metadata": {},
     "execution_count": 124
    }
   ]
  },
  {
   "cell_type": "code",
   "source": [
    "inputs.view(inputs.shape[0], 1) "
   ],
   "metadata": {
    "id": "ZRbrj60hFYvY",
    "outputId": "ac237181-12a9-47d8-93ab-8332ab6046c6",
    "colab": {
     "base_uri": "https://localhost:8080/",
     "height": 165
    }
   },
   "execution_count": 118,
   "outputs": [
    {
     "output_type": "error",
     "ename": "RuntimeError",
     "evalue": "ignored",
     "traceback": [
      "\u001B[0;31m---------------------------------------------------------------------------\u001B[0m",
      "\u001B[0;31mRuntimeError\u001B[0m                              Traceback (most recent call last)",
      "\u001B[0;32m<ipython-input-118-1c186dd2afd9>\u001B[0m in \u001B[0;36m<module>\u001B[0;34m\u001B[0m\n\u001B[0;32m----> 1\u001B[0;31m \u001B[0minputs\u001B[0m\u001B[0;34m.\u001B[0m\u001B[0mview\u001B[0m\u001B[0;34m(\u001B[0m\u001B[0minputs\u001B[0m\u001B[0;34m.\u001B[0m\u001B[0mshape\u001B[0m\u001B[0;34m[\u001B[0m\u001B[0;36m0\u001B[0m\u001B[0;34m]\u001B[0m\u001B[0;34m,\u001B[0m \u001B[0;36m1\u001B[0m\u001B[0;34m)\u001B[0m\u001B[0;34m\u001B[0m\u001B[0;34m\u001B[0m\u001B[0m\n\u001B[0m",
      "\u001B[0;31mRuntimeError\u001B[0m: shape '[3, 1]' is invalid for input of size 12"
     ]
    }
   ]
  },
  {
   "cell_type": "code",
   "source": [
    "mp = inputs.view(inputs.shape[0], 1) * weights\n",
    "mp"
   ],
   "metadata": {
    "id": "5p1z7ImdBXl8",
    "outputId": "651ea046-a68f-4156-c545-129964e2cefb",
    "colab": {
     "base_uri": "https://localhost:8080/",
     "height": 183
    }
   },
   "execution_count": 115,
   "outputs": [
    {
     "output_type": "error",
     "ename": "RuntimeError",
     "evalue": "ignored",
     "traceback": [
      "\u001B[0;31m---------------------------------------------------------------------------\u001B[0m",
      "\u001B[0;31mRuntimeError\u001B[0m                              Traceback (most recent call last)",
      "\u001B[0;32m<ipython-input-115-a72a92fe23c7>\u001B[0m in \u001B[0;36m<module>\u001B[0;34m\u001B[0m\n\u001B[0;32m----> 1\u001B[0;31m \u001B[0mmp\u001B[0m \u001B[0;34m=\u001B[0m \u001B[0minputs\u001B[0m\u001B[0;34m.\u001B[0m\u001B[0mview\u001B[0m\u001B[0;34m(\u001B[0m\u001B[0minputs\u001B[0m\u001B[0;34m.\u001B[0m\u001B[0mshape\u001B[0m\u001B[0;34m[\u001B[0m\u001B[0;36m0\u001B[0m\u001B[0;34m]\u001B[0m\u001B[0;34m,\u001B[0m \u001B[0;36m1\u001B[0m\u001B[0;34m)\u001B[0m \u001B[0;34m*\u001B[0m \u001B[0mweights\u001B[0m\u001B[0;34m\u001B[0m\u001B[0;34m\u001B[0m\u001B[0m\n\u001B[0m\u001B[1;32m      2\u001B[0m \u001B[0mmp\u001B[0m\u001B[0;34m\u001B[0m\u001B[0;34m\u001B[0m\u001B[0m\n",
      "\u001B[0;31mRuntimeError\u001B[0m: shape '[3, 1]' is invalid for input of size 12"
     ]
    }
   ]
  },
  {
   "cell_type": "code",
   "source": [
    "bimp = biases + mp\n",
    "bimp"
   ],
   "metadata": {
    "id": "39MT5f7zEA04",
    "outputId": "1dc67829-18e3-49d6-e88e-2bc7405b6747",
    "colab": {
     "base_uri": "https://localhost:8080/"
    }
   },
   "execution_count": 95,
   "outputs": [
    {
     "output_type": "execute_result",
     "data": {
      "text/plain": [
       "tensor([[ 2.9400,  3.2100,  6.9400],\n",
       "        [ 3.7400,  0.8900,  6.6600],\n",
       "        [ 1.6400,  3.4900,  7.7100],\n",
       "        [ 5.9400,  0.7100, 10.6800]])"
      ]
     },
     "metadata": {},
     "execution_count": 95
    }
   ]
  },
  {
   "cell_type": "code",
   "source": [
    "su = bimp.sum(dim=1)\n",
    "su"
   ],
   "metadata": {
    "id": "rctUXbWxAx9X",
    "outputId": "a3f192f3-3e65-472d-ee43-f24794e5fb59",
    "colab": {
     "base_uri": "https://localhost:8080/"
    }
   },
   "execution_count": 96,
   "outputs": [
    {
     "output_type": "execute_result",
     "data": {
      "text/plain": [
       "tensor([13.0900, 11.2900, 12.8400, 17.3300])"
      ]
     },
     "metadata": {},
     "execution_count": 96
    }
   ]
  },
  {
   "cell_type": "markdown",
   "metadata": {
    "id": "mQtsJzcxuyGd"
   },
   "source": [
    "1.3 Реализовать полносвязный слой из __2.1.2__ таким образом, чтобы он мог принимать на вход матрицу (батч) с данными. Продемонстрировать работу.\n",
    "Результатом прогона сквозь слой должна быть матрица размера `batch_size` x `n_neurons`.\n"
   ]
  },
  {
   "cell_type": "code",
   "execution_count": 8,
   "metadata": {
    "id": "Z8IizmtsuhO1"
   },
   "outputs": [],
   "source": [
    "inputs = torch.tensor([[1, 2, 3, 2.5], \n",
    "                       [2, 5, -1, 2], \n",
    "                       [-1.5, 2.7, 3.3, -0.8]])"
   ]
  },
  {
   "cell_type": "code",
   "source": [
    "out2 = linear.forward(inputs)"
   ],
   "metadata": {
    "id": "ukB-90qlEsnJ"
   },
   "execution_count": 9,
   "outputs": []
  },
  {
   "cell_type": "code",
   "source": [
    "out2"
   ],
   "metadata": {
    "id": "VtWhinI8EsuX",
    "outputId": "bc584167-2e59-4231-eae4-8b48169564f3",
    "colab": {
     "base_uri": "https://localhost:8080/"
    }
   },
   "execution_count": 10,
   "outputs": [
    {
     "data": {
      "text/plain": "tensor([14.2400,  8.3710, 11.8510, 13.1040])"
     },
     "execution_count": 10,
     "metadata": {},
     "output_type": "execute_result"
    }
   ]
  },
  {
   "cell_type": "markdown",
   "metadata": {
    "id": "OQ2OxH4_vBLu"
   },
   "source": [
    "1.4 Используя операции над матрицами и векторами из библиотеки `torch`, реализовать полносвязный слой из `n_neurons` нейронов с `n_features` весами у каждого нейрона (инициализируются из стандартного нормального распределения). Прогнать вектор `inputs` через слой и вывести результат. Результатом прогона сквозь слой должна быть матрица размера `batch_size` x `n_neurons`."
   ]
  },
  {
   "cell_type": "code",
   "execution_count": null,
   "metadata": {
    "id": "IOv52EdovASs"
   },
   "outputs": [],
   "source": [
    "class Linear:\n",
    "  def __init__(self, n_features, n_neurons):\n",
    "    # <создать атрибуты объекта weights и biases>\n",
    "    pass\n",
    "  \n",
    "  def forward(self, inputs):\n",
    "    return # <реализовать логику слоя>"
   ]
  },
  {
   "cell_type": "markdown",
   "metadata": {
    "id": "IPG4UqL4wajI"
   },
   "source": [
    "1.5 Используя решение из __1.4__, создать 2 полносвязных слоя и пропустить матрицу `inputs` последовательно через эти два слоя. Количество нейронов в первом слое выбрать произвольно, количество нейронов во втором слое выбрать так, чтобы результатом прогона являлась матрица (3x7). "
   ]
  },
  {
   "cell_type": "code",
   "execution_count": null,
   "metadata": {
    "id": "RjjQIQlTxJE6"
   },
   "outputs": [],
   "source": [
    "inputs = torch.tensor([[1, 2, 3, 2.5], \n",
    "                       [2, 5, -1, 2], \n",
    "                       [-1.5, 2.7, 3.3, -0.8]])"
   ]
  }
 ],
 "metadata": {
  "colab": {
   "name": "02_NN_blocks_backprop_v1.ipynb",
   "provenance": []
  },
  "kernelspec": {
   "display_name": "Python 3 (ipykernel)",
   "language": "python",
   "name": "python3"
  },
  "language_info": {
   "codemirror_mode": {
    "name": "ipython",
    "version": 3
   },
   "file_extension": ".py",
   "mimetype": "text/x-python",
   "name": "python",
   "nbconvert_exporter": "python",
   "pygments_lexer": "ipython3",
   "version": "3.8.5"
  }
 },
 "nbformat": 4,
 "nbformat_minor": 0
}
