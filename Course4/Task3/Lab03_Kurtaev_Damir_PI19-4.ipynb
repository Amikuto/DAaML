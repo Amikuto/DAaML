{
 "cells": [
  {
   "cell_type": "markdown",
   "source": [
    "3. Создание нейронной сети при помощи пакета torch. Dataset и Dataloader.\n",
    "\n",
    "1. Автоматическое дифференцирование в torch\n",
    "1.1 Воспользовавшись классами Neuron и MSELoss из задачи 2.4.1 и автоматическим дифференцированием, которое предоставляет torch, решить задачу регрессии. Для оптимизации использовать стохастический градиетный спуск."
   ],
   "metadata": {
    "collapsed": false
   }
  },
  {
   "cell_type": "code",
   "execution_count": 1,
   "metadata": {
    "collapsed": true
   },
   "outputs": [
    {
     "data": {
      "text/plain": "<torch._C.Generator at 0x220d83ba1b0>"
     },
     "execution_count": 1,
     "metadata": {},
     "output_type": "execute_result"
    }
   ],
   "source": [
    "import torch\n",
    "import numpy as np\n",
    "import matplotlib.pyplot as plt\n",
    "from sklearn.datasets import make_regression\n",
    "\n",
    "torch.manual_seed(63)"
   ]
  },
  {
   "cell_type": "code",
   "execution_count": 2,
   "outputs": [],
   "source": [
    "X, y, coef = make_regression(n_features=4, n_informative=4, coef=True, bias=0.5)\n",
    "X = torch.from_numpy(X).to(dtype=torch.float32)\n",
    "y = torch.from_numpy(y).to(dtype=torch.float32)"
   ],
   "metadata": {
    "collapsed": false
   }
  },
  {
   "cell_type": "code",
   "execution_count": 3,
   "outputs": [
    {
     "data": {
      "text/plain": "(tensor([[ 0.1858,  1.0342,  2.1270,  0.6816],\n         [ 1.6371, -0.3344, -1.0270,  0.5785],\n         [ 0.1018, -0.2460, -0.4623,  0.1848],\n         [-0.9377,  1.6774, -0.1218,  0.6435],\n         [-0.2365, -1.0124,  0.1500,  1.6193]]),\n torch.Size([100, 4]))"
     },
     "execution_count": 3,
     "metadata": {},
     "output_type": "execute_result"
    }
   ],
   "source": [
    "X[:5], X.shape"
   ],
   "metadata": {
    "collapsed": false
   }
  },
  {
   "cell_type": "code",
   "execution_count": 4,
   "outputs": [
    {
     "data": {
      "text/plain": "(tensor([265.6099, -48.7996, -53.0864, 129.3543, -91.1299]), torch.Size([100]))"
     },
     "execution_count": 4,
     "metadata": {},
     "output_type": "execute_result"
    }
   ],
   "source": [
    "y[:5], y.shape"
   ],
   "metadata": {
    "collapsed": false
   }
  },
  {
   "cell_type": "code",
   "execution_count": 5,
   "outputs": [],
   "source": [
    "class Neuron:\n",
    "    def __init__(self, n_inputs):\n",
    "        # <создать атрибуты объекта weights и bias>\n",
    "        self.weights = torch.randn(n_inputs, requires_grad=True)\n",
    "        self.bias = torch.randn(1, requires_grad=True)\n",
    "\n",
    "    def forward(self, inputs):\n",
    "        return torch.matmul(inputs, self.weights.T) + self.bias\n",
    "\n",
    "    def backward(self, dvalue):\n",
    "        self.dweights = dvalue\n",
    "        self.dinput = dvalue * self.weights\n",
    "        self.dbias = dvalue\n",
    "\n",
    "        return self.dweights, self.dbias\n",
    "\n",
    "    def parameters(self):\n",
    "        return self.weights, self.bias\n",
    "\n",
    "\n",
    "class MSELoss:\n",
    "    def forward(self, y_pred, y_true):\n",
    "        diff = y_pred - y_true\n",
    "        differences_squared = diff ** 2\n",
    "        mean_diff = differences_squared.mean()\n",
    "\n",
    "        return mean_diff\n",
    "\n",
    "    def backward(self, y_pred, y_true):\n",
    "        diff = y_pred - y_true\n",
    "        differences_doubled = 2 * diff\n",
    "        differences_div = differences_doubled / y_pred.size(0)\n",
    "        return differences_div"
   ],
   "metadata": {
    "collapsed": false
   }
  },
  {
   "cell_type": "code",
   "execution_count": 6,
   "outputs": [],
   "source": [
    "neuron = Neuron(X.shape[1])\n",
    "mse = MSELoss()\n",
    "optimizer = torch.optim.SGD(neuron.parameters(), lr=0.1)"
   ],
   "metadata": {
    "collapsed": false
   }
  },
  {
   "cell_type": "code",
   "execution_count": 7,
   "outputs": [
    {
     "name": "stdout",
     "output_type": "stream",
     "text": [
      "Loss:  19629.73046875\n",
      "Loss:  11229.9013671875\n",
      "Loss:  6477.447265625\n",
      "Loss:  3771.81103515625\n",
      "Loss:  2220.16162109375\n",
      "Loss:  1322.7181396484375\n",
      "Loss:  798.5595092773438\n",
      "Loss:  489.0141296386719\n",
      "Loss:  303.9436340332031\n",
      "Loss:  191.79750061035156\n",
      "Loss:  122.86112976074219\n",
      "Loss:  79.8504867553711\n",
      "Loss:  52.60813903808594\n",
      "Loss:  35.095458984375\n",
      "Loss:  23.676132202148438\n",
      "Loss:  16.130352020263672\n"
     ]
    },
    {
     "name": "stderr",
     "output_type": "stream",
     "text": [
      "C:\\Users\\Damir\\AppData\\Local\\Temp\\ipykernel_14584\\869744184.py:8: UserWarning: The use of `x.T` on tensors of dimension other than 2 to reverse their shape is deprecated and it will throw an error in a future release. Consider `x.mT` to transpose batches of matrices or `x.permute(*torch.arange(x.ndim - 1, -1, -1))` to reverse the dimensions of a tensor. (Triggered internally at ..\\aten\\src\\ATen\\native\\TensorShape.cpp:3281.)\n",
      "  return torch.matmul(inputs, self.weights.T) + self.bias\n"
     ]
    },
    {
     "data": {
      "text/plain": "(tensor([32.0448, 99.0748, 69.2859,  4.7968], requires_grad=True),\n array([34.00063774, 99.53831823, 72.00857379,  3.94441292]))"
     },
     "execution_count": 7,
     "metadata": {},
     "output_type": "execute_result"
    }
   ],
   "source": [
    "for epoch in range(16):\n",
    "    y_pred = neuron.forward(X)\n",
    "    loss = mse.forward(y_pred=y_pred, y_true=y)\n",
    "    print('Loss: ', loss.item())\n",
    "    optimizer.zero_grad()\n",
    "    loss.backward()\n",
    "    optimizer.step()\n",
    "\n",
    "neuron.weights, coef"
   ],
   "metadata": {
    "collapsed": false
   }
  },
  {
   "cell_type": "markdown",
   "source": [
    "1.2 Воспользовавшись классами Linear и MSELoss из задачи 2.1.4 и 2.3.1, ReLU из 2.2.1 и автоматическим дифференцированием,\n",
    "которое предоставляет torch, решить задачу регрессии. Для оптимизации использовать пакетный градиентный спуск.\n",
    "Вывести график функции потерь в зависимости от номера эпохи. Вывести на одном графике исходные данные и предсказанные\n",
    "значения."
   ],
   "metadata": {
    "collapsed": false
   }
  },
  {
   "cell_type": "code",
   "execution_count": 8,
   "outputs": [],
   "source": [
    "class Linear:\n",
    "    def __init__(self, n_features, n_neurons):\n",
    "        self.weights = torch.randn(n_features, n_neurons, requires_grad=True)\n",
    "        self.biases = torch.randn(n_neurons, requires_grad=True)\n",
    "\n",
    "    def forward(self, inputs: torch.Tensor) -> torch.Tensor:\n",
    "        return (inputs @ self.weights) + self.biases\n",
    "\n",
    "    def parameters(self):\n",
    "        return self.weights, self.biases\n",
    "\n",
    "\n",
    "class MSELoss:\n",
    "    def forward(self, y_pred, y_true):\n",
    "        diff = y_pred - y_true\n",
    "        differences_squared = diff ** 2\n",
    "        mean_diff = differences_squared.mean()\n",
    "\n",
    "        return mean_diff\n",
    "\n",
    "    def backward(self, y_pred, y_true):\n",
    "        diff = y_pred - y_true\n",
    "        differences_doubled = 2 * diff\n",
    "        differences_div = differences_doubled / y_pred.size(0)\n",
    "        return differences_div\n",
    "\n",
    "\n",
    "class ReLU:\n",
    "    def forward(self, inputs: torch.Tensor) -> torch.Tensor:\n",
    "        return torch.where(inputs > 0, inputs, 0)"
   ],
   "metadata": {
    "collapsed": false
   }
  },
  {
   "cell_type": "code",
   "execution_count": 9,
   "outputs": [],
   "source": [
    "X = torch.linspace(0, 1, 100).view(-1, 1)\n",
    "y = torch.sin(2 * np.pi * X) + 0.1 * torch.rand(X.size())"
   ],
   "metadata": {
    "collapsed": false
   }
  },
  {
   "cell_type": "code",
   "execution_count": 10,
   "outputs": [
    {
     "data": {
      "text/plain": "(tensor([[0.0000],\n         [0.0101],\n         [0.0202],\n         [0.0303],\n         [0.0404]]),\n torch.Size([100, 1]))"
     },
     "execution_count": 10,
     "metadata": {},
     "output_type": "execute_result"
    }
   ],
   "source": [
    "X[:5], X.shape"
   ],
   "metadata": {
    "collapsed": false
   }
  },
  {
   "cell_type": "code",
   "execution_count": 11,
   "outputs": [
    {
     "data": {
      "text/plain": "(tensor([[0.0558],\n         [0.1185],\n         [0.1298],\n         [0.2740],\n         [0.2868]]),\n torch.Size([100, 1]))"
     },
     "execution_count": 11,
     "metadata": {},
     "output_type": "execute_result"
    }
   ],
   "source": [
    "y[:5], y.shape"
   ],
   "metadata": {
    "collapsed": false
   }
  },
  {
   "cell_type": "code",
   "execution_count": 12,
   "outputs": [],
   "source": [
    "layer_1 = Linear(X.shape[1], 100)\n",
    "layer_2 = Linear(100, y.shape[1])\n",
    "\n",
    "relu = ReLU()\n",
    "mse = MSELoss()\n",
    "\n",
    "optimizer = torch.optim.SGD((*layer_1.parameters(), *layer_2.parameters()), lr=0.001)"
   ],
   "metadata": {
    "collapsed": false
   }
  },
  {
   "cell_type": "code",
   "execution_count": 13,
   "outputs": [],
   "source": [
    "losses = torch.empty(1000)\n",
    "for epoch in range(1000):\n",
    "    y_pred = layer_2.forward(relu.forward(layer_1.forward(X)))\n",
    "\n",
    "    loss = mse.forward(y_pred=y_pred, y_true=y)\n",
    "    optimizer.zero_grad()\n",
    "    loss.backward()\n",
    "    losses[epoch] = loss.item()\n",
    "    optimizer.step()"
   ],
   "metadata": {
    "collapsed": false
   }
  },
  {
   "cell_type": "code",
   "execution_count": 14,
   "outputs": [
    {
     "data": {
      "text/plain": "<Figure size 640x480 with 1 Axes>",
      "image/png": "[encoded data removed]"
     },
     "metadata": {},
     "output_type": "display_data"
    }
   ],
   "source": [
    "_, ax = plt.subplots(1)\n",
    "\n",
    "ax.scatter(X, y, s=20)\n",
    "res = layer_2.forward(relu.forward(layer_1.forward(X)))\n",
    "ax.plot(X, res.detach(), c='r')\n",
    "plt.show()"
   ],
   "metadata": {
    "collapsed": false
   }
  },
  {
   "cell_type": "markdown",
   "source": [
    "2. Алгоритмы оптимизации в torch.optim"
   ],
   "metadata": {
    "collapsed": false
   }
  },
  {
   "cell_type": "code",
   "execution_count": 15,
   "outputs": [],
   "source": [
    "import torch.optim as optim"
   ],
   "metadata": {
    "collapsed": false
   }
  },
  {
   "cell_type": "markdown",
   "source": [
    "2.1 Решить задачу 1.1, воспользовавшись оптимизатором optim.SDG для применения стохастического градиентого спуска"
   ],
   "metadata": {
    "collapsed": false
   }
  },
  {
   "cell_type": "code",
   "execution_count": 16,
   "outputs": [],
   "source": [
    "X, y, coef = make_regression(n_features=4, n_informative=4, coef=True, bias=0.5)\n",
    "X = torch.from_numpy(X).to(dtype=torch.float32)\n",
    "y = torch.from_numpy(y).to(dtype=torch.float32)"
   ],
   "metadata": {
    "collapsed": false
   }
  },
  {
   "cell_type": "code",
   "execution_count": 17,
   "outputs": [],
   "source": [
    "class Neuron:\n",
    "    def __init__(self, n_inputs):\n",
    "        self.weights = torch.randn(n_inputs, requires_grad=True)\n",
    "        self.bias = torch.randn(1, requires_grad=True)\n",
    "\n",
    "    def forward(self, inputs):\n",
    "        return torch.matmul(inputs, self.weights.T) + self.bias\n",
    "\n",
    "    def backward(self, bvalue):\n",
    "        self.bweights = bvalue\n",
    "        self.binput = bvalue * self.weights\n",
    "        self.bbias = bvalue\n",
    "\n",
    "        return self.bweights, self.bbias\n",
    "\n",
    "    def parameters(self):\n",
    "        return self.weights, self.bias\n",
    "\n",
    "\n",
    "class MSELoss:\n",
    "    def forward(self, y_pred, y_true):\n",
    "        diff = y_pred - y_true\n",
    "        differences_squared = diff ** 2\n",
    "        mean_diff = differences_squared.mean()\n",
    "\n",
    "        return mean_diff\n",
    "\n",
    "    def backward(self, y_pred, y_true):\n",
    "        diff = y_pred - y_true\n",
    "        differences_doubled = 2 * diff\n",
    "        differences_div = differences_doubled / y_pred.size(0)\n",
    "        return differences_div"
   ],
   "metadata": {
    "collapsed": false
   }
  },
  {
   "cell_type": "code",
   "execution_count": 18,
   "outputs": [],
   "source": [
    "neuron = Neuron(X.shape[1])\n",
    "mse = MSELoss()\n",
    "optimizer = torch.optim.SGD(neuron.parameters(), lr=0.1)"
   ],
   "metadata": {
    "collapsed": false
   }
  },
  {
   "cell_type": "code",
   "execution_count": 19,
   "outputs": [
    {
     "name": "stdout",
     "output_type": "stream",
     "text": [
      "Loss:  25251.39453125\n",
      "Loss:  13737.8828125\n",
      "Loss:  7572.724609375\n",
      "Loss:  4238.8935546875\n",
      "Loss:  2414.66259765625\n",
      "Loss:  1402.40625\n",
      "Loss:  831.561279296875\n",
      "Loss:  503.7422790527344\n",
      "Loss:  311.72296142578125\n",
      "Loss:  196.87913513183594\n",
      "Loss:  126.7230453491211\n",
      "Loss:  82.96717834472656\n",
      "Loss:  55.135860443115234\n",
      "Loss:  37.1121940612793\n",
      "Loss:  25.251317977905273\n",
      "Loss:  17.33649253845215\n"
     ]
    },
    {
     "data": {
      "text/plain": "(tensor([61.0943, 74.3759, 44.2164, 88.4188], requires_grad=True),\n array([61.68731618, 73.995218  , 47.15467193, 90.30218618]))"
     },
     "execution_count": 19,
     "metadata": {},
     "output_type": "execute_result"
    }
   ],
   "source": [
    "for epoch in range(16):\n",
    "    y_pred = neuron.forward(X)\n",
    "    loss = mse.forward(y_pred=y_pred, y_true=y)\n",
    "    print('Loss: ', loss.item())\n",
    "    optimizer.zero_grad()\n",
    "    loss.backward()\n",
    "    optimizer.step()\n",
    "\n",
    "neuron.weights, coef"
   ],
   "metadata": {
    "collapsed": false
   }
  },
  {
   "cell_type": "markdown",
   "source": [
    "2.2 Решить задачу 1.2, воспользовавшись оптимизатором optim.Adam для применения пакетного градиентого спуска. Вывести график функции потерь в зависимости от номера эпохи. Вывести на одном графике исходные данные и предсказанные значения."
   ],
   "metadata": {
    "collapsed": false
   }
  },
  {
   "cell_type": "code",
   "execution_count": 20,
   "outputs": [],
   "source": [
    "class Linear:\n",
    "    def __init__(self, n_features, n_neurons):\n",
    "        self.weights = torch.randn(n_features, n_neurons, requires_grad=True)\n",
    "        self.biases = torch.randn(n_neurons, requires_grad=True)\n",
    "\n",
    "    def forward(self, inputs: torch.Tensor) -> torch.Tensor:\n",
    "        return (inputs @ self.weights) + self.biases\n",
    "\n",
    "    def parameters(self):\n",
    "        return self.weights, self.biases\n",
    "\n",
    "\n",
    "class MSELoss:\n",
    "    def forward(self, y_pred, y_true):\n",
    "        diff = y_pred - y_true\n",
    "        differences_squared = diff ** 2\n",
    "        mean_diff = differences_squared.mean()\n",
    "\n",
    "        return mean_diff\n",
    "\n",
    "    def backward(self, y_pred, y_true):\n",
    "        diff = y_pred - y_true\n",
    "        differences_doubled = 2 * diff\n",
    "        differences_div = differences_doubled / y_pred.size(0)\n",
    "        return differences_div\n",
    "\n",
    "\n",
    "class ReLU:\n",
    "    def forward(self, inputs: torch.Tensor) -> torch.Tensor:\n",
    "        return torch.where(inputs > 0, inputs, 0)"
   ],
   "metadata": {
    "collapsed": false
   }
  },
  {
   "cell_type": "code",
   "execution_count": 21,
   "outputs": [],
   "source": [
    "X = torch.linspace(0, 1, 100).view(-1, 1)\n",
    "y = torch.sin(2 * np.pi * X) + 0.1 * torch.rand(X.size())"
   ],
   "metadata": {
    "collapsed": false
   }
  },
  {
   "cell_type": "code",
   "execution_count": 22,
   "outputs": [],
   "source": [
    "layer_1 = Linear(X.shape[1], 100)\n",
    "layer_2 = Linear(100, y.shape[1])\n",
    "\n",
    "relu = ReLU()\n",
    "mse = MSELoss()\n",
    "\n",
    "optimizer = torch.optim.Adam((*layer_1.parameters(), *layer_2.parameters()), lr=0.001)"
   ],
   "metadata": {
    "collapsed": false
   }
  },
  {
   "cell_type": "code",
   "execution_count": 23,
   "outputs": [],
   "source": [
    "losses = torch.empty(1000)\n",
    "for epoch in range(1000):\n",
    "    y_pred = layer_2.forward(relu.forward(layer_1.forward(X)))\n",
    "\n",
    "    loss = mse.forward(y_pred=y_pred, y_true=y)\n",
    "    optimizer.zero_grad()\n",
    "    loss.backward()\n",
    "    losses[epoch] = loss.item()\n",
    "    optimizer.step()"
   ],
   "metadata": {
    "collapsed": false
   }
  },
  {
   "cell_type": "code",
   "execution_count": 24,
   "outputs": [
    {
     "data": {
      "text/plain": "<Figure size 640x480 with 1 Axes>",
      "image/png": "[encoded data removed]"
     },
     "metadata": {},
     "output_type": "display_data"
    }
   ],
   "source": [
    "predicts = layer_2.forward(relu.forward(layer_1.forward(X)))\n",
    "_, ax = plt.subplots(1)\n",
    "\n",
    "ax.scatter(X, y, s=20)\n",
    "ax.plot(X, predicts.detach(), c='r')\n",
    "plt.show()"
   ],
   "metadata": {
    "collapsed": false
   }
  },
  {
   "cell_type": "markdown",
   "source": [
    "## 3. Построение сетей при помощи `torch.nn`"
   ],
   "metadata": {
    "collapsed": false
   }
  },
  {
   "cell_type": "code",
   "execution_count": 25,
   "outputs": [],
   "source": [
    "import torch.nn as nn"
   ],
   "metadata": {
    "collapsed": false
   }
  },
  {
   "cell_type": "markdown",
   "source": [
    "3.1 Решить задачу регрессии, соблюдая следующие условия:\n",
    "\n",
    "1. Оформить нейронную сеть в виде класса - наследника `nn.Module`\n",
    "2. При создании сети использовать готовые блоки из `torch.nn`: слои, функции активации, функции потерь и т.д.\n",
    "3. Для оптимизации использовать любой алгоритм оптимизации из `torch.optim`"
   ],
   "metadata": {
    "collapsed": false
   }
  },
  {
   "cell_type": "code",
   "execution_count": 26,
   "outputs": [],
   "source": [
    "X = torch.linspace(0, 1, 100).view(-1, 1)\n",
    "y = torch.sin(2 * np.pi * X) + 0.1 * torch.rand(X.size())"
   ],
   "metadata": {
    "collapsed": false
   }
  },
  {
   "cell_type": "code",
   "execution_count": 27,
   "outputs": [],
   "source": [
    "class Net(nn.Module):\n",
    "    def __init__(self, neurons):\n",
    "        super(Net, self).__init__()\n",
    "        self.fc1 = torch.nn.Linear(1, neurons)\n",
    "        self.act1 = torch.nn.Sigmoid()\n",
    "        self.fc2 = torch.nn.Linear(neurons, 1)\n",
    "\n",
    "    def forward(self, x):\n",
    "        x = self.fc1(x)\n",
    "        x = self.act1(x)\n",
    "        x = self.fc2(x)\n",
    "        return x\n",
    "\n",
    "\n",
    "neuron = Net(15)\n",
    "optimizer = optim.Adam(neuron.parameters(), lr=0.001)\n",
    "mse = torch.nn.MSELoss()"
   ],
   "metadata": {
    "collapsed": false
   }
  },
  {
   "cell_type": "code",
   "execution_count": 28,
   "outputs": [
    {
     "name": "stdout",
     "output_type": "stream",
     "text": [
      "Epoch 0 loss: 0.7126411199569702\n",
      "Epoch 1000 loss: 0.2038809210062027\n",
      "Epoch 2000 loss: 0.1993308663368225\n",
      "Epoch 3000 loss: 0.19641278684139252\n",
      "Epoch 4000 loss: 0.18777506053447723\n",
      "Epoch 5000 loss: 0.15909060835838318\n",
      "Epoch 6000 loss: 0.0668056532740593\n",
      "Epoch 7000 loss: 0.005809516180306673\n",
      "Epoch 8000 loss: 0.0011873355833813548\n"
     ]
    },
    {
     "data": {
      "text/plain": "<Figure size 640x480 with 1 Axes>",
      "image/png": "[encoded data removed]"
     },
     "metadata": {},
     "output_type": "display_data"
    }
   ],
   "source": [
    "for epoch in range(9000):\n",
    "    optimizer.zero_grad()\n",
    "    y_pred = neuron.forward(X)\n",
    "    loss = mse.forward(y_pred, y)\n",
    "    loss.backward()\n",
    "    optimizer.step()\n",
    "\n",
    "    if epoch % 1000 == 0:\n",
    "        print(f\"Epoch {epoch} loss: {loss}\")\n",
    "\n",
    "with torch.no_grad():\n",
    "    plt.plot(X, y)\n",
    "    plt.plot(X, neuron(X).detach().numpy())"
   ],
   "metadata": {
    "collapsed": false
   }
  },
  {
   "cell_type": "markdown",
   "source": [
    "3.2 Решить задачу регрессии, соблюдая следующие условия:\n",
    "\n",
    "1. Оформить нейронную сеть в виде объекта `nn.Sequential`\n",
    "2. При создании сети использовать готовые блоки из `torch.nn`: слои, функции активации, функции потерь и т.д.\n",
    "3. Для оптимизации использовать любой алгоритм оптимизации из `torch.optim`"
   ],
   "metadata": {
    "collapsed": false
   }
  },
  {
   "cell_type": "code",
   "execution_count": 29,
   "outputs": [],
   "source": [
    "X = torch.linspace(0, 1, 100).view(-1, 1)\n",
    "y = torch.sin(2 * np.pi * X) + 0.1 * torch.rand(X.size())"
   ],
   "metadata": {
    "collapsed": false
   }
  },
  {
   "cell_type": "code",
   "execution_count": 30,
   "outputs": [],
   "source": [
    "model = nn.Sequential(\n",
    "    nn.Linear(1, 5),\n",
    "    nn.Tanh(),\n",
    "    nn.Linear(5, 1),\n",
    "    nn.Tanh(),\n",
    "    nn.Linear(1, 5),\n",
    "    nn.Tanh(),\n",
    "    nn.Linear(5, 1)\n",
    ")\n",
    "optimizer = optim.Adam(model.parameters(), lr=0.01)\n",
    "guas = torch.nn.GaussianNLLLoss()\n",
    "\n",
    "losses = []\n",
    "for epoch in range(5000):\n",
    "    optimizer.zero_grad()\n",
    "\n",
    "    y_pred = model.forward(X)\n",
    "    var = torch.ones(y_pred.shape[0], y_pred.shape[1], requires_grad=True)\n",
    "    loss = guas(y_pred, y, var)\n",
    "    loss.backward()\n",
    "    losses.append(loss.item())\n",
    "    optimizer.step()"
   ],
   "metadata": {
    "collapsed": false
   }
  },
  {
   "cell_type": "code",
   "execution_count": 31,
   "outputs": [
    {
     "data": {
      "text/plain": "<Figure size 640x480 with 1 Axes>",
      "image/png": "[encoded data removed]"
     },
     "metadata": {},
     "output_type": "display_data"
    }
   ],
   "source": [
    "with torch.no_grad():\n",
    "  plt.plot(X, y)\n",
    "  plt.plot(X, model(X))"
   ],
   "metadata": {
    "collapsed": false
   }
  },
  {
   "cell_type": "markdown",
   "source": [
    "3.3 Решить задачу классификации. Датасет: Breast Cancer Wisconsin\n",
    "1. Оформить нейронную сеть в виде объекта `nn.Sequential`\n",
    "2. При создании сети использовать готовые блоки из `torch.nn`: слои, функции активации, функции потерь и т.д.\n",
    "3. Для оптимизации использовать любой алгоритм оптимизации из `torch.optim`"
   ],
   "metadata": {
    "collapsed": false
   }
  },
  {
   "cell_type": "code",
   "execution_count": 32,
   "outputs": [],
   "source": [
    "from sklearn import datasets\n",
    "\n",
    "dataset = datasets.load_breast_cancer()\n",
    "\n",
    "X = torch.from_numpy(dataset.data).to(torch.float32)\n",
    "y = torch.from_numpy(dataset.target).to(torch.float32).view(-1, 1)"
   ],
   "metadata": {
    "collapsed": false
   }
  },
  {
   "cell_type": "code",
   "execution_count": 33,
   "outputs": [
    {
     "data": {
      "text/plain": "torch.Size([569, 30])"
     },
     "execution_count": 33,
     "metadata": {},
     "output_type": "execute_result"
    }
   ],
   "source": [
    "X.shape"
   ],
   "metadata": {
    "collapsed": false
   }
  },
  {
   "cell_type": "code",
   "execution_count": 34,
   "outputs": [
    {
     "data": {
      "text/plain": "torch.Size([569, 1])"
     },
     "execution_count": 34,
     "metadata": {},
     "output_type": "execute_result"
    }
   ],
   "source": [
    "y.shape"
   ],
   "metadata": {
    "collapsed": false
   }
  },
  {
   "cell_type": "code",
   "execution_count": 35,
   "outputs": [
    {
     "name": "stdout",
     "output_type": "stream",
     "text": [
      "Loss: 0.6722543239593506\n",
      "Loss: 0.06496413052082062\n",
      "Loss: 0.049678072333335876\n",
      "Loss: 0.04164082184433937\n",
      "Loss: 0.035400375723838806\n",
      "Loss: 0.03164278715848923\n",
      "Loss: 0.028959952294826508\n",
      "Loss: 0.02501884289085865\n",
      "Loss: 0.02388002909719944\n",
      "Loss: 0.023097503930330276\n"
     ]
    }
   ],
   "source": [
    "model = nn.Sequential(\n",
    "    nn.Linear(X.size(1), 50),\n",
    "    nn.Tanh(),\n",
    "    nn.Linear(50, y.size(1)),\n",
    "    nn.Tanh(),\n",
    ")\n",
    "hloss = nn.HuberLoss()\n",
    "optimizer = optim.Adam(model.parameters(), lr=0.001)\n",
    "m = nn.LogSoftmax()\n",
    "\n",
    "for epoch in range(1000):\n",
    "    optimizer.zero_grad()\n",
    "\n",
    "    y_pred = model(X)\n",
    "    loss = hloss(y_pred, y)\n",
    "    loss.backward()\n",
    "\n",
    "    optimizer.step()\n",
    "\n",
    "    if epoch % 100 == 0:\n",
    "        print(f\"Loss: {loss.item()}\")"
   ],
   "metadata": {
    "collapsed": false
   }
  },
  {
   "cell_type": "markdown",
   "source": [
    "## 4. Datasets and dataloaders"
   ],
   "metadata": {
    "collapsed": false
   }
  },
  {
   "cell_type": "code",
   "execution_count": 36,
   "outputs": [],
   "source": [
    "from torch.utils.data import Dataset, DataLoader"
   ],
   "metadata": {
    "collapsed": false
   }
  },
  {
   "cell_type": "markdown",
   "source": [
    "4.1 Создать датасет, поставляющий данные из задачи 1.2.\n",
    "\n",
    "Создать `DataLoader` на основе этого датасета и проверить работоспособность.\n",
    "\n",
    "Воспользовавшись результатами 3.1 (или 3.2) обучите модель, пользуясь мини-пакетным градиентным спуском с размером пакета (`batch_size`) = 10"
   ],
   "metadata": {
    "collapsed": false
   }
  },
  {
   "cell_type": "code",
   "execution_count": 37,
   "outputs": [],
   "source": [
    "class SinDataset(Dataset):\n",
    "    def __init__(self):\n",
    "        self.X = torch.linspace(0, 1, 100).view(-1, 1)\n",
    "        self.y = torch.sin(2 * np.pi * self.X) + 0.1 * torch.rand(self.X.size())\n",
    "\n",
    "    def __len__(self):\n",
    "        return len(self.X)\n",
    "\n",
    "    def __getitem__(self, idx):\n",
    "        return self.X[idx], self.y[idx]\n",
    "\n",
    "n_neurons = 10\n",
    "model = nn.Sequential(\n",
    "    nn.Linear(1, n_neurons),\n",
    "    nn.Tanh(),\n",
    "    nn.Linear(n_neurons, 1)\n",
    ")"
   ],
   "metadata": {
    "collapsed": false
   }
  },
  {
   "cell_type": "code",
   "execution_count": 38,
   "outputs": [
    {
     "name": "stdout",
     "output_type": "stream",
     "text": [
      "Loss: 0.3079451322555542\n",
      "Loss: 0.043050430715084076\n",
      "Loss: 0.01199752651154995\n",
      "Loss: 0.01114640198647976\n",
      "Loss: 0.010499173775315285\n",
      "Loss: 0.009552916511893272\n",
      "Loss: 0.008284921757876873\n",
      "Loss: 0.006713560316711664\n",
      "Loss: 0.004907613154500723\n",
      "Loss: 0.0030633111018687487\n"
     ]
    }
   ],
   "source": [
    "optimizer = optim.Adam(model.parameters(), lr=0.0001)\n",
    "hloss = torch.nn.HuberLoss()\n",
    "dataloader = DataLoader(SinDataset(), batch_size=10)\n",
    "\n",
    "for epoch in range(10000):\n",
    "    X_dl, y_dl = next(iter(dataloader))\n",
    "    optimizer.zero_grad()\n",
    "    y_pred = model.forward(X_dl)\n",
    "    loss = hloss(y_pred, y_dl)\n",
    "    loss.backward()\n",
    "    optimizer.step()\n",
    "\n",
    "    if epoch % 1000 == 0:\n",
    "        print(f\"Loss: {loss.item()}\")"
   ],
   "metadata": {
    "collapsed": false
   }
  },
  {
   "cell_type": "markdown",
   "source": [
    "4.2 Предсказание цен алмазов\n",
    "\n",
    "4.2.1 Создайте датасет на основе файла diamonds.csv.\n",
    "\n",
    "1. Удалите все нечисловые столбцы\n",
    "2. Целевой столбец (`y`) - `price`\n",
    "3. Преобразуйте данные в тензоры корректных размеров\n",
    "\n",
    "4.2.2 Разбейте датасет на обучающий и тестовый датасет при помощи `torch.utils.data.random_split`.\n",
    "\n",
    "4.2.3 Обучите модель для предсказания цен при помощи мини-пакетного градиентного спуска (`batch_size = 256`).\n",
    "\n",
    "4.2.4 Выведите график функции потерь в зависимости от номера эпохи (значение потерь для эпохи рассчитывайте как среднее значение ошибок на каждом батче). Проверьте качество модели на тестовой выборке.\n"
   ],
   "metadata": {
    "collapsed": false
   }
  },
  {
   "cell_type": "code",
   "execution_count": 39,
   "outputs": [],
   "source": [
    "import pandas as pd\n",
    "import torch\n",
    "from torch.utils.data import Dataset, DataLoader\n",
    "\n",
    "import warnings\n",
    "warnings.filterwarnings(\"ignore\")"
   ],
   "metadata": {
    "collapsed": false
   }
  },
  {
   "cell_type": "code",
   "execution_count": 40,
   "outputs": [],
   "source": [
    "class DiamondsDataset(Dataset):\n",
    "    def __init__(self, data):\n",
    "        super().__init__()\n",
    "        self.data = pd.read_csv(data, index_col=[0])\n",
    "\n",
    "    def __len__(self):\n",
    "        return len(self.data)\n",
    "\n",
    "    def __getitem__(self, idx):\n",
    "        self.X = torch.FloatTensor(self.data.drop(columns=[\"price\"]).select_dtypes([\"number\"]).values)\n",
    "        self.y = torch.FloatTensor(self.data[\"price\"].values)\n",
    "        return self.X[idx], self.y[idx]"
   ],
   "metadata": {
    "collapsed": false
   }
  },
  {
   "cell_type": "code",
   "execution_count": 41,
   "outputs": [
    {
     "name": "stdout",
     "output_type": "stream",
     "text": [
      "(tensor([[61.5000, 55.0000,  3.9500,  3.9800,  2.4300],\n",
      "        [59.8000, 61.0000,  3.8900,  3.8400,  2.3100],\n",
      "        [56.9000, 65.0000,  4.0500,  4.0700,  2.3100],\n",
      "        [62.4000, 58.0000,  4.2000,  4.2300,  2.6300],\n",
      "        [63.3000, 58.0000,  4.3400,  4.3500,  2.7500],\n",
      "        [62.8000, 57.0000,  3.9400,  3.9600,  2.4800],\n",
      "        [62.3000, 57.0000,  3.9500,  3.9800,  2.4700],\n",
      "        [61.9000, 55.0000,  4.0700,  4.1100,  2.5300],\n",
      "        [65.1000, 61.0000,  3.8700,  3.7800,  2.4900],\n",
      "        [59.4000, 61.0000,  4.0000,  4.0500,  2.3900]]), tensor([326., 326., 327., 334., 335., 336., 336., 337., 337., 338.]))\n"
     ]
    }
   ],
   "source": [
    "dataset = DiamondsDataset(\"diamonds.csv\")\n",
    "print(dataset[:10])"
   ],
   "metadata": {
    "collapsed": false
   }
  },
  {
   "cell_type": "code",
   "execution_count": 42,
   "outputs": [],
   "source": [
    "train_size = int(0.8 * len(dataset))\n",
    "test_size = len(dataset) - train_size\n",
    "train, test = torch.utils.data.random_split(dataset, [train_size, test_size])\n",
    "\n",
    "diamonds_dataloader_train = DataLoader(train, batch_size=256)\n",
    "diamonds_dataloader_test = DataLoader(test, batch_size=256)"
   ],
   "metadata": {
    "collapsed": false
   }
  },
  {
   "cell_type": "code",
   "execution_count": 43,
   "outputs": [
    {
     "name": "stdout",
     "output_type": "stream",
     "text": [
      "Loss: 3670.60107421875\n",
      "Loss: 3670.585205078125\n",
      "Loss: 3670.564453125\n",
      "Loss: 3670.546875\n",
      "Loss: 3670.53125\n",
      "Loss: 3670.51513671875\n",
      "Loss: 3670.49658203125\n",
      "Loss: 3670.47705078125\n",
      "Loss: 3670.45458984375\n",
      "Loss: 3670.430908203125\n",
      "Loss: 3670.40576171875\n",
      "Loss: 3670.37890625\n",
      "Loss: 3670.3505859375\n",
      "Loss: 3670.32080078125\n",
      "Loss: 3670.29052734375\n",
      "Loss: 3670.259033203125\n",
      "Loss: 3670.22705078125\n",
      "Loss: 3670.19384765625\n",
      "Loss: 3670.16015625\n",
      "Loss: 3670.12548828125\n",
      "Loss: 3670.090087890625\n",
      "Loss: 3670.05517578125\n",
      "Loss: 3670.01953125\n",
      "Loss: 3669.98291015625\n",
      "Loss: 3669.94580078125\n",
      "Loss: 3669.909912109375\n",
      "Loss: 3669.871337890625\n",
      "Loss: 3669.83447265625\n",
      "Loss: 3669.796630859375\n",
      "Loss: 3669.75830078125\n",
      "Loss: 3669.72021484375\n",
      "Loss: 3669.6826171875\n",
      "Loss: 3669.64404296875\n",
      "Loss: 3669.605224609375\n",
      "Loss: 3669.56640625\n",
      "Loss: 3669.52734375\n",
      "Loss: 3669.48828125\n",
      "Loss: 3669.44921875\n",
      "Loss: 3669.409912109375\n",
      "Loss: 3669.37060546875\n",
      "Loss: 3669.33154296875\n",
      "Loss: 3669.2919921875\n",
      "Loss: 3669.251953125\n",
      "Loss: 3669.21240234375\n",
      "Loss: 3669.17236328125\n",
      "Loss: 3669.13330078125\n",
      "Loss: 3669.09326171875\n",
      "Loss: 3669.0537109375\n",
      "Loss: 3669.013916015625\n",
      "Loss: 3668.97314453125\n"
     ]
    }
   ],
   "source": [
    "class Model(nn.Module):\n",
    "    def __init__(self, n_neurons):\n",
    "        super(Model, self).__init__()\n",
    "        self.fc1 = torch.nn.Linear(n_neurons, 3)\n",
    "        self.act1 = torch.nn.Tanh()\n",
    "        self.fc2 = torch.nn.Linear(3, 1)\n",
    "        # self.act2 = torch.nn.Tanh()\n",
    "        # self.fc3 = torch.nn.Linear(5, 1)\n",
    "\n",
    "    def forward(self, x):\n",
    "        x = self.fc1(x)\n",
    "        x = self.act1(x)\n",
    "        x = self.fc2(x)\n",
    "        # x = self.act2(x)\n",
    "        # x = self.fc3(x)\n",
    "        return x\n",
    "\n",
    "neuron = Model(5)\n",
    "optimizer = torch.optim.SGD(neuron.parameters(), lr=0.001, momentum=0.9)\n",
    "huber = torch.nn.HuberLoss()\n",
    "\n",
    "loss_list = []\n",
    "for epoch in range(50):\n",
    "    X_dl, y_dl = next(iter(diamonds_dataloader_train))\n",
    "    optimizer.zero_grad()\n",
    "\n",
    "    y_pred = neuron.forward(X_dl)\n",
    "    loss = huber(y_pred, y_dl)\n",
    "    loss_list.append(loss.item())\n",
    "    loss.backward()\n",
    "    optimizer.step()\n",
    "\n",
    "    print(f\"Loss: {loss}\")"
   ],
   "metadata": {
    "collapsed": false
   }
  },
  {
   "cell_type": "code",
   "execution_count": 44,
   "outputs": [
    {
     "data": {
      "text/plain": "<Figure size 640x480 with 1 Axes>",
      "image/png": "[encoded data removed]"
     },
     "metadata": {},
     "output_type": "display_data"
    }
   ],
   "source": [
    "import matplotlib.pyplot as plt\n",
    "\n",
    "with torch.no_grad():\n",
    "  plt.plot(loss_list)"
   ],
   "metadata": {
    "collapsed": false
   }
  },
  {
   "cell_type": "markdown",
   "source": [
    "4.3 Модифицируйте метод `__init__` датасета из 4.2 таким образом, чтобы он мог принимать параметр `transform: callable`. Реализуйте класс `DropColsTransform` для удаления нечисловых данных из массива. Реализуйте класс `ToTensorTransorm` для трансформации массива в тензор."
   ],
   "metadata": {
    "collapsed": false
   }
  },
  {
   "cell_type": "code",
   "execution_count": 63,
   "outputs": [],
   "source": [
    "class DiamondsDataset(Dataset):\n",
    "    def __init__(self, data, transform:callable =None):\n",
    "        self.data = pd.read_csv(data, index_col = [0])\n",
    "        self.transform = transform\n",
    "\n",
    "    def __len__(self):\n",
    "        return len(self.data)\n",
    "\n",
    "    def __getitem__(self, idx):\n",
    "        self.X = self.data.drop(columns=[\"price\"])\n",
    "        self.y = self.data[\"price\"]\n",
    "        sample = self.X.iloc[idx], self.y.iloc[idx]\n",
    "        if self.transform:\n",
    "            sample = self.transform(sample)\n",
    "        return sample"
   ],
   "metadata": {
    "collapsed": false
   }
  },
  {
   "cell_type": "code",
   "execution_count": 64,
   "outputs": [],
   "source": [
    "from typing import List\n",
    "\n",
    "class DropColsTransform:\n",
    "    def __init__(self, drop: List[int]):\n",
    "        self.drop = drop\n",
    "\n",
    "    def __call__(self, sample):\n",
    "        X, y = sample\n",
    "        X = X.drop(X.index[self.drop], axis=0)\n",
    "        return X, y"
   ],
   "metadata": {
    "collapsed": false
   }
  },
  {
   "cell_type": "code",
   "execution_count": 65,
   "outputs": [],
   "source": [
    "class ToTensorTransform:\n",
    "  def __call__(self, sample):\n",
    "    self.X, self.y = sample\n",
    "    self.X = torch.FloatTensor(self.X.astype(\"float64\").values)\n",
    "    self.y = torch.FloatTensor([self.y])\n",
    "    return self.X, self.y"
   ],
   "metadata": {
    "collapsed": false
   }
  },
  {
   "cell_type": "code",
   "execution_count": 69,
   "outputs": [],
   "source": [
    "from torchvision import transforms\n",
    "\n",
    "drop = DropColsTransform(drop=[0, 1, 2, 3])\n",
    "to_tensor = ToTensorTransform()\n",
    "dataset = DiamondsDataset('diamonds.csv', transform=transforms.Compose([drop, to_tensor]))\n"
   ],
   "metadata": {
    "collapsed": false
   }
  },
  {
   "cell_type": "code",
   "execution_count": 70,
   "outputs": [],
   "source": [
    "train, test = torch.utils.data.random_split(dataset, [int(len(dataset)*0.8), int(len(dataset)*0.2)])\n",
    "\n",
    "diamonds_dataloader_train = DataLoader(train, batch_size=256)\n",
    "diamonds_dataloader_test = DataLoader(test, batch_size=256)"
   ],
   "metadata": {
    "collapsed": false
   }
  },
  {
   "cell_type": "code",
   "execution_count": 90,
   "outputs": [
    {
     "name": "stdout",
     "output_type": "stream",
     "text": [
      "Epoch 0 \t Loss: 32659868.0\n",
      "Epoch 1 \t Loss: 31129426.0\n",
      "Epoch 2 \t Loss: 26387536.0\n",
      "Epoch 3 \t Loss: 21106850.0\n",
      "Epoch 4 \t Loss: 17769288.0\n",
      "Epoch 5 \t Loss: 17422174.0\n",
      "Epoch 6 \t Loss: 19410900.0\n",
      "Epoch 7 \t Loss: 22034782.0\n",
      "Epoch 8 \t Loss: 23614596.0\n",
      "Epoch 9 \t Loss: 23346550.0\n",
      "Epoch 10 \t Loss: 21545688.0\n",
      "Epoch 11 \t Loss: 19269954.0\n",
      "Epoch 12 \t Loss: 17635204.0\n",
      "Epoch 13 \t Loss: 17230888.0\n",
      "Epoch 14 \t Loss: 17916638.0\n",
      "Epoch 15 \t Loss: 19031564.0\n",
      "Epoch 16 \t Loss: 19830690.0\n",
      "Epoch 17 \t Loss: 19881610.0\n",
      "Epoch 18 \t Loss: 19225752.0\n",
      "Epoch 19 \t Loss: 18266286.0\n",
      "Epoch 20 \t Loss: 17492066.0\n",
      "Epoch 21 \t Loss: 17210194.0\n",
      "Epoch 22 \t Loss: 17422584.0\n",
      "Epoch 23 \t Loss: 17882420.0\n",
      "Epoch 24 \t Loss: 18267400.0\n",
      "Epoch 25 \t Loss: 18358782.0\n",
      "Epoch 26 \t Loss: 18133392.0\n",
      "Epoch 27 \t Loss: 17737994.0\n",
      "Epoch 28 \t Loss: 17381462.0\n",
      "Epoch 29 \t Loss: 17215676.0\n"
     ]
    }
   ],
   "source": [
    "model = torch.nn.Sequential(\n",
    "    torch.nn.Linear(4, 12),\n",
    "    torch.nn.Tanh(),\n",
    "    torch.nn.Linear(12, 6),\n",
    "    torch.nn.Tanh(),\n",
    "    torch.nn.Linear(6, 1)\n",
    ")\n",
    "neuron = model\n",
    "optimizer = torch.optim.SGD(neuron.parameters(), lr=0.01, momentum=0.9)\n",
    "huber = torch.nn.MSELoss()\n",
    "\n",
    "loss_list = []\n",
    "for epoch in range(30):\n",
    "    X_dl, y_dl = next(iter(diamonds_dataloader_train))\n",
    "    optimizer.zero_grad()\n",
    "    y_pred = neuron.forward(X_dl)\n",
    "    loss = huber(y_pred, y_dl)\n",
    "    loss_list.append(loss.item())\n",
    "    loss.backward()\n",
    "    optimizer.step()\n",
    "    print(f\"Epoch {epoch} \\t Loss: {loss.item()}\")"
   ],
   "metadata": {
    "collapsed": false
   }
  },
  {
   "cell_type": "code",
   "execution_count": 91,
   "outputs": [
    {
     "data": {
      "text/plain": "<Figure size 640x480 with 1 Axes>",
      "image/png": "[encoded data removed]"
     },
     "metadata": {},
     "output_type": "display_data"
    }
   ],
   "source": [
    "with torch.no_grad():\n",
    "  plt.plot(loss_list)"
   ],
   "metadata": {
    "collapsed": false
   }
  }
 ],
 "metadata": {
  "kernelspec": {
   "display_name": "Python 3",
   "language": "python",
   "name": "python3"
  },
  "language_info": {
   "codemirror_mode": {
    "name": "ipython",
    "version": 2
   },
   "file_extension": ".py",
   "mimetype": "text/x-python",
   "name": "python",
   "nbconvert_exporter": "python",
   "pygments_lexer": "ipython2",
   "version": "2.7.6"
  }
 },
 "nbformat": 4,
 "nbformat_minor": 0
}
