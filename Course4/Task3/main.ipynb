{
 "cells": [
  {
   "cell_type": "markdown",
   "source": [
    "3. Создание нейронной сети при помощи пакета torch. Dataset и Dataloader.\n",
    "\n",
    "1. Автоматическое дифференцирование в torch\n",
    "1.1 Воспользовавшись классами Neuron и MSELoss из задачи 2.4.1 и автоматическим дифференцированием, которое предоставляет torch, решить задачу регрессии. Для оптимизации использовать стохастический градиетный спуск."
   ],
   "metadata": {
    "collapsed": false
   }
  },
  {
   "cell_type": "code",
   "execution_count": 1,
   "metadata": {
    "collapsed": true
   },
   "outputs": [
    {
     "data": {
      "text/plain": "<torch._C.Generator at 0x1034ade50>"
     },
     "execution_count": 1,
     "metadata": {},
     "output_type": "execute_result"
    }
   ],
   "source": [
    "import torch\n",
    "import numpy as np\n",
    "import matplotlib.pyplot as plt\n",
    "from sklearn.datasets import make_regression\n",
    "\n",
    "\n",
    "torch.manual_seed(63)"
   ]
  },
  {
   "cell_type": "code",
   "execution_count": 24,
   "outputs": [],
   "source": [
    "X, y, coef = make_regression(n_features=4, n_informative=4, coef=True, bias=0.5)\n",
    "X = torch.from_numpy(X).to(dtype=torch.float32)\n",
    "y = torch.from_numpy(y).to(dtype=torch.float32)"
   ],
   "metadata": {
    "collapsed": false,
    "pycharm": {
     "name": "#%%\n"
    }
   }
  },
  {
   "cell_type": "code",
   "execution_count": 32,
   "outputs": [
    {
     "data": {
      "text/plain": "(tensor([[ 0.6128,  0.5975, -0.5655,  0.7449],\n         [ 1.0168, -1.8511,  0.4628,  1.0567],\n         [ 0.3447,  2.0135,  0.9885,  2.8184],\n         [ 1.2066, -1.3950, -1.5007,  1.2864],\n         [-0.0256,  1.1211, -0.3713, -1.1509]]),\n torch.Size([100, 4]))"
     },
     "execution_count": 32,
     "metadata": {},
     "output_type": "execute_result"
    }
   ],
   "source": [
    "X[:5], X.shape"
   ],
   "metadata": {
    "collapsed": false,
    "pycharm": {
     "name": "#%%\n"
    }
   }
  },
  {
   "cell_type": "code",
   "execution_count": 33,
   "outputs": [
    {
     "data": {
      "text/plain": "(tensor([23.0544, 20.6854, 61.3843,  7.6888,  3.3967]), torch.Size([100]))"
     },
     "execution_count": 33,
     "metadata": {},
     "output_type": "execute_result"
    }
   ],
   "source": [
    "y[:5], y.shape"
   ],
   "metadata": {
    "collapsed": false,
    "pycharm": {
     "name": "#%%\n"
    }
   }
  },
  {
   "cell_type": "code",
   "execution_count": null,
   "outputs": [],
   "source": [
    "class Neuron:\n",
    "    def __init__(self, n_inputs):\n",
    "        # <создать атрибуты объекта weights и bias>\n",
    "        self.weights = torch.randn(n_inputs, requires_grad=True)\n",
    "        self.bias = torch.randn(1, requires_grad=True)\n",
    "\n",
    "    def forward(self, inputs):\n",
    "        return torch.matmul(inputs, self.weights.T) + self.bias\n",
    "\n",
    "    def backward(self, dvalue):\n",
    "        self.dweights = dvalue\n",
    "        self.dinput = dvalue * self.weights\n",
    "        self.dbias = dvalue\n",
    "\n",
    "        return self.dweights, self.dbias\n",
    "\n",
    "    def parameters(self):\n",
    "        return self.weights, self.bias\n",
    "\n",
    "\n",
    "class MSELoss:\n",
    "    def forward(self, y_pred, y_true):\n",
    "        diff = y_pred - y_true\n",
    "        differences_squared = diff ** 2\n",
    "        mean_diff = differences_squared.mean()\n",
    "\n",
    "        return mean_diff\n",
    "\n",
    "    def backward(self, y_pred, y_true):\n",
    "        diff = y_pred - y_true\n",
    "        differences_doubled = 2 * diff\n",
    "        differences_div = differences_doubled / y_pred.size(0)\n",
    "        return differences_div"
   ],
   "metadata": {
    "collapsed": false,
    "pycharm": {
     "name": "#%%\n"
    }
   }
  },
  {
   "cell_type": "code",
   "execution_count": 46,
   "outputs": [],
   "source": [
    "neuron = Neuron(X.shape[1])\n",
    "mse = MSELoss()\n",
    "optimizer = torch.optim.SGD(neuron.parameters(), lr=0.1)"
   ],
   "metadata": {
    "collapsed": false,
    "pycharm": {
     "name": "#%%\n"
    }
   }
  },
  {
   "cell_type": "code",
   "execution_count": 47,
   "outputs": [
    {
     "name": "stdout",
     "output_type": "stream",
     "text": [
      "Loss:  1254.1639404296875\n",
      "Loss:  814.9367065429688\n",
      "Loss:  536.2923583984375\n",
      "Loss:  357.29913330078125\n",
      "Loss:  240.8580322265625\n",
      "Loss:  164.15567016601562\n",
      "Loss:  113.01248168945312\n",
      "Loss:  78.51460266113281\n",
      "Loss:  54.99150085449219\n",
      "Loss:  38.79158401489258\n",
      "Loss:  27.534318923950195\n",
      "Loss:  19.64873504638672\n",
      "Loss:  14.085886001586914\n",
      "Loss:  10.137386322021484\n",
      "Loss:  7.319832801818848\n",
      "Loss:  5.3001251220703125\n"
     ]
    },
    {
     "data": {
      "text/plain": "(tensor([30.2505, 10.6562, 12.0470,  4.5615], requires_grad=True),\n array([31.49371987, 12.20019395, 13.02041604,  4.46822917]))"
     },
     "execution_count": 47,
     "metadata": {},
     "output_type": "execute_result"
    }
   ],
   "source": [
    "for epoch in range(16):\n",
    "    y_pred = neuron.forward(X)\n",
    "    loss = mse.forward(y_pred=y_pred, y_true=y)\n",
    "    print('Loss: ', loss.item())\n",
    "    optimizer.zero_grad()\n",
    "    loss.backward()\n",
    "    optimizer.step()\n",
    "\n",
    "neuron.weights, coef"
   ],
   "metadata": {
    "collapsed": false,
    "pycharm": {
     "name": "#%%\n"
    }
   }
  },
  {
   "cell_type": "markdown",
   "source": [
    "1.2 Воспользовавшись классами Linear и MSELoss из задачи 2.1.4 и 2.3.1, ReLU из 2.2.1 и автоматическим дифференцированием,\n",
    "которое предоставляет torch, решить задачу регрессии. Для оптимизации использовать пакетный градиентный спуск.\n",
    "Вывести график функции потерь в зависимости от номера эпохи. Вывести на одном графике исходные данные и предсказанные\n",
    "значения."
   ],
   "metadata": {
    "collapsed": false,
    "pycharm": {
     "name": "#%% md\n"
    }
   }
  },
  {
   "cell_type": "code",
   "execution_count": null,
   "outputs": [],
   "source": [
    "class Linear:\n",
    "  def __init__(self, n_features, n_neurons):\n",
    "    self.weights = torch.randn(n_features, n_neurons, requires_grad=True)\n",
    "    self.biases = torch.randn(n_neurons, requires_grad=True)\n",
    "\n",
    "  def forward(self, inputs: torch.Tensor) -> torch.Tensor:\n",
    "    return (inputs @ self.weights) + self.biases\n",
    "\n",
    "\n",
    "class MSELoss:\n",
    "    def forward(self, y_pred, y_true):\n",
    "        diff = y_pred - y_true\n",
    "        differences_squared = diff ** 2\n",
    "        mean_diff = differences_squared.mean()\n",
    "\n",
    "        return mean_diff\n",
    "\n",
    "    def backward(self, y_pred, y_true):\n",
    "        diff = y_pred - y_true\n",
    "        differences_doubled = 2 * diff\n",
    "        differences_div = differences_doubled / y_pred.size(0)\n",
    "        return differences_div\n",
    "\n",
    "\n",
    "class ReLU:\n",
    "  def forward(self, inputs: torch.Tensor) -> torch.Tensor:\n",
    "    return torch.where(inputs>0, inputs, 0)"
   ],
   "metadata": {
    "collapsed": false,
    "pycharm": {
     "name": "#%%\n"
    }
   }
  },
  {
   "cell_type": "code",
   "execution_count": null,
   "outputs": [],
   "source": [
    "l1 = Linear(X.shape[1], 100)\n",
    "relu = ReLU()\n",
    "l2 = Linear(100, y.size(1))\n",
    "mse = MSELoss()\n",
    "\n",
    "lr = 0.01\n",
    "epochs = 1000"
   ],
   "metadata": {
    "collapsed": false,
    "pycharm": {
     "name": "#%%\n"
    }
   }
  },
  {
   "cell_type": "code",
   "execution_count": null,
   "outputs": [],
   "source": [],
   "metadata": {
    "collapsed": false,
    "pycharm": {
     "name": "#%%\n"
    }
   }
  }
 ],
 "metadata": {
  "kernelspec": {
   "display_name": "Python 3",
   "language": "python",
   "name": "python3"
  },
  "language_info": {
   "codemirror_mode": {
    "name": "ipython",
    "version": 2
   },
   "file_extension": ".py",
   "mimetype": "text/x-python",
   "name": "python",
   "nbconvert_exporter": "python",
   "pygments_lexer": "ipython2",
   "version": "2.7.6"
  }
 },
 "nbformat": 4,
 "nbformat_minor": 0
}