{
 "cells": [
  {
   "cell_type": "markdown",
   "source": [
    "3. Создание нейронной сети при помощи пакета torch. Dataset и Dataloader.\n",
    "\n",
    "1. Автоматическое дифференцирование в torch\n",
    "1.1 Воспользовавшись классами Neuron и MSELoss из задачи 2.4.1 и автоматическим дифференцированием, которое предоставляет torch, решить задачу регрессии. Для оптимизации использовать стохастический градиетный спуск."
   ],
   "metadata": {
    "collapsed": false
   }
  },
  {
   "cell_type": "code",
   "execution_count": 1,
   "metadata": {
    "collapsed": true
   },
   "outputs": [
    {
     "data": {
      "text/plain": "<torch._C.Generator at 0x10477de30>"
     },
     "execution_count": 1,
     "metadata": {},
     "output_type": "execute_result"
    }
   ],
   "source": [
    "import torch\n",
    "import numpy as np\n",
    "import matplotlib.pyplot as plt\n",
    "from sklearn.datasets import make_regression\n",
    "\n",
    "\n",
    "torch.manual_seed(63)"
   ]
  },
  {
   "cell_type": "code",
   "execution_count": 2,
   "outputs": [],
   "source": [
    "X, y, coef = make_regression(n_features=4, n_informative=4, coef=True, bias=0.5)\n",
    "X = torch.from_numpy(X).to(dtype=torch.float32)\n",
    "y = torch.from_numpy(y).to(dtype=torch.float32)"
   ],
   "metadata": {
    "collapsed": false,
    "pycharm": {
     "name": "#%%\n"
    }
   }
  },
  {
   "cell_type": "code",
   "execution_count": 3,
   "outputs": [
    {
     "data": {
      "text/plain": "(tensor([[-1.7495,  0.4857,  0.2629, -0.6336],\n         [-0.1401,  1.0447,  0.6152, -1.4582],\n         [-1.0061, -0.1046,  0.7982, -0.4125],\n         [ 0.3922, -0.6040, -2.1592, -1.5028],\n         [-0.4890,  0.6624, -0.8513, -0.9782]]),\n torch.Size([100, 4]))"
     },
     "execution_count": 3,
     "metadata": {},
     "output_type": "execute_result"
    }
   ],
   "source": [
    "X[:5], X.shape"
   ],
   "metadata": {
    "collapsed": false,
    "pycharm": {
     "name": "#%%\n"
    }
   }
  },
  {
   "cell_type": "code",
   "execution_count": 4,
   "outputs": [
    {
     "data": {
      "text/plain": "(tensor([-209.3895, -131.3461, -106.6752, -166.4959, -159.2718]),\n torch.Size([100]))"
     },
     "execution_count": 4,
     "metadata": {},
     "output_type": "execute_result"
    }
   ],
   "source": [
    "y[:5], y.shape"
   ],
   "metadata": {
    "collapsed": false,
    "pycharm": {
     "name": "#%%\n"
    }
   }
  },
  {
   "cell_type": "code",
   "execution_count": 5,
   "outputs": [],
   "source": [
    "class Neuron:\n",
    "    def __init__(self, n_inputs):\n",
    "        # <создать атрибуты объекта weights и bias>\n",
    "        self.weights = torch.randn(n_inputs, requires_grad=True)\n",
    "        self.bias = torch.randn(1, requires_grad=True)\n",
    "\n",
    "    def forward(self, inputs):\n",
    "        return torch.matmul(inputs, self.weights.T) + self.bias\n",
    "\n",
    "    def backward(self, dvalue):\n",
    "        self.dweights = dvalue\n",
    "        self.dinput = dvalue * self.weights\n",
    "        self.dbias = dvalue\n",
    "\n",
    "        return self.dweights, self.dbias\n",
    "\n",
    "    def parameters(self):\n",
    "        return self.weights, self.bias\n",
    "\n",
    "\n",
    "class MSELoss:\n",
    "    def forward(self, y_pred, y_true):\n",
    "        diff = y_pred - y_true\n",
    "        differences_squared = diff ** 2\n",
    "        mean_diff = differences_squared.mean()\n",
    "\n",
    "        return mean_diff\n",
    "\n",
    "    def backward(self, y_pred, y_true):\n",
    "        diff = y_pred - y_true\n",
    "        differences_doubled = 2 * diff\n",
    "        differences_div = differences_doubled / y_pred.size(0)\n",
    "        return differences_div"
   ],
   "metadata": {
    "collapsed": false,
    "pycharm": {
     "name": "#%%\n"
    }
   }
  },
  {
   "cell_type": "code",
   "execution_count": 6,
   "outputs": [],
   "source": [
    "neuron = Neuron(X.shape[1])\n",
    "mse = MSELoss()\n",
    "optimizer = torch.optim.SGD(neuron.parameters(), lr=0.1)"
   ],
   "metadata": {
    "collapsed": false,
    "pycharm": {
     "name": "#%%\n"
    }
   }
  },
  {
   "cell_type": "code",
   "execution_count": 7,
   "outputs": [
    {
     "name": "stdout",
     "output_type": "stream",
     "text": [
      "Loss:  18528.232421875\n",
      "Loss:  11514.568359375\n",
      "Loss:  7247.73046875\n",
      "Loss:  4615.38232421875\n",
      "Loss:  2970.0068359375\n",
      "Loss:  1929.1064453125\n",
      "Loss:  1263.4058837890625\n",
      "Loss:  833.4960327148438\n",
      "Loss:  553.4488525390625\n",
      "Loss:  369.621337890625\n",
      "Loss:  248.1328582763672\n",
      "Loss:  167.3577117919922\n",
      "Loss:  113.36164093017578\n",
      "Loss:  77.09061431884766\n",
      "Loss:  52.61784744262695\n",
      "Loss:  36.03815841674805\n"
     ]
    },
    {
     "name": "stderr",
     "output_type": "stream",
     "text": [
      "/var/folders/ts/x51mbj490fld6jjg7k0l_slnb7mm6j/T/ipykernel_95841/1229769657.py:8: UserWarning: The use of `x.T` on tensors of dimension other than 2 to reverse their shape is deprecated and it will throw an error in a future release. Consider `x.mT` to transpose batches of matricesor `x.permute(*torch.arange(x.ndim - 1, -1, -1))` to reverse the dimensions of a tensor. (Triggered internally at  /Users/runner/work/pytorch/pytorch/pytorch/aten/src/ATen/native/TensorShape.cpp:2985.)\n",
      "  return torch.matmul(inputs, self.weights.T) + self.bias\n"
     ]
    },
    {
     "data": {
      "text/plain": "(tensor([88.3148, -1.4866, 26.3114, 89.9707], requires_grad=True),\n array([90.30576222,  0.49191295, 28.19599   , 93.98503743]))"
     },
     "execution_count": 7,
     "metadata": {},
     "output_type": "execute_result"
    }
   ],
   "source": [
    "for epoch in range(16):\n",
    "    y_pred = neuron.forward(X)\n",
    "    loss = mse.forward(y_pred=y_pred, y_true=y)\n",
    "    print('Loss: ', loss.item())\n",
    "    optimizer.zero_grad()\n",
    "    loss.backward()\n",
    "    optimizer.step()\n",
    "\n",
    "neuron.weights, coef"
   ],
   "metadata": {
    "collapsed": false,
    "pycharm": {
     "name": "#%%\n"
    }
   }
  },
  {
   "cell_type": "markdown",
   "source": [
    "1.2 Воспользовавшись классами Linear и MSELoss из задачи 2.1.4 и 2.3.1, ReLU из 2.2.1 и автоматическим дифференцированием,\n",
    "которое предоставляет torch, решить задачу регрессии. Для оптимизации использовать пакетный градиентный спуск.\n",
    "Вывести график функции потерь в зависимости от номера эпохи. Вывести на одном графике исходные данные и предсказанные\n",
    "значения."
   ],
   "metadata": {
    "collapsed": false,
    "pycharm": {
     "name": "#%% md\n"
    }
   }
  },
  {
   "cell_type": "code",
   "execution_count": 8,
   "outputs": [],
   "source": [
    "class Linear:\n",
    "    def __init__(self, n_features, n_neurons):\n",
    "        self.weights = torch.randn(n_features, n_neurons, requires_grad=True)\n",
    "        self.biases = torch.randn(n_neurons, requires_grad=True)\n",
    "\n",
    "    def forward(self, inputs: torch.Tensor) -> torch.Tensor:\n",
    "        return (inputs @ self.weights) + self.biases\n",
    "\n",
    "    def parameters(self):\n",
    "        return self.weights, self.biases\n",
    "\n",
    "\n",
    "class MSELoss:\n",
    "    def forward(self, y_pred, y_true):\n",
    "        diff = y_pred - y_true\n",
    "        differences_squared = diff ** 2\n",
    "        mean_diff = differences_squared.mean()\n",
    "\n",
    "        return mean_diff\n",
    "\n",
    "    def backward(self, y_pred, y_true):\n",
    "        diff = y_pred - y_true\n",
    "        differences_doubled = 2 * diff\n",
    "        differences_div = differences_doubled / y_pred.size(0)\n",
    "        return differences_div\n",
    "\n",
    "\n",
    "class ReLU:\n",
    "  def forward(self, inputs: torch.Tensor) -> torch.Tensor:\n",
    "    return torch.where(inputs>0, inputs, 0)"
   ],
   "metadata": {
    "collapsed": false,
    "pycharm": {
     "name": "#%%\n"
    }
   }
  },
  {
   "cell_type": "code",
   "execution_count": 9,
   "outputs": [],
   "source": [
    "X = torch.linspace(0, 1, 100).view(-1, 1)\n",
    "y = torch.sin(2 * np.pi * X) + 0.1 * torch.rand(X.size())"
   ],
   "metadata": {
    "collapsed": false,
    "pycharm": {
     "name": "#%%\n"
    }
   }
  },
  {
   "cell_type": "code",
   "execution_count": 10,
   "outputs": [
    {
     "data": {
      "text/plain": "(tensor([[0.0000],\n         [0.0101],\n         [0.0202],\n         [0.0303],\n         [0.0404]]),\n torch.Size([100, 1]))"
     },
     "execution_count": 10,
     "metadata": {},
     "output_type": "execute_result"
    }
   ],
   "source": [
    "X[:5], X.shape"
   ],
   "metadata": {
    "collapsed": false,
    "pycharm": {
     "name": "#%%\n"
    }
   }
  },
  {
   "cell_type": "code",
   "execution_count": 11,
   "outputs": [
    {
     "data": {
      "text/plain": "(tensor([[0.0558],\n         [0.1185],\n         [0.1298],\n         [0.2740],\n         [0.2868]]),\n torch.Size([100, 1]))"
     },
     "execution_count": 11,
     "metadata": {},
     "output_type": "execute_result"
    }
   ],
   "source": [
    "y[:5], y.shape"
   ],
   "metadata": {
    "collapsed": false,
    "pycharm": {
     "name": "#%%\n"
    }
   }
  },
  {
   "cell_type": "code",
   "execution_count": 12,
   "outputs": [],
   "source": [
    "layer_1 = Linear(X.shape[1], 100)\n",
    "layer_2 = Linear(100, y.shape[1])\n",
    "\n",
    "relu = ReLU()\n",
    "mse = MSELoss()\n",
    "\n",
    "lr = 0.001\n",
    "epochs = 1000\n",
    "\n",
    "optimizer = torch.optim.SGD((*layer_1.parameters(), *layer_2.parameters()), lr=lr)"
   ],
   "metadata": {
    "collapsed": false,
    "pycharm": {
     "name": "#%%\n"
    }
   }
  },
  {
   "cell_type": "code",
   "execution_count": 13,
   "outputs": [],
   "source": [
    "losses = torch.empty(epochs)\n",
    "for epoch in range(epochs):\n",
    "    y_pred = layer_2.forward(relu.forward(layer_1.forward(X)))\n",
    "\n",
    "    loss = mse.forward(y_pred=y_pred, y_true=y)\n",
    "    optimizer.zero_grad()\n",
    "    loss.backward()\n",
    "    losses[epoch] = loss.item()\n",
    "    optimizer.step()"
   ],
   "metadata": {
    "collapsed": false,
    "pycharm": {
     "name": "#%%\n"
    }
   }
  },
  {
   "cell_type": "code",
   "execution_count": 14,
   "outputs": [
    {
     "data": {
      "text/plain": "<Figure size 640x480 with 1 Axes>",
      "image/png": "[encoded data removed]"
     },
     "metadata": {},
     "output_type": "display_data"
    }
   ],
   "source": [
    "_, ax = plt.subplots(1)\n",
    "\n",
    "ax.scatter(X, y, s=20)\n",
    "res = layer_2.forward(relu.forward(layer_1.forward(X)))\n",
    "ax.plot(X, res.detach(), c='r')\n",
    "plt.show()"
   ],
   "metadata": {
    "collapsed": false,
    "pycharm": {
     "name": "#%%\n"
    }
   }
  },
  {
   "cell_type": "markdown",
   "source": [
    "2. Алгоритмы оптимизации в torch.optim"
   ],
   "metadata": {
    "collapsed": false,
    "pycharm": {
     "name": "#%% md\n"
    }
   }
  },
  {
   "cell_type": "code",
   "execution_count": 15,
   "outputs": [],
   "source": [
    "import torch.optim as optim"
   ],
   "metadata": {
    "collapsed": false,
    "pycharm": {
     "name": "#%%\n"
    }
   }
  },
  {
   "cell_type": "markdown",
   "source": [
    "2.1 Решить задачу 1.1, воспользовавшись оптимизатором optim.SDG для применения стохастического градиентого спуска"
   ],
   "metadata": {
    "collapsed": false,
    "pycharm": {
     "name": "#%% md\n"
    }
   }
  },
  {
   "cell_type": "code",
   "execution_count": 16,
   "outputs": [],
   "source": [
    "X, y, coef = make_regression(n_features=4, n_informative=4, coef=True, bias=0.5)\n",
    "X = torch.from_numpy(X).to(dtype=torch.float32)\n",
    "y = torch.from_numpy(y).to(dtype=torch.float32)"
   ],
   "metadata": {
    "collapsed": false,
    "pycharm": {
     "name": "#%%\n"
    }
   }
  },
  {
   "cell_type": "code",
   "execution_count": 17,
   "outputs": [],
   "source": [
    "class Neuron:\n",
    "    def __init__(self, n_inputs):\n",
    "        # <создать атрибуты объекта weights и bias>\n",
    "        self.weights = torch.randn(n_inputs, requires_grad=True)\n",
    "        self.bias = torch.randn(1, requires_grad=True)\n",
    "\n",
    "    def forward(self, inputs):\n",
    "        return torch.matmul(inputs, self.weights.T) + self.bias\n",
    "\n",
    "    def backward(self, dvalue):\n",
    "        self.dweights = dvalue\n",
    "        self.dinput = dvalue * self.weights\n",
    "        self.dbias = dvalue\n",
    "\n",
    "        return self.dweights, self.dbias\n",
    "\n",
    "    def parameters(self):\n",
    "        return self.weights, self.bias\n",
    "\n",
    "\n",
    "class MSELoss:\n",
    "    def forward(self, y_pred, y_true):\n",
    "        diff = y_pred - y_true\n",
    "        differences_squared = diff ** 2\n",
    "        mean_diff = differences_squared.mean()\n",
    "\n",
    "        return mean_diff\n",
    "\n",
    "    def backward(self, y_pred, y_true):\n",
    "        diff = y_pred - y_true\n",
    "        differences_doubled = 2 * diff\n",
    "        differences_div = differences_doubled / y_pred.size(0)\n",
    "        return differences_div"
   ],
   "metadata": {
    "collapsed": false,
    "pycharm": {
     "name": "#%%\n"
    }
   }
  },
  {
   "cell_type": "code",
   "execution_count": 18,
   "outputs": [],
   "source": [
    "neuron = Neuron(X.shape[1])\n",
    "mse = MSELoss()\n",
    "optimizer = torch.optim.SGD(neuron.parameters(), lr=0.1)"
   ],
   "metadata": {
    "collapsed": false,
    "pycharm": {
     "name": "#%%\n"
    }
   }
  },
  {
   "cell_type": "code",
   "execution_count": 19,
   "outputs": [
    {
     "name": "stdout",
     "output_type": "stream",
     "text": [
      "Loss:  9182.9091796875\n",
      "Loss:  6452.43359375\n",
      "Loss:  4545.32568359375\n",
      "Loss:  3209.945556640625\n",
      "Loss:  2272.533203125\n",
      "Loss:  1612.8236083984375\n",
      "Loss:  1147.3807373046875\n",
      "Loss:  818.1796264648438\n",
      "Loss:  584.7665405273438\n",
      "Loss:  418.8695068359375\n",
      "Loss:  300.6795349121094\n",
      "Loss:  216.28289794921875\n",
      "Loss:  155.8821258544922\n",
      "Loss:  112.56083679199219\n",
      "Loss:  81.42459869384766\n",
      "Loss:  59.001136779785156\n"
     ]
    },
    {
     "data": {
      "text/plain": "(tensor([44.0995, 43.9221, 23.1311, 74.0118], requires_grad=True),\n array([49.32164227, 44.99570618, 24.97143847, 79.1703351 ]))"
     },
     "execution_count": 19,
     "metadata": {},
     "output_type": "execute_result"
    }
   ],
   "source": [
    "for epoch in range(16):\n",
    "    y_pred = neuron.forward(X)\n",
    "    loss = mse.forward(y_pred=y_pred, y_true=y)\n",
    "    print('Loss: ', loss.item())\n",
    "    optimizer.zero_grad()\n",
    "    loss.backward()\n",
    "    optimizer.step()\n",
    "\n",
    "neuron.weights, coef"
   ],
   "metadata": {
    "collapsed": false,
    "pycharm": {
     "name": "#%%\n"
    }
   }
  },
  {
   "cell_type": "markdown",
   "source": [
    "2.2 Решить задачу 1.2, воспользовавшись оптимизатором optim.Adam для применения пакетного градиентого спуска. Вывести график функции потерь в зависимости от номера эпохи. Вывести на одном графике исходные данные и предсказанные значения."
   ],
   "metadata": {
    "collapsed": false,
    "pycharm": {
     "name": "#%% md\n"
    }
   }
  },
  {
   "cell_type": "code",
   "execution_count": 20,
   "outputs": [],
   "source": [
    "class Linear:\n",
    "    def __init__(self, n_features, n_neurons):\n",
    "        self.weights = torch.randn(n_features, n_neurons, requires_grad=True)\n",
    "        self.biases = torch.randn(n_neurons, requires_grad=True)\n",
    "\n",
    "    def forward(self, inputs: torch.Tensor) -> torch.Tensor:\n",
    "        return (inputs @ self.weights) + self.biases\n",
    "\n",
    "    def parameters(self):\n",
    "        return self.weights, self.biases\n",
    "\n",
    "\n",
    "class MSELoss:\n",
    "    def forward(self, y_pred, y_true):\n",
    "        diff = y_pred - y_true\n",
    "        differences_squared = diff ** 2\n",
    "        mean_diff = differences_squared.mean()\n",
    "\n",
    "        return mean_diff\n",
    "\n",
    "    def backward(self, y_pred, y_true):\n",
    "        diff = y_pred - y_true\n",
    "        differences_doubled = 2 * diff\n",
    "        differences_div = differences_doubled / y_pred.size(0)\n",
    "        return differences_div\n",
    "\n",
    "\n",
    "class ReLU:\n",
    "  def forward(self, inputs: torch.Tensor) -> torch.Tensor:\n",
    "    return torch.where(inputs>0, inputs, 0)"
   ],
   "metadata": {
    "collapsed": false,
    "pycharm": {
     "name": "#%%\n"
    }
   }
  },
  {
   "cell_type": "code",
   "execution_count": 21,
   "outputs": [],
   "source": [
    "X = torch.linspace(0, 1, 100).view(-1, 1)\n",
    "y = torch.sin(2 * np.pi * X) + 0.1 * torch.rand(X.size())"
   ],
   "metadata": {
    "collapsed": false,
    "pycharm": {
     "name": "#%%\n"
    }
   }
  },
  {
   "cell_type": "code",
   "execution_count": 22,
   "outputs": [],
   "source": [
    "layer_1 = Linear(X.shape[1], 100)\n",
    "layer_2 = Linear(100, y.shape[1])\n",
    "\n",
    "relu = ReLU()\n",
    "mse = MSELoss()\n",
    "\n",
    "lr = 0.001\n",
    "epochs = 1000\n",
    "\n",
    "optimizer = torch.optim.Adam((*layer_1.parameters(), *layer_2.parameters()), lr=lr)"
   ],
   "metadata": {
    "collapsed": false,
    "pycharm": {
     "name": "#%%\n"
    }
   }
  },
  {
   "cell_type": "code",
   "execution_count": 23,
   "outputs": [],
   "source": [
    "losses = torch.empty(epochs)\n",
    "for epoch in range(epochs):\n",
    "    y_pred = layer_2.forward(relu.forward(layer_1.forward(X)))\n",
    "\n",
    "    loss = mse.forward(y_pred=y_pred, y_true=y)\n",
    "    optimizer.zero_grad()\n",
    "    loss.backward()\n",
    "    losses[epoch] = loss.item()\n",
    "    optimizer.step()"
   ],
   "metadata": {
    "collapsed": false,
    "pycharm": {
     "name": "#%%\n"
    }
   }
  },
  {
   "cell_type": "code",
   "execution_count": 24,
   "outputs": [
    {
     "data": {
      "text/plain": "<Figure size 640x480 with 1 Axes>",
      "image/png": "[encoded data removed]"
     },
     "metadata": {},
     "output_type": "display_data"
    }
   ],
   "source": [
    "predicts = layer_2.forward(relu.forward(layer_1.forward(X)))\n",
    "_, ax = plt.subplots(1)\n",
    "\n",
    "ax.scatter(X, y, s=20)\n",
    "ax.plot(X, predicts.detach(), c='r')\n",
    "plt.show()"
   ],
   "metadata": {
    "collapsed": false,
    "pycharm": {
     "name": "#%%\n"
    }
   }
  },
  {
   "cell_type": "markdown",
   "source": [
    "3. Построение сетей при помощи torch.nn"
   ],
   "metadata": {
    "collapsed": false,
    "pycharm": {
     "name": "#%% md\n",
     "is_executing": true
    }
   },
   "outputs": [
    {
     "ename": "SyntaxError",
     "evalue": "invalid syntax (553572273.py, line 1)",
     "output_type": "error",
     "traceback": [
      "\u001B[0;36m  Input \u001B[0;32mIn [147]\u001B[0;36m\u001B[0m\n\u001B[0;31m    3. Построение сетей при помощи torch.nn\u001B[0m\n\u001B[0m       ^\u001B[0m\n\u001B[0;31mSyntaxError\u001B[0m\u001B[0;31m:\u001B[0m invalid syntax\n"
     ]
    }
   ]
  },
  {
   "cell_type": "code",
   "execution_count": 25,
   "outputs": [],
   "source": [
    "import torch.nn as nn"
   ],
   "metadata": {
    "collapsed": false,
    "pycharm": {
     "name": "#%%\n"
    }
   }
  },
  {
   "cell_type": "markdown",
   "source": [
    "3.1 Решить задачу регрессии, соблюдая следующие условия:\n",
    "\n",
    "1) Оформить нейронную сеть в виде класса - наследника nn.Module\n",
    "2) При создании сети использовать готовые блоки из torch.nn: слои, функции активации, функции потерь и т.д.\n",
    "3) Для оптимизации использовать любой алгоритм оптимизации из torch.optim"
   ],
   "metadata": {
    "collapsed": false,
    "pycharm": {
     "name": "#%% md\n"
    }
   }
  },
  {
   "cell_type": "code",
   "execution_count": 26,
   "outputs": [],
   "source": [
    "X = torch.linspace(0, 1, 100).view(-1, 1)\n",
    "y = torch.sin(2 * np.pi * X) + 0.1 * torch.rand(X.size())"
   ],
   "metadata": {
    "collapsed": false,
    "pycharm": {
     "name": "#%%\n"
    }
   }
  },
  {
   "cell_type": "code",
   "execution_count": 56,
   "outputs": [],
   "source": [
    "class Net(nn.Module):\n",
    "    def __init__(self, neurons):\n",
    "        super(Net, self).__init__()\n",
    "        self.fc1 = torch.nn.Linear(1, neurons)\n",
    "        self.act1 = torch.nn.Sigmoid()\n",
    "        self.fc2 = torch.nn.Linear(neurons, 1)\n",
    "\n",
    "    def forward(self, x):\n",
    "        x = self.fc1(x)\n",
    "        x = self.act1(x)\n",
    "        x = self.fc2(x)\n",
    "        return x\n",
    "\n",
    "neuron = Net(15)\n",
    "optimizer = optim.Adam(neuron.parameters(), lr=0.001)\n",
    "loss = torch.nn.MSELoss()"
   ],
   "metadata": {
    "collapsed": false,
    "pycharm": {
     "name": "#%%\n"
    }
   }
  },
  {
   "cell_type": "code",
   "execution_count": 57,
   "outputs": [
    {
     "name": "stdout",
     "output_type": "stream",
     "text": [
      "Epoch 0 loss: 0.557288408279419\n",
      "Epoch 1000 loss: 0.2012828290462494\n",
      "Epoch 2000 loss: 0.19978685677051544\n",
      "Epoch 3000 loss: 0.1958547830581665\n",
      "Epoch 4000 loss: 0.1785338968038559\n",
      "Epoch 5000 loss: 0.10593291372060776\n",
      "Epoch 6000 loss: 0.022386791184544563\n",
      "Epoch 7000 loss: 0.0017338052857667208\n",
      "Epoch 8000 loss: 0.001087631331756711\n"
     ]
    },
    {
     "data": {
      "text/plain": "<Figure size 640x480 with 1 Axes>",
      "image/png": "[encoded data removed]"
     },
     "metadata": {},
     "output_type": "display_data"
    }
   ],
   "source": [
    "for epoch in range(9000):\n",
    "    optimizer.zero_grad()\n",
    "    y_pred = neuron.forward(X)\n",
    "    loss_val = loss.forward(y_pred, y)\n",
    "    loss_val.backward()\n",
    "    optimizer.step()\n",
    "\n",
    "    if epoch % 1000 == 0:\n",
    "        print(f\"Epoch {epoch} loss: {loss_val}\")\n",
    "\n",
    "\n",
    "with torch.no_grad():\n",
    "    plt.plot(X, y)\n",
    "    plt.plot(X, neuron(X).detach().numpy())"
   ],
   "metadata": {
    "collapsed": false,
    "pycharm": {
     "name": "#%%\n"
    }
   }
  },
  {
   "cell_type": "code",
   "execution_count": 58,
   "outputs": [
    {
     "data": {
      "text/plain": "tensor([[ 0.0766],\n        [ 0.1464],\n        [ 0.1754],\n        [ 0.2746],\n        [ 0.2576],\n        [ 0.3382],\n        [ 0.4002],\n        [ 0.4743],\n        [ 0.5317],\n        [ 0.5663],\n        [ 0.6535],\n        [ 0.7265],\n        [ 0.6949],\n        [ 0.7546],\n        [ 0.8177],\n        [ 0.8466],\n        [ 0.8637],\n        [ 0.8890],\n        [ 0.9704],\n        [ 0.9641],\n        [ 1.0366],\n        [ 1.0222],\n        [ 1.0556],\n        [ 1.0185],\n        [ 1.0161],\n        [ 1.0165],\n        [ 1.0738],\n        [ 1.0416],\n        [ 1.0031],\n        [ 1.0343],\n        [ 0.9835],\n        [ 1.0155],\n        [ 0.9412],\n        [ 0.9618],\n        [ 0.9274],\n        [ 0.8544],\n        [ 0.8148],\n        [ 0.7696],\n        [ 0.7062],\n        [ 0.6416],\n        [ 0.6622],\n        [ 0.5191],\n        [ 0.5115],\n        [ 0.4524],\n        [ 0.3713],\n        [ 0.3740],\n        [ 0.3108],\n        [ 0.1902],\n        [ 0.1940],\n        [ 0.0698],\n        [ 0.0286],\n        [-0.0258],\n        [-0.0634],\n        [-0.1910],\n        [-0.2225],\n        [-0.2502],\n        [-0.3247],\n        [-0.3971],\n        [-0.4532],\n        [-0.5564],\n        [-0.6158],\n        [-0.6531],\n        [-0.6264],\n        [-0.7206],\n        [-0.7624],\n        [-0.7862],\n        [-0.8037],\n        [-0.8750],\n        [-0.8886],\n        [-0.8834],\n        [-0.8965],\n        [-0.9298],\n        [-0.9453],\n        [-0.9524],\n        [-0.9830],\n        [-0.9906],\n        [-0.9598],\n        [-0.8875],\n        [-0.9633],\n        [-0.9221],\n        [-0.8993],\n        [-0.8725],\n        [-0.8582],\n        [-0.7626],\n        [-0.7847],\n        [-0.7639],\n        [-0.6673],\n        [-0.6830],\n        [-0.5812],\n        [-0.4995],\n        [-0.4465],\n        [-0.3994],\n        [-0.3536],\n        [-0.3463],\n        [-0.2943],\n        [-0.1815],\n        [-0.1759],\n        [-0.0931],\n        [-0.0214],\n        [ 0.0431]])"
     },
     "execution_count": 58,
     "metadata": {},
     "output_type": "execute_result"
    }
   ],
   "source": [
    "y"
   ],
   "metadata": {
    "collapsed": false,
    "pycharm": {
     "name": "#%%\n"
    }
   }
  },
  {
   "cell_type": "code",
   "execution_count": 59,
   "outputs": [
    {
     "data": {
      "text/plain": "tensor([[ 0.0672],\n        [ 0.1310],\n        [ 0.1936],\n        [ 0.2547],\n        [ 0.3142],\n        [ 0.3722],\n        [ 0.4284],\n        [ 0.4827],\n        [ 0.5352],\n        [ 0.5857],\n        [ 0.6340],\n        [ 0.6801],\n        [ 0.7238],\n        [ 0.7651],\n        [ 0.8039],\n        [ 0.8400],\n        [ 0.8734],\n        [ 0.9039],\n        [ 0.9314],\n        [ 0.9559],\n        [ 0.9771],\n        [ 0.9951],\n        [ 1.0098],\n        [ 1.0210],\n        [ 1.0286],\n        [ 1.0327],\n        [ 1.0330],\n        [ 1.0296],\n        [ 1.0225],\n        [ 1.0116],\n        [ 0.9968],\n        [ 0.9782],\n        [ 0.9557],\n        [ 0.9295],\n        [ 0.8996],\n        [ 0.8659],\n        [ 0.8287],\n        [ 0.7880],\n        [ 0.7440],\n        [ 0.6967],\n        [ 0.6464],\n        [ 0.5933],\n        [ 0.5375],\n        [ 0.4794],\n        [ 0.4191],\n        [ 0.3569],\n        [ 0.2932],\n        [ 0.2281],\n        [ 0.1621],\n        [ 0.0954],\n        [ 0.0284],\n        [-0.0386],\n        [-0.1053],\n        [-0.1713],\n        [-0.2363],\n        [-0.3000],\n        [-0.3620],\n        [-0.4221],\n        [-0.4800],\n        [-0.5354],\n        [-0.5880],\n        [-0.6377],\n        [-0.6841],\n        [-0.7272],\n        [-0.7667],\n        [-0.8025],\n        [-0.8345],\n        [-0.8627],\n        [-0.8868],\n        [-0.9070],\n        [-0.9231],\n        [-0.9352],\n        [-0.9432],\n        [-0.9473],\n        [-0.9474],\n        [-0.9437],\n        [-0.9361],\n        [-0.9249],\n        [-0.9100],\n        [-0.8916],\n        [-0.8698],\n        [-0.8447],\n        [-0.8165],\n        [-0.7853],\n        [-0.7511],\n        [-0.7142],\n        [-0.6746],\n        [-0.6325],\n        [-0.5880],\n        [-0.5412],\n        [-0.4923],\n        [-0.4413],\n        [-0.3885],\n        [-0.3338],\n        [-0.2775],\n        [-0.2195],\n        [-0.1601],\n        [-0.0994],\n        [-0.0373],\n        [ 0.0259]], grad_fn=<AddmmBackward0>)"
     },
     "execution_count": 59,
     "metadata": {},
     "output_type": "execute_result"
    }
   ],
   "source": [
    "neuron.forward(X)"
   ],
   "metadata": {
    "collapsed": false,
    "pycharm": {
     "name": "#%%\n"
    }
   }
  },
  {
   "cell_type": "code",
   "execution_count": 27,
   "outputs": [],
   "source": [],
   "metadata": {
    "collapsed": false,
    "pycharm": {
     "name": "#%%\n"
    }
   }
  },
  {
   "cell_type": "code",
   "execution_count": 27,
   "outputs": [],
   "source": [],
   "metadata": {
    "collapsed": false,
    "pycharm": {
     "name": "#%%\n"
    }
   }
  },
  {
   "cell_type": "code",
   "execution_count": 27,
   "outputs": [],
   "source": [],
   "metadata": {
    "collapsed": false,
    "pycharm": {
     "name": "#%%\n"
    }
   }
  },
  {
   "cell_type": "code",
   "execution_count": 27,
   "outputs": [],
   "source": [],
   "metadata": {
    "collapsed": false,
    "pycharm": {
     "name": "#%%\n"
    }
   }
  }
 ],
 "metadata": {
  "kernelspec": {
   "display_name": "Python 3",
   "language": "python",
   "name": "python3"
  },
  "language_info": {
   "codemirror_mode": {
    "name": "ipython",
    "version": 2
   },
   "file_extension": ".py",
   "mimetype": "text/x-python",
   "name": "python",
   "nbconvert_exporter": "python",
   "pygments_lexer": "ipython2",
   "version": "2.7.6"
  }
 },
 "nbformat": 4,
 "nbformat_minor": 0
}