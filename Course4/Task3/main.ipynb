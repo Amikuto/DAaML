{
 "cells": [
  {
   "cell_type": "markdown",
   "source": [
    "3. Создание нейронной сети при помощи пакета torch. Dataset и Dataloader.\n",
    "\n",
    "1. Автоматическое дифференцирование в torch\n",
    "1.1 Воспользовавшись классами Neuron и MSELoss из задачи 2.4.1 и автоматическим дифференцированием, которое предоставляет torch, решить задачу регрессии. Для оптимизации использовать стохастический градиетный спуск."
   ],
   "metadata": {
    "collapsed": false
   }
  },
  {
   "cell_type": "code",
   "execution_count": 1,
   "metadata": {
    "collapsed": true
   },
   "outputs": [
    {
     "data": {
      "text/plain": "<torch._C.Generator at 0x1e5fb1dd8f0>"
     },
     "execution_count": 1,
     "metadata": {},
     "output_type": "execute_result"
    }
   ],
   "source": [
    "import torch\n",
    "import numpy as np\n",
    "import matplotlib.pyplot as plt\n",
    "from sklearn.datasets import make_regression\n",
    "\n",
    "torch.manual_seed(63)"
   ]
  },
  {
   "cell_type": "code",
   "execution_count": 2,
   "outputs": [],
   "source": [
    "X, y, coef = make_regression(n_features=4, n_informative=4, coef=True, bias=0.5)\n",
    "X = torch.from_numpy(X).to(dtype=torch.float32)\n",
    "y = torch.from_numpy(y).to(dtype=torch.float32)"
   ],
   "metadata": {
    "collapsed": false
   }
  },
  {
   "cell_type": "code",
   "execution_count": 3,
   "outputs": [
    {
     "data": {
      "text/plain": "(tensor([[ 1.9317, -0.5266, -0.4661, -0.2237],\n         [ 1.0520, -1.4549, -0.3678,  2.1337],\n         [-1.8028, -0.0236,  1.6344,  0.3281],\n         [-0.0807,  3.3557, -0.6158, -1.5962],\n         [-0.1986, -1.0611,  0.6494,  0.5913]]),\n torch.Size([100, 4]))"
     },
     "execution_count": 3,
     "metadata": {},
     "output_type": "execute_result"
    }
   ],
   "source": [
    "X[:5], X.shape"
   ],
   "metadata": {
    "collapsed": false
   }
  },
  {
   "cell_type": "code",
   "execution_count": 4,
   "outputs": [
    {
     "data": {
      "text/plain": "(tensor([  3.7259, 173.6101,  16.4113, -58.5479,  30.4711]), torch.Size([100]))"
     },
     "execution_count": 4,
     "metadata": {},
     "output_type": "execute_result"
    }
   ],
   "source": [
    "y[:5], y.shape"
   ],
   "metadata": {
    "collapsed": false
   }
  },
  {
   "cell_type": "code",
   "execution_count": 5,
   "outputs": [],
   "source": [
    "class Neuron:\n",
    "    def __init__(self, n_inputs):\n",
    "        # <создать атрибуты объекта weights и bias>\n",
    "        self.weights = torch.randn(n_inputs, requires_grad=True)\n",
    "        self.bias = torch.randn(1, requires_grad=True)\n",
    "\n",
    "    def forward(self, inputs):\n",
    "        return torch.matmul(inputs, self.weights.T) + self.bias\n",
    "\n",
    "    def backward(self, dvalue):\n",
    "        self.dweights = dvalue\n",
    "        self.dinput = dvalue * self.weights\n",
    "        self.dbias = dvalue\n",
    "\n",
    "        return self.dweights, self.dbias\n",
    "\n",
    "    def parameters(self):\n",
    "        return self.weights, self.bias\n",
    "\n",
    "\n",
    "class MSELoss:\n",
    "    def forward(self, y_pred, y_true):\n",
    "        diff = y_pred - y_true\n",
    "        differences_squared = diff ** 2\n",
    "        mean_diff = differences_squared.mean()\n",
    "\n",
    "        return mean_diff\n",
    "\n",
    "    def backward(self, y_pred, y_true):\n",
    "        diff = y_pred - y_true\n",
    "        differences_doubled = 2 * diff\n",
    "        differences_div = differences_doubled / y_pred.size(0)\n",
    "        return differences_div"
   ],
   "metadata": {
    "collapsed": false
   }
  },
  {
   "cell_type": "code",
   "execution_count": 6,
   "outputs": [],
   "source": [
    "neuron = Neuron(X.shape[1])\n",
    "mse = MSELoss()\n",
    "optimizer = torch.optim.SGD(neuron.parameters(), lr=0.1)"
   ],
   "metadata": {
    "collapsed": false
   }
  },
  {
   "cell_type": "code",
   "execution_count": 7,
   "outputs": [
    {
     "name": "stdout",
     "output_type": "stream",
     "text": [
      "Loss:  11651.7578125\n",
      "Loss:  7140.017578125\n",
      "Loss:  4384.392578125\n",
      "Loss:  2699.206787109375\n",
      "Loss:  1667.02734375\n",
      "Loss:  1033.5908203125\n",
      "Loss:  643.9268798828125\n",
      "Loss:  403.5118103027344\n",
      "Loss:  254.63868713378906\n",
      "Loss:  162.03814697265625\n",
      "Loss:  104.12489318847656\n",
      "Loss:  67.66603088378906\n",
      "Loss:  44.532569885253906\n",
      "Loss:  29.717668533325195\n",
      "Loss:  20.128015518188477\n",
      "Loss:  13.84477424621582\n"
     ]
    },
    {
     "name": "stderr",
     "output_type": "stream",
     "text": [
      "C:\\Users\\Damir\\AppData\\Local\\Temp\\ipykernel_4448\\869744184.py:8: UserWarning: The use of `x.T` on tensors of dimension other than 2 to reverse their shape is deprecated and it will throw an error in a future release. Consider `x.mT` to transpose batches of matricesor `x.permute(*torch.arange(x.ndim - 1, -1, -1))` to reverse the dimensions of a tensor. (Triggered internally at  ..\\aten\\src\\ATen\\native\\TensorShape.cpp:2985.)\n",
      "  return torch.matmul(inputs, self.weights.T) + self.bias\n"
     ]
    },
    {
     "data": {
      "text/plain": "(tensor([25.6593, 29.9945, 21.4883, 90.0074], requires_grad=True),\n array([25.62290343, 30.86617197, 19.78343959, 92.9554559 ]))"
     },
     "execution_count": 7,
     "metadata": {},
     "output_type": "execute_result"
    }
   ],
   "source": [
    "for epoch in range(16):\n",
    "    y_pred = neuron.forward(X)\n",
    "    loss = mse.forward(y_pred=y_pred, y_true=y)\n",
    "    print('Loss: ', loss.item())\n",
    "    optimizer.zero_grad()\n",
    "    loss.backward()\n",
    "    optimizer.step()\n",
    "\n",
    "neuron.weights, coef"
   ],
   "metadata": {
    "collapsed": false
   }
  },
  {
   "cell_type": "markdown",
   "source": [
    "1.2 Воспользовавшись классами Linear и MSELoss из задачи 2.1.4 и 2.3.1, ReLU из 2.2.1 и автоматическим дифференцированием,\n",
    "которое предоставляет torch, решить задачу регрессии. Для оптимизации использовать пакетный градиентный спуск.\n",
    "Вывести график функции потерь в зависимости от номера эпохи. Вывести на одном графике исходные данные и предсказанные\n",
    "значения."
   ],
   "metadata": {
    "collapsed": false
   }
  },
  {
   "cell_type": "code",
   "execution_count": 8,
   "outputs": [],
   "source": [
    "class Linear:\n",
    "    def __init__(self, n_features, n_neurons):\n",
    "        self.weights = torch.randn(n_features, n_neurons, requires_grad=True)\n",
    "        self.biases = torch.randn(n_neurons, requires_grad=True)\n",
    "\n",
    "    def forward(self, inputs: torch.Tensor) -> torch.Tensor:\n",
    "        return (inputs @ self.weights) + self.biases\n",
    "\n",
    "    def parameters(self):\n",
    "        return self.weights, self.biases\n",
    "\n",
    "\n",
    "class MSELoss:\n",
    "    def forward(self, y_pred, y_true):\n",
    "        diff = y_pred - y_true\n",
    "        differences_squared = diff ** 2\n",
    "        mean_diff = differences_squared.mean()\n",
    "\n",
    "        return mean_diff\n",
    "\n",
    "    def backward(self, y_pred, y_true):\n",
    "        diff = y_pred - y_true\n",
    "        differences_doubled = 2 * diff\n",
    "        differences_div = differences_doubled / y_pred.size(0)\n",
    "        return differences_div\n",
    "\n",
    "\n",
    "class ReLU:\n",
    "    def forward(self, inputs: torch.Tensor) -> torch.Tensor:\n",
    "        return torch.where(inputs > 0, inputs, 0)"
   ],
   "metadata": {
    "collapsed": false
   }
  },
  {
   "cell_type": "code",
   "execution_count": 9,
   "outputs": [],
   "source": [
    "X = torch.linspace(0, 1, 100).view(-1, 1)\n",
    "y = torch.sin(2 * np.pi * X) + 0.1 * torch.rand(X.size())"
   ],
   "metadata": {
    "collapsed": false
   }
  },
  {
   "cell_type": "code",
   "execution_count": 10,
   "outputs": [
    {
     "data": {
      "text/plain": "(tensor([[0.0000],\n         [0.0101],\n         [0.0202],\n         [0.0303],\n         [0.0404]]),\n torch.Size([100, 1]))"
     },
     "execution_count": 10,
     "metadata": {},
     "output_type": "execute_result"
    }
   ],
   "source": [
    "X[:5], X.shape"
   ],
   "metadata": {
    "collapsed": false
   }
  },
  {
   "cell_type": "code",
   "execution_count": 11,
   "outputs": [
    {
     "data": {
      "text/plain": "(tensor([[0.0558],\n         [0.1185],\n         [0.1298],\n         [0.2740],\n         [0.2868]]),\n torch.Size([100, 1]))"
     },
     "execution_count": 11,
     "metadata": {},
     "output_type": "execute_result"
    }
   ],
   "source": [
    "y[:5], y.shape"
   ],
   "metadata": {
    "collapsed": false
   }
  },
  {
   "cell_type": "code",
   "execution_count": 12,
   "outputs": [],
   "source": [
    "layer_1 = Linear(X.shape[1], 100)\n",
    "layer_2 = Linear(100, y.shape[1])\n",
    "\n",
    "relu = ReLU()\n",
    "mse = MSELoss()\n",
    "\n",
    "optimizer = torch.optim.SGD((*layer_1.parameters(), *layer_2.parameters()), lr=0.001)"
   ],
   "metadata": {
    "collapsed": false
   }
  },
  {
   "cell_type": "code",
   "execution_count": 13,
   "outputs": [],
   "source": [
    "losses = torch.empty(1000)\n",
    "for epoch in range(1000):\n",
    "    y_pred = layer_2.forward(relu.forward(layer_1.forward(X)))\n",
    "\n",
    "    loss = mse.forward(y_pred=y_pred, y_true=y)\n",
    "    optimizer.zero_grad()\n",
    "    loss.backward()\n",
    "    losses[epoch] = loss.item()\n",
    "    optimizer.step()"
   ],
   "metadata": {
    "collapsed": false
   }
  },
  {
   "cell_type": "code",
   "execution_count": 14,
   "outputs": [
    {
     "data": {
      "text/plain": "<Figure size 640x480 with 1 Axes>",
      "image/png": "[encoded data removed]"
     },
     "metadata": {},
     "output_type": "display_data"
    }
   ],
   "source": [
    "_, ax = plt.subplots(1)\n",
    "\n",
    "ax.scatter(X, y, s=20)\n",
    "res = layer_2.forward(relu.forward(layer_1.forward(X)))\n",
    "ax.plot(X, res.detach(), c='r')\n",
    "plt.show()"
   ],
   "metadata": {
    "collapsed": false
   }
  },
  {
   "cell_type": "markdown",
   "source": [
    "2. Алгоритмы оптимизации в torch.optim"
   ],
   "metadata": {
    "collapsed": false
   }
  },
  {
   "cell_type": "code",
   "execution_count": 15,
   "outputs": [],
   "source": [
    "import torch.optim as optim"
   ],
   "metadata": {
    "collapsed": false
   }
  },
  {
   "cell_type": "markdown",
   "source": [
    "2.1 Решить задачу 1.1, воспользовавшись оптимизатором optim.SDG для применения стохастического градиентого спуска"
   ],
   "metadata": {
    "collapsed": false
   }
  },
  {
   "cell_type": "code",
   "execution_count": 16,
   "outputs": [],
   "source": [
    "X, y, coef = make_regression(n_features=4, n_informative=4, coef=True, bias=0.5)\n",
    "X = torch.from_numpy(X).to(dtype=torch.float32)\n",
    "y = torch.from_numpy(y).to(dtype=torch.float32)"
   ],
   "metadata": {
    "collapsed": false
   }
  },
  {
   "cell_type": "code",
   "execution_count": 17,
   "outputs": [],
   "source": [
    "class Neuron:\n",
    "    def __init__(self, n_inputs):\n",
    "        self.weights = torch.randn(n_inputs, requires_grad=True)\n",
    "        self.bias = torch.randn(1, requires_grad=True)\n",
    "\n",
    "    def forward(self, inputs):\n",
    "        return torch.matmul(inputs, self.weights.T) + self.bias\n",
    "\n",
    "    def backward(self, bvalue):\n",
    "        self.bweights = bvalue\n",
    "        self.binput = bvalue * self.weights\n",
    "        self.bbias = bvalue\n",
    "\n",
    "        return self.bweights, self.bbias\n",
    "\n",
    "    def parameters(self):\n",
    "        return self.weights, self.bias\n",
    "\n",
    "\n",
    "class MSELoss:\n",
    "    def forward(self, y_pred, y_true):\n",
    "        diff = y_pred - y_true\n",
    "        differences_squared = diff ** 2\n",
    "        mean_diff = differences_squared.mean()\n",
    "\n",
    "        return mean_diff\n",
    "\n",
    "    def backward(self, y_pred, y_true):\n",
    "        diff = y_pred - y_true\n",
    "        differences_doubled = 2 * diff\n",
    "        differences_div = differences_doubled / y_pred.size(0)\n",
    "        return differences_div"
   ],
   "metadata": {
    "collapsed": false
   }
  },
  {
   "cell_type": "code",
   "execution_count": 18,
   "outputs": [],
   "source": [
    "neuron = Neuron(X.shape[1])\n",
    "mse = MSELoss()\n",
    "optimizer = torch.optim.SGD(neuron.parameters(), lr=0.1)"
   ],
   "metadata": {
    "collapsed": false
   }
  },
  {
   "cell_type": "code",
   "execution_count": 19,
   "outputs": [
    {
     "name": "stdout",
     "output_type": "stream",
     "text": [
      "Loss:  14211.880859375\n",
      "Loss:  9347.1240234375\n",
      "Loss:  6177.01806640625\n",
      "Loss:  4099.697265625\n",
      "Loss:  2731.5234375\n",
      "Loss:  1826.2442626953125\n",
      "Loss:  1224.7530517578125\n",
      "Loss:  823.6141967773438\n",
      "Loss:  555.1998901367188\n",
      "Loss:  375.0630187988281\n",
      "Loss:  253.85211181640625\n",
      "Loss:  172.10142517089844\n",
      "Loss:  116.85076904296875\n",
      "Loss:  79.44178009033203\n",
      "Loss:  54.071998596191406\n",
      "Loss:  36.84223175048828\n"
     ]
    },
    {
     "data": {
      "text/plain": "(tensor([53.5552, 42.9587, 27.3130, 91.5231], requires_grad=True),\n array([54.65232546, 44.44459278, 27.99467135, 96.48020477]))"
     },
     "execution_count": 19,
     "metadata": {},
     "output_type": "execute_result"
    }
   ],
   "source": [
    "for epoch in range(16):\n",
    "    y_pred = neuron.forward(X)\n",
    "    loss = mse.forward(y_pred=y_pred, y_true=y)\n",
    "    print('Loss: ', loss.item())\n",
    "    optimizer.zero_grad()\n",
    "    loss.backward()\n",
    "    optimizer.step()\n",
    "\n",
    "neuron.weights, coef"
   ],
   "metadata": {
    "collapsed": false
   }
  },
  {
   "cell_type": "markdown",
   "source": [
    "2.2 Решить задачу 1.2, воспользовавшись оптимизатором optim.Adam для применения пакетного градиентого спуска. Вывести график функции потерь в зависимости от номера эпохи. Вывести на одном графике исходные данные и предсказанные значения."
   ],
   "metadata": {
    "collapsed": false
   }
  },
  {
   "cell_type": "code",
   "execution_count": 20,
   "outputs": [],
   "source": [
    "class Linear:\n",
    "    def __init__(self, n_features, n_neurons):\n",
    "        self.weights = torch.randn(n_features, n_neurons, requires_grad=True)\n",
    "        self.biases = torch.randn(n_neurons, requires_grad=True)\n",
    "\n",
    "    def forward(self, inputs: torch.Tensor) -> torch.Tensor:\n",
    "        return (inputs @ self.weights) + self.biases\n",
    "\n",
    "    def parameters(self):\n",
    "        return self.weights, self.biases\n",
    "\n",
    "\n",
    "class MSELoss:\n",
    "    def forward(self, y_pred, y_true):\n",
    "        diff = y_pred - y_true\n",
    "        differences_squared = diff ** 2\n",
    "        mean_diff = differences_squared.mean()\n",
    "\n",
    "        return mean_diff\n",
    "\n",
    "    def backward(self, y_pred, y_true):\n",
    "        diff = y_pred - y_true\n",
    "        differences_doubled = 2 * diff\n",
    "        differences_div = differences_doubled / y_pred.size(0)\n",
    "        return differences_div\n",
    "\n",
    "\n",
    "class ReLU:\n",
    "    def forward(self, inputs: torch.Tensor) -> torch.Tensor:\n",
    "        return torch.where(inputs > 0, inputs, 0)"
   ],
   "metadata": {
    "collapsed": false
   }
  },
  {
   "cell_type": "code",
   "execution_count": 21,
   "outputs": [],
   "source": [
    "X = torch.linspace(0, 1, 100).view(-1, 1)\n",
    "y = torch.sin(2 * np.pi * X) + 0.1 * torch.rand(X.size())"
   ],
   "metadata": {
    "collapsed": false
   }
  },
  {
   "cell_type": "code",
   "execution_count": 22,
   "outputs": [],
   "source": [
    "layer_1 = Linear(X.shape[1], 100)\n",
    "layer_2 = Linear(100, y.shape[1])\n",
    "\n",
    "relu = ReLU()\n",
    "mse = MSELoss()\n",
    "\n",
    "optimizer = torch.optim.Adam((*layer_1.parameters(), *layer_2.parameters()), lr=0.001)"
   ],
   "metadata": {
    "collapsed": false
   }
  },
  {
   "cell_type": "code",
   "execution_count": 23,
   "outputs": [],
   "source": [
    "losses = torch.empty(1000)\n",
    "for epoch in range(1000):\n",
    "    y_pred = layer_2.forward(relu.forward(layer_1.forward(X)))\n",
    "\n",
    "    loss = mse.forward(y_pred=y_pred, y_true=y)\n",
    "    optimizer.zero_grad()\n",
    "    loss.backward()\n",
    "    losses[epoch] = loss.item()\n",
    "    optimizer.step()"
   ],
   "metadata": {
    "collapsed": false
   }
  },
  {
   "cell_type": "code",
   "execution_count": 24,
   "outputs": [
    {
     "data": {
      "text/plain": "<Figure size 640x480 with 1 Axes>",
      "image/png": "[encoded data removed]"
     },
     "metadata": {},
     "output_type": "display_data"
    }
   ],
   "source": [
    "predicts = layer_2.forward(relu.forward(layer_1.forward(X)))\n",
    "_, ax = plt.subplots(1)\n",
    "\n",
    "ax.scatter(X, y, s=20)\n",
    "ax.plot(X, predicts.detach(), c='r')\n",
    "plt.show()"
   ],
   "metadata": {
    "collapsed": false
   }
  },
  {
   "cell_type": "markdown",
   "source": [
    "## 3. Построение сетей при помощи `torch.nn`"
   ],
   "metadata": {
    "collapsed": false
   }
  },
  {
   "cell_type": "code",
   "execution_count": 31,
   "outputs": [],
   "source": [
    "import torch.nn as nn"
   ],
   "metadata": {
    "collapsed": false
   }
  },
  {
   "cell_type": "markdown",
   "source": [
    "3.1 Решить задачу регрессии, соблюдая следующие условия:\n",
    "\n",
    "1. Оформить нейронную сеть в виде класса - наследника `nn.Module`\n",
    "2. При создании сети использовать готовые блоки из `torch.nn`: слои, функции активации, функции потерь и т.д.\n",
    "3. Для оптимизации использовать любой алгоритм оптимизации из `torch.optim`"
   ],
   "metadata": {
    "collapsed": false
   }
  },
  {
   "cell_type": "code",
   "execution_count": 32,
   "outputs": [],
   "source": [
    "X = torch.linspace(0, 1, 100).view(-1, 1)\n",
    "y = torch.sin(2 * np.pi * X) + 0.1 * torch.rand(X.size())"
   ],
   "metadata": {
    "collapsed": false
   }
  },
  {
   "cell_type": "code",
   "execution_count": 33,
   "outputs": [],
   "source": [
    "class Net(nn.Module):\n",
    "    def __init__(self, neurons):\n",
    "        super(Net, self).__init__()\n",
    "        self.fc1 = torch.nn.Linear(1, neurons)\n",
    "        self.act1 = torch.nn.Sigmoid()\n",
    "        self.fc2 = torch.nn.Linear(neurons, 1)\n",
    "\n",
    "    def forward(self, x):\n",
    "        x = self.fc1(x)\n",
    "        x = self.act1(x)\n",
    "        x = self.fc2(x)\n",
    "        return x\n",
    "\n",
    "\n",
    "neuron = Net(15)\n",
    "optimizer = optim.Adam(neuron.parameters(), lr=0.001)\n",
    "mse = torch.nn.MSELoss()"
   ],
   "metadata": {
    "collapsed": false
   }
  },
  {
   "cell_type": "code",
   "execution_count": 34,
   "outputs": [
    {
     "name": "stdout",
     "output_type": "stream",
     "text": [
      "Epoch 0 loss: 0.5386373996734619\n",
      "Epoch 1000 loss: 0.1981545090675354\n",
      "Epoch 2000 loss: 0.1970476508140564\n",
      "Epoch 3000 loss: 0.19334763288497925\n",
      "Epoch 4000 loss: 0.17506437003612518\n",
      "Epoch 5000 loss: 0.09782955050468445\n",
      "Epoch 6000 loss: 0.008307630196213722\n",
      "Epoch 7000 loss: 0.0008987956680357456\n",
      "Epoch 8000 loss: 0.000817486026789993\n"
     ]
    },
    {
     "data": {
      "text/plain": "<Figure size 640x480 with 1 Axes>",
      "image/png": "[encoded data removed]"
     },
     "metadata": {},
     "output_type": "display_data"
    }
   ],
   "source": [
    "for epoch in range(9000):\n",
    "    optimizer.zero_grad()\n",
    "    y_pred = neuron.forward(X)\n",
    "    loss = mse.forward(y_pred, y)\n",
    "    loss.backward()\n",
    "    optimizer.step()\n",
    "\n",
    "    if epoch % 1000 == 0:\n",
    "        print(f\"Epoch {epoch} loss: {loss}\")\n",
    "\n",
    "with torch.no_grad():\n",
    "    plt.plot(X, y)\n",
    "    plt.plot(X, neuron(X).detach().numpy())"
   ],
   "metadata": {
    "collapsed": false
   }
  },
  {
   "cell_type": "markdown",
   "source": [
    "3.2 Решить задачу регрессии, соблюдая следующие условия:\n",
    "\n",
    "1. Оформить нейронную сеть в виде объекта `nn.Sequential`\n",
    "2. При создании сети использовать готовые блоки из `torch.nn`: слои, функции активации, функции потерь и т.д.\n",
    "3. Для оптимизации использовать любой алгоритм оптимизации из `torch.optim`"
   ],
   "metadata": {
    "collapsed": false
   }
  },
  {
   "cell_type": "code",
   "execution_count": 156,
   "outputs": [],
   "source": [
    "X = torch.linspace(0, 1, 100).view(-1, 1)\n",
    "y = torch.sin(2 * np.pi * X) + 0.1 * torch.rand(X.size())"
   ],
   "metadata": {
    "collapsed": false
   }
  },
  {
   "cell_type": "code",
   "execution_count": 157,
   "outputs": [],
   "source": [
    "model = nn.Sequential(\n",
    "    nn.Linear(1, 5),\n",
    "    nn.Tanh(),\n",
    "    nn.Linear(5, 1),\n",
    "    nn.Tanh(),\n",
    "    nn.Linear(1, 5),\n",
    "    nn.Tanh(),\n",
    "    nn.Linear(5, 1)\n",
    ")\n",
    "optimizer = optim.Adam(model.parameters(), lr=0.01)\n",
    "guas = torch.nn.GaussianNLLLoss()\n",
    "\n",
    "losses = []\n",
    "for epoch in range(5000):\n",
    "    optimizer.zero_grad()\n",
    "\n",
    "    y_pred = model.forward(X)\n",
    "    var = torch.ones(y_pred.shape[0], y_pred.shape[1], requires_grad=True)\n",
    "    loss = guas(y_pred, y, var)\n",
    "    loss.backward()\n",
    "    losses.append(loss.item())\n",
    "    optimizer.step()"
   ],
   "metadata": {
    "collapsed": false
   }
  },
  {
   "cell_type": "code",
   "execution_count": 158,
   "outputs": [
    {
     "data": {
      "text/plain": "<Figure size 640x480 with 1 Axes>",
      "image/png": "[encoded data removed]"
     },
     "metadata": {},
     "output_type": "display_data"
    }
   ],
   "source": [
    "with torch.no_grad():\n",
    "  plt.plot(X, y)\n",
    "  plt.plot(X, model(X))"
   ],
   "metadata": {
    "collapsed": false
   }
  },
  {
   "cell_type": "markdown",
   "source": [
    "3.3 Решить задачу классификации. Датасет: Breast Cancer Wisconsin\n",
    "1. Оформить нейронную сеть в виде объекта `nn.Sequential`\n",
    "2. При создании сети использовать готовые блоки из `torch.nn`: слои, функции активации, функции потерь и т.д.\n",
    "3. Для оптимизации использовать любой алгоритм оптимизации из `torch.optim`"
   ],
   "metadata": {
    "collapsed": false
   }
  },
  {
   "cell_type": "code",
   "execution_count": 351,
   "outputs": [],
   "source": [
    "from sklearn import datasets\n",
    "\n",
    "dataset = datasets.load_breast_cancer()\n",
    "\n",
    "X = torch.from_numpy(dataset.data).to(torch.float32)\n",
    "y = torch.from_numpy(dataset.target).to(torch.float32).view(-1, 1)"
   ],
   "metadata": {
    "collapsed": false
   }
  },
  {
   "cell_type": "code",
   "execution_count": 352,
   "outputs": [
    {
     "data": {
      "text/plain": "torch.Size([569, 30])"
     },
     "execution_count": 352,
     "metadata": {},
     "output_type": "execute_result"
    }
   ],
   "source": [
    "X.shape"
   ],
   "metadata": {
    "collapsed": false
   }
  },
  {
   "cell_type": "code",
   "execution_count": 353,
   "outputs": [
    {
     "data": {
      "text/plain": "torch.Size([569, 1])"
     },
     "execution_count": 353,
     "metadata": {},
     "output_type": "execute_result"
    }
   ],
   "source": [
    "y.shape"
   ],
   "metadata": {
    "collapsed": false
   }
  },
  {
   "cell_type": "code",
   "execution_count": 355,
   "outputs": [
    {
     "name": "stdout",
     "output_type": "stream",
     "text": [
      "Loss: 0.23355789482593536\n",
      "Loss: 0.032053567469120026\n",
      "Loss: 0.02944694273173809\n",
      "Loss: 0.02630046010017395\n",
      "Loss: 0.02408977597951889\n",
      "Loss: 0.02168554998934269\n",
      "Loss: 0.01937750168144703\n",
      "Loss: 0.017181396484375\n",
      "Loss: 0.015218732878565788\n",
      "Loss: 0.013800757005810738\n"
     ]
    }
   ],
   "source": [
    "model = nn.Sequential(\n",
    "    nn.Linear(X.size(1), 50),\n",
    "    nn.Tanh(),\n",
    "    nn.Linear(50, y.size(1)),\n",
    "    nn.Tanh(),\n",
    ")\n",
    "hloss = nn.HuberLoss()\n",
    "optimizer = optim.Adam(model.parameters(), lr=0.001)\n",
    "m = nn.LogSoftmax()\n",
    "\n",
    "for epoch in range(1000):\n",
    "    optimizer.zero_grad()\n",
    "\n",
    "    y_pred = model(X)\n",
    "    loss = hloss(y_pred, y)\n",
    "    loss.backward()\n",
    "\n",
    "    optimizer.step()\n",
    "\n",
    "    if epoch % 100 == 0:\n",
    "        print(f\"Loss: {loss.item()}\")"
   ],
   "metadata": {
    "collapsed": false
   }
  },
  {
   "cell_type": "markdown",
   "source": [
    "## 4. Datasets and dataloaders"
   ],
   "metadata": {
    "collapsed": false
   }
  },
  {
   "cell_type": "code",
   "execution_count": 239,
   "outputs": [],
   "source": [
    "from torch.utils.data import Dataset, DataLoader"
   ],
   "metadata": {
    "collapsed": false
   }
  },
  {
   "cell_type": "markdown",
   "source": [
    "4.1 Создать датасет, поставляющий данные из задачи 1.2.\n",
    "\n",
    "Создать `DataLoader` на основе этого датасета и проверить работоспособность.\n",
    "\n",
    "Воспользовавшись результатами 3.1 (или 3.2) обучите модель, пользуясь мини-пакетным градиентным спуском с размером пакета (`batch_size`) = 10"
   ],
   "metadata": {
    "collapsed": false
   }
  },
  {
   "cell_type": "code",
   "execution_count": 292,
   "outputs": [],
   "source": [
    "class SinDataset(Dataset):\n",
    "    def __init__(self):\n",
    "        self.X = torch.linspace(0, 1, 100).view(-1, 1)\n",
    "        self.y = torch.sin(2 * np.pi * self.X) + 0.1 * torch.rand(self.X.size())\n",
    "\n",
    "    def __len__(self):\n",
    "        return len(self.X)\n",
    "\n",
    "    def __getitem__(self, idx):\n",
    "        return self.X[idx], self.y[idx]\n",
    "\n",
    "n_neurons = 10\n",
    "model = nn.Sequential(\n",
    "    nn.Linear(1, n_neurons),\n",
    "    nn.Tanh(),\n",
    "    nn.Linear(n_neurons, 1)\n",
    ")"
   ],
   "metadata": {
    "collapsed": false
   }
  },
  {
   "cell_type": "code",
   "execution_count": 293,
   "outputs": [
    {
     "name": "stdout",
     "output_type": "stream",
     "text": [
      "Loss: 0.12169267237186432\n",
      "Loss: 0.01839902624487877\n",
      "Loss: 0.016013868153095245\n",
      "Loss: 0.015022451058030128\n",
      "Loss: 0.013892529532313347\n",
      "Loss: 0.01242031715810299\n",
      "Loss: 0.010413230396807194\n",
      "Loss: 0.007910734973847866\n",
      "Loss: 0.005243283696472645\n",
      "Loss: 0.002876595826819539\n"
     ]
    }
   ],
   "source": [
    "optimizer = optim.Adam(model.parameters(), lr=0.0001)\n",
    "hloss = torch.nn.HuberLoss()\n",
    "dataloader = DataLoader(SinDataset(), batch_size=10)\n",
    "\n",
    "for epoch in range(10000):\n",
    "    X_dl, y_dl = next(iter(dataloader))\n",
    "    optimizer.zero_grad()\n",
    "    y_pred = model.forward(X_dl)\n",
    "    loss = hloss(y_pred, y_dl)\n",
    "    loss.backward()\n",
    "    optimizer.step()\n",
    "\n",
    "    if epoch % 1000 == 0:\n",
    "        print(f\"Loss: {loss.item()}\")"
   ],
   "metadata": {
    "collapsed": false
   }
  },
  {
   "cell_type": "markdown",
   "source": [
    "4.2 Предсказание цен алмазов\n",
    "\n",
    "4.2.1 Создайте датасет на основе файла diamonds.csv.\n",
    "\n",
    "1. Удалите все нечисловые столбцы\n",
    "2. Целевой столбец (`y`) - `price`\n",
    "3. Преобразуйте данные в тензоры корректных размеров\n",
    "\n",
    "4.2.2 Разбейте датасет на обучающий и тестовый датасет при помощи `torch.utils.data.random_split`.\n",
    "\n",
    "4.2.3 Обучите модель для предсказания цен при помощи мини-пакетного градиентного спуска (`batch_size = 256`).\n",
    "\n",
    "4.2.4 Выведите график функции потерь в зависимости от номера эпохи (значение потерь для эпохи рассчитывайте как среднее значение ошибок на каждом батче). Проверьте качество модели на тестовой выборке.\n"
   ],
   "metadata": {
    "collapsed": false
   }
  },
  {
   "cell_type": "code",
   "execution_count": 432,
   "outputs": [],
   "source": [
    "import pandas as pd\n",
    "import torch\n",
    "from torch.utils.data import Dataset, DataLoader\n",
    "\n",
    "import warnings\n",
    "warnings.filterwarnings(\"ignore\")"
   ],
   "metadata": {
    "collapsed": false
   }
  },
  {
   "cell_type": "code",
   "execution_count": 433,
   "outputs": [],
   "source": [
    "class DiamondsDataset(Dataset):\n",
    "    def __init__(self, data):\n",
    "        super().__init__()\n",
    "        self.data = pd.read_csv(data, index_col=[0])\n",
    "\n",
    "    def __len__(self):\n",
    "        return len(self.data)\n",
    "\n",
    "    def __getitem__(self, idx):\n",
    "        self.X = torch.FloatTensor(self.data.drop(columns=[\"price\"]).select_dtypes([\"number\"]).values)\n",
    "        self.y = torch.FloatTensor(self.data[\"price\"].values)\n",
    "        return self.X[idx], self.y[idx]"
   ],
   "metadata": {
    "collapsed": false
   }
  },
  {
   "cell_type": "code",
   "execution_count": 434,
   "outputs": [
    {
     "name": "stdout",
     "output_type": "stream",
     "text": [
      "(tensor([[61.5000, 55.0000,  3.9500,  3.9800,  2.4300],\n",
      "        [59.8000, 61.0000,  3.8900,  3.8400,  2.3100],\n",
      "        [56.9000, 65.0000,  4.0500,  4.0700,  2.3100],\n",
      "        [62.4000, 58.0000,  4.2000,  4.2300,  2.6300],\n",
      "        [63.3000, 58.0000,  4.3400,  4.3500,  2.7500],\n",
      "        [62.8000, 57.0000,  3.9400,  3.9600,  2.4800],\n",
      "        [62.3000, 57.0000,  3.9500,  3.9800,  2.4700],\n",
      "        [61.9000, 55.0000,  4.0700,  4.1100,  2.5300],\n",
      "        [65.1000, 61.0000,  3.8700,  3.7800,  2.4900],\n",
      "        [59.4000, 61.0000,  4.0000,  4.0500,  2.3900]]), tensor([326., 326., 327., 334., 335., 336., 336., 337., 337., 338.]))\n"
     ]
    }
   ],
   "source": [
    "dataset = DiamondsDataset(\"diamonds.csv\")\n",
    "print(dataset[:10])"
   ],
   "metadata": {
    "collapsed": false
   }
  },
  {
   "cell_type": "code",
   "execution_count": 435,
   "outputs": [],
   "source": [
    "train_size = int(0.8 * len(dataset))\n",
    "test_size = len(dataset) - train_size\n",
    "train, test = torch.utils.data.random_split(dataset, [train_size, test_size])\n",
    "\n",
    "diamonds_dataloader_train = DataLoader(train, batch_size=256)\n",
    "diamonds_dataloader_test = DataLoader(test, batch_size=256)"
   ],
   "metadata": {
    "collapsed": false
   }
  },
  {
   "cell_type": "code",
   "execution_count": 481,
   "outputs": [
    {
     "name": "stdout",
     "output_type": "stream",
     "text": [
      "Loss: 4056.52783203125\n",
      "Loss: 4056.522705078125\n",
      "Loss: 4056.51171875\n",
      "Loss: 4056.49609375\n",
      "Loss: 4056.476318359375\n",
      "Loss: 4056.45263671875\n",
      "Loss: 4056.42578125\n",
      "Loss: 4056.395751953125\n",
      "Loss: 4056.36376953125\n",
      "Loss: 4056.330078125\n",
      "Loss: 4056.294921875\n",
      "Loss: 4056.26123046875\n",
      "Loss: 4056.224609375\n",
      "Loss: 4056.18798828125\n",
      "Loss: 4056.150390625\n",
      "Loss: 4056.11181640625\n",
      "Loss: 4056.072265625\n",
      "Loss: 4056.03125\n",
      "Loss: 4055.98876953125\n",
      "Loss: 4055.947265625\n",
      "Loss: 4055.904296875\n",
      "Loss: 4055.861328125\n",
      "Loss: 4055.81689453125\n",
      "Loss: 4055.77392578125\n",
      "Loss: 4055.73046875\n",
      "Loss: 4055.687255859375\n",
      "Loss: 4055.64453125\n",
      "Loss: 4055.599609375\n",
      "Loss: 4055.556640625\n",
      "Loss: 4055.51220703125\n",
      "Loss: 4055.46923828125\n",
      "Loss: 4055.426025390625\n",
      "Loss: 4055.3828125\n",
      "Loss: 4055.33984375\n",
      "Loss: 4055.294921875\n",
      "Loss: 4055.25244140625\n",
      "Loss: 4055.208984375\n",
      "Loss: 4055.166259765625\n",
      "Loss: 4055.123046875\n",
      "Loss: 4055.08154296875\n",
      "Loss: 4055.038330078125\n",
      "Loss: 4054.99609375\n",
      "Loss: 4054.952880859375\n",
      "Loss: 4054.91015625\n",
      "Loss: 4054.86767578125\n",
      "Loss: 4054.82421875\n",
      "Loss: 4054.7822265625\n",
      "Loss: 4054.73876953125\n",
      "Loss: 4054.697021484375\n",
      "Loss: 4054.65283203125\n"
     ]
    }
   ],
   "source": [
    "class Model(nn.Module):\n",
    "    def __init__(self, n_neurons):\n",
    "        super(Model, self).__init__()\n",
    "        self.fc1 = torch.nn.Linear(n_neurons, 3)\n",
    "        self.act1 = torch.nn.Tanh()\n",
    "        self.fc2 = torch.nn.Linear(3, 1)\n",
    "        # self.act2 = torch.nn.Tanh()\n",
    "        # self.fc3 = torch.nn.Linear(5, 1)\n",
    "\n",
    "    def forward(self, x):\n",
    "        x = self.fc1(x)\n",
    "        x = self.act1(x)\n",
    "        x = self.fc2(x)\n",
    "        # x = self.act2(x)\n",
    "        # x = self.fc3(x)\n",
    "        return x\n",
    "\n",
    "neuron = Model(5)\n",
    "optimizer = torch.optim.SGD(neuron.parameters(), lr=0.001, momentum=0.9)\n",
    "huber = torch.nn.HuberLoss()\n",
    "\n",
    "loss_list = []\n",
    "for epoch in range(50):\n",
    "    X_dl, y_dl = next(iter(diamonds_dataloader_train))\n",
    "    optimizer.zero_grad()\n",
    "\n",
    "    y_pred = neuron.forward(X_dl)\n",
    "    loss = huber(y_pred, y_dl)\n",
    "    loss_list.append(loss.item())\n",
    "    loss.backward()\n",
    "    optimizer.step()\n",
    "\n",
    "    print(f\"Loss: {loss}\")"
   ],
   "metadata": {
    "collapsed": false
   }
  },
  {
   "cell_type": "code",
   "execution_count": 482,
   "outputs": [
    {
     "data": {
      "text/plain": "<Figure size 640x480 with 1 Axes>",
      "image/png": "[encoded data removed]"
     },
     "metadata": {},
     "output_type": "display_data"
    }
   ],
   "source": [
    "import matplotlib.pyplot as plt\n",
    "\n",
    "with torch.no_grad():\n",
    "  plt.plot(loss_list)"
   ],
   "metadata": {
    "collapsed": false
   }
  },
  {
   "cell_type": "markdown",
   "source": [
    "4.3 Модифицируйте метод `__init__` датасета из 4.2 таким образом, чтобы он мог принимать параметр `transform: callable`. Реализуйте класс `DropColsTransform` для удаления нечисловых данных из массива. Реализуйте класс `ToTensorTransorm` для трансформации массива в тензор."
   ],
   "metadata": {
    "collapsed": false
   }
  },
  {
   "cell_type": "code",
   "execution_count": 484,
   "outputs": [],
   "source": [
    "class DiamondsDataset(Dataset):\n",
    "    def __init__(self, data, transform=None):\n",
    "        self.data = pd.read_csv(data, index_col = [0])\n",
    "        self.transform = transform\n",
    "\n",
    "    def __len__(self):\n",
    "        return len(self.data)\n",
    "\n",
    "    def __getitem__(self, idx):\n",
    "        self.X = self.data.drop('price', axis=1)\n",
    "        self.y = self.data['price']\n",
    "        sample = self.X.iloc[idx], self.y.iloc[idx]\n",
    "        if self.transform:\n",
    "            sample = self.transform(sample)\n",
    "        return sample"
   ],
   "metadata": {
    "collapsed": false
   }
  },
  {
   "cell_type": "code",
   "execution_count": 485,
   "outputs": [],
   "source": [
    "class DropColsTransform:\n",
    "    def __init__(self, drop):\n",
    "        self.drop = drop\n",
    "\n",
    "    def __call__(self, sample):\n",
    "        self.X, self.y = sample\n",
    "        self.X = self.X.drop(self.X.index[self.drop], axis=0)\n",
    "        return self.X, self.y"
   ],
   "metadata": {
    "collapsed": false
   }
  },
  {
   "cell_type": "code",
   "execution_count": 486,
   "outputs": [],
   "source": [
    "class ToTensorTransform:\n",
    "  def __call__(self, sample):\n",
    "    X, y = sample\n",
    "    X = torch.FloatTensor(X.astype('float64').values)\n",
    "    y = torch.FloatTensor([y])\n",
    "    return X, y"
   ],
   "metadata": {
    "collapsed": false
   }
  },
  {
   "cell_type": "code",
   "execution_count": 489,
   "outputs": [
    {
     "ename": "AttributeError",
     "evalue": "partially initialized module 'torch.onnx.symbolic_helper' has no attribute 'quantized_args' (most likely due to a circular import)",
     "output_type": "error",
     "traceback": [
      "\u001B[1;31m---------------------------------------------------------------------------\u001B[0m",
      "\u001B[1;31mAttributeError\u001B[0m                            Traceback (most recent call last)",
      "Input \u001B[1;32mIn [489]\u001B[0m, in \u001B[0;36m<module>\u001B[1;34m\u001B[0m\n\u001B[1;32m----> 1\u001B[0m \u001B[38;5;28;01mfrom\u001B[39;00m \u001B[38;5;21;01mtorchvision\u001B[39;00m \u001B[38;5;28;01mimport\u001B[39;00m transforms\n\u001B[0;32m      3\u001B[0m drop \u001B[38;5;241m=\u001B[39m DropColsTransform(drop\u001B[38;5;241m=\u001B[39m[\u001B[38;5;241m1\u001B[39m, \u001B[38;5;241m2\u001B[39m, \u001B[38;5;241m3\u001B[39m])\n\u001B[0;32m      4\u001B[0m to_tensor \u001B[38;5;241m=\u001B[39m ToTensorTransform()\n",
      "File \u001B[1;32mF:\\Programming\\Python\\DAaML\\venv\\lib\\site-packages\\torchvision\\__init__.py:5\u001B[0m, in \u001B[0;36m<module>\u001B[1;34m\u001B[0m\n\u001B[0;32m      2\u001B[0m \u001B[38;5;28;01mimport\u001B[39;00m \u001B[38;5;21;01mwarnings\u001B[39;00m\n\u001B[0;32m      4\u001B[0m \u001B[38;5;28;01mimport\u001B[39;00m \u001B[38;5;21;01mtorch\u001B[39;00m\n\u001B[1;32m----> 5\u001B[0m \u001B[38;5;28;01mfrom\u001B[39;00m \u001B[38;5;21;01mtorchvision\u001B[39;00m \u001B[38;5;28;01mimport\u001B[39;00m datasets, io, models, ops, transforms, utils\n\u001B[0;32m      7\u001B[0m \u001B[38;5;28;01mfrom\u001B[39;00m \u001B[38;5;21;01m.\u001B[39;00m\u001B[38;5;21;01mextension\u001B[39;00m \u001B[38;5;28;01mimport\u001B[39;00m _HAS_OPS\n\u001B[0;32m      9\u001B[0m \u001B[38;5;28;01mtry\u001B[39;00m:\n",
      "File \u001B[1;32mF:\\Programming\\Python\\DAaML\\venv\\lib\\site-packages\\torchvision\\models\\__init__.py:4\u001B[0m, in \u001B[0;36m<module>\u001B[1;34m\u001B[0m\n\u001B[0;32m      2\u001B[0m \u001B[38;5;28;01mfrom\u001B[39;00m \u001B[38;5;21;01m.\u001B[39;00m\u001B[38;5;21;01mconvnext\u001B[39;00m \u001B[38;5;28;01mimport\u001B[39;00m \u001B[38;5;241m*\u001B[39m\n\u001B[0;32m      3\u001B[0m \u001B[38;5;28;01mfrom\u001B[39;00m \u001B[38;5;21;01m.\u001B[39;00m\u001B[38;5;21;01mdensenet\u001B[39;00m \u001B[38;5;28;01mimport\u001B[39;00m \u001B[38;5;241m*\u001B[39m\n\u001B[1;32m----> 4\u001B[0m \u001B[38;5;28;01mfrom\u001B[39;00m \u001B[38;5;21;01m.\u001B[39;00m\u001B[38;5;21;01mefficientnet\u001B[39;00m \u001B[38;5;28;01mimport\u001B[39;00m \u001B[38;5;241m*\u001B[39m\n\u001B[0;32m      5\u001B[0m \u001B[38;5;28;01mfrom\u001B[39;00m \u001B[38;5;21;01m.\u001B[39;00m\u001B[38;5;21;01mgooglenet\u001B[39;00m \u001B[38;5;28;01mimport\u001B[39;00m \u001B[38;5;241m*\u001B[39m\n\u001B[0;32m      6\u001B[0m \u001B[38;5;28;01mfrom\u001B[39;00m \u001B[38;5;21;01m.\u001B[39;00m\u001B[38;5;21;01minception\u001B[39;00m \u001B[38;5;28;01mimport\u001B[39;00m \u001B[38;5;241m*\u001B[39m\n",
      "File \u001B[1;32mF:\\Programming\\Python\\DAaML\\venv\\lib\\site-packages\\torchvision\\models\\efficientnet.py:10\u001B[0m, in \u001B[0;36m<module>\u001B[1;34m\u001B[0m\n\u001B[0;32m      8\u001B[0m \u001B[38;5;28;01mimport\u001B[39;00m \u001B[38;5;21;01mtorch\u001B[39;00m\n\u001B[0;32m      9\u001B[0m \u001B[38;5;28;01mfrom\u001B[39;00m \u001B[38;5;21;01mtorch\u001B[39;00m \u001B[38;5;28;01mimport\u001B[39;00m nn, Tensor\n\u001B[1;32m---> 10\u001B[0m \u001B[38;5;28;01mfrom\u001B[39;00m \u001B[38;5;21;01mtorchvision\u001B[39;00m\u001B[38;5;21;01m.\u001B[39;00m\u001B[38;5;21;01mops\u001B[39;00m \u001B[38;5;28;01mimport\u001B[39;00m StochasticDepth\n\u001B[0;32m     12\u001B[0m \u001B[38;5;28;01mfrom\u001B[39;00m \u001B[38;5;21;01m.\u001B[39;00m\u001B[38;5;21;01m.\u001B[39;00m\u001B[38;5;21;01mops\u001B[39;00m\u001B[38;5;21;01m.\u001B[39;00m\u001B[38;5;21;01mmisc\u001B[39;00m \u001B[38;5;28;01mimport\u001B[39;00m Conv2dNormActivation, SqueezeExcitation\n\u001B[0;32m     13\u001B[0m \u001B[38;5;28;01mfrom\u001B[39;00m \u001B[38;5;21;01m.\u001B[39;00m\u001B[38;5;21;01m.\u001B[39;00m\u001B[38;5;21;01mtransforms\u001B[39;00m\u001B[38;5;21;01m.\u001B[39;00m\u001B[38;5;21;01m_presets\u001B[39;00m \u001B[38;5;28;01mimport\u001B[39;00m ImageClassification, InterpolationMode\n",
      "File \u001B[1;32mF:\\Programming\\Python\\DAaML\\venv\\lib\\site-packages\\torchvision\\ops\\__init__.py:30\u001B[0m, in \u001B[0;36m<module>\u001B[1;34m\u001B[0m\n\u001B[0;32m     27\u001B[0m \u001B[38;5;28;01mfrom\u001B[39;00m \u001B[38;5;21;01m.\u001B[39;00m\u001B[38;5;21;01mroi_pool\u001B[39;00m \u001B[38;5;28;01mimport\u001B[39;00m roi_pool, RoIPool\n\u001B[0;32m     28\u001B[0m \u001B[38;5;28;01mfrom\u001B[39;00m \u001B[38;5;21;01m.\u001B[39;00m\u001B[38;5;21;01mstochastic_depth\u001B[39;00m \u001B[38;5;28;01mimport\u001B[39;00m stochastic_depth, StochasticDepth\n\u001B[1;32m---> 30\u001B[0m \u001B[43m_register_custom_op\u001B[49m\u001B[43m(\u001B[49m\u001B[43m)\u001B[49m\n\u001B[0;32m     33\u001B[0m __all__ \u001B[38;5;241m=\u001B[39m [\n\u001B[0;32m     34\u001B[0m     \u001B[38;5;124m\"\u001B[39m\u001B[38;5;124mmasks_to_boxes\u001B[39m\u001B[38;5;124m\"\u001B[39m,\n\u001B[0;32m     35\u001B[0m     \u001B[38;5;124m\"\u001B[39m\u001B[38;5;124mdeform_conv2d\u001B[39m\u001B[38;5;124m\"\u001B[39m,\n\u001B[1;32m   (...)\u001B[0m\n\u001B[0;32m     72\u001B[0m     \u001B[38;5;124m\"\u001B[39m\u001B[38;5;124mDropBlock3d\u001B[39m\u001B[38;5;124m\"\u001B[39m,\n\u001B[0;32m     73\u001B[0m ]\n",
      "File \u001B[1;32mF:\\Programming\\Python\\DAaML\\venv\\lib\\site-packages\\torchvision\\ops\\_register_onnx_ops.py:10\u001B[0m, in \u001B[0;36m_register_custom_op\u001B[1;34m()\u001B[0m\n\u001B[0;32m      9\u001B[0m \u001B[38;5;28;01mdef\u001B[39;00m \u001B[38;5;21m_register_custom_op\u001B[39m():\n\u001B[1;32m---> 10\u001B[0m     \u001B[38;5;28;01mfrom\u001B[39;00m \u001B[38;5;21;01mtorch\u001B[39;00m\u001B[38;5;21;01m.\u001B[39;00m\u001B[38;5;21;01monnx\u001B[39;00m\u001B[38;5;21;01m.\u001B[39;00m\u001B[38;5;21;01msymbolic_helper\u001B[39;00m \u001B[38;5;28;01mimport\u001B[39;00m parse_args\n\u001B[0;32m     11\u001B[0m     \u001B[38;5;28;01mfrom\u001B[39;00m \u001B[38;5;21;01mtorch\u001B[39;00m\u001B[38;5;21;01m.\u001B[39;00m\u001B[38;5;21;01monnx\u001B[39;00m\u001B[38;5;21;01m.\u001B[39;00m\u001B[38;5;21;01msymbolic_opset11\u001B[39;00m \u001B[38;5;28;01mimport\u001B[39;00m select, squeeze, unsqueeze\n\u001B[0;32m     12\u001B[0m     \u001B[38;5;28;01mfrom\u001B[39;00m \u001B[38;5;21;01mtorch\u001B[39;00m\u001B[38;5;21;01m.\u001B[39;00m\u001B[38;5;21;01monnx\u001B[39;00m\u001B[38;5;21;01m.\u001B[39;00m\u001B[38;5;21;01msymbolic_opset9\u001B[39;00m \u001B[38;5;28;01mimport\u001B[39;00m _cast_Long\n",
      "File \u001B[1;32mF:\\Programming\\Python\\DAaML\\venv\\lib\\site-packages\\torch\\onnx\\symbolic_helper.py:17\u001B[0m, in \u001B[0;36m<module>\u001B[1;34m\u001B[0m\n\u001B[0;32m     14\u001B[0m \u001B[38;5;28;01mfrom\u001B[39;00m \u001B[38;5;21;01mtorch\u001B[39;00m \u001B[38;5;28;01mimport\u001B[39;00m _C\n\u001B[0;32m     16\u001B[0m \u001B[38;5;66;03m# Monkey-patch graph manipulation methods on Graph, used for the ONNX symbolics\u001B[39;00m\n\u001B[1;32m---> 17\u001B[0m \u001B[38;5;28;01mfrom\u001B[39;00m \u001B[38;5;21;01mtorch\u001B[39;00m\u001B[38;5;21;01m.\u001B[39;00m\u001B[38;5;21;01monnx\u001B[39;00m \u001B[38;5;28;01mimport\u001B[39;00m (  \u001B[38;5;66;03m# noqa: F401\u001B[39;00m\n\u001B[0;32m     18\u001B[0m     _constants,\n\u001B[0;32m     19\u001B[0m     _deprecation,\n\u001B[0;32m     20\u001B[0m     _patch_torch,\n\u001B[0;32m     21\u001B[0m     _type_utils,\n\u001B[0;32m     22\u001B[0m     errors,\n\u001B[0;32m     23\u001B[0m )\n\u001B[0;32m     24\u001B[0m \u001B[38;5;28;01mfrom\u001B[39;00m \u001B[38;5;21;01mtorch\u001B[39;00m\u001B[38;5;21;01m.\u001B[39;00m\u001B[38;5;21;01monnx\u001B[39;00m\u001B[38;5;21;01m.\u001B[39;00m\u001B[38;5;21;01m_globals\u001B[39;00m \u001B[38;5;28;01mimport\u001B[39;00m GLOBALS\n\u001B[0;32m     25\u001B[0m \u001B[38;5;28;01mfrom\u001B[39;00m \u001B[38;5;21;01mtorch\u001B[39;00m\u001B[38;5;21;01m.\u001B[39;00m\u001B[38;5;21;01monnx\u001B[39;00m\u001B[38;5;21;01m.\u001B[39;00m\u001B[38;5;21;01m_internal\u001B[39;00m \u001B[38;5;28;01mimport\u001B[39;00m _beartype, jit_utils\n",
      "File \u001B[1;32mF:\\Programming\\Python\\DAaML\\venv\\lib\\site-packages\\torch\\onnx\\_patch_torch.py:11\u001B[0m, in \u001B[0;36m<module>\u001B[1;34m\u001B[0m\n\u001B[0;32m      8\u001B[0m \u001B[38;5;28;01mfrom\u001B[39;00m \u001B[38;5;21;01mtorch\u001B[39;00m\u001B[38;5;21;01m.\u001B[39;00m\u001B[38;5;21;01m_C\u001B[39;00m \u001B[38;5;28;01mimport\u001B[39;00m _onnx \u001B[38;5;28;01mas\u001B[39;00m _C_onnx\n\u001B[0;32m     10\u001B[0m \u001B[38;5;66;03m# Import utils to get _params_dict because it is a global that is accessed by c++ code\u001B[39;00m\n\u001B[1;32m---> 11\u001B[0m \u001B[38;5;28;01mfrom\u001B[39;00m \u001B[38;5;21;01mtorch\u001B[39;00m\u001B[38;5;21;01m.\u001B[39;00m\u001B[38;5;21;01monnx\u001B[39;00m \u001B[38;5;28;01mimport\u001B[39;00m _deprecation, utils\n\u001B[0;32m     12\u001B[0m \u001B[38;5;28;01mfrom\u001B[39;00m \u001B[38;5;21;01mtorch\u001B[39;00m\u001B[38;5;21;01m.\u001B[39;00m\u001B[38;5;21;01monnx\u001B[39;00m\u001B[38;5;21;01m.\u001B[39;00m\u001B[38;5;21;01m_globals\u001B[39;00m \u001B[38;5;28;01mimport\u001B[39;00m GLOBALS\n\u001B[0;32m     13\u001B[0m \u001B[38;5;28;01mfrom\u001B[39;00m \u001B[38;5;21;01mtorch\u001B[39;00m\u001B[38;5;21;01m.\u001B[39;00m\u001B[38;5;21;01monnx\u001B[39;00m\u001B[38;5;21;01m.\u001B[39;00m\u001B[38;5;21;01m_internal\u001B[39;00m \u001B[38;5;28;01mimport\u001B[39;00m _beartype\n",
      "File \u001B[1;32mF:\\Programming\\Python\\DAaML\\venv\\lib\\site-packages\\torch\\onnx\\utils.py:39\u001B[0m, in \u001B[0;36m<module>\u001B[1;34m\u001B[0m\n\u001B[0;32m     37\u001B[0m \u001B[38;5;28;01mimport\u001B[39;00m \u001B[38;5;21;01mtorch\u001B[39;00m\u001B[38;5;21;01m.\u001B[39;00m\u001B[38;5;21;01mserialization\u001B[39;00m\n\u001B[0;32m     38\u001B[0m \u001B[38;5;28;01mfrom\u001B[39;00m \u001B[38;5;21;01mtorch\u001B[39;00m \u001B[38;5;28;01mimport\u001B[39;00m _C\n\u001B[1;32m---> 39\u001B[0m \u001B[38;5;28;01mfrom\u001B[39;00m \u001B[38;5;21;01mtorch\u001B[39;00m\u001B[38;5;21;01m.\u001B[39;00m\u001B[38;5;21;01monnx\u001B[39;00m \u001B[38;5;28;01mimport\u001B[39;00m (  \u001B[38;5;66;03m# noqa: F401\u001B[39;00m\n\u001B[0;32m     40\u001B[0m     _constants,\n\u001B[0;32m     41\u001B[0m     _deprecation,\n\u001B[0;32m     42\u001B[0m     _exporter_states,\n\u001B[0;32m     43\u001B[0m     _patch_torch,\n\u001B[0;32m     44\u001B[0m     errors,\n\u001B[0;32m     45\u001B[0m     symbolic_caffe2,\n\u001B[0;32m     46\u001B[0m     symbolic_helper,\n\u001B[0;32m     47\u001B[0m )\n\u001B[0;32m     48\u001B[0m \u001B[38;5;28;01mfrom\u001B[39;00m \u001B[38;5;21;01mtorch\u001B[39;00m\u001B[38;5;21;01m.\u001B[39;00m\u001B[38;5;21;01monnx\u001B[39;00m\u001B[38;5;21;01m.\u001B[39;00m\u001B[38;5;21;01m_globals\u001B[39;00m \u001B[38;5;28;01mimport\u001B[39;00m GLOBALS\n\u001B[0;32m     49\u001B[0m \u001B[38;5;28;01mfrom\u001B[39;00m \u001B[38;5;21;01mtorch\u001B[39;00m\u001B[38;5;21;01m.\u001B[39;00m\u001B[38;5;21;01monnx\u001B[39;00m\u001B[38;5;21;01m.\u001B[39;00m\u001B[38;5;21;01m_internal\u001B[39;00m \u001B[38;5;28;01mimport\u001B[39;00m _beartype, diagnostics, jit_utils, registration\n",
      "File \u001B[1;32mF:\\Programming\\Python\\DAaML\\venv\\lib\\site-packages\\torch\\onnx\\symbolic_caffe2.py:4\u001B[0m, in \u001B[0;36m<module>\u001B[1;34m\u001B[0m\n\u001B[0;32m      1\u001B[0m \u001B[38;5;28;01mimport\u001B[39;00m \u001B[38;5;21;01mimportlib\u001B[39;00m\n\u001B[0;32m      2\u001B[0m \u001B[38;5;28;01mimport\u001B[39;00m \u001B[38;5;21;01minspect\u001B[39;00m\n\u001B[1;32m----> 4\u001B[0m \u001B[38;5;28;01mfrom\u001B[39;00m \u001B[38;5;21;01mtorch\u001B[39;00m\u001B[38;5;21;01m.\u001B[39;00m\u001B[38;5;21;01monnx\u001B[39;00m \u001B[38;5;28;01mimport\u001B[39;00m symbolic_helper, symbolic_opset9 \u001B[38;5;28;01mas\u001B[39;00m opset9\n\u001B[0;32m      5\u001B[0m \u001B[38;5;28;01mfrom\u001B[39;00m \u001B[38;5;21;01mtorch\u001B[39;00m\u001B[38;5;21;01m.\u001B[39;00m\u001B[38;5;21;01monnx\u001B[39;00m\u001B[38;5;21;01m.\u001B[39;00m\u001B[38;5;21;01m_internal\u001B[39;00m \u001B[38;5;28;01mimport\u001B[39;00m jit_utils, registration\n\u001B[0;32m      8\u001B[0m \u001B[38;5;28;01mdef\u001B[39;00m \u001B[38;5;21mregister_quantized_ops\u001B[39m(domain: \u001B[38;5;28mstr\u001B[39m, version: \u001B[38;5;28mint\u001B[39m):\n\u001B[0;32m      9\u001B[0m     \u001B[38;5;66;03m# Register all quantized ops\u001B[39;00m\n",
      "File \u001B[1;32mF:\\Programming\\Python\\DAaML\\venv\\lib\\site-packages\\torch\\onnx\\symbolic_opset9.py:333\u001B[0m, in \u001B[0;36m<module>\u001B[1;34m\u001B[0m\n\u001B[0;32m    328\u001B[0m         shape \u001B[38;5;241m=\u001B[39m g\u001B[38;5;241m.\u001B[39mop(\u001B[38;5;124m\"\u001B[39m\u001B[38;5;124mConcat\u001B[39m\u001B[38;5;124m\"\u001B[39m, \u001B[38;5;241m*\u001B[39mshape, axis_i\u001B[38;5;241m=\u001B[39m\u001B[38;5;241m0\u001B[39m)\n\u001B[0;32m    329\u001B[0m     \u001B[38;5;28;01mreturn\u001B[39;00m reshape(g, \u001B[38;5;28minput\u001B[39m, shape)\n\u001B[0;32m    332\u001B[0m \u001B[38;5;129m@_onnx_symbolic\u001B[39m(\u001B[38;5;124m\"\u001B[39m\u001B[38;5;124maten::reshape\u001B[39m\u001B[38;5;124m\"\u001B[39m)\n\u001B[1;32m--> 333\u001B[0m \u001B[38;5;129m@symbolic_helper\u001B[39m\u001B[38;5;241;43m.\u001B[39;49m\u001B[43mquantized_args\u001B[49m(\u001B[38;5;28;01mTrue\u001B[39;00m)\n\u001B[0;32m    334\u001B[0m \u001B[38;5;129m@_beartype\u001B[39m\u001B[38;5;241m.\u001B[39mbeartype\n\u001B[0;32m    335\u001B[0m \u001B[38;5;28;01mdef\u001B[39;00m \u001B[38;5;21mreshape\u001B[39m(g: jit_utils\u001B[38;5;241m.\u001B[39mGraphContext, \u001B[38;5;28mself\u001B[39m, shape):\n\u001B[0;32m    336\u001B[0m     \u001B[38;5;28;01mreturn\u001B[39;00m symbolic_helper\u001B[38;5;241m.\u001B[39m_reshape_helper(g, \u001B[38;5;28mself\u001B[39m, shape)\n\u001B[0;32m    339\u001B[0m \u001B[38;5;129m@_onnx_symbolic\u001B[39m(\u001B[38;5;124m\"\u001B[39m\u001B[38;5;124maten::reshape_as\u001B[39m\u001B[38;5;124m\"\u001B[39m)\n\u001B[0;32m    340\u001B[0m \u001B[38;5;129m@symbolic_helper\u001B[39m\u001B[38;5;241m.\u001B[39mquantized_args(\u001B[38;5;28;01mTrue\u001B[39;00m)\n\u001B[0;32m    341\u001B[0m \u001B[38;5;129m@_beartype\u001B[39m\u001B[38;5;241m.\u001B[39mbeartype\n\u001B[0;32m    342\u001B[0m \u001B[38;5;28;01mdef\u001B[39;00m \u001B[38;5;21mreshape_as\u001B[39m(g: jit_utils\u001B[38;5;241m.\u001B[39mGraphContext, \u001B[38;5;28mself\u001B[39m, other):\n",
      "\u001B[1;31mAttributeError\u001B[0m: partially initialized module 'torch.onnx.symbolic_helper' has no attribute 'quantized_args' (most likely due to a circular import)"
     ]
    }
   ],
   "source": [
    "from torchvision import transforms\n",
    "\n",
    "drop = DropColsTransform(drop=[1, 2, 3])\n",
    "to_tensor = ToTensorTransform()\n",
    "dataset = DiamondsDataset('diamonds.csv', transform=transforms.Compose([drop, to_tensor]))\n"
   ],
   "metadata": {
    "collapsed": false
   }
  },
  {
   "cell_type": "code",
   "execution_count": null,
   "outputs": [],
   "source": [
    "train, test = torch.utils.data.random_split(dataset, [int(len(dataset)*0.8), int(len(dataset)*0.2)])\n",
    "\n",
    "diamonds_dataloader_train = DataLoader(train, batch_size=256)\n",
    "diamonds_dataloader_test = DataLoader(test, batch_size=256)"
   ],
   "metadata": {
    "collapsed": false
   }
  },
  {
   "cell_type": "code",
   "execution_count": null,
   "outputs": [],
   "source": [
    "class DiamondsNet(torch.nn.Module):\n",
    "    def __init__(self, n_hidden_neurons, n_features):\n",
    "        super(DiamondsNet, self).__init__()\n",
    "        self.net = torch.nn.Sequential(\n",
    "            torch.nn.Linear(n_features, n_hidden_neurons),\n",
    "            torch.nn.Sigmoid(),\n",
    "            torch.nn.Linear(n_hidden_neurons,n_hidden_neurons),\n",
    "            torch.nn.Sigmoid(),\n",
    "            torch.nn.Linear(n_hidden_neurons,n_hidden_neurons*2),\n",
    "            torch.nn.Sigmoid(),\n",
    "            torch.nn.Linear(n_hidden_neurons*2,1)\n",
    "        )\n",
    "\n",
    "    def forward(self, x):\n",
    "        x = self.net(x)\n",
    "        return x\n",
    "\n",
    "neuron = DiamondsNet(16, 6)\n",
    "optimizer = torch.optim.SGD(neuron.parameters(), lr=0.01)\n",
    "loss = torch.nn.MSELoss()\n",
    "\n",
    "loss_vals = []\n",
    "for epoch in range(20):\n",
    "    X_new, y_new = next(iter(diamonds_dataloader_train))\n",
    "    optimizer.zero_grad()\n",
    "\n",
    "    y_pred = neuron.forward(X_new)\n",
    "    loss_val = loss(y_pred, y_new)\n",
    "    loss_vals.append(loss_val)\n",
    "\n",
    "    loss_val.backward()\n",
    "\n",
    "    optimizer.step()\n",
    "\n",
    "    print(f\"Epoch {epoch} loss: {loss_val}\")"
   ],
   "metadata": {
    "collapsed": false
   }
  },
  {
   "cell_type": "code",
   "execution_count": null,
   "outputs": [],
   "source": [
    "with torch.no_grad():\n",
    "  plt.plot(loss_vals)"
   ],
   "metadata": {
    "collapsed": false
   }
  },
  {
   "cell_type": "code",
   "execution_count": null,
   "outputs": [],
   "source": [],
   "metadata": {
    "collapsed": false
   }
  },
  {
   "cell_type": "code",
   "execution_count": null,
   "outputs": [],
   "source": [],
   "metadata": {
    "collapsed": false
   }
  },
  {
   "cell_type": "code",
   "execution_count": null,
   "outputs": [],
   "source": [],
   "metadata": {
    "collapsed": false
   }
  },
  {
   "cell_type": "code",
   "execution_count": null,
   "outputs": [],
   "source": [],
   "metadata": {
    "collapsed": false
   }
  }
 ],
 "metadata": {
  "kernelspec": {
   "display_name": "Python 3",
   "language": "python",
   "name": "python3"
  },
  "language_info": {
   "codemirror_mode": {
    "name": "ipython",
    "version": 2
   },
   "file_extension": ".py",
   "mimetype": "text/x-python",
   "name": "python",
   "nbconvert_exporter": "python",
   "pygments_lexer": "ipython2",
   "version": "2.7.6"
  }
 },
 "nbformat": 4,
 "nbformat_minor": 0
}
