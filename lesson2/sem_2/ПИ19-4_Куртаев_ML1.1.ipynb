{
 "cells": [
  {
   "cell_type": "code",
   "execution_count": 182,
   "metadata": {
    "collapsed": true
   },
   "outputs": [],
   "source": [
    "import numpy as np\n",
    "import pandas as pd\n",
    "import matplotlib.pyplot as plt"
   ]
  },
  {
   "cell_type": "code",
   "execution_count": 183,
   "outputs": [],
   "source": [
    "mvid = pd.read_csv(\"MVID_101001_171001.txt\")\n",
    "sber = pd.read_csv(\"SBER_101001_171001.txt\")"
   ],
   "metadata": {
    "collapsed": false,
    "pycharm": {
     "name": "#%%\n"
    }
   }
  },
  {
   "cell_type": "code",
   "execution_count": 184,
   "outputs": [
    {
     "data": {
      "text/plain": "  <TICKER> <PER>    <DATE>  <TIME>  <CLOSE>      <VOL>\n0     SBER     D  20101001       0    89.09  332429890\n1     SBER     D  20101004       0    89.88  194032721\n2     SBER     D  20101005       0    91.97  198775753\n3     SBER     D  20101006       0    91.20  210406027\n4     SBER     D  20101007       0    90.40  145137617",
      "text/html": "<div>\n<style scoped>\n    .dataframe tbody tr th:only-of-type {\n        vertical-align: middle;\n    }\n\n    .dataframe tbody tr th {\n        vertical-align: top;\n    }\n\n    .dataframe thead th {\n        text-align: right;\n    }\n</style>\n<table border=\"1\" class=\"dataframe\">\n  <thead>\n    <tr style=\"text-align: right;\">\n      <th></th>\n      <th>&lt;TICKER&gt;</th>\n      <th>&lt;PER&gt;</th>\n      <th>&lt;DATE&gt;</th>\n      <th>&lt;TIME&gt;</th>\n      <th>&lt;CLOSE&gt;</th>\n      <th>&lt;VOL&gt;</th>\n    </tr>\n  </thead>\n  <tbody>\n    <tr>\n      <th>0</th>\n      <td>SBER</td>\n      <td>D</td>\n      <td>20101001</td>\n      <td>0</td>\n      <td>89.09</td>\n      <td>332429890</td>\n    </tr>\n    <tr>\n      <th>1</th>\n      <td>SBER</td>\n      <td>D</td>\n      <td>20101004</td>\n      <td>0</td>\n      <td>89.88</td>\n      <td>194032721</td>\n    </tr>\n    <tr>\n      <th>2</th>\n      <td>SBER</td>\n      <td>D</td>\n      <td>20101005</td>\n      <td>0</td>\n      <td>91.97</td>\n      <td>198775753</td>\n    </tr>\n    <tr>\n      <th>3</th>\n      <td>SBER</td>\n      <td>D</td>\n      <td>20101006</td>\n      <td>0</td>\n      <td>91.20</td>\n      <td>210406027</td>\n    </tr>\n    <tr>\n      <th>4</th>\n      <td>SBER</td>\n      <td>D</td>\n      <td>20101007</td>\n      <td>0</td>\n      <td>90.40</td>\n      <td>145137617</td>\n    </tr>\n  </tbody>\n</table>\n</div>"
     },
     "execution_count": 184,
     "metadata": {},
     "output_type": "execute_result"
    }
   ],
   "source": [
    "sber.head()"
   ],
   "metadata": {
    "collapsed": false,
    "pycharm": {
     "name": "#%%\n"
    }
   }
  },
  {
   "cell_type": "code",
   "execution_count": 185,
   "outputs": [],
   "source": [
    "a = pd.merge(sber, mvid, on='<DATE>')"
   ],
   "metadata": {
    "collapsed": false,
    "pycharm": {
     "name": "#%%\n"
    }
   }
  },
  {
   "cell_type": "code",
   "execution_count": 186,
   "outputs": [
    {
     "data": {
      "text/plain": "  <TICKER>_x <PER>_x    <DATE>  <TIME>_x  <CLOSE>_x    <VOL>_x <TICKER>_y  \\\n0       SBER       D  20101001         0      89.09  332429890       MVID   \n1       SBER       D  20101004         0      89.88  194032721       MVID   \n2       SBER       D  20101005         0      91.97  198775753       MVID   \n3       SBER       D  20101006         0      91.20  210406027       MVID   \n4       SBER       D  20101007         0      90.40  145137617       MVID   \n\n  <PER>_y  <TIME>_y  <CLOSE>_y  <VOL>_y  \n0       D         0     194.38    19406  \n1       D         0     190.00    31039  \n2       D         0     187.00    17651  \n3       D         0     190.04    36482  \n4       D         0     199.85   204248  ",
      "text/html": "<div>\n<style scoped>\n    .dataframe tbody tr th:only-of-type {\n        vertical-align: middle;\n    }\n\n    .dataframe tbody tr th {\n        vertical-align: top;\n    }\n\n    .dataframe thead th {\n        text-align: right;\n    }\n</style>\n<table border=\"1\" class=\"dataframe\">\n  <thead>\n    <tr style=\"text-align: right;\">\n      <th></th>\n      <th>&lt;TICKER&gt;_x</th>\n      <th>&lt;PER&gt;_x</th>\n      <th>&lt;DATE&gt;</th>\n      <th>&lt;TIME&gt;_x</th>\n      <th>&lt;CLOSE&gt;_x</th>\n      <th>&lt;VOL&gt;_x</th>\n      <th>&lt;TICKER&gt;_y</th>\n      <th>&lt;PER&gt;_y</th>\n      <th>&lt;TIME&gt;_y</th>\n      <th>&lt;CLOSE&gt;_y</th>\n      <th>&lt;VOL&gt;_y</th>\n    </tr>\n  </thead>\n  <tbody>\n    <tr>\n      <th>0</th>\n      <td>SBER</td>\n      <td>D</td>\n      <td>20101001</td>\n      <td>0</td>\n      <td>89.09</td>\n      <td>332429890</td>\n      <td>MVID</td>\n      <td>D</td>\n      <td>0</td>\n      <td>194.38</td>\n      <td>19406</td>\n    </tr>\n    <tr>\n      <th>1</th>\n      <td>SBER</td>\n      <td>D</td>\n      <td>20101004</td>\n      <td>0</td>\n      <td>89.88</td>\n      <td>194032721</td>\n      <td>MVID</td>\n      <td>D</td>\n      <td>0</td>\n      <td>190.00</td>\n      <td>31039</td>\n    </tr>\n    <tr>\n      <th>2</th>\n      <td>SBER</td>\n      <td>D</td>\n      <td>20101005</td>\n      <td>0</td>\n      <td>91.97</td>\n      <td>198775753</td>\n      <td>MVID</td>\n      <td>D</td>\n      <td>0</td>\n      <td>187.00</td>\n      <td>17651</td>\n    </tr>\n    <tr>\n      <th>3</th>\n      <td>SBER</td>\n      <td>D</td>\n      <td>20101006</td>\n      <td>0</td>\n      <td>91.20</td>\n      <td>210406027</td>\n      <td>MVID</td>\n      <td>D</td>\n      <td>0</td>\n      <td>190.04</td>\n      <td>36482</td>\n    </tr>\n    <tr>\n      <th>4</th>\n      <td>SBER</td>\n      <td>D</td>\n      <td>20101007</td>\n      <td>0</td>\n      <td>90.40</td>\n      <td>145137617</td>\n      <td>MVID</td>\n      <td>D</td>\n      <td>0</td>\n      <td>199.85</td>\n      <td>204248</td>\n    </tr>\n  </tbody>\n</table>\n</div>"
     },
     "execution_count": 186,
     "metadata": {},
     "output_type": "execute_result"
    }
   ],
   "source": [
    "a.head()"
   ],
   "metadata": {
    "collapsed": false,
    "pycharm": {
     "name": "#%%\n"
    }
   }
  },
  {
   "cell_type": "code",
   "execution_count": 187,
   "outputs": [],
   "source": [
    "x = a['<CLOSE>_x']\n",
    "y = a['<CLOSE>_y']"
   ],
   "metadata": {
    "collapsed": false,
    "pycharm": {
     "name": "#%%\n"
    }
   }
  },
  {
   "cell_type": "code",
   "execution_count": 188,
   "outputs": [
    {
     "data": {
      "text/plain": "<matplotlib.collections.PathCollection at 0x163939f2920>"
     },
     "execution_count": 188,
     "metadata": {},
     "output_type": "execute_result"
    },
    {
     "data": {
      "text/plain": "<Figure size 432x288 with 1 Axes>",
      "image/png": "[encoded data removed]"
     },
     "metadata": {
      "needs_background": "light"
     },
     "output_type": "display_data"
    }
   ],
   "source": [
    "plt.figure()\n",
    "plt.scatter(x, y)"
   ],
   "metadata": {
    "collapsed": false,
    "pycharm": {
     "name": "#%%\n"
    }
   }
  },
  {
   "cell_type": "code",
   "execution_count": 189,
   "outputs": [],
   "source": [
    "class Hypothesis:\n",
    "    \"\"\"Модель парной регрессии\"\"\"\n",
    "\n",
    "    def __init__(self):\n",
    "        self.b0 = 0\n",
    "        self.b1 = 0\n",
    "\n",
    "    def predict(self, x):\n",
    "        return self.b0 + self.b1 * x\n",
    "\n",
    "    def error(self, X, Y):\n",
    "        return sum((self.predict(X) - Y) ** 2) / (2 * len(X))\n",
    "\n",
    "    def BGD(self, X, Y):\n",
    "        alpha = 0.00005\n",
    "        d0 = sum(self.predict(X) - Y) / len(X)\n",
    "        d1 = (sum(self.predict(X) - Y) * X) / len(X)\n",
    "\n",
    "        self.b0 -= alpha * d0\n",
    "        self.b1 -= alpha * d1"
   ],
   "metadata": {
    "collapsed": false,
    "pycharm": {
     "name": "#%%\n"
    }
   }
  },
  {
   "cell_type": "code",
   "execution_count": 190,
   "outputs": [
    {
     "name": "stdout",
     "output_type": "stream",
     "text": [
      "0\n",
      "0\n",
      "initial error: 36271.58344889084\n"
     ]
    }
   ],
   "source": [
    "hyp = Hypothesis()\n",
    "print(hyp.predict(0))\n",
    "print(hyp.predict(100))\n",
    "print(\"initial error:\", hyp.error(x, y))"
   ],
   "metadata": {
    "collapsed": false,
    "pycharm": {
     "name": "#%%\n"
    }
   }
  },
  {
   "cell_type": "code",
   "execution_count": 191,
   "outputs": [
    {
     "data": {
      "text/plain": "<Figure size 432x288 with 1 Axes>",
      "image/png": "[encoded data removed]"
     },
     "metadata": {
      "needs_background": "light"
     },
     "output_type": "display_data"
    }
   ],
   "source": [
    "X0 = np.linspace(60, 180, 100)\n",
    "Y0 = hyp.predict(X0)\n",
    "plt.figure()\n",
    "plt.scatter(x, y)\n",
    "plt.plot(X0, Y0, 'r')\n",
    "plt.show()\n"
   ],
   "metadata": {
    "collapsed": false,
    "pycharm": {
     "name": "#%%\n"
    }
   }
  },
  {
   "cell_type": "code",
   "execution_count": 192,
   "outputs": [],
   "source": [
    "# hyp.BGD(x, y)\n",
    "# J = hyp.error(x, y)\n",
    "# print(\"error after gradient descent:\", J)\n",
    "#\n",
    "# X0 = np.linspace(55, 195, 100)\n",
    "# # X0 = np.linspace(60, 180, 100)\n",
    "# Y0 = hyp.predict(X0)\n",
    "#\n",
    "# plt.figure()\n",
    "# plt.scatter(x, y)\n",
    "# plt.plot(X0, Y0, 'r')\n",
    "# plt.show()"
   ],
   "metadata": {
    "collapsed": false,
    "pycharm": {
     "name": "#%%\n"
    }
   }
  },
  {
   "cell_type": "code",
   "execution_count": 193,
   "outputs": [
    {
     "data": {
      "text/plain": "<Figure size 432x288 with 1 Axes>",
      "image/png": "[encoded data removed]"
     },
     "metadata": {
      "needs_background": "light"
     },
     "output_type": "display_data"
    }
   ],
   "source": [
    "class hypothesis():\n",
    "    \"\"\"Модель парной линейной регрессии\"\"\"\n",
    "    def __init__(self):\n",
    "        self.b0 = 0\n",
    "        self.b1 = 0\n",
    "    def predict(self, x):\n",
    "        return self.b0 + self.b1 * x\n",
    "    def error(self, X, Y):\n",
    "        \"\"\"MSE\"\"\"\n",
    "        return sum((self.predict(X) - Y)**2) / (2 * len(X))\n",
    "    def BGD(self, X, Y, alpha = 0.00005):\n",
    "        dJ0 = sum(self.predict(X) - Y) / len(X)\n",
    "        dJ1 = sum((self.predict(X) - Y) * X) / len(X)\n",
    "        self.b0 -= alpha * dJ0\n",
    "        self.b1 -= alpha * dJ1\n",
    "\n",
    "reg = hypothesis()\n",
    "X0 = np.linspace(55, 195, 100)\n",
    "Y0 = reg.predict(X0)\n",
    "plt.figure()\n",
    "plt.scatter(x, y)\n",
    "plt.plot(X0, Y0, 'r')\n",
    "plt.show()"
   ],
   "metadata": {
    "collapsed": false,
    "pycharm": {
     "name": "#%%\n"
    }
   }
  },
  {
   "cell_type": "code",
   "execution_count": 194,
   "outputs": [],
   "source": [
    "class Hypothesis:\n",
    "    \"\"\"Модель парной регрессии\"\"\"\n",
    "\n",
    "    def __init__(self):\n",
    "        self.b0 = 0\n",
    "        self.b1 = 0\n",
    "\n",
    "    def predict(self, x):\n",
    "        return self.b0 + self.b1 * x\n",
    "\n",
    "    def error(self, X, Y):\n",
    "        return sum((self.predict(X) - Y) ** 2) / (2 * len(X))\n",
    "\n",
    "    def BGD(self, X, Y, alpha=0.000005, accuracy=0.01, max_steps=5000):\n",
    "        steps, errors = [], []\n",
    "        step = 0\n",
    "        old_err = hyp.error(X, Y)\n",
    "        new_err = hyp.error(X, Y) - 1\n",
    "        dJ = 1\n",
    "        while (dJ > accuracy) and (step < max_steps):\n",
    "            dJ0 = sum(self.predict(X) - Y) / len(X)\n",
    "            dJ1 = sum((self.predict(X) - Y) * X) / len(X)\n",
    "            self.b0 -= alpha * dJ0\n",
    "            self.b1 -= alpha * dJ1\n",
    "            old_err = new_err\n",
    "            new_err = hyp.error(X, Y)\n",
    "            dJ = abs(old_err - new_err)\n",
    "            step += 1\n",
    "            steps.append(step)\n",
    "            errors.append(new_err)\n",
    "        return steps, errors"
   ],
   "metadata": {
    "collapsed": false,
    "pycharm": {
     "name": "#%%\n"
    }
   }
  },
  {
   "cell_type": "code",
   "execution_count": 195,
   "outputs": [
    {
     "name": "stdout",
     "output_type": "stream",
     "text": [
      "error after gradient descent: 298.76881676471504\n"
     ]
    }
   ],
   "source": [
    "hyp = Hypothesis()\n",
    "steps, errors = hyp.BGD(x, y)\n",
    "J = hyp.error(x, y)\n",
    "print(\"error after gradient descent:\", J)"
   ],
   "metadata": {
    "collapsed": false,
    "pycharm": {
     "name": "#%%\n"
    }
   }
  },
  {
   "cell_type": "code",
   "execution_count": 196,
   "outputs": [
    {
     "data": {
      "text/plain": "<Figure size 432x288 with 1 Axes>",
      "image/png": "[encoded data removed]"
     },
     "metadata": {
      "needs_background": "light"
     },
     "output_type": "display_data"
    }
   ],
   "source": [
    "X0 = np.linspace(55, 195, 100)\n",
    "Y0 = hyp.predict(X0)\n",
    "\n",
    "plt.figure()\n",
    "plt.scatter(x, y)\n",
    "plt.plot(X0, Y0, 'r')\n",
    "plt.show()\n"
   ],
   "metadata": {
    "collapsed": false,
    "pycharm": {
     "name": "#%%\n"
    }
   }
  },
  {
   "cell_type": "code",
   "execution_count": 197,
   "outputs": [
    {
     "data": {
      "text/plain": "<Figure size 432x288 with 1 Axes>",
      "image/png": "[encoded data removed]"
     },
     "metadata": {
      "needs_background": "light"
     },
     "output_type": "display_data"
    }
   ],
   "source": [
    "plt.figure()\n",
    "plt.plot(steps, errors, 'g')\n",
    "plt.show()"
   ],
   "metadata": {
    "collapsed": false,
    "pycharm": {
     "name": "#%%\n"
    }
   }
  },
  {
   "cell_type": "markdown",
   "source": [
    "# Доп задания"
   ],
   "metadata": {
    "collapsed": false,
    "pycharm": {
     "name": "#%% md\n"
    }
   }
  },
  {
   "cell_type": "markdown",
   "source": [
    "# 1. Реализуйте механизм адаптивной скорости обучения."
   ],
   "metadata": {
    "collapsed": false,
    "pycharm": {
     "name": "#%% md\n"
    }
   }
  },
  {
   "cell_type": "markdown",
   "source": [
    "### При достижении 3/4 максимального количества шагов, размер нашего шага уменьшается"
   ],
   "metadata": {
    "collapsed": false,
    "pycharm": {
     "name": "#%% md\n"
    }
   }
  },
  {
   "cell_type": "code",
   "execution_count": 198,
   "outputs": [],
   "source": [
    "class Hypothesis:\n",
    "    \"\"\"Модель парной регрессии\"\"\"\n",
    "\n",
    "    def __init__(self):\n",
    "        self.b0 = 0\n",
    "        self.b1 = 0\n",
    "\n",
    "    def predict(self, x):\n",
    "        return self.b0 + self.b1 * x\n",
    "\n",
    "    def error(self, X, Y):\n",
    "        return sum((self.predict(X) - Y) ** 2) / (2 * len(X))\n",
    "\n",
    "    def BGD(self, X, Y, alpha=0.000005, accuracy=0.01, max_steps=5000):\n",
    "        steps, errors = [], []\n",
    "        step = 0\n",
    "\n",
    "        old_err = hyp.error(X, Y)\n",
    "        new_err = hyp.error(X, Y) - 1\n",
    "        dJ = 1\n",
    "        while (dJ > accuracy) and (step < max_steps):\n",
    "            dJ0 = sum(self.predict(X) - Y) / len(X)\n",
    "            dJ1 = sum((self.predict(X) - Y) * X) / len(X)\n",
    "            self.b0 -= alpha * dJ0\n",
    "            self.b1 -= alpha * dJ1\n",
    "            old_err = new_err\n",
    "            new_err = hyp.error(X, Y)\n",
    "            dJ = abs(old_err - new_err)\n",
    "            step += 1\n",
    "            steps.append(step)\n",
    "            errors.append(new_err)\n",
    "\n",
    "            if step >= 3*max_steps/4:\n",
    "                alpha = 0.00005\n",
    "        return steps, errors"
   ],
   "metadata": {
    "collapsed": false,
    "pycharm": {
     "name": "#%%\n"
    }
   }
  },
  {
   "cell_type": "code",
   "execution_count": 199,
   "outputs": [
    {
     "name": "stdout",
     "output_type": "stream",
     "text": [
      "error after gradient descent: 298.76881676471504\n"
     ]
    },
    {
     "data": {
      "text/plain": "<Figure size 432x288 with 1 Axes>",
      "image/png": "[encoded data removed]"
     },
     "metadata": {
      "needs_background": "light"
     },
     "output_type": "display_data"
    }
   ],
   "source": [
    "hyp3 = Hypothesis()\n",
    "steps, errors = hyp3.BGD(x, y)\n",
    "J = hyp3.error(x, y)\n",
    "print(\"error after gradient descent:\", J)\n",
    "X0 = np.linspace(55, 195, 100)\n",
    "Y0 = hyp3.predict(X0)\n",
    "\n",
    "plt.figure()\n",
    "plt.scatter(x, y)\n",
    "plt.plot(X0, Y0, 'r')\n",
    "plt.show()"
   ],
   "metadata": {
    "collapsed": false,
    "pycharm": {
     "name": "#%%\n"
    }
   }
  },
  {
   "cell_type": "code",
   "execution_count": 200,
   "outputs": [],
   "source": [
    "# import numpy as np\n",
    "# import matplotlib.pyplot as plt\n",
    "# from mpl_toolkits.mplot3d import Axes3D\n",
    "#\n",
    "# rate = 0.01 # learning rate\n",
    "# def da(y,y_p,x):\n",
    "#     return (y-y_p)*(-x)\n",
    "#\n",
    "# def db(y,y_p):\n",
    "#     return (y-y_p)*(-1)\n",
    "# def calc_loss(a,b,x,y):\n",
    "#     tmp = y - (a * x + b)\n",
    "#     tmp = tmp ** 2 # квадрат каждого элемента в матрице\n",
    "#     SSE = sum(tmp) / (2 * len(x))\n",
    "#     return SSE\n",
    "# def draw_hill(x,y):\n",
    "#     a = np.linspace(-20,20,100)\n",
    "#     print(a)\n",
    "#     b = np.linspace(-20,20,100)\n",
    "#     x = np.array(x)\n",
    "#     y = np.array(y)\n",
    "#\n",
    "#     allSSE = np.zeros(shape=(len(a),len(b)))\n",
    "#     for ai in range(0,len(a)):\n",
    "#         for bi in range(0,len(b)):\n",
    "#             a0 = a[ai]\n",
    "#             b0 = b[bi]\n",
    "#             SSE = calc_loss(a=a0,b=b0,x=x,y=y)\n",
    "#             allSSE[ai][bi] = SSE\n",
    "#\n",
    "#     a,b = np.meshgrid(a, b)\n",
    "#\n",
    "#     return [a,b,allSSE]\n",
    "# x = [30    ,35,37,    59,    70,    76,    88,    100]\n",
    "# y = [1100,    1423,    1377,    1800,    2304,    2588,    3495,    4839]\n",
    "#\n",
    "#  # Нормализация данных\n",
    "# x_max = max(x)\n",
    "# x_min = min(x)\n",
    "# y_max = max(y)\n",
    "# y_min = min(y)\n",
    "#\n",
    "# for i in range(0,len(x)):\n",
    "#     x[i] = (x[i] - x_min)/(x_max - x_min)\n",
    "#     y[i] = (y[i] - y_min)/(y_max - y_min)\n",
    "#\n",
    "# [ha,hb,hallSSE] = draw_hill(x,y)\n",
    "# hallSSE = hallSSE.T\n",
    "# a = 10.0\n",
    "# b = -20.0\n",
    "# fig = plt.figure(1, figsize=(12, 8))\n",
    "# fig.suptitle('learning rate: %.2f method: Nesterov momentum'%(rate), fontsize=15)\n",
    "#\n",
    "#\n",
    "#  # Нарисуйте поверхность рисунка 1\n",
    "# ax = fig.add_subplot(2, 2, 1, projection='3d')\n",
    "# ax.set_top_view()\n",
    "# ax.plot_surface(ha, hb, hallSSE, rstride=2, cstride=2, cmap='rainbow')\n",
    "#\n",
    "#  # Нарисуйте контурную карту рисунка 2\n",
    "# plt.subplot(2,2,2)\n",
    "# ta = np.linspace(-20, 20, 100)\n",
    "# tb = np.linspace(-20, 20, 100)\n",
    "# plt.contourf(ha,hb,hallSSE,15,alpha=0.5,cmap=plt.cm.hot)\n",
    "# C = plt.contour(ha,hb,hallSSE,15,colors='black')\n",
    "# plt.clabel(C,inline=True)\n",
    "# plt.xlabel('a')\n",
    "# plt.ylabel('b')\n",
    "#\n",
    "# plt.ion() # iteration on\n",
    "#\n",
    "# all_loss = []\n",
    "# all_step = []\n",
    "# last_a = a\n",
    "# last_b = b\n",
    "# va = 0\n",
    "# vb = 0\n",
    "# gamma = 0.9\n",
    "# kd_damp=2.0\n",
    "# plt.show()"
   ],
   "metadata": {
    "collapsed": false,
    "pycharm": {
     "name": "#%%\n"
    }
   }
  },
  {
   "cell_type": "markdown",
   "source": [
    "# 3. Модифицируйте класс регрессии так, чтобы он проводил обучение только на случайно выделенной части данных (обучающей выборке). Историю динамики ошибки отслеживать отдельно по обучающей и по тестовой выборке.\n"
   ],
   "metadata": {
    "collapsed": false,
    "pycharm": {
     "name": "#%% md\n"
    }
   }
  },
  {
   "cell_type": "markdown",
   "source": [
    "### В данном случае нам нужно просто добавить ограничение на считывание количества наших данных"
   ],
   "metadata": {
    "collapsed": false,
    "pycharm": {
     "name": "#%% md\n"
    }
   }
  },
  {
   "cell_type": "code",
   "execution_count": 201,
   "outputs": [],
   "source": [
    "import random\n",
    "\n",
    "\n",
    "class Hypothesis:\n",
    "    \"\"\"Модель парной регрессии\"\"\"\n",
    "\n",
    "    def __init__(self):\n",
    "        self.b0 = 0\n",
    "        self.b1 = 0\n",
    "        self.data_size = random.randint(70, 80) / 100\n",
    "\n",
    "    def predict(self, x):\n",
    "        return self.b0 + self.b1 * x\n",
    "\n",
    "    def error(self, X, Y):\n",
    "        data_train_last_pos = round(len(X) * self.data_size)\n",
    "        data_test_first_pos = len(X) - data_train_last_pos\n",
    "\n",
    "        X_train = X[:data_train_last_pos]\n",
    "        Y_train = Y[:data_train_last_pos]\n",
    "\n",
    "        X_test = X[data_test_first_pos:]\n",
    "        Y_test = Y[data_test_first_pos:]\n",
    "        return sum((self.predict(X_train) - Y_train) ** 2) / (2 * len(X_train))\n",
    "\n",
    "    def BGD(self, X, Y, alpha=0.000005, accuracy=0.01, max_steps=5000):\n",
    "        steps, errors = [], []\n",
    "        step = 0\n",
    "\n",
    "        X_data = X.copy()\n",
    "        Y_data = Y.copy()\n",
    "\n",
    "        data_train_last_pos = round(len(X_data) * self.data_size)\n",
    "        data_test_first_pos = len(X_data) - data_train_last_pos\n",
    "\n",
    "        X_train = X_data[:data_train_last_pos]\n",
    "        Y_train = Y_data[:data_train_last_pos]\n",
    "\n",
    "        X_test = X_data[data_test_first_pos:]\n",
    "        Y_test = Y_data[data_test_first_pos:]\n",
    "\n",
    "\n",
    "        X = X_train\n",
    "        Y = Y_train\n",
    "\n",
    "        old_err = hyp.error(X, Y)\n",
    "        new_err = hyp.error(X, Y) - 1\n",
    "        dJ = 1\n",
    "        while (dJ > accuracy) and (step < max_steps):\n",
    "            dJ0 = sum(self.predict(X) - Y) / len(X)\n",
    "            dJ1 = sum((self.predict(X) - Y) * X) / len(X)\n",
    "            self.b0 -= alpha * dJ0\n",
    "            self.b1 -= alpha * dJ1\n",
    "            old_err = new_err\n",
    "            new_err = hyp.error(X, Y)\n",
    "            dJ = abs(old_err - new_err)\n",
    "            step += 1\n",
    "            steps.append(step)\n",
    "            errors.append(new_err)\n",
    "        return steps, errors"
   ],
   "metadata": {
    "collapsed": false,
    "pycharm": {
     "name": "#%%\n"
    }
   }
  },
  {
   "cell_type": "code",
   "execution_count": 202,
   "outputs": [
    {
     "name": "stdout",
     "output_type": "stream",
     "text": [
      "error after gradient descent: 163.8014094735312\n"
     ]
    },
    {
     "data": {
      "text/plain": "<Figure size 432x288 with 1 Axes>",
      "image/png": "[encoded data removed]"
     },
     "metadata": {
      "needs_background": "light"
     },
     "output_type": "display_data"
    }
   ],
   "source": [
    "hyp = Hypothesis()\n",
    "steps, errors = hyp.BGD(x, y)\n",
    "J = hyp.error(x, y)\n",
    "print(\"error after gradient descent:\", J)\n",
    "X0 = np.linspace(55, 195, 100)\n",
    "Y0 = hyp.predict(X0)\n",
    "\n",
    "plt.figure()\n",
    "plt.scatter(x, y)\n",
    "plt.plot(X0, Y0, 'r')\n",
    "plt.show()"
   ],
   "metadata": {
    "collapsed": false,
    "pycharm": {
     "name": "#%%\n"
    }
   }
  },
  {
   "cell_type": "markdown",
   "source": [
    "# 4. Научиться использовать библиотеку sklearn для построения парной линейной регрессии"
   ],
   "metadata": {
    "collapsed": false,
    "pycharm": {
     "name": "#%% md\n"
    }
   }
  },
  {
   "cell_type": "markdown",
   "source": [
    "### Добавляем модель при помощи sklearn"
   ],
   "metadata": {
    "collapsed": false,
    "pycharm": {
     "name": "#%% md\n"
    }
   }
  },
  {
   "cell_type": "code",
   "execution_count": 203,
   "outputs": [],
   "source": [
    "from sklearn.linear_model import LinearRegression"
   ],
   "metadata": {
    "collapsed": false,
    "pycharm": {
     "name": "#%%\n"
    }
   }
  },
  {
   "cell_type": "code",
   "execution_count": 204,
   "outputs": [],
   "source": [
    "reg = LinearRegression().fit(np.array(x).reshape(-1, 1), np.array(y))"
   ],
   "metadata": {
    "collapsed": false,
    "pycharm": {
     "name": "#%%\n"
    }
   }
  },
  {
   "cell_type": "markdown",
   "source": [
    "### Смотрим полученные коэффициенты"
   ],
   "metadata": {
    "collapsed": false,
    "pycharm": {
     "name": "#%% md\n"
    }
   }
  },
  {
   "cell_type": "code",
   "execution_count": 205,
   "outputs": [
    {
     "name": "stdout",
     "output_type": "stream",
     "text": [
      "56.0111286853157 [1.99635191]\n"
     ]
    }
   ],
   "source": [
    "print(reg.intercept_, reg.coef_)"
   ],
   "metadata": {
    "collapsed": false,
    "pycharm": {
     "name": "#%%\n"
    }
   }
  },
  {
   "cell_type": "markdown",
   "source": [
    "### Сторим график"
   ],
   "metadata": {
    "collapsed": false,
    "pycharm": {
     "name": "#%% md\n"
    }
   }
  },
  {
   "cell_type": "code",
   "execution_count": 211,
   "outputs": [
    {
     "data": {
      "text/plain": "<Figure size 432x288 with 1 Axes>",
      "image/png": "[encoded data removed]"
     },
     "metadata": {
      "needs_background": "light"
     },
     "output_type": "display_data"
    }
   ],
   "source": [
    "X0_sk = np.linspace(55, 195, 100).reshape(-1, 1)\n",
    "Y0_sk = reg.predict(X0_sk)\n",
    "\n",
    "plt.figure()\n",
    "plt.scatter(x, y)\n",
    "plt.plot(X0_sk, Y0_sk, 'r')\n",
    "plt.show()"
   ],
   "metadata": {
    "collapsed": false,
    "pycharm": {
     "name": "#%%\n"
    }
   }
  },
  {
   "cell_type": "markdown",
   "source": [
    "### А теперь посмотрим коэффициенты нашей модели"
   ],
   "metadata": {
    "collapsed": false,
    "pycharm": {
     "name": "#%% md\n"
    }
   }
  },
  {
   "cell_type": "code",
   "execution_count": 212,
   "outputs": [
    {
     "name": "stdout",
     "output_type": "stream",
     "text": [
      "0.029441262043447002 2.6317044457840075\n"
     ]
    }
   ],
   "source": [
    "print(hyp.b0, hyp.b1)"
   ],
   "metadata": {
    "collapsed": false,
    "pycharm": {
     "name": "#%%\n"
    }
   }
  },
  {
   "cell_type": "markdown",
   "source": [
    "### График нашей модели"
   ],
   "metadata": {
    "collapsed": false,
    "pycharm": {
     "name": "#%% md\n"
    }
   }
  },
  {
   "cell_type": "code",
   "execution_count": 213,
   "outputs": [
    {
     "data": {
      "text/plain": "<Figure size 432x288 with 1 Axes>",
      "image/png": "[encoded data removed]"
     },
     "metadata": {
      "needs_background": "light"
     },
     "output_type": "display_data"
    }
   ],
   "source": [
    "X0 = np.linspace(55, 195, 100)\n",
    "Y0 = hyp.predict(X0)\n",
    "\n",
    "plt.figure()\n",
    "plt.scatter(x, y)\n",
    "plt.plot(X0, Y0, 'r')\n",
    "plt.show()"
   ],
   "metadata": {
    "collapsed": false,
    "pycharm": {
     "name": "#%%\n"
    }
   }
  },
  {
   "cell_type": "markdown",
   "source": [
    "### Как мы можем видеть наша модель менее точна"
   ],
   "metadata": {
    "collapsed": false,
    "pycharm": {
     "name": "#%% md\n"
    }
   }
  }
 ],
 "metadata": {
  "kernelspec": {
   "display_name": "Python 3",
   "language": "python",
   "name": "python3"
  },
  "language_info": {
   "codemirror_mode": {
    "name": "ipython",
    "version": 2
   },
   "file_extension": ".py",
   "mimetype": "text/x-python",
   "name": "python",
   "nbconvert_exporter": "python",
   "pygments_lexer": "ipython2",
   "version": "2.7.6"
  }
 },
 "nbformat": 4,
 "nbformat_minor": 0
}