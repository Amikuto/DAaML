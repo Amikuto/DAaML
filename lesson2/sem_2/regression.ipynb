{
 "cells": [
  {
   "cell_type": "code",
   "execution_count": 1,
   "metadata": {
    "collapsed": true
   },
   "outputs": [],
   "source": [
    "import numpy as np\n",
    "import pandas as pd\n",
    "import matplotlib.pyplot as plt"
   ]
  },
  {
   "cell_type": "code",
   "execution_count": 2,
   "outputs": [],
   "source": [
    "mvid = pd.read_csv(\"MVID_101001_171001.txt\")\n",
    "sber = pd.read_csv(\"SBER_101001_171001.txt\")"
   ],
   "metadata": {
    "collapsed": false,
    "pycharm": {
     "name": "#%%\n"
    }
   }
  },
  {
   "cell_type": "code",
   "execution_count": 3,
   "outputs": [
    {
     "data": {
      "text/plain": "  <TICKER> <PER>    <DATE>  <TIME>  <CLOSE>      <VOL>\n0     SBER     D  20101001       0    89.09  332429890\n1     SBER     D  20101004       0    89.88  194032721\n2     SBER     D  20101005       0    91.97  198775753\n3     SBER     D  20101006       0    91.20  210406027\n4     SBER     D  20101007       0    90.40  145137617",
      "text/html": "<div>\n<style scoped>\n    .dataframe tbody tr th:only-of-type {\n        vertical-align: middle;\n    }\n\n    .dataframe tbody tr th {\n        vertical-align: top;\n    }\n\n    .dataframe thead th {\n        text-align: right;\n    }\n</style>\n<table border=\"1\" class=\"dataframe\">\n  <thead>\n    <tr style=\"text-align: right;\">\n      <th></th>\n      <th>&lt;TICKER&gt;</th>\n      <th>&lt;PER&gt;</th>\n      <th>&lt;DATE&gt;</th>\n      <th>&lt;TIME&gt;</th>\n      <th>&lt;CLOSE&gt;</th>\n      <th>&lt;VOL&gt;</th>\n    </tr>\n  </thead>\n  <tbody>\n    <tr>\n      <th>0</th>\n      <td>SBER</td>\n      <td>D</td>\n      <td>20101001</td>\n      <td>0</td>\n      <td>89.09</td>\n      <td>332429890</td>\n    </tr>\n    <tr>\n      <th>1</th>\n      <td>SBER</td>\n      <td>D</td>\n      <td>20101004</td>\n      <td>0</td>\n      <td>89.88</td>\n      <td>194032721</td>\n    </tr>\n    <tr>\n      <th>2</th>\n      <td>SBER</td>\n      <td>D</td>\n      <td>20101005</td>\n      <td>0</td>\n      <td>91.97</td>\n      <td>198775753</td>\n    </tr>\n    <tr>\n      <th>3</th>\n      <td>SBER</td>\n      <td>D</td>\n      <td>20101006</td>\n      <td>0</td>\n      <td>91.20</td>\n      <td>210406027</td>\n    </tr>\n    <tr>\n      <th>4</th>\n      <td>SBER</td>\n      <td>D</td>\n      <td>20101007</td>\n      <td>0</td>\n      <td>90.40</td>\n      <td>145137617</td>\n    </tr>\n  </tbody>\n</table>\n</div>"
     },
     "execution_count": 3,
     "metadata": {},
     "output_type": "execute_result"
    }
   ],
   "source": [
    "sber.head()"
   ],
   "metadata": {
    "collapsed": false,
    "pycharm": {
     "name": "#%%\n"
    }
   }
  },
  {
   "cell_type": "code",
   "execution_count": 4,
   "outputs": [],
   "source": [
    "a = pd.merge(sber, mvid, on='<DATE>')"
   ],
   "metadata": {
    "collapsed": false,
    "pycharm": {
     "name": "#%%\n"
    }
   }
  },
  {
   "cell_type": "code",
   "execution_count": 5,
   "outputs": [
    {
     "data": {
      "text/plain": "  <TICKER>_x <PER>_x    <DATE>  <TIME>_x  <CLOSE>_x    <VOL>_x <TICKER>_y  \\\n0       SBER       D  20101001         0      89.09  332429890       MVID   \n1       SBER       D  20101004         0      89.88  194032721       MVID   \n2       SBER       D  20101005         0      91.97  198775753       MVID   \n3       SBER       D  20101006         0      91.20  210406027       MVID   \n4       SBER       D  20101007         0      90.40  145137617       MVID   \n\n  <PER>_y  <TIME>_y  <CLOSE>_y  <VOL>_y  \n0       D         0     194.38    19406  \n1       D         0     190.00    31039  \n2       D         0     187.00    17651  \n3       D         0     190.04    36482  \n4       D         0     199.85   204248  ",
      "text/html": "<div>\n<style scoped>\n    .dataframe tbody tr th:only-of-type {\n        vertical-align: middle;\n    }\n\n    .dataframe tbody tr th {\n        vertical-align: top;\n    }\n\n    .dataframe thead th {\n        text-align: right;\n    }\n</style>\n<table border=\"1\" class=\"dataframe\">\n  <thead>\n    <tr style=\"text-align: right;\">\n      <th></th>\n      <th>&lt;TICKER&gt;_x</th>\n      <th>&lt;PER&gt;_x</th>\n      <th>&lt;DATE&gt;</th>\n      <th>&lt;TIME&gt;_x</th>\n      <th>&lt;CLOSE&gt;_x</th>\n      <th>&lt;VOL&gt;_x</th>\n      <th>&lt;TICKER&gt;_y</th>\n      <th>&lt;PER&gt;_y</th>\n      <th>&lt;TIME&gt;_y</th>\n      <th>&lt;CLOSE&gt;_y</th>\n      <th>&lt;VOL&gt;_y</th>\n    </tr>\n  </thead>\n  <tbody>\n    <tr>\n      <th>0</th>\n      <td>SBER</td>\n      <td>D</td>\n      <td>20101001</td>\n      <td>0</td>\n      <td>89.09</td>\n      <td>332429890</td>\n      <td>MVID</td>\n      <td>D</td>\n      <td>0</td>\n      <td>194.38</td>\n      <td>19406</td>\n    </tr>\n    <tr>\n      <th>1</th>\n      <td>SBER</td>\n      <td>D</td>\n      <td>20101004</td>\n      <td>0</td>\n      <td>89.88</td>\n      <td>194032721</td>\n      <td>MVID</td>\n      <td>D</td>\n      <td>0</td>\n      <td>190.00</td>\n      <td>31039</td>\n    </tr>\n    <tr>\n      <th>2</th>\n      <td>SBER</td>\n      <td>D</td>\n      <td>20101005</td>\n      <td>0</td>\n      <td>91.97</td>\n      <td>198775753</td>\n      <td>MVID</td>\n      <td>D</td>\n      <td>0</td>\n      <td>187.00</td>\n      <td>17651</td>\n    </tr>\n    <tr>\n      <th>3</th>\n      <td>SBER</td>\n      <td>D</td>\n      <td>20101006</td>\n      <td>0</td>\n      <td>91.20</td>\n      <td>210406027</td>\n      <td>MVID</td>\n      <td>D</td>\n      <td>0</td>\n      <td>190.04</td>\n      <td>36482</td>\n    </tr>\n    <tr>\n      <th>4</th>\n      <td>SBER</td>\n      <td>D</td>\n      <td>20101007</td>\n      <td>0</td>\n      <td>90.40</td>\n      <td>145137617</td>\n      <td>MVID</td>\n      <td>D</td>\n      <td>0</td>\n      <td>199.85</td>\n      <td>204248</td>\n    </tr>\n  </tbody>\n</table>\n</div>"
     },
     "execution_count": 5,
     "metadata": {},
     "output_type": "execute_result"
    }
   ],
   "source": [
    "a.head()"
   ],
   "metadata": {
    "collapsed": false,
    "pycharm": {
     "name": "#%%\n"
    }
   }
  },
  {
   "cell_type": "code",
   "execution_count": 6,
   "outputs": [],
   "source": [
    "x = a['<CLOSE>_x']\n",
    "y = a['<CLOSE>_y']"
   ],
   "metadata": {
    "collapsed": false,
    "pycharm": {
     "name": "#%%\n"
    }
   }
  },
  {
   "cell_type": "code",
   "execution_count": 7,
   "outputs": [
    {
     "data": {
      "text/plain": "<matplotlib.collections.PathCollection at 0x1c7c01f8a90>"
     },
     "execution_count": 7,
     "metadata": {},
     "output_type": "execute_result"
    },
    {
     "data": {
      "text/plain": "<Figure size 432x288 with 1 Axes>",
      "image/png": "[encoded data removed]"
     },
     "metadata": {
      "needs_background": "light"
     },
     "output_type": "display_data"
    }
   ],
   "source": [
    "plt.figure()\n",
    "plt.scatter(x, y)"
   ],
   "metadata": {
    "collapsed": false,
    "pycharm": {
     "name": "#%%\n"
    }
   }
  },
  {
   "cell_type": "code",
   "execution_count": 8,
   "outputs": [],
   "source": [
    "class hypothesis():\n",
    "\tdef __init__(self):\n",
    "\t\tself.b0 = 0\n",
    "\t\tself.b1 = 1\n",
    "\n",
    "\tdef predict(self, x):\n",
    "\t\treturn self.b0 + self.b1 * x\n",
    "\n",
    "\tdef error(self, X, Y):\n",
    "\t\treturn sum((self.predict(X) - Y) ** 2) / (2*len(X))\n",
    "\n",
    "\tdef BGD(self, x, y):\n",
    "\t\talpha = 0.00005\n",
    "\t\td0 = sum(self.predict(x) - y) / len(x)\n",
    "\t\td1 = (sum(self.predict(x) - y) * x) / len(x)\n",
    "\n",
    "\t\tself.b0 -= alpha * d0\n",
    "\t\tself.b1 -= alpha * d1"
   ],
   "metadata": {
    "collapsed": false,
    "pycharm": {
     "name": "#%%\n"
    }
   }
  },
  {
   "cell_type": "code",
   "execution_count": 9,
   "outputs": [
    {
     "name": "stdout",
     "output_type": "stream",
     "text": [
      "0\n",
      "100\n"
     ]
    }
   ],
   "source": [
    "instance = hypothesis()\n",
    "print(instance.predict(0))\n",
    "print(instance.predict(100))"
   ],
   "metadata": {
    "collapsed": false,
    "pycharm": {
     "name": "#%%\n"
    }
   }
  },
  {
   "cell_type": "code",
   "source": [],
   "metadata": {
    "collapsed": false,
    "pycharm": {
     "name": "#%%\n"
    }
   },
   "execution_count": null,
   "outputs": []
  },
  {
   "cell_type": "code",
   "execution_count": null,
   "outputs": [],
   "source": [],
   "metadata": {
    "collapsed": false,
    "pycharm": {
     "name": "#%%\n"
    }
   }
  }
 ],
 "metadata": {
  "kernelspec": {
   "display_name": "Python 3",
   "language": "python",
   "name": "python3"
  },
  "language_info": {
   "codemirror_mode": {
    "name": "ipython",
    "version": 2
   },
   "file_extension": ".py",
   "mimetype": "text/x-python",
   "name": "python",
   "nbconvert_exporter": "python",
   "pygments_lexer": "ipython2",
   "version": "2.7.6"
  }
 },
 "nbformat": 4,
 "nbformat_minor": 0
}