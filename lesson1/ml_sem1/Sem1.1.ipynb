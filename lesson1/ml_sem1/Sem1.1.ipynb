{
 "cells": [
  {
   "cell_type": "markdown",
   "source": [
    "# Прикладные задачи машинного обучения\n",
    "\n",
    "# Лабораторная работа 1_1\n",
    "Для удобства работы воспользуйтесь ментальными картами с содержанием по библиотекам в Phyton (https://www.mindmeister.com/ru/1093016129?t=B02pdssfnp)\n",
    "1.\tСоздайте файл формата csv/xls в котором будут отражены следующие сведения: данные по 12 магазинам. Данные должны содержать следующие сведения: название магазина (Name_shop), дата открытия (Data_Start), город (City), формат (Format), средний чек (SKU_count).\n",
    "2.\tИнтерпретируйте данные в ноутбуке через переменную Df\n",
    "\n",
    "## Df  = pn.read_csv/excel(‘имя файла.расширение’)\n",
    "\n",
    "3.\tВычислите следующие значения:\n",
    "Df.columns, Df.info(), Df.shape, Df.dtypes, Df.discribe()\n",
    "\n",
    "Что определяет каждое из действий?\n",
    "4.\tДобавьте несколько строк в вашу таблицу.\n",
    "5.\tДобавьте еще один столбец (конкуренты) в вашу таблицу\n",
    "6.\tПересохраните созданную таблицу в новый файл и запустите его\n",
    "7.\tПосмотрите типы данных всех столбцов\n",
    "8.\tСтолбец, где отражается дата открытия магазина сделайте формата datetime\n",
    "9.\tПроверьте правильность переформатирования\n",
    "10.\tПустые значения столбца Формат поменяйте на Супермаркет\n",
    "11.\tВыведите значения только столбца Формат\n",
    "12.\tВыведите значения двух столбцов: название магазина и формат\n",
    "13.\tВыведите только первые строки вашей таблицы\n",
    "14.\tВыведите последние строки вашей таблицы (tail)\n",
    "15.\tВыведите первые два значения таблицы\n",
    "16.\tВыведите последние три значения таблицы\n",
    "17.\tВыведите значение столбцов Название и Город 1,3 и 8 строк таблицы\n",
    "18.\tВыведите значение столбцов Название и Город 1,3 и 8 строк таблицы, используя только индексы\n",
    "19.\tВыведите только те строки таблицы, даты создания магазина которых последние «пять» лет\n",
    "20.\tВыведите только те строки значения таблицы, даты создания магазина которых последние «пять лет» и они находятся не в Москве\n",
    "21.\tВыведите только те строки значения таблицы даты создания магазина которых последние «пять лет» или средний чек превышает 1000р\n",
    "22.\tПостройте диаграммы, позволяющие просматривать средний чек магазина\n"
   ],
   "metadata": {
    "collapsed": false
   }
  },
  {
   "cell_type": "code",
   "execution_count": null,
   "outputs": [],
   "source": [
    "import pandas as pd\n",
    "import numpy as np"
   ],
   "metadata": {
    "collapsed": false,
    "pycharm": {
     "name": "#%%\n"
    }
   }
  },
  {
   "cell_type": "code",
   "execution_count": null,
   "outputs": [],
   "source": [
    "df = pd.read_csv('AmesHousing.txt', sep=\"\\t\", header = 0, index_col=False)"
   ],
   "metadata": {
    "collapsed": false,
    "pycharm": {
     "name": "#%%\n"
    }
   }
  },
  {
   "cell_type": "code",
   "execution_count": null,
   "outputs": [],
   "source": [
    "df"
   ],
   "metadata": {
    "collapsed": false,
    "pycharm": {
     "name": "#%%\n"
    }
   }
  },
  {
   "cell_type": "code",
   "execution_count": null,
   "outputs": [],
   "source": [
    "df.columns"
   ],
   "metadata": {
    "collapsed": false,
    "pycharm": {
     "name": "#%%\n"
    }
   }
  },
  {
   "cell_type": "code",
   "execution_count": null,
   "outputs": [],
   "source": [
    "dt = pd.DataFrame(columns = ['Name_shop', 'Data_Start', 'City', 'Format', 'SKU_count'])"
   ],
   "metadata": {
    "collapsed": false,
    "pycharm": {
     "name": "#%%\n"
    }
   }
  },
  {
   "cell_type": "code",
   "execution_count": null,
   "outputs": [],
   "source": [
    "dt.Name_shop = ['Пятерочка','Дикси','Перекресток',\n",
    "                'Азбука Вкуса','Вкусвилл','Магнит','Летуаль',\n",
    "                'Zara','Ашан','Аптека','Ремонт обуви','24 Часа']\n",
    "dt.Data_Start = ['2019-01-03','2018-05-03','2017-05-03',\n",
    "                '2019-06-03','2019-05-15','2010-05-03','2011-08-03',\n",
    "                '2019-01-03','2019-02-03','2013-05-03','2018-09-03','2014-05-03']\n",
    "dt.City = ['Москва','Москва','Москва',\n",
    "                'Москва','Москва','Санкт-Петербург','Санкт-Петербург',\n",
    "                'Москва','Санкт-Петербург','Коломна','Коломна','Коломна']\n",
    "dt.Format = ['Продуктовый','Продуктовый','Продуктовый',\n",
    "                'Продуктовый','Продуктовый','Продуктовый','Летуаль',\n",
    "                'Одежда','Продуктовый','Здоровье',np.nan,'Разное']\n",
    "dt.SKU_count = [500,300,700,\n",
    "                1500,250,400,1000,\n",
    "                5000,785,250,800,85]\n",
    "dt"
   ],
   "metadata": {
    "collapsed": false,
    "pycharm": {
     "name": "#%%\n"
    }
   }
  },
  {
   "cell_type": "markdown",
   "source": [
    "### 3. Вычислите следующие значения: Dt.columns, Dt.info(), dt.shape, dt.dtypes, dt.discribe()"
   ],
   "metadata": {
    "collapsed": false
   }
  },
  {
   "cell_type": "code",
   "execution_count": null,
   "outputs": [],
   "source": [
    "dt.columns"
   ],
   "metadata": {
    "collapsed": false,
    "pycharm": {
     "name": "#%%\n"
    }
   }
  },
  {
   "cell_type": "code",
   "execution_count": null,
   "outputs": [],
   "source": [],
   "metadata": {
    "collapsed": false,
    "pycharm": {
     "name": "#%%\n"
    }
   }
  },
  {
   "cell_type": "code",
   "execution_count": null,
   "outputs": [],
   "source": [],
   "metadata": {
    "collapsed": false,
    "pycharm": {
     "name": "#%%\n"
    }
   }
  },
  {
   "cell_type": "code",
   "execution_count": null,
   "outputs": [],
   "source": [],
   "metadata": {
    "collapsed": false,
    "pycharm": {
     "name": "#%%\n"
    }
   }
  },
  {
   "cell_type": "code",
   "execution_count": null,
   "outputs": [],
   "source": [],
   "metadata": {
    "collapsed": false,
    "pycharm": {
     "name": "#%%\n"
    }
   }
  },
  {
   "cell_type": "code",
   "execution_count": null,
   "outputs": [],
   "source": [
    "dt"
   ],
   "metadata": {
    "collapsed": false,
    "pycharm": {
     "name": "#%%\n"
    }
   }
  },
  {
   "cell_type": "markdown",
   "source": [
    "### 4.\tДобавьте несколько строк в вашу таблицу"
   ],
   "metadata": {
    "collapsed": false
   }
  },
  {
   "cell_type": "code",
   "execution_count": null,
   "outputs": [],
   "source": [
    "new_row1 = {'Name_shop':'Пончики', 'Data_Start':'2019-02-04', 'City':'Шатура', 'Format':'Продуктовый', 'SKU_count':100}\n",
    "new_row2 = {'Name_shop':'Хлеб да соль', 'Data_Start':'2015-01-02', 'City':'Москва', 'Format':'Продуктовый', 'SKU_count':237}\n",
    "\n"
   ],
   "metadata": {
    "collapsed": false,
    "pycharm": {
     "name": "#%%\n"
    }
   }
  },
  {
   "cell_type": "code",
   "execution_count": null,
   "outputs": [],
   "source": [
    "np.random.choice(['yes', 'no'], 12)"
   ],
   "metadata": {
    "collapsed": false,
    "pycharm": {
     "name": "#%%\n"
    }
   }
  },
  {
   "cell_type": "markdown",
   "source": [
    "### 5. Добавьте еще один столбец (конкуренты) в вашу таблицу"
   ],
   "metadata": {
    "collapsed": false
   }
  },
  {
   "cell_type": "code",
   "execution_count": null,
   "outputs": [],
   "source": [
    "import random\n"
   ],
   "metadata": {
    "collapsed": false,
    "pycharm": {
     "name": "#%%\n"
    }
   }
  },
  {
   "cell_type": "markdown",
   "source": [
    "### 6. Пересохраните созданную таблицу в новый файл и запустите его"
   ],
   "metadata": {
    "collapsed": false
   }
  },
  {
   "cell_type": "code",
   "execution_count": null,
   "outputs": [],
   "source": [],
   "metadata": {
    "collapsed": false,
    "pycharm": {
     "name": "#%%\n"
    }
   }
  },
  {
   "cell_type": "markdown",
   "source": [
    "### 7. Посмотрите типы данных всех столбцов"
   ],
   "metadata": {
    "collapsed": false
   }
  },
  {
   "cell_type": "code",
   "execution_count": null,
   "outputs": [],
   "source": [],
   "metadata": {
    "collapsed": false,
    "pycharm": {
     "name": "#%%\n"
    }
   }
  },
  {
   "cell_type": "markdown",
   "source": [
    "### 8.\tСтолбец, где отражается дата открытия магазина сделайте формата datetime"
   ],
   "metadata": {
    "collapsed": false
   }
  },
  {
   "cell_type": "code",
   "execution_count": null,
   "outputs": [],
   "source": [],
   "metadata": {
    "collapsed": false,
    "pycharm": {
     "name": "#%%\n"
    }
   }
  },
  {
   "cell_type": "code",
   "execution_count": null,
   "outputs": [],
   "source": [
    "#9.\tПроверьте правильность переформатирования\n",
    "\n"
   ],
   "metadata": {
    "collapsed": false,
    "pycharm": {
     "name": "#%%\n"
    }
   }
  },
  {
   "cell_type": "code",
   "execution_count": null,
   "outputs": [],
   "source": [
    "#10.\tПустые значения столбца Формат поменяйте на Супермаркет\n",
    "\n"
   ],
   "metadata": {
    "collapsed": false,
    "pycharm": {
     "name": "#%%\n"
    }
   }
  },
  {
   "cell_type": "code",
   "execution_count": null,
   "outputs": [],
   "source": [
    "#11.\tВыведите значения только столбца Формат\n",
    "\n"
   ],
   "metadata": {
    "collapsed": false,
    "pycharm": {
     "name": "#%%\n"
    }
   }
  },
  {
   "cell_type": "code",
   "execution_count": null,
   "outputs": [],
   "source": [
    "#12.\tВыведите значения двух столбцов: название магазина и формат\n",
    "dt[['Name_shop', 'Format']]"
   ],
   "metadata": {
    "collapsed": false,
    "pycharm": {
     "name": "#%%\n"
    }
   }
  },
  {
   "cell_type": "code",
   "execution_count": null,
   "outputs": [],
   "source": [
    "#13.\tВыведите только первые строки вашей таблицы\n",
    "\n"
   ],
   "metadata": {
    "collapsed": false,
    "pycharm": {
     "name": "#%%\n"
    }
   }
  },
  {
   "cell_type": "code",
   "execution_count": null,
   "outputs": [],
   "source": [
    "#14.\tВыведите последние строки вашей таблицы (tail)\n",
    "\n"
   ],
   "metadata": {
    "collapsed": false,
    "pycharm": {
     "name": "#%%\n"
    }
   }
  },
  {
   "cell_type": "code",
   "execution_count": null,
   "outputs": [],
   "source": [
    "#15.\tВыведите первые два значения таблицы\n",
    "\n"
   ],
   "metadata": {
    "collapsed": false,
    "pycharm": {
     "name": "#%%\n"
    }
   }
  },
  {
   "cell_type": "code",
   "execution_count": null,
   "outputs": [],
   "source": [
    "#16.\tВыведите последние три значения таблицы\n",
    "\n"
   ],
   "metadata": {
    "collapsed": false,
    "pycharm": {
     "name": "#%%\n"
    }
   }
  },
  {
   "cell_type": "code",
   "execution_count": null,
   "outputs": [],
   "source": [
    "#17.\tВыведите значение столбцов Название и Город 1,3 и 8 строк таблицы\n",
    "\n"
   ],
   "metadata": {
    "collapsed": false,
    "pycharm": {
     "name": "#%%\n"
    }
   }
  },
  {
   "cell_type": "code",
   "execution_count": null,
   "outputs": [],
   "source": [
    "#18.\tВыведите значение столбцов Название и Город 1,3 и 8 строк таблицы, используя только индексы\n",
    "\n"
   ],
   "metadata": {
    "collapsed": false,
    "pycharm": {
     "name": "#%%\n"
    }
   }
  },
  {
   "cell_type": "code",
   "execution_count": null,
   "outputs": [],
   "source": [
    "#19.\tВыведите только те строки таблицы, даты создания магазина которых последние «пять» лет\n",
    "\n"
   ],
   "metadata": {
    "collapsed": false,
    "pycharm": {
     "name": "#%%\n"
    }
   }
  },
  {
   "cell_type": "code",
   "execution_count": null,
   "outputs": [],
   "source": [
    "#20.\tВыведите только те строки значения таблицы,\n",
    "#даты создания магазина которых последние «пять лет» и они находятся не в Москве\n",
    "\n"
   ],
   "metadata": {
    "collapsed": false,
    "pycharm": {
     "name": "#%%\n"
    }
   }
  },
  {
   "cell_type": "code",
   "execution_count": null,
   "outputs": [],
   "source": [
    "#21.\tВыведите только те строки значения таблицы даты создания магазина\n",
    "#которых последние «пять лет» или средний чек превышает 1000р\n",
    "\n"
   ],
   "metadata": {
    "collapsed": false,
    "pycharm": {
     "name": "#%%\n"
    }
   }
  },
  {
   "cell_type": "code",
   "execution_count": null,
   "outputs": [],
   "source": [
    "#22.\tПостройте диаграммы, позволяющие просматривать средний чек магазина\n",
    "import matplotlib\n",
    "import matplotlib.pyplot as plt\n",
    "%matplotlib inline"
   ],
   "metadata": {
    "collapsed": false,
    "pycharm": {
     "name": "#%%\n"
    }
   }
  },
  {
   "cell_type": "code",
   "execution_count": null,
   "outputs": [],
   "source": [
    "dt.SKU_count.hist(color='orange')\n",
    "plt.legend(['SKU_count'])\n"
   ],
   "metadata": {
    "collapsed": false,
    "pycharm": {
     "name": "#%%\n"
    }
   }
  },
  {
   "cell_type": "code",
   "execution_count": null,
   "outputs": [],
   "source": [
    "import seaborn as sns\n",
    "sns.kdeplot(dt.SKU_count, shade=True, color=\"r\")"
   ],
   "metadata": {
    "collapsed": false,
    "pycharm": {
     "name": "#%%\n"
    }
   }
  },
  {
   "cell_type": "code",
   "execution_count": null,
   "outputs": [],
   "source": [
    "dt.groupby([pd.cut(dt.SKU_count, np.arange(0, dt.SKU_count.max()+1, 500))])['Name_shop'].count().reset_index()"
   ],
   "metadata": {
    "collapsed": false,
    "pycharm": {
     "name": "#%%\n"
    }
   }
  },
  {
   "cell_type": "code",
   "execution_count": null,
   "outputs": [],
   "source": [
    "dt.groupby([pd.cut(dt.SKU_count, np.arange(0, dt.SKU_count.max()+1, 500))])['Name_shop'].count().plot.bar()\n",
    "plt.legend(['APRU'])"
   ],
   "metadata": {
    "collapsed": false,
    "pycharm": {
     "name": "#%%\n"
    }
   }
  },
  {
   "cell_type": "code",
   "execution_count": null,
   "outputs": [],
   "source": [],
   "metadata": {
    "collapsed": false,
    "pycharm": {
     "name": "#%%\n"
    }
   }
  }
 ],
 "metadata": {
  "kernelspec": {
   "display_name": "Python 3",
   "language": "python",
   "name": "python3"
  },
  "language_info": {
   "codemirror_mode": {
    "name": "ipython",
    "version": 2
   },
   "file_extension": ".py",
   "mimetype": "text/x-python",
   "name": "python",
   "nbconvert_exporter": "python",
   "pygments_lexer": "ipython2",
   "version": "2.7.6"
  }
 },
 "nbformat": 4,
 "nbformat_minor": 0
}