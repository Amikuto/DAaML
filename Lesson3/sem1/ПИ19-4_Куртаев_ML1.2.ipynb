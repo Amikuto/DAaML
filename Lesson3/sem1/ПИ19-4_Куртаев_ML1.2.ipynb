{
 "cells": [
  {
   "cell_type": "code",
   "execution_count": 116,
   "metadata": {
    "collapsed": true
   },
   "outputs": [],
   "source": [
    "import numpy as np\n",
    "import pandas as pd\n",
    "import random\n",
    "import matplotlib.pyplot as plt\n",
    "from sklearn.linear_model import LinearRegression\n",
    "from sklearn.model_selection import train_test_split\n",
    "from sklearn.metrics import r2_score,mean_squared_error, mean_absolute_error\n",
    "from sklearn import linear_model"
   ]
  },
  {
   "cell_type": "code",
   "execution_count": 117,
   "outputs": [],
   "source": [
    "X = pd.read_csv('14_x.csv', names=['x1','x2','x3','x4','x5', 'x6', 'x7'], header=None)\n",
    "Y = pd.read_csv('14_y.csv',names=['Y'], header=None)"
   ],
   "metadata": {
    "collapsed": false,
    "pycharm": {
     "name": "#%%\n"
    }
   }
  },
  {
   "cell_type": "code",
   "execution_count": 135,
   "outputs": [
    {
     "data": {
      "text/plain": "          x1        x2        x3        x4        x5        x6        x7\n0   0.554492  0.435362 -0.714326  0.764385  0.332318  1.690328  1.084469\n1  -1.443801  0.171249  0.356806  0.292753 -1.160146  0.640056 -0.187040\n2  -1.671787  1.196110 -0.055890  0.015570 -0.850735 -1.381808  0.628972\n3   0.779561  0.862201  1.331771  0.000843  0.613557 -0.534753 -2.266841\n4   0.513284  0.719624 -0.261018  0.861236 -0.535846 -1.949803  0.813672\n5   0.437861  0.527150 -1.519209 -0.920765  0.195468 -0.527456  0.704727\n6   0.905799 -0.348567 -0.975581  1.072600  0.778013  2.895179  0.474996\n7  -0.212832 -0.622724  0.486118 -1.258866 -2.370847  1.513594  0.431967\n8  -0.830086 -1.158022  0.624042 -0.708330  1.640596 -1.368226 -1.527605\n9   0.265245 -0.631375 -0.586314  2.458434  0.604669 -1.727498  0.636303\n10 -0.306927 -0.881331  0.598910  0.744276  1.112989 -0.846505  1.197563\n11 -1.310236 -0.287568  0.088205  0.032781 -1.011708 -0.655327 -0.947261\n12 -0.319049 -0.399672 -0.824716 -1.501374 -0.910384 -0.966062  0.256534\n13  0.140829  2.274336 -0.856593 -2.350153  1.338840 -0.232043  1.095983\n14 -0.013026 -0.979457  0.117974  0.406564 -1.657818 -0.987110  1.709041\n15  0.599252  1.990282 -0.485500 -0.990564 -2.214083  0.386621 -0.150682\n16  0.783945  1.448911 -1.028004 -0.924861 -0.402935  0.959912  0.019050\n17 -0.610163  0.454894 -0.144541  2.225139 -0.269815 -0.561015 -2.319270\n18  1.484299  0.449893  0.194991  0.886536 -0.495478  0.314474  0.332772\n19  1.911923 -2.156795  0.442518  0.115956  0.696108  0.067467 -0.789926\n20 -0.476199 -2.073539  0.390343 -0.131199 -0.146252  0.075126 -0.045769\n21  0.133860  0.363527 -0.090644  0.377060 -1.323256  0.403870 -0.257188\n22  0.882766 -0.598205  0.622122  0.432468 -0.735442 -1.155791 -0.916719\n23 -0.936190 -1.470947  1.061930 -0.540981  0.469217  1.301730 -0.529922\n24 -0.461344  0.264259  2.362181 -0.024771 -0.746298 -0.806163 -0.349276\n25 -1.860966  1.151331 -0.675025 -0.236640  0.052272 -0.442380 -2.051166\n26 -0.323020  0.850500  0.159201 -0.180988 -0.407714 -0.782882  0.413005\n27  0.585628  0.176900  0.805509 -0.701072 -0.427511  0.613771 -0.605465\n28  0.562018  0.109886  1.760173 -2.094839  1.347462 -0.442273 -1.883306\n29 -0.844762 -0.624645 -0.769930 -0.147769  1.387645  0.229137  0.119098\n30 -1.034962 -0.099235 -0.252136  0.485166  0.375508  0.158686 -0.181191\n31  1.907433 -0.440630 -0.918137 -0.755268  0.314930  1.136216  0.584220\n32  0.004256 -0.805794 -1.523680  0.621341 -0.026066  0.530756  0.322857\n33 -0.206654 -1.533704  1.140731  0.914601  1.096036 -0.461381 -0.958725\n34 -0.065339  0.718423 -0.988286  1.741135 -1.571352 -0.434790 -0.005345\n35  3.305131 -0.481207 -1.604093  0.254197  0.852469 -0.297564 -0.282845\n36  1.349137 -0.348867  0.452332 -0.577491  1.632443 -0.496856  1.094056\n37 -0.122647 -0.880575 -1.603284 -0.025169  0.450361  1.139823 -1.184690\n38 -1.166145 -0.584236  0.181759  0.102269 -0.570711 -0.105841 -0.928985\n39 -1.034640 -0.425165  0.146836 -0.290141  0.366537 -1.221075 -2.934813\n40 -0.704105  0.676290  0.814526 -1.723316 -0.314756  2.605848  0.252146\n41  0.412877 -0.415750 -1.045515  1.707991 -1.490877  0.573232  1.179642\n42  0.522212  0.830385  0.217229 -1.684408 -1.580483 -1.836039  0.810471\n43 -0.512249  0.147800 -0.874884 -0.170514 -0.269928 -0.873277  1.911460\n44  2.005199 -0.683330 -0.792605  0.319624  2.650815 -1.437339 -1.903802\n45  1.129876  0.477996 -0.230038  0.461957  0.665398  0.577800  0.364257\n46  0.617213  0.267527  0.414917  1.214917 -0.588990 -1.879417 -1.465078\n47  1.143700  0.480871  4.121699  0.156165  0.031202  0.346151  1.598196\n48  0.674152 -0.323519 -0.701339  1.340642 -0.594841 -0.577159 -2.174318\n49 -0.176634 -0.362146 -0.363731  2.621316  0.507554 -0.142812 -0.468722\n50 -0.791956  0.260855 -0.623594 -0.057946  0.403279  0.146008  1.534943\n51 -0.590378  0.262209  0.756556 -0.503588  0.157986  0.657412  0.347064\n52  1.141403 -0.028674 -0.046344  0.957789 -1.025982  1.642839 -2.757365\n53  0.879775 -0.735468  0.317064 -0.740200  0.047467 -0.462749 -1.307212\n54  0.587781 -0.984122  0.820037  0.217542  1.151546  1.091796 -0.449900\n55 -0.202659 -0.046963 -0.869632  2.221344  0.363438  1.633289  0.260930",
      "text/html": "<div>\n<style scoped>\n    .dataframe tbody tr th:only-of-type {\n        vertical-align: middle;\n    }\n\n    .dataframe tbody tr th {\n        vertical-align: top;\n    }\n\n    .dataframe thead th {\n        text-align: right;\n    }\n</style>\n<table border=\"1\" class=\"dataframe\">\n  <thead>\n    <tr style=\"text-align: right;\">\n      <th></th>\n      <th>x1</th>\n      <th>x2</th>\n      <th>x3</th>\n      <th>x4</th>\n      <th>x5</th>\n      <th>x6</th>\n      <th>x7</th>\n    </tr>\n  </thead>\n  <tbody>\n    <tr>\n      <th>0</th>\n      <td>0.554492</td>\n      <td>0.435362</td>\n      <td>-0.714326</td>\n      <td>0.764385</td>\n      <td>0.332318</td>\n      <td>1.690328</td>\n      <td>1.084469</td>\n    </tr>\n    <tr>\n      <th>1</th>\n      <td>-1.443801</td>\n      <td>0.171249</td>\n      <td>0.356806</td>\n      <td>0.292753</td>\n      <td>-1.160146</td>\n      <td>0.640056</td>\n      <td>-0.187040</td>\n    </tr>\n    <tr>\n      <th>2</th>\n      <td>-1.671787</td>\n      <td>1.196110</td>\n      <td>-0.055890</td>\n      <td>0.015570</td>\n      <td>-0.850735</td>\n      <td>-1.381808</td>\n      <td>0.628972</td>\n    </tr>\n    <tr>\n      <th>3</th>\n      <td>0.779561</td>\n      <td>0.862201</td>\n      <td>1.331771</td>\n      <td>0.000843</td>\n      <td>0.613557</td>\n      <td>-0.534753</td>\n      <td>-2.266841</td>\n    </tr>\n    <tr>\n      <th>4</th>\n      <td>0.513284</td>\n      <td>0.719624</td>\n      <td>-0.261018</td>\n      <td>0.861236</td>\n      <td>-0.535846</td>\n      <td>-1.949803</td>\n      <td>0.813672</td>\n    </tr>\n    <tr>\n      <th>5</th>\n      <td>0.437861</td>\n      <td>0.527150</td>\n      <td>-1.519209</td>\n      <td>-0.920765</td>\n      <td>0.195468</td>\n      <td>-0.527456</td>\n      <td>0.704727</td>\n    </tr>\n    <tr>\n      <th>6</th>\n      <td>0.905799</td>\n      <td>-0.348567</td>\n      <td>-0.975581</td>\n      <td>1.072600</td>\n      <td>0.778013</td>\n      <td>2.895179</td>\n      <td>0.474996</td>\n    </tr>\n    <tr>\n      <th>7</th>\n      <td>-0.212832</td>\n      <td>-0.622724</td>\n      <td>0.486118</td>\n      <td>-1.258866</td>\n      <td>-2.370847</td>\n      <td>1.513594</td>\n      <td>0.431967</td>\n    </tr>\n    <tr>\n      <th>8</th>\n      <td>-0.830086</td>\n      <td>-1.158022</td>\n      <td>0.624042</td>\n      <td>-0.708330</td>\n      <td>1.640596</td>\n      <td>-1.368226</td>\n      <td>-1.527605</td>\n    </tr>\n    <tr>\n      <th>9</th>\n      <td>0.265245</td>\n      <td>-0.631375</td>\n      <td>-0.586314</td>\n      <td>2.458434</td>\n      <td>0.604669</td>\n      <td>-1.727498</td>\n      <td>0.636303</td>\n    </tr>\n    <tr>\n      <th>10</th>\n      <td>-0.306927</td>\n      <td>-0.881331</td>\n      <td>0.598910</td>\n      <td>0.744276</td>\n      <td>1.112989</td>\n      <td>-0.846505</td>\n      <td>1.197563</td>\n    </tr>\n    <tr>\n      <th>11</th>\n      <td>-1.310236</td>\n      <td>-0.287568</td>\n      <td>0.088205</td>\n      <td>0.032781</td>\n      <td>-1.011708</td>\n      <td>-0.655327</td>\n      <td>-0.947261</td>\n    </tr>\n    <tr>\n      <th>12</th>\n      <td>-0.319049</td>\n      <td>-0.399672</td>\n      <td>-0.824716</td>\n      <td>-1.501374</td>\n      <td>-0.910384</td>\n      <td>-0.966062</td>\n      <td>0.256534</td>\n    </tr>\n    <tr>\n      <th>13</th>\n      <td>0.140829</td>\n      <td>2.274336</td>\n      <td>-0.856593</td>\n      <td>-2.350153</td>\n      <td>1.338840</td>\n      <td>-0.232043</td>\n      <td>1.095983</td>\n    </tr>\n    <tr>\n      <th>14</th>\n      <td>-0.013026</td>\n      <td>-0.979457</td>\n      <td>0.117974</td>\n      <td>0.406564</td>\n      <td>-1.657818</td>\n      <td>-0.987110</td>\n      <td>1.709041</td>\n    </tr>\n    <tr>\n      <th>15</th>\n      <td>0.599252</td>\n      <td>1.990282</td>\n      <td>-0.485500</td>\n      <td>-0.990564</td>\n      <td>-2.214083</td>\n      <td>0.386621</td>\n      <td>-0.150682</td>\n    </tr>\n    <tr>\n      <th>16</th>\n      <td>0.783945</td>\n      <td>1.448911</td>\n      <td>-1.028004</td>\n      <td>-0.924861</td>\n      <td>-0.402935</td>\n      <td>0.959912</td>\n      <td>0.019050</td>\n    </tr>\n    <tr>\n      <th>17</th>\n      <td>-0.610163</td>\n      <td>0.454894</td>\n      <td>-0.144541</td>\n      <td>2.225139</td>\n      <td>-0.269815</td>\n      <td>-0.561015</td>\n      <td>-2.319270</td>\n    </tr>\n    <tr>\n      <th>18</th>\n      <td>1.484299</td>\n      <td>0.449893</td>\n      <td>0.194991</td>\n      <td>0.886536</td>\n      <td>-0.495478</td>\n      <td>0.314474</td>\n      <td>0.332772</td>\n    </tr>\n    <tr>\n      <th>19</th>\n      <td>1.911923</td>\n      <td>-2.156795</td>\n      <td>0.442518</td>\n      <td>0.115956</td>\n      <td>0.696108</td>\n      <td>0.067467</td>\n      <td>-0.789926</td>\n    </tr>\n    <tr>\n      <th>20</th>\n      <td>-0.476199</td>\n      <td>-2.073539</td>\n      <td>0.390343</td>\n      <td>-0.131199</td>\n      <td>-0.146252</td>\n      <td>0.075126</td>\n      <td>-0.045769</td>\n    </tr>\n    <tr>\n      <th>21</th>\n      <td>0.133860</td>\n      <td>0.363527</td>\n      <td>-0.090644</td>\n      <td>0.377060</td>\n      <td>-1.323256</td>\n      <td>0.403870</td>\n      <td>-0.257188</td>\n    </tr>\n    <tr>\n      <th>22</th>\n      <td>0.882766</td>\n      <td>-0.598205</td>\n      <td>0.622122</td>\n      <td>0.432468</td>\n      <td>-0.735442</td>\n      <td>-1.155791</td>\n      <td>-0.916719</td>\n    </tr>\n    <tr>\n      <th>23</th>\n      <td>-0.936190</td>\n      <td>-1.470947</td>\n      <td>1.061930</td>\n      <td>-0.540981</td>\n      <td>0.469217</td>\n      <td>1.301730</td>\n      <td>-0.529922</td>\n    </tr>\n    <tr>\n      <th>24</th>\n      <td>-0.461344</td>\n      <td>0.264259</td>\n      <td>2.362181</td>\n      <td>-0.024771</td>\n      <td>-0.746298</td>\n      <td>-0.806163</td>\n      <td>-0.349276</td>\n    </tr>\n    <tr>\n      <th>25</th>\n      <td>-1.860966</td>\n      <td>1.151331</td>\n      <td>-0.675025</td>\n      <td>-0.236640</td>\n      <td>0.052272</td>\n      <td>-0.442380</td>\n      <td>-2.051166</td>\n    </tr>\n    <tr>\n      <th>26</th>\n      <td>-0.323020</td>\n      <td>0.850500</td>\n      <td>0.159201</td>\n      <td>-0.180988</td>\n      <td>-0.407714</td>\n      <td>-0.782882</td>\n      <td>0.413005</td>\n    </tr>\n    <tr>\n      <th>27</th>\n      <td>0.585628</td>\n      <td>0.176900</td>\n      <td>0.805509</td>\n      <td>-0.701072</td>\n      <td>-0.427511</td>\n      <td>0.613771</td>\n      <td>-0.605465</td>\n    </tr>\n    <tr>\n      <th>28</th>\n      <td>0.562018</td>\n      <td>0.109886</td>\n      <td>1.760173</td>\n      <td>-2.094839</td>\n      <td>1.347462</td>\n      <td>-0.442273</td>\n      <td>-1.883306</td>\n    </tr>\n    <tr>\n      <th>29</th>\n      <td>-0.844762</td>\n      <td>-0.624645</td>\n      <td>-0.769930</td>\n      <td>-0.147769</td>\n      <td>1.387645</td>\n      <td>0.229137</td>\n      <td>0.119098</td>\n    </tr>\n    <tr>\n      <th>30</th>\n      <td>-1.034962</td>\n      <td>-0.099235</td>\n      <td>-0.252136</td>\n      <td>0.485166</td>\n      <td>0.375508</td>\n      <td>0.158686</td>\n      <td>-0.181191</td>\n    </tr>\n    <tr>\n      <th>31</th>\n      <td>1.907433</td>\n      <td>-0.440630</td>\n      <td>-0.918137</td>\n      <td>-0.755268</td>\n      <td>0.314930</td>\n      <td>1.136216</td>\n      <td>0.584220</td>\n    </tr>\n    <tr>\n      <th>32</th>\n      <td>0.004256</td>\n      <td>-0.805794</td>\n      <td>-1.523680</td>\n      <td>0.621341</td>\n      <td>-0.026066</td>\n      <td>0.530756</td>\n      <td>0.322857</td>\n    </tr>\n    <tr>\n      <th>33</th>\n      <td>-0.206654</td>\n      <td>-1.533704</td>\n      <td>1.140731</td>\n      <td>0.914601</td>\n      <td>1.096036</td>\n      <td>-0.461381</td>\n      <td>-0.958725</td>\n    </tr>\n    <tr>\n      <th>34</th>\n      <td>-0.065339</td>\n      <td>0.718423</td>\n      <td>-0.988286</td>\n      <td>1.741135</td>\n      <td>-1.571352</td>\n      <td>-0.434790</td>\n      <td>-0.005345</td>\n    </tr>\n    <tr>\n      <th>35</th>\n      <td>3.305131</td>\n      <td>-0.481207</td>\n      <td>-1.604093</td>\n      <td>0.254197</td>\n      <td>0.852469</td>\n      <td>-0.297564</td>\n      <td>-0.282845</td>\n    </tr>\n    <tr>\n      <th>36</th>\n      <td>1.349137</td>\n      <td>-0.348867</td>\n      <td>0.452332</td>\n      <td>-0.577491</td>\n      <td>1.632443</td>\n      <td>-0.496856</td>\n      <td>1.094056</td>\n    </tr>\n    <tr>\n      <th>37</th>\n      <td>-0.122647</td>\n      <td>-0.880575</td>\n      <td>-1.603284</td>\n      <td>-0.025169</td>\n      <td>0.450361</td>\n      <td>1.139823</td>\n      <td>-1.184690</td>\n    </tr>\n    <tr>\n      <th>38</th>\n      <td>-1.166145</td>\n      <td>-0.584236</td>\n      <td>0.181759</td>\n      <td>0.102269</td>\n      <td>-0.570711</td>\n      <td>-0.105841</td>\n      <td>-0.928985</td>\n    </tr>\n    <tr>\n      <th>39</th>\n      <td>-1.034640</td>\n      <td>-0.425165</td>\n      <td>0.146836</td>\n      <td>-0.290141</td>\n      <td>0.366537</td>\n      <td>-1.221075</td>\n      <td>-2.934813</td>\n    </tr>\n    <tr>\n      <th>40</th>\n      <td>-0.704105</td>\n      <td>0.676290</td>\n      <td>0.814526</td>\n      <td>-1.723316</td>\n      <td>-0.314756</td>\n      <td>2.605848</td>\n      <td>0.252146</td>\n    </tr>\n    <tr>\n      <th>41</th>\n      <td>0.412877</td>\n      <td>-0.415750</td>\n      <td>-1.045515</td>\n      <td>1.707991</td>\n      <td>-1.490877</td>\n      <td>0.573232</td>\n      <td>1.179642</td>\n    </tr>\n    <tr>\n      <th>42</th>\n      <td>0.522212</td>\n      <td>0.830385</td>\n      <td>0.217229</td>\n      <td>-1.684408</td>\n      <td>-1.580483</td>\n      <td>-1.836039</td>\n      <td>0.810471</td>\n    </tr>\n    <tr>\n      <th>43</th>\n      <td>-0.512249</td>\n      <td>0.147800</td>\n      <td>-0.874884</td>\n      <td>-0.170514</td>\n      <td>-0.269928</td>\n      <td>-0.873277</td>\n      <td>1.911460</td>\n    </tr>\n    <tr>\n      <th>44</th>\n      <td>2.005199</td>\n      <td>-0.683330</td>\n      <td>-0.792605</td>\n      <td>0.319624</td>\n      <td>2.650815</td>\n      <td>-1.437339</td>\n      <td>-1.903802</td>\n    </tr>\n    <tr>\n      <th>45</th>\n      <td>1.129876</td>\n      <td>0.477996</td>\n      <td>-0.230038</td>\n      <td>0.461957</td>\n      <td>0.665398</td>\n      <td>0.577800</td>\n      <td>0.364257</td>\n    </tr>\n    <tr>\n      <th>46</th>\n      <td>0.617213</td>\n      <td>0.267527</td>\n      <td>0.414917</td>\n      <td>1.214917</td>\n      <td>-0.588990</td>\n      <td>-1.879417</td>\n      <td>-1.465078</td>\n    </tr>\n    <tr>\n      <th>47</th>\n      <td>1.143700</td>\n      <td>0.480871</td>\n      <td>4.121699</td>\n      <td>0.156165</td>\n      <td>0.031202</td>\n      <td>0.346151</td>\n      <td>1.598196</td>\n    </tr>\n    <tr>\n      <th>48</th>\n      <td>0.674152</td>\n      <td>-0.323519</td>\n      <td>-0.701339</td>\n      <td>1.340642</td>\n      <td>-0.594841</td>\n      <td>-0.577159</td>\n      <td>-2.174318</td>\n    </tr>\n    <tr>\n      <th>49</th>\n      <td>-0.176634</td>\n      <td>-0.362146</td>\n      <td>-0.363731</td>\n      <td>2.621316</td>\n      <td>0.507554</td>\n      <td>-0.142812</td>\n      <td>-0.468722</td>\n    </tr>\n    <tr>\n      <th>50</th>\n      <td>-0.791956</td>\n      <td>0.260855</td>\n      <td>-0.623594</td>\n      <td>-0.057946</td>\n      <td>0.403279</td>\n      <td>0.146008</td>\n      <td>1.534943</td>\n    </tr>\n    <tr>\n      <th>51</th>\n      <td>-0.590378</td>\n      <td>0.262209</td>\n      <td>0.756556</td>\n      <td>-0.503588</td>\n      <td>0.157986</td>\n      <td>0.657412</td>\n      <td>0.347064</td>\n    </tr>\n    <tr>\n      <th>52</th>\n      <td>1.141403</td>\n      <td>-0.028674</td>\n      <td>-0.046344</td>\n      <td>0.957789</td>\n      <td>-1.025982</td>\n      <td>1.642839</td>\n      <td>-2.757365</td>\n    </tr>\n    <tr>\n      <th>53</th>\n      <td>0.879775</td>\n      <td>-0.735468</td>\n      <td>0.317064</td>\n      <td>-0.740200</td>\n      <td>0.047467</td>\n      <td>-0.462749</td>\n      <td>-1.307212</td>\n    </tr>\n    <tr>\n      <th>54</th>\n      <td>0.587781</td>\n      <td>-0.984122</td>\n      <td>0.820037</td>\n      <td>0.217542</td>\n      <td>1.151546</td>\n      <td>1.091796</td>\n      <td>-0.449900</td>\n    </tr>\n    <tr>\n      <th>55</th>\n      <td>-0.202659</td>\n      <td>-0.046963</td>\n      <td>-0.869632</td>\n      <td>2.221344</td>\n      <td>0.363438</td>\n      <td>1.633289</td>\n      <td>0.260930</td>\n    </tr>\n  </tbody>\n</table>\n</div>"
     },
     "execution_count": 135,
     "metadata": {},
     "output_type": "execute_result"
    }
   ],
   "source": [
    "X"
   ],
   "metadata": {
    "collapsed": false,
    "pycharm": {
     "name": "#%%\n"
    }
   }
  },
  {
   "cell_type": "code",
   "execution_count": 119,
   "outputs": [
    {
     "data": {
      "text/plain": "             Y\n0   290.566394\n1   -84.794649\n2  -172.588003\n3    -2.000061\n4   -64.390405\n5    61.236347\n6   356.697521\n7    48.997911\n8  -300.603777\n9  -138.449438\n10  -91.618889\n11 -257.094653\n12 -157.618103\n13  218.987869\n14 -133.038062\n15  167.471755\n16  235.298061\n17 -177.396758\n18  168.991984\n19  -20.781999\n20 -194.496817\n21    6.946787\n22 -138.523473\n23  -81.638097\n24 -126.778210\n25 -196.711971\n26  -26.366593\n27   89.954219\n28  -53.251737\n29  -48.900374\n30  -64.663735\n31  252.016959\n32    5.303188\n33 -194.505818\n34  -26.726925\n35  197.118655\n36  106.897715\n37  -14.816402\n38 -206.520299\n39 -346.530017\n40  234.799475\n41   76.060091\n42  -69.972179\n43  -28.062121\n44  -69.904282\n45  205.828455\n46 -171.597831\n47  221.019633\n48 -121.237257\n49  -71.825493\n50   52.507547\n51   49.354992\n52   96.193167\n53  -76.679905\n54   72.382910\n55  150.633149",
      "text/html": "<div>\n<style scoped>\n    .dataframe tbody tr th:only-of-type {\n        vertical-align: middle;\n    }\n\n    .dataframe tbody tr th {\n        vertical-align: top;\n    }\n\n    .dataframe thead th {\n        text-align: right;\n    }\n</style>\n<table border=\"1\" class=\"dataframe\">\n  <thead>\n    <tr style=\"text-align: right;\">\n      <th></th>\n      <th>Y</th>\n    </tr>\n  </thead>\n  <tbody>\n    <tr>\n      <th>0</th>\n      <td>290.566394</td>\n    </tr>\n    <tr>\n      <th>1</th>\n      <td>-84.794649</td>\n    </tr>\n    <tr>\n      <th>2</th>\n      <td>-172.588003</td>\n    </tr>\n    <tr>\n      <th>3</th>\n      <td>-2.000061</td>\n    </tr>\n    <tr>\n      <th>4</th>\n      <td>-64.390405</td>\n    </tr>\n    <tr>\n      <th>5</th>\n      <td>61.236347</td>\n    </tr>\n    <tr>\n      <th>6</th>\n      <td>356.697521</td>\n    </tr>\n    <tr>\n      <th>7</th>\n      <td>48.997911</td>\n    </tr>\n    <tr>\n      <th>8</th>\n      <td>-300.603777</td>\n    </tr>\n    <tr>\n      <th>9</th>\n      <td>-138.449438</td>\n    </tr>\n    <tr>\n      <th>10</th>\n      <td>-91.618889</td>\n    </tr>\n    <tr>\n      <th>11</th>\n      <td>-257.094653</td>\n    </tr>\n    <tr>\n      <th>12</th>\n      <td>-157.618103</td>\n    </tr>\n    <tr>\n      <th>13</th>\n      <td>218.987869</td>\n    </tr>\n    <tr>\n      <th>14</th>\n      <td>-133.038062</td>\n    </tr>\n    <tr>\n      <th>15</th>\n      <td>167.471755</td>\n    </tr>\n    <tr>\n      <th>16</th>\n      <td>235.298061</td>\n    </tr>\n    <tr>\n      <th>17</th>\n      <td>-177.396758</td>\n    </tr>\n    <tr>\n      <th>18</th>\n      <td>168.991984</td>\n    </tr>\n    <tr>\n      <th>19</th>\n      <td>-20.781999</td>\n    </tr>\n    <tr>\n      <th>20</th>\n      <td>-194.496817</td>\n    </tr>\n    <tr>\n      <th>21</th>\n      <td>6.946787</td>\n    </tr>\n    <tr>\n      <th>22</th>\n      <td>-138.523473</td>\n    </tr>\n    <tr>\n      <th>23</th>\n      <td>-81.638097</td>\n    </tr>\n    <tr>\n      <th>24</th>\n      <td>-126.778210</td>\n    </tr>\n    <tr>\n      <th>25</th>\n      <td>-196.711971</td>\n    </tr>\n    <tr>\n      <th>26</th>\n      <td>-26.366593</td>\n    </tr>\n    <tr>\n      <th>27</th>\n      <td>89.954219</td>\n    </tr>\n    <tr>\n      <th>28</th>\n      <td>-53.251737</td>\n    </tr>\n    <tr>\n      <th>29</th>\n      <td>-48.900374</td>\n    </tr>\n    <tr>\n      <th>30</th>\n      <td>-64.663735</td>\n    </tr>\n    <tr>\n      <th>31</th>\n      <td>252.016959</td>\n    </tr>\n    <tr>\n      <th>32</th>\n      <td>5.303188</td>\n    </tr>\n    <tr>\n      <th>33</th>\n      <td>-194.505818</td>\n    </tr>\n    <tr>\n      <th>34</th>\n      <td>-26.726925</td>\n    </tr>\n    <tr>\n      <th>35</th>\n      <td>197.118655</td>\n    </tr>\n    <tr>\n      <th>36</th>\n      <td>106.897715</td>\n    </tr>\n    <tr>\n      <th>37</th>\n      <td>-14.816402</td>\n    </tr>\n    <tr>\n      <th>38</th>\n      <td>-206.520299</td>\n    </tr>\n    <tr>\n      <th>39</th>\n      <td>-346.530017</td>\n    </tr>\n    <tr>\n      <th>40</th>\n      <td>234.799475</td>\n    </tr>\n    <tr>\n      <th>41</th>\n      <td>76.060091</td>\n    </tr>\n    <tr>\n      <th>42</th>\n      <td>-69.972179</td>\n    </tr>\n    <tr>\n      <th>43</th>\n      <td>-28.062121</td>\n    </tr>\n    <tr>\n      <th>44</th>\n      <td>-69.904282</td>\n    </tr>\n    <tr>\n      <th>45</th>\n      <td>205.828455</td>\n    </tr>\n    <tr>\n      <th>46</th>\n      <td>-171.597831</td>\n    </tr>\n    <tr>\n      <th>47</th>\n      <td>221.019633</td>\n    </tr>\n    <tr>\n      <th>48</th>\n      <td>-121.237257</td>\n    </tr>\n    <tr>\n      <th>49</th>\n      <td>-71.825493</td>\n    </tr>\n    <tr>\n      <th>50</th>\n      <td>52.507547</td>\n    </tr>\n    <tr>\n      <th>51</th>\n      <td>49.354992</td>\n    </tr>\n    <tr>\n      <th>52</th>\n      <td>96.193167</td>\n    </tr>\n    <tr>\n      <th>53</th>\n      <td>-76.679905</td>\n    </tr>\n    <tr>\n      <th>54</th>\n      <td>72.382910</td>\n    </tr>\n    <tr>\n      <th>55</th>\n      <td>150.633149</td>\n    </tr>\n  </tbody>\n</table>\n</div>"
     },
     "execution_count": 119,
     "metadata": {},
     "output_type": "execute_result"
    }
   ],
   "source": [
    "Y"
   ],
   "metadata": {
    "collapsed": false,
    "pycharm": {
     "name": "#%%\n"
    }
   }
  },
  {
   "cell_type": "markdown",
   "source": [
    "### 3.Сделайте количественное описание датасета: количество точек данных, признаков, статистику по каждому признаку."
   ],
   "metadata": {
    "collapsed": false
   }
  },
  {
   "cell_type": "code",
   "execution_count": 120,
   "outputs": [
    {
     "data": {
      "text/plain": "(56, 7)"
     },
     "execution_count": 120,
     "metadata": {},
     "output_type": "execute_result"
    }
   ],
   "source": [
    "X.shape"
   ],
   "metadata": {
    "collapsed": false,
    "pycharm": {
     "name": "#%%\n"
    }
   }
  },
  {
   "cell_type": "code",
   "execution_count": 121,
   "outputs": [
    {
     "data": {
      "text/plain": "(56, 1)"
     },
     "execution_count": 121,
     "metadata": {},
     "output_type": "execute_result"
    }
   ],
   "source": [
    "Y.shape"
   ],
   "metadata": {
    "collapsed": false,
    "pycharm": {
     "name": "#%%\n"
    }
   }
  },
  {
   "cell_type": "code",
   "execution_count": 122,
   "outputs": [
    {
     "data": {
      "text/plain": "              x1         x2         x3         x4         x5         x6  \\\ncount  56.000000  56.000000  56.000000  56.000000  56.000000  56.000000   \nmean    0.142717  -0.068633  -0.011395   0.121132  -0.036860  -0.040398   \nstd     0.999849   0.879561   1.014071   1.078122   1.015872   1.086111   \nmin    -1.860966  -2.156795  -1.604093  -2.350153  -2.370847  -1.949803   \n25%    -0.531781  -0.623204  -0.775599  -0.550109  -0.629991  -0.788702   \n50%     0.069058  -0.073099  -0.051117   0.067525   0.039334  -0.187428   \n75%     0.700505   0.460669   0.460778   0.749303   0.606891   0.586793   \nmax     3.305131   2.274336   4.121699   2.621316   2.650815   2.895179   \n\n              x7  \ncount  56.000000  \nmean   -0.208072  \nstd     1.173085  \nmin    -2.934813  \n25%    -0.933554  \n50%    -0.025557  \n75%     0.595408  \nmax     1.911460  ",
      "text/html": "<div>\n<style scoped>\n    .dataframe tbody tr th:only-of-type {\n        vertical-align: middle;\n    }\n\n    .dataframe tbody tr th {\n        vertical-align: top;\n    }\n\n    .dataframe thead th {\n        text-align: right;\n    }\n</style>\n<table border=\"1\" class=\"dataframe\">\n  <thead>\n    <tr style=\"text-align: right;\">\n      <th></th>\n      <th>x1</th>\n      <th>x2</th>\n      <th>x3</th>\n      <th>x4</th>\n      <th>x5</th>\n      <th>x6</th>\n      <th>x7</th>\n    </tr>\n  </thead>\n  <tbody>\n    <tr>\n      <th>count</th>\n      <td>56.000000</td>\n      <td>56.000000</td>\n      <td>56.000000</td>\n      <td>56.000000</td>\n      <td>56.000000</td>\n      <td>56.000000</td>\n      <td>56.000000</td>\n    </tr>\n    <tr>\n      <th>mean</th>\n      <td>0.142717</td>\n      <td>-0.068633</td>\n      <td>-0.011395</td>\n      <td>0.121132</td>\n      <td>-0.036860</td>\n      <td>-0.040398</td>\n      <td>-0.208072</td>\n    </tr>\n    <tr>\n      <th>std</th>\n      <td>0.999849</td>\n      <td>0.879561</td>\n      <td>1.014071</td>\n      <td>1.078122</td>\n      <td>1.015872</td>\n      <td>1.086111</td>\n      <td>1.173085</td>\n    </tr>\n    <tr>\n      <th>min</th>\n      <td>-1.860966</td>\n      <td>-2.156795</td>\n      <td>-1.604093</td>\n      <td>-2.350153</td>\n      <td>-2.370847</td>\n      <td>-1.949803</td>\n      <td>-2.934813</td>\n    </tr>\n    <tr>\n      <th>25%</th>\n      <td>-0.531781</td>\n      <td>-0.623204</td>\n      <td>-0.775599</td>\n      <td>-0.550109</td>\n      <td>-0.629991</td>\n      <td>-0.788702</td>\n      <td>-0.933554</td>\n    </tr>\n    <tr>\n      <th>50%</th>\n      <td>0.069058</td>\n      <td>-0.073099</td>\n      <td>-0.051117</td>\n      <td>0.067525</td>\n      <td>0.039334</td>\n      <td>-0.187428</td>\n      <td>-0.025557</td>\n    </tr>\n    <tr>\n      <th>75%</th>\n      <td>0.700505</td>\n      <td>0.460669</td>\n      <td>0.460778</td>\n      <td>0.749303</td>\n      <td>0.606891</td>\n      <td>0.586793</td>\n      <td>0.595408</td>\n    </tr>\n    <tr>\n      <th>max</th>\n      <td>3.305131</td>\n      <td>2.274336</td>\n      <td>4.121699</td>\n      <td>2.621316</td>\n      <td>2.650815</td>\n      <td>2.895179</td>\n      <td>1.911460</td>\n    </tr>\n  </tbody>\n</table>\n</div>"
     },
     "execution_count": 122,
     "metadata": {},
     "output_type": "execute_result"
    }
   ],
   "source": [
    "X.describe()"
   ],
   "metadata": {
    "collapsed": false,
    "pycharm": {
     "name": "#%%\n"
    }
   }
  },
  {
   "cell_type": "code",
   "execution_count": 123,
   "outputs": [
    {
     "data": {
      "text/plain": "                Y\ncount   56.000000\nmean   -10.086063\nstd    158.625531\nmin   -346.530017\n25%   -128.343173\n50%    -27.394523\n75%     91.513956\nmax    356.697521",
      "text/html": "<div>\n<style scoped>\n    .dataframe tbody tr th:only-of-type {\n        vertical-align: middle;\n    }\n\n    .dataframe tbody tr th {\n        vertical-align: top;\n    }\n\n    .dataframe thead th {\n        text-align: right;\n    }\n</style>\n<table border=\"1\" class=\"dataframe\">\n  <thead>\n    <tr style=\"text-align: right;\">\n      <th></th>\n      <th>Y</th>\n    </tr>\n  </thead>\n  <tbody>\n    <tr>\n      <th>count</th>\n      <td>56.000000</td>\n    </tr>\n    <tr>\n      <th>mean</th>\n      <td>-10.086063</td>\n    </tr>\n    <tr>\n      <th>std</th>\n      <td>158.625531</td>\n    </tr>\n    <tr>\n      <th>min</th>\n      <td>-346.530017</td>\n    </tr>\n    <tr>\n      <th>25%</th>\n      <td>-128.343173</td>\n    </tr>\n    <tr>\n      <th>50%</th>\n      <td>-27.394523</td>\n    </tr>\n    <tr>\n      <th>75%</th>\n      <td>91.513956</td>\n    </tr>\n    <tr>\n      <th>max</th>\n      <td>356.697521</td>\n    </tr>\n  </tbody>\n</table>\n</div>"
     },
     "execution_count": 123,
     "metadata": {},
     "output_type": "execute_result"
    }
   ],
   "source": [
    "Y.describe()"
   ],
   "metadata": {
    "collapsed": false,
    "pycharm": {
     "name": "#%%\n"
    }
   }
  },
  {
   "cell_type": "markdown",
   "source": [
    "### 4.Разделите все наблюдения на обучающую и тестовую выборки в соотношении 80-20."
   ],
   "metadata": {
    "collapsed": false
   }
  },
  {
   "cell_type": "code",
   "execution_count": 124,
   "outputs": [],
   "source": [
    "x_train, x_test, y_train, y_test = train_test_split(X, Y, test_size=0.2)"
   ],
   "metadata": {
    "collapsed": false,
    "pycharm": {
     "name": "#%%\n"
    }
   }
  },
  {
   "cell_type": "code",
   "execution_count": 125,
   "outputs": [
    {
     "data": {
      "text/plain": "((44, 7), (44, 1))"
     },
     "execution_count": 125,
     "metadata": {},
     "output_type": "execute_result"
    }
   ],
   "source": [
    "x_train.shape, y_train.shape"
   ],
   "metadata": {
    "collapsed": false,
    "pycharm": {
     "name": "#%%\n"
    }
   }
  },
  {
   "cell_type": "code",
   "execution_count": 126,
   "outputs": [
    {
     "data": {
      "text/plain": "((12, 7), (12, 1))"
     },
     "execution_count": 126,
     "metadata": {},
     "output_type": "execute_result"
    }
   ],
   "source": [
    "x_test.shape, y_test.shape"
   ],
   "metadata": {
    "collapsed": false,
    "pycharm": {
     "name": "#%%\n"
    }
   }
  },
  {
   "cell_type": "markdown",
   "source": [
    "### 5.Для целевой и каждого из признаков постройте парную регрессионную модель. Визуализируйте линию регрессии и исходные данные на графике. При помощи коэффициентов оцените силу связи."
   ],
   "metadata": {
    "collapsed": false
   }
  },
  {
   "cell_type": "code",
   "execution_count": 127,
   "outputs": [
    {
     "data": {
      "text/plain": "LinearRegression()"
     },
     "execution_count": 127,
     "metadata": {},
     "output_type": "execute_result"
    }
   ],
   "source": [
    "reg1 = linear_model.LinearRegression()\n",
    "reg1.fit(x_train, y_train)"
   ],
   "metadata": {
    "collapsed": false,
    "pycharm": {
     "name": "#%%\n"
    }
   }
  },
  {
   "cell_type": "code",
   "execution_count": 128,
   "outputs": [
    {
     "data": {
      "text/plain": "0.9976946159480403"
     },
     "execution_count": 128,
     "metadata": {},
     "output_type": "execute_result"
    }
   ],
   "source": [
    "reg1.score(X, Y)"
   ],
   "metadata": {
    "collapsed": false,
    "pycharm": {
     "name": "#%%\n"
    }
   }
  },
  {
   "cell_type": "code",
   "execution_count": 129,
   "outputs": [
    {
     "data": {
      "text/plain": "Index(['x1', 'x2', 'x3', 'x4', 'x5', 'x6', 'x7'], dtype='object')"
     },
     "execution_count": 129,
     "metadata": {},
     "output_type": "execute_result"
    }
   ],
   "source": [
    "x_train.columns"
   ],
   "metadata": {
    "collapsed": false,
    "pycharm": {
     "name": "#%%\n"
    }
   }
  },
  {
   "cell_type": "code",
   "execution_count": 161,
   "outputs": [
    {
     "data": {
      "text/plain": "<Figure size 432x288 with 1 Axes>",
      "image/png": "[encoded data removed]"
     },
     "metadata": {
      "needs_background": "light"
     },
     "output_type": "display_data"
    },
    {
     "name": "stdout",
     "output_type": "stream",
     "text": [
      "Коэффициент:  83.34419018492014\n"
     ]
    },
    {
     "data": {
      "text/plain": "<Figure size 432x288 with 1 Axes>",
      "image/png": "[encoded data removed]"
     },
     "metadata": {
      "needs_background": "light"
     },
     "output_type": "display_data"
    },
    {
     "name": "stdout",
     "output_type": "stream",
     "text": [
      "Коэффициент:  86.73212134953471\n"
     ]
    },
    {
     "data": {
      "text/plain": "<Figure size 432x288 with 1 Axes>",
      "image/png": "[encoded data removed]"
     },
     "metadata": {
      "needs_background": "light"
     },
     "output_type": "display_data"
    },
    {
     "name": "stdout",
     "output_type": "stream",
     "text": [
      "Коэффициент:  -16.65151875394106\n"
     ]
    },
    {
     "data": {
      "text/plain": "<Figure size 432x288 with 1 Axes>",
      "image/png": "[encoded data removed]"
     },
     "metadata": {
      "needs_background": "light"
     },
     "output_type": "display_data"
    },
    {
     "name": "stdout",
     "output_type": "stream",
     "text": [
      "Коэффициент:  -30.873891112501305\n"
     ]
    },
    {
     "data": {
      "text/plain": "<Figure size 432x288 with 1 Axes>",
      "image/png": "[encoded data removed]"
     },
     "metadata": {
      "needs_background": "light"
     },
     "output_type": "display_data"
    },
    {
     "name": "stdout",
     "output_type": "stream",
     "text": [
      "Коэффициент:  0.9455664696360315\n"
     ]
    },
    {
     "data": {
      "text/plain": "<Figure size 432x288 with 1 Axes>",
      "image/png": "[encoded data removed]"
     },
     "metadata": {
      "needs_background": "light"
     },
     "output_type": "display_data"
    },
    {
     "name": "stdout",
     "output_type": "stream",
     "text": [
      "Коэффициент:  98.20571903912182\n"
     ]
    },
    {
     "data": {
      "text/plain": "<Figure size 432x288 with 1 Axes>",
      "image/png": "[encoded data removed]"
     },
     "metadata": {
      "needs_background": "light"
     },
     "output_type": "display_data"
    },
    {
     "name": "stdout",
     "output_type": "stream",
     "text": [
      "Коэффициент:  55.498327819391704\n"
     ]
    }
   ],
   "source": [
    "regs_list = []\n",
    "\n",
    "for col in range(len(x_train.columns)):\n",
    "    vals = x_train.iloc[:, col]\n",
    "    lin_reg = linear_model.LinearRegression()\n",
    "    lin_reg.fit(vals.values.reshape(-1, 1), y_train)\n",
    "    regs_list.append(lin_reg)\n",
    "\n",
    "    plt.figure() #строим график\n",
    "    plt.scatter(vals, y_train, color='RED') #реальные данные\n",
    "    plt.plot(vals, lin_reg.predict(vals.values.reshape(-1, 1)), color='GREY') #предсказанные\n",
    "    plt.show()\n",
    "\n",
    "    print(\"Коэффициент: \", lin_reg.coef_[0][0])\n",
    "\n",
    "    # print('ПО СТОЛБЦУ НОМЕР: ', col + 1)\n",
    "    # new_reg = linear_model.LinearRegression().fit(x_train.iloc[col].values.reshape((-1, 1)), y_train) #создали модель\n",
    "\n",
    "\n",
    "    # print('Score: ', new_reg.score(x_test[col].values.reshape((-1,1)), y_test)) #выводим score на тестовой выборке\n",
    "    # print('Коэффициент: ', new_reg.coef_)\n",
    "    # regs_list.append(new_reg) #сохраняем в список модель\n",
    "\n",
    "    # plt.figure() #строим график\n",
    "    # plt.scatter(X[col], Y, color='r') #реальные данные\n",
    "    # plt.plot(X[col], lin_reg.predict(X[col].values.reshape((-1, 1))), color='g') #предсказанные\n",
    "    # plt.show()\n",
    "\n",
    "    # #парочка примеров с предсказанием для наглядности\n",
    "    # print('Примеры предсказания:')\n",
    "    # empt_data = {'Реально':[],\n",
    "    #             'Предсказано':[]}\n",
    "    # some_exmpl = pd.DataFrame(empt_data, columns = ['Реально', 'Предсказано'])\n",
    "    # some_exmpl['Реально'] = Y[0][0:5]\n",
    "    # some_exmpl['Предсказано'] = new_reg.predict(X[col].iloc[0:5].values.reshape((-1,1)))\n",
    "    # print(some_exmpl)\n",
    "    #\n",
    "    # print('\\n\\n\\n')"
   ],
   "metadata": {
    "collapsed": false,
    "pycharm": {
     "name": "#%%\n"
    }
   }
  },
  {
   "cell_type": "code",
   "execution_count": null,
   "outputs": [],
   "source": [],
   "metadata": {
    "collapsed": false,
    "pycharm": {
     "name": "#%%\n"
    }
   }
  },
  {
   "cell_type": "code",
   "execution_count": null,
   "outputs": [],
   "source": [],
   "metadata": {
    "collapsed": false,
    "pycharm": {
     "name": "#%%\n"
    }
   }
  },
  {
   "cell_type": "code",
   "execution_count": 165,
   "outputs": [
    {
     "data": {
      "text/plain": "0.9970645015178938"
     },
     "execution_count": 165,
     "metadata": {},
     "output_type": "execute_result"
    }
   ],
   "source": [
    "multiple_lin_reg = LinearRegression()\n",
    "multiple_lin_reg.fit(x_train,y_train)\n",
    "multiple_lin_reg.score(x_train,y_train)"
   ],
   "metadata": {
    "collapsed": false,
    "pycharm": {
     "name": "#%%\n"
    }
   }
  },
  {
   "cell_type": "markdown",
   "source": [
    "Дополнительные задания\n",
    "Для целевой переменной и каждого из признаков постройте полиномиальную регрессию второго, третьего и десятого порядков. Сделайте вывод о значимости регрессии.\n",
    "Постройте сводную таблицу показателей точности всех построенных моделей по тестовой и обучающей выборке. Сделайте вывод, какие модели переобученнные, какие - недообученные.\n",
    "Используйте другие метрики качества регрессионной модели в дополнение к коэффициенту детерминации.\n",
    "(*) Повторите те же действия на датасетах из данной папки. Замерьте время обучения на разных датасетах и количестве признаков. Сделайте вывод о зависимости скорости обучения от объема обучающей выборки."
   ],
   "metadata": {
    "collapsed": false,
    "pycharm": {
     "name": "#%% md\n"
    }
   }
  },
  {
   "cell_type": "code",
   "execution_count": null,
   "outputs": [],
   "source": [
    "from sklearn.preprocessing import PolynomialFeatures\n",
    "\n",
    "poly_reg = PolynomialFeatures(degree=2)\n",
    "X_pol_train = poly_reg.fit_transform(x_train.iloc[:, 0])\n",
    "X_pol_test = poly_reg.fit_transform(x_test.iloc[:, 0])\n",
    "\n",
    "poly2 = PolynomialFeatures(degree = 2)\n",
    "poly3 = PolynomialFeatures(degree = 3)\n",
    "poly10 = PolynomialFeatures(degree = 10)\n",
    "\n",
    "x_poly2 = poly2.fit_transform(x_train.iloc[:, 0].values.reshape((-1, 1))) #полином 2-ого порядка\n",
    "lin_reg2 = linear_model.LinearRegression().fit(x_poly2, y_train)\n",
    "\n",
    "x_poly3 = poly3.fit_transform(x_train[col].values.reshape((-1, 1))) #полином 3-ого порядка\n",
    "new_reg3 = linear_model.LinearRegression().fit(x_poly3, y_train)\n",
    "\n",
    "x_poly10 = poly10.fit_transform(x_train[col].values.reshape((-1, 1))) #полином 10-ого порядка\n",
    "new_reg10 = linear_model.LinearRegression().fit(x_poly10, y_train)"
   ],
   "metadata": {
    "collapsed": false,
    "pycharm": {
     "name": "#%%\n"
    }
   }
  },
  {
   "cell_type": "code",
   "execution_count": 197,
   "outputs": [
    {
     "name": "stdout",
     "output_type": "stream",
     "text": [
      "Score X1: 0.23688730199300645\n",
      "Coeffs X1: [[  0.          86.48019585 -13.62646457]]\n",
      "\n",
      "Score X1: 0.23702214740339322\n",
      "Coeffs X1: [[  0.          89.65451134 -12.53957917  -1.80076685]]\n",
      "\n",
      "Score X1: 0.3626489249789395\n",
      "Coeffs X1: [[    0.           276.48375815  -147.39781065 -1190.73286456\n",
      "    573.67626561  1757.94362494  -795.51799908  -897.22898015\n",
      "    415.73389435   147.95621921   -70.64006632]]\n",
      "\n",
      "\n",
      "----------------------------------------------------------------------------------------------------\n",
      "Score X2: 0.22657013953755656\n",
      "Coeffs X2: [[ 0.         88.28287309 -3.50534581]]\n",
      "\n",
      "Score X2: 0.23139736573883496\n",
      "Coeffs X2: [[  0.          69.35105483 -14.27266475  10.44284166]]\n",
      "\n",
      "Score X2: 0.358408343968074\n",
      "Coeffs X2: [[    0.           156.59109373   729.09563364   -32.50282405\n",
      "  -1818.11837957  -409.97019274  1423.47330139   348.62701125\n",
      "   -456.94829675   -70.67431935    55.51349966]]\n",
      "\n",
      "\n",
      "----------------------------------------------------------------------------------------------------\n",
      "Score X3: 0.14166522353193922\n",
      "Coeffs X3: [[  0.         -54.63005708  25.41187636]]\n",
      "\n",
      "Score X3: 0.15570544441725398\n",
      "Coeffs X3: [[  0.         -67.64224154   6.06876655   5.87893257]]\n",
      "\n",
      "Score X3: 0.27917227788710874\n",
      "Coeffs X3: [[   0.         -210.3700239   212.30558616  635.31558461  -55.4867602\n",
      "  -771.31526196    4.20254071  339.9480317   -30.55427602  -49.16549952\n",
      "     9.48405218]]\n",
      "\n",
      "\n",
      "----------------------------------------------------------------------------------------------------\n",
      "Score X4: 0.0684391317065497\n",
      "Coeffs X4: [[  0.         -34.70577947   8.87481561]]\n",
      "\n",
      "Score X4: 0.07447027018647434\n",
      "Coeffs X4: [[  0.         -15.86251295  11.48312514  -5.15625362]]\n",
      "\n",
      "Score X4: 0.2191313324740446\n",
      "Coeffs X4: [[ 0.00000000e+00  1.16348594e+02  3.91936291e+02 -2.62103964e+02\n",
      "  -4.03781020e+02  1.07922029e+02  1.70870074e+02 -1.20909378e+01\n",
      "  -3.19085343e+01  1.11245068e-02  2.17811058e+00]]\n",
      "\n",
      "\n",
      "----------------------------------------------------------------------------------------------------\n",
      "Score X5: 0.008304118405384808\n",
      "Coeffs X5: [[ 0.         -0.69624403 -8.85218712]]\n",
      "\n",
      "Score X5: 0.06181279003871931\n",
      "Coeffs X5: [[  0.          49.15407067  -5.27111925 -14.93955626]]\n",
      "\n",
      "Score X5: 0.306745458080267\n",
      "Coeffs X5: [[   0.          100.48138603 -750.02267053 -223.12362423  891.08355534\n",
      "   227.64509486 -379.47577089  -85.19884437   59.37722568    8.38252799\n",
      "    -3.13687445]]\n",
      "\n",
      "\n",
      "----------------------------------------------------------------------------------------------------\n",
      "Score X6: 0.47904442093461375\n",
      "Coeffs X6: [[ 0.         98.46941161 -1.178146  ]]\n",
      "\n",
      "Score X6: 0.48913821714706807\n",
      "Coeffs X6: [[  0.         120.17022357   4.70168698  -8.47024556]]\n",
      "\n",
      "Score X6: 0.5792286007989903\n",
      "Coeffs X6: [[   0.          176.97328906 -196.70541644  -44.74884382  495.86897228\n",
      "     7.01246186 -470.75590027  -25.46763147  162.76677589    9.06418158\n",
      "   -17.31174544]]\n",
      "\n",
      "\n",
      "----------------------------------------------------------------------------------------------------\n",
      "Score X7: 0.18612838630027118\n",
      "Coeffs X7: [[ 0.         57.77492718  3.02963676]]\n",
      "\n",
      "Score X7: 0.38394219420014486\n",
      "Coeffs X7: [[  0.         154.22964607 -34.10028379 -35.27722401]]\n",
      "\n",
      "Score X7: 0.5224545514452357\n",
      "Coeffs X7: [[   0.          239.74948203 -581.58555688 -615.40564286  606.87672297\n",
      "   761.02726277 -140.24616205 -320.82132565  -31.05742923   42.15834281\n",
      "     9.58285304]]\n",
      "\n",
      "\n",
      "----------------------------------------------------------------------------------------------------\n"
     ]
    }
   ],
   "source": [
    "from sklearn.preprocessing import PolynomialFeatures\n",
    "\n",
    "r2_2 = []\n",
    "r2_3 = []\n",
    "r2_10 = []\n",
    "\n",
    "r2 = []\n",
    "mse = []\n",
    "\n",
    "for col in range(len(x_train.columns)):\n",
    "    poly2 = PolynomialFeatures(degree = 2)\n",
    "    poly3 = PolynomialFeatures(degree = 3)\n",
    "    poly10 = PolynomialFeatures(degree = 10)\n",
    "\n",
    "    vals = x_train.iloc[:, col]\n",
    "\n",
    "    poly2_linreg = poly2.fit_transform(vals.values.reshape((-1, 1))) #полином 2-ого порядка\n",
    "    lin_reg2 = linear_model.LinearRegression().fit(poly2_linreg, y_train)\n",
    "\n",
    "    poly3_linreg = poly3.fit_transform(vals.values.reshape((-1, 1))) #полином 3-ого порядка\n",
    "    lin_reg3 = linear_model.LinearRegression().fit(poly3_linreg, y_train)\n",
    "\n",
    "    poly10_linreg = poly10.fit_transform(vals.values.reshape((-1, 1))) #полином 10-ого порядка\n",
    "    lin_reg10 = linear_model.LinearRegression().fit(poly10_linreg, y_train)\n",
    "\n",
    "    poly2_r2 = lin_reg2.score(poly2_linreg, y_train)\n",
    "    poly3_r2 = lin_reg3.score(poly3_linreg, y_train)\n",
    "    poly10_r2 = lin_reg10.score(poly10_linreg, y_train)\n",
    "\n",
    "    r2.append([poly2_r2, poly3_r2, poly10_r2])\n",
    "    mse.append([mean_squared_error(Y_test, y_train)])\n",
    "\n",
    "    print(f\"Score X{col+1}: {poly2_r2}\")\n",
    "    print(f\"Coeffs X{col+1}: {lin_reg2.coef_}\\n\")\n",
    "\n",
    "    print(f\"Score X{col+1}: {poly3_r2}\")\n",
    "    print(f\"Coeffs X{col+1}: {lin_reg3.coef_}\\n\")\n",
    "\n",
    "    print(f\"Score X{col+1}: {poly10_r2}\")\n",
    "    print(f\"Coeffs X{col+1}: {lin_reg10.coef_}\\n\\n\\n{'-'*100}\")"
   ],
   "metadata": {
    "collapsed": false,
    "pycharm": {
     "name": "#%%\n"
    }
   }
  },
  {
   "cell_type": "code",
   "execution_count": 198,
   "outputs": [
    {
     "data": {
      "text/plain": "[[0.23688730199300645, 0.23702214740339322, 0.3626489249789395],\n [0.22657013953755656, 0.23139736573883496, 0.358408343968074],\n [0.14166522353193922, 0.15570544441725398, 0.27917227788710874],\n [0.0684391317065497, 0.07447027018647434, 0.2191313324740446],\n [0.008304118405384808, 0.06181279003871931, 0.306745458080267],\n [0.47904442093461375, 0.48913821714706807, 0.5792286007989903],\n [0.18612838630027118, 0.38394219420014486, 0.5224545514452357]]"
     },
     "execution_count": 198,
     "metadata": {},
     "output_type": "execute_result"
    }
   ],
   "source": [
    "r2"
   ],
   "metadata": {
    "collapsed": false,
    "pycharm": {
     "name": "#%%\n"
    }
   }
  },
  {
   "cell_type": "code",
   "execution_count": 221,
   "outputs": [
    {
     "name": "stdout",
     "output_type": "stream",
     "text": [
      "R2 for \n",
      "x0: [0.23688730199300645, 0.23702214740339322, 0.3626489249789395]\n",
      "x1: [0.22657013953755656, 0.23139736573883496, 0.358408343968074]\n",
      "x2: [0.14166522353193922, 0.15570544441725398, 0.27917227788710874]\n",
      "x3: [0.0684391317065497, 0.07447027018647434, 0.2191313324740446]\n",
      "x4: [0.008304118405384808, 0.06181279003871931, 0.306745458080267]\n",
      "x5: [0.47904442093461375, 0.48913821714706807, 0.5792286007989903]\n",
      "x6: [0.18612838630027118, 0.38394219420014486, 0.5224545514452357]\n"
     ]
    }
   ],
   "source": [
    "print(\"R2 for \")\n",
    "for i in range(len(r2)):\n",
    "    print(f\"x{i}: {r2[i]}\")\n",
    "    # for j in r2[i]:\n",
    "    #     print(round(j, 3), end=\"\")\n",
    "        # print(\"x\",i, end=\"\")"
   ],
   "metadata": {
    "collapsed": false,
    "pycharm": {
     "name": "#%%\n"
    }
   }
  },
  {
   "cell_type": "code",
   "execution_count": null,
   "outputs": [],
   "source": [],
   "metadata": {
    "collapsed": false,
    "pycharm": {
     "name": "#%%\n"
    }
   }
  }
 ],
 "metadata": {
  "kernelspec": {
   "display_name": "Python 3",
   "language": "python",
   "name": "python3"
  },
  "language_info": {
   "codemirror_mode": {
    "name": "ipython",
    "version": 2
   },
   "file_extension": ".py",
   "mimetype": "text/x-python",
   "name": "python",
   "nbconvert_exporter": "python",
   "pygments_lexer": "ipython2",
   "version": "2.7.6"
  }
 },
 "nbformat": 4,
 "nbformat_minor": 0
}